{
 "cells": [
  {
   "cell_type": "markdown",
   "id": "484354fa",
   "metadata": {},
   "source": [
    "# Contents\n",
    "\n",
    "01. Importing Libraries\n",
    "02. Importing Data\n",
    "03. Creating a User Defined Function\n",
    "04. Creating If statements with the loc() function\n",
    "05. If Statements with For Loops\n",
    "06. Creating Busiest Days Column\n",
    "07. Creating Busiest Period of Day Column"
   ]
  },
  {
   "cell_type": "markdown",
   "id": "40580621",
   "metadata": {},
   "source": [
    "# 01. Importing Libraries"
   ]
  },
  {
   "cell_type": "code",
   "execution_count": 33,
   "id": "54bff29c",
   "metadata": {
    "ExecuteTime": {
     "end_time": "2022-12-17T20:37:38.441423Z",
     "start_time": "2022-12-17T20:37:32.591279Z"
    }
   },
   "outputs": [],
   "source": [
    "import pandas as pd\n",
    "import numpy as np\n",
    "import os\n",
    "import matplotlib.pyplot as plt\n",
    "import seaborn as plt\n",
    "import scipy"
   ]
  },
  {
   "cell_type": "markdown",
   "id": "6f9b0ed5",
   "metadata": {},
   "source": [
    "# 02. Import Data"
   ]
  },
  {
   "cell_type": "code",
   "execution_count": 2,
   "id": "c4312998",
   "metadata": {
    "ExecuteTime": {
     "end_time": "2022-12-17T20:27:01.517732Z",
     "start_time": "2022-12-17T20:27:01.507759Z"
    }
   },
   "outputs": [],
   "source": [
    "# creat file path\n",
    "path = r'C:\\Users\\Campa\\Data Projects\\Instacart Basket Project'"
   ]
  },
  {
   "cell_type": "code",
   "execution_count": 3,
   "id": "97ae2e9a",
   "metadata": {
    "ExecuteTime": {
     "end_time": "2022-12-17T20:27:15.387434Z",
     "start_time": "2022-12-17T20:27:04.791556Z"
    }
   },
   "outputs": [],
   "source": [
    "# import orders_products_merged.pkl\n",
    "df_ords_prods_merged = pd.read_pickle(os.path.join(path, '02 Data', 'Prepared Data', 'Orders_products_merged.pkl'))"
   ]
  },
  {
   "cell_type": "code",
   "execution_count": 6,
   "id": "3805ffd9",
   "metadata": {
    "ExecuteTime": {
     "end_time": "2022-12-17T20:27:46.959483Z",
     "start_time": "2022-12-17T20:27:46.939533Z"
    }
   },
   "outputs": [],
   "source": [
    "# creating subset \n",
    "df = df_ords_prods_merged[:1000000]"
   ]
  },
  {
   "cell_type": "code",
   "execution_count": 7,
   "id": "a4b59d26",
   "metadata": {
    "ExecuteTime": {
     "end_time": "2022-12-17T20:27:47.759457Z",
     "start_time": "2022-12-17T20:27:47.727011Z"
    }
   },
   "outputs": [
    {
     "data": {
      "text/plain": [
       "(1000000, 15)"
      ]
     },
     "execution_count": 7,
     "metadata": {},
     "output_type": "execute_result"
    }
   ],
   "source": [
    "df.shape"
   ]
  },
  {
   "cell_type": "code",
   "execution_count": 8,
   "id": "26e1bf26",
   "metadata": {
    "ExecuteTime": {
     "end_time": "2022-12-17T20:27:48.626459Z",
     "start_time": "2022-12-17T20:27:48.576352Z"
    }
   },
   "outputs": [
    {
     "data": {
      "text/html": [
       "<div>\n",
       "<style scoped>\n",
       "    .dataframe tbody tr th:only-of-type {\n",
       "        vertical-align: middle;\n",
       "    }\n",
       "\n",
       "    .dataframe tbody tr th {\n",
       "        vertical-align: top;\n",
       "    }\n",
       "\n",
       "    .dataframe thead th {\n",
       "        text-align: right;\n",
       "    }\n",
       "</style>\n",
       "<table border=\"1\" class=\"dataframe\">\n",
       "  <thead>\n",
       "    <tr style=\"text-align: right;\">\n",
       "      <th></th>\n",
       "      <th>Unnamed: 0_x</th>\n",
       "      <th>order_id</th>\n",
       "      <th>user_id</th>\n",
       "      <th>order_number</th>\n",
       "      <th>order_day_of_week</th>\n",
       "      <th>order_hour_of_day</th>\n",
       "      <th>days_since_last_order</th>\n",
       "      <th>product_id</th>\n",
       "      <th>add_to_cart_order</th>\n",
       "      <th>reordered</th>\n",
       "      <th>Unnamed: 0_y</th>\n",
       "      <th>product_name</th>\n",
       "      <th>aisle_id</th>\n",
       "      <th>department_id</th>\n",
       "      <th>prices</th>\n",
       "    </tr>\n",
       "  </thead>\n",
       "  <tbody>\n",
       "    <tr>\n",
       "      <th>0</th>\n",
       "      <td>0</td>\n",
       "      <td>2539329</td>\n",
       "      <td>1</td>\n",
       "      <td>1</td>\n",
       "      <td>2</td>\n",
       "      <td>8</td>\n",
       "      <td>NaN</td>\n",
       "      <td>196</td>\n",
       "      <td>1</td>\n",
       "      <td>0</td>\n",
       "      <td>195</td>\n",
       "      <td>Soda</td>\n",
       "      <td>77</td>\n",
       "      <td>7</td>\n",
       "      <td>9.0</td>\n",
       "    </tr>\n",
       "    <tr>\n",
       "      <th>1</th>\n",
       "      <td>1</td>\n",
       "      <td>2398795</td>\n",
       "      <td>1</td>\n",
       "      <td>2</td>\n",
       "      <td>3</td>\n",
       "      <td>7</td>\n",
       "      <td>15.0</td>\n",
       "      <td>196</td>\n",
       "      <td>1</td>\n",
       "      <td>1</td>\n",
       "      <td>195</td>\n",
       "      <td>Soda</td>\n",
       "      <td>77</td>\n",
       "      <td>7</td>\n",
       "      <td>9.0</td>\n",
       "    </tr>\n",
       "    <tr>\n",
       "      <th>2</th>\n",
       "      <td>2</td>\n",
       "      <td>473747</td>\n",
       "      <td>1</td>\n",
       "      <td>3</td>\n",
       "      <td>3</td>\n",
       "      <td>12</td>\n",
       "      <td>21.0</td>\n",
       "      <td>196</td>\n",
       "      <td>1</td>\n",
       "      <td>1</td>\n",
       "      <td>195</td>\n",
       "      <td>Soda</td>\n",
       "      <td>77</td>\n",
       "      <td>7</td>\n",
       "      <td>9.0</td>\n",
       "    </tr>\n",
       "    <tr>\n",
       "      <th>3</th>\n",
       "      <td>3</td>\n",
       "      <td>2254736</td>\n",
       "      <td>1</td>\n",
       "      <td>4</td>\n",
       "      <td>4</td>\n",
       "      <td>7</td>\n",
       "      <td>29.0</td>\n",
       "      <td>196</td>\n",
       "      <td>1</td>\n",
       "      <td>1</td>\n",
       "      <td>195</td>\n",
       "      <td>Soda</td>\n",
       "      <td>77</td>\n",
       "      <td>7</td>\n",
       "      <td>9.0</td>\n",
       "    </tr>\n",
       "    <tr>\n",
       "      <th>4</th>\n",
       "      <td>4</td>\n",
       "      <td>431534</td>\n",
       "      <td>1</td>\n",
       "      <td>5</td>\n",
       "      <td>4</td>\n",
       "      <td>15</td>\n",
       "      <td>28.0</td>\n",
       "      <td>196</td>\n",
       "      <td>1</td>\n",
       "      <td>1</td>\n",
       "      <td>195</td>\n",
       "      <td>Soda</td>\n",
       "      <td>77</td>\n",
       "      <td>7</td>\n",
       "      <td>9.0</td>\n",
       "    </tr>\n",
       "  </tbody>\n",
       "</table>\n",
       "</div>"
      ],
      "text/plain": [
       "   Unnamed: 0_x  order_id  user_id  order_number  order_day_of_week  \\\n",
       "0             0   2539329        1             1                  2   \n",
       "1             1   2398795        1             2                  3   \n",
       "2             2    473747        1             3                  3   \n",
       "3             3   2254736        1             4                  4   \n",
       "4             4    431534        1             5                  4   \n",
       "\n",
       "   order_hour_of_day  days_since_last_order  product_id  add_to_cart_order  \\\n",
       "0                  8                    NaN         196                  1   \n",
       "1                  7                   15.0         196                  1   \n",
       "2                 12                   21.0         196                  1   \n",
       "3                  7                   29.0         196                  1   \n",
       "4                 15                   28.0         196                  1   \n",
       "\n",
       "   reordered  Unnamed: 0_y product_name  aisle_id  department_id  prices  \n",
       "0          0           195         Soda        77              7     9.0  \n",
       "1          1           195         Soda        77              7     9.0  \n",
       "2          1           195         Soda        77              7     9.0  \n",
       "3          1           195         Soda        77              7     9.0  \n",
       "4          1           195         Soda        77              7     9.0  "
      ]
     },
     "execution_count": 8,
     "metadata": {},
     "output_type": "execute_result"
    }
   ],
   "source": [
    "df.head()"
   ]
  },
  {
   "cell_type": "markdown",
   "id": "d7d19f3e",
   "metadata": {},
   "source": [
    "# 03. Creating a User Defined Function"
   ]
  },
  {
   "cell_type": "code",
   "execution_count": 9,
   "id": "ffc38c05",
   "metadata": {
    "ExecuteTime": {
     "end_time": "2022-12-17T20:27:50.214902Z",
     "start_time": "2022-12-17T20:27:50.198364Z"
    }
   },
   "outputs": [],
   "source": [
    "# define a function for creating price categories\n",
    "def price_label(row):\n",
    "    if row['prices'] <= 5:\n",
    "        return 'Low-range product'\n",
    "    elif (row['prices'] > 5) and (row['prices'] <= 15):\n",
    "        return 'Mid-range product'\n",
    "    elif row['prices'] > 15:\n",
    "        return 'High-range product'\n",
    "    else: return 'Not enough data'"
   ]
  },
  {
   "cell_type": "code",
   "execution_count": 18,
   "id": "1f6508a0",
   "metadata": {
    "ExecuteTime": {
     "end_time": "2022-12-17T20:31:37.743554Z",
     "start_time": "2022-12-17T20:30:57.060450Z"
    }
   },
   "outputs": [],
   "source": [
    "# Apply the function\n",
    "df_ords_prods_merged['price_range'] = df.apply(price_label, axis=1)"
   ]
  },
  {
   "cell_type": "code",
   "execution_count": 19,
   "id": "b739aa32",
   "metadata": {
    "ExecuteTime": {
     "end_time": "2022-12-17T20:31:49.917256Z",
     "start_time": "2022-12-17T20:31:48.254021Z"
    }
   },
   "outputs": [
    {
     "data": {
      "text/plain": [
       "Mid-range product    756450\n",
       "Low-range product    243550\n",
       "Name: price_range, dtype: int64"
      ]
     },
     "execution_count": 19,
     "metadata": {},
     "output_type": "execute_result"
    }
   ],
   "source": [
    "# checking product price range counts\n",
    "df_ords_prods_merged['price_range'].value_counts()"
   ]
  },
  {
   "cell_type": "code",
   "execution_count": 20,
   "id": "a6af63dc",
   "metadata": {
    "ExecuteTime": {
     "end_time": "2022-12-17T20:32:13.063094Z",
     "start_time": "2022-12-17T20:32:12.871444Z"
    }
   },
   "outputs": [
    {
     "data": {
      "text/plain": [
       "99999.0"
      ]
     },
     "execution_count": 20,
     "metadata": {},
     "output_type": "execute_result"
    }
   ],
   "source": [
    "# checking max single product price\n",
    "df_ords_prods_merged['prices'].max()"
   ]
  },
  {
   "cell_type": "markdown",
   "id": "a229c777",
   "metadata": {},
   "source": [
    "# 04. Creating If- Statements with the loc() Function"
   ]
  },
  {
   "cell_type": "code",
   "execution_count": 24,
   "id": "794bc19a",
   "metadata": {
    "ExecuteTime": {
     "end_time": "2022-12-17T20:35:06.420596Z",
     "start_time": "2022-12-17T20:35:06.317705Z"
    }
   },
   "outputs": [],
   "source": [
    "# creating conditions\n",
    "df_ords_prods_merged.loc[df_ords_prods_merged['prices'] > 15, 'price_range'] = 'High-range product'"
   ]
  },
  {
   "cell_type": "code",
   "execution_count": 25,
   "id": "1a4c793f",
   "metadata": {
    "ExecuteTime": {
     "end_time": "2022-12-17T20:35:12.183532Z",
     "start_time": "2022-12-17T20:35:10.855308Z"
    }
   },
   "outputs": [],
   "source": [
    "df_ords_prods_merged.loc[(df_ords_prods_merged['prices'] <= 15) & (df_ords_prods_merged['prices'] > 5), 'price_range'] = 'Mid-range product'"
   ]
  },
  {
   "cell_type": "code",
   "execution_count": 26,
   "id": "7f364b1b",
   "metadata": {
    "ExecuteTime": {
     "end_time": "2022-12-17T20:35:15.931671Z",
     "start_time": "2022-12-17T20:35:15.335215Z"
    }
   },
   "outputs": [],
   "source": [
    "df_ords_prods_merged.loc[df_ords_prods_merged['prices'] <= 5, 'price_range'] = 'Low-range product'"
   ]
  },
  {
   "cell_type": "code",
   "execution_count": 27,
   "id": "1d9fbfc0",
   "metadata": {
    "ExecuteTime": {
     "end_time": "2022-12-17T20:35:26.534675Z",
     "start_time": "2022-12-17T20:35:26.387509Z"
    }
   },
   "outputs": [
    {
     "data": {
      "text/plain": [
       "Mid-range product    756450\n",
       "Low-range product    243550\n",
       "Name: price_range, dtype: int64"
      ]
     },
     "execution_count": 27,
     "metadata": {},
     "output_type": "execute_result"
    }
   ],
   "source": [
    "df['price_range'].value_counts()"
   ]
  },
  {
   "cell_type": "code",
   "execution_count": 28,
   "id": "872445c7",
   "metadata": {
    "ExecuteTime": {
     "end_time": "2022-12-17T20:35:54.868586Z",
     "start_time": "2022-12-17T20:35:54.739804Z"
    }
   },
   "outputs": [],
   "source": [
    "#performing price range counts on full data set\n",
    "df_ords_prods_merged.loc[df_ords_prods_merged['prices'] > 15, 'price_range'] = 'High-Range Product'"
   ]
  },
  {
   "cell_type": "code",
   "execution_count": 29,
   "id": "b380b3c6",
   "metadata": {
    "ExecuteTime": {
     "end_time": "2022-12-17T20:36:06.981446Z",
     "start_time": "2022-12-17T20:36:05.654328Z"
    }
   },
   "outputs": [],
   "source": [
    "df_ords_prods_merged.loc[(df_ords_prods_merged['prices'] <= 15) & (df_ords_prods_merged['prices'] > 5), 'price_range'] = 'Mid-Range Product'"
   ]
  },
  {
   "cell_type": "code",
   "execution_count": 30,
   "id": "07d3fb3c",
   "metadata": {
    "ExecuteTime": {
     "end_time": "2022-12-17T20:36:09.907863Z",
     "start_time": "2022-12-17T20:36:09.324598Z"
    }
   },
   "outputs": [],
   "source": [
    "df_ords_prods_merged.loc[df_ords_prods_merged['prices'] <= 5, 'price_range'] = 'Low-range product'"
   ]
  },
  {
   "cell_type": "code",
   "execution_count": 31,
   "id": "41678c8e",
   "metadata": {
    "ExecuteTime": {
     "end_time": "2022-12-17T20:36:16.276133Z",
     "start_time": "2022-12-17T20:36:12.516856Z"
    }
   },
   "outputs": [
    {
     "data": {
      "text/plain": [
       "Mid-Range Product     21860860\n",
       "Low-range product     10126321\n",
       "High-Range Product      417678\n",
       "Name: price_range, dtype: int64"
      ]
     },
     "execution_count": 31,
     "metadata": {},
     "output_type": "execute_result"
    }
   ],
   "source": [
    "df_ords_prods_merged['price_range'].value_counts()"
   ]
  },
  {
   "cell_type": "code",
   "execution_count": 35,
   "id": "be5a78fb",
   "metadata": {
    "ExecuteTime": {
     "end_time": "2022-12-17T20:39:11.661616Z",
     "start_time": "2022-12-17T20:39:07.458554Z"
    }
   },
   "outputs": [
    {
     "data": {
      "image/png": "[encoded data removed]",
      "text/plain": [
       "<Figure size 640x480 with 1 Axes>"
      ]
     },
     "metadata": {},
     "output_type": "display_data"
    }
   ],
   "source": [
    "price_bar = df_ords_prods_merged['price_range'].value_counts().plot.bar(color = ['green', 'limegreen', 'lime'])"
   ]
  },
  {
   "cell_type": "code",
   "execution_count": 36,
   "id": "7917717f",
   "metadata": {
    "ExecuteTime": {
     "end_time": "2022-12-17T20:41:06.417360Z",
     "start_time": "2022-12-17T20:41:06.256864Z"
    }
   },
   "outputs": [],
   "source": [
    "price_bar.figure.savefig((os.path.join(path, '04 Analysis', 'Visualizations', 'price_bar.png')), bbox_inches = 'tight')"
   ]
  },
  {
   "cell_type": "markdown",
   "id": "93b100e7",
   "metadata": {},
   "source": [
    "# 05. If-Statements with For-Loops"
   ]
  },
  {
   "cell_type": "code",
   "execution_count": null,
   "id": "f4e81292",
   "metadata": {},
   "outputs": [],
   "source": []
  },
  {
   "cell_type": "code",
   "execution_count": 28,
   "id": "901d00e7",
   "metadata": {
    "ExecuteTime": {
     "end_time": "2022-11-24T00:38:56.107021Z",
     "start_time": "2022-11-24T00:38:55.915026Z"
    }
   },
   "outputs": [
    {
     "data": {
      "text/plain": [
       "0    6204182\n",
       "1    5660230\n",
       "6    4496490\n",
       "2    4213830\n",
       "5    4205791\n",
       "3    3840534\n",
       "4    3783802\n",
       "Name: order_day_of_week, dtype: int64"
      ]
     },
     "execution_count": 28,
     "metadata": {},
     "output_type": "execute_result"
    }
   ],
   "source": [
    "# order counts for each day od the week\n",
    "df_ords_prods_merged['order_day_of_week'].value_counts(dropna = False)"
   ]
  },
  {
   "cell_type": "code",
   "execution_count": 31,
   "id": "f3d44173",
   "metadata": {
    "ExecuteTime": {
     "end_time": "2022-11-24T00:46:06.402030Z",
     "start_time": "2022-11-24T00:46:01.589028Z"
    }
   },
   "outputs": [],
   "source": [
    "# create loop to derive business level for each day\n",
    "\n",
    "result = []\n",
    "\n",
    "for value in df_ords_prods_merged['order_day_of_week']:\n",
    "    if value == 0:\n",
    "        result.append(\"Busiest Day\")\n",
    "    elif value == 4:\n",
    "        result.append(\"Leasy Busy\")\n",
    "    else:\n",
    "        result.append(\"Regularly Busy\")"
   ]
  },
  {
   "cell_type": "code",
   "execution_count": 32,
   "id": "22856b25",
   "metadata": {
    "ExecuteTime": {
     "end_time": "2022-11-24T00:46:13.198088Z",
     "start_time": "2022-11-24T00:46:13.180085Z"
    }
   },
   "outputs": [
    {
     "data": {
      "text/plain": [
       "['Regularly Busy',\n",
       " 'Regularly Busy',\n",
       " 'Regularly Busy',\n",
       " 'Leasy Busy',\n",
       " 'Leasy Busy',\n",
       " 'Regularly Busy',\n",
       " 'Regularly Busy',\n",
       " 'Regularly Busy',\n",
       " 'Regularly Busy',\n",
       " 'Leasy Busy',\n",
       " 'Regularly Busy',\n",
       " 'Regularly Busy',\n",
       " 'Regularly Busy',\n",
       " 'Regularly Busy',\n",
       " 'Regularly Busy',\n",
       " 'Regularly Busy',\n",
       " 'Regularly Busy',\n",
       " 'Leasy Busy',\n",
       " 'Regularly Busy',\n",
       " 'Regularly Busy',\n",
       " 'Regularly Busy',\n",
       " 'Leasy Busy',\n",
       " 'Leasy Busy',\n",
       " 'Regularly Busy',\n",
       " 'Regularly Busy',\n",
       " 'Regularly Busy',\n",
       " 'Regularly Busy',\n",
       " 'Regularly Busy',\n",
       " 'Regularly Busy',\n",
       " 'Regularly Busy',\n",
       " 'Regularly Busy',\n",
       " 'Regularly Busy',\n",
       " 'Regularly Busy',\n",
       " 'Regularly Busy',\n",
       " 'Regularly Busy',\n",
       " 'Regularly Busy',\n",
       " 'Regularly Busy',\n",
       " 'Regularly Busy',\n",
       " 'Regularly Busy',\n",
       " 'Regularly Busy',\n",
       " 'Regularly Busy',\n",
       " 'Regularly Busy',\n",
       " 'Regularly Busy',\n",
       " 'Regularly Busy',\n",
       " 'Regularly Busy',\n",
       " 'Regularly Busy',\n",
       " 'Regularly Busy',\n",
       " 'Regularly Busy',\n",
       " 'Regularly Busy',\n",
       " 'Regularly Busy',\n",
       " 'Leasy Busy',\n",
       " 'Regularly Busy',\n",
       " 'Busiest Day',\n",
       " 'Regularly Busy',\n",
       " 'Regularly Busy',\n",
       " 'Regularly Busy',\n",
       " 'Regularly Busy',\n",
       " 'Regularly Busy',\n",
       " 'Regularly Busy',\n",
       " 'Regularly Busy',\n",
       " 'Busiest Day',\n",
       " 'Leasy Busy',\n",
       " 'Regularly Busy',\n",
       " 'Regularly Busy',\n",
       " 'Regularly Busy',\n",
       " 'Regularly Busy',\n",
       " 'Regularly Busy',\n",
       " 'Busiest Day',\n",
       " 'Regularly Busy',\n",
       " 'Regularly Busy',\n",
       " 'Leasy Busy',\n",
       " 'Regularly Busy',\n",
       " 'Leasy Busy',\n",
       " 'Regularly Busy',\n",
       " 'Regularly Busy',\n",
       " 'Regularly Busy',\n",
       " 'Regularly Busy',\n",
       " 'Regularly Busy',\n",
       " 'Regularly Busy',\n",
       " 'Regularly Busy',\n",
       " 'Regularly Busy',\n",
       " 'Regularly Busy',\n",
       " 'Regularly Busy',\n",
       " 'Regularly Busy',\n",
       " 'Regularly Busy',\n",
       " 'Regularly Busy',\n",
       " 'Regularly Busy',\n",
       " 'Regularly Busy',\n",
       " 'Regularly Busy',\n",
       " 'Leasy Busy',\n",
       " 'Regularly Busy',\n",
       " 'Regularly Busy',\n",
       " 'Regularly Busy',\n",
       " 'Regularly Busy',\n",
       " 'Regularly Busy',\n",
       " 'Regularly Busy',\n",
       " 'Regularly Busy',\n",
       " 'Leasy Busy',\n",
       " 'Regularly Busy',\n",
       " 'Regularly Busy',\n",
       " 'Regularly Busy',\n",
       " 'Regularly Busy',\n",
       " 'Regularly Busy',\n",
       " 'Regularly Busy',\n",
       " 'Regularly Busy',\n",
       " 'Regularly Busy',\n",
       " 'Regularly Busy',\n",
       " 'Regularly Busy',\n",
       " 'Regularly Busy',\n",
       " 'Regularly Busy',\n",
       " 'Regularly Busy',\n",
       " 'Leasy Busy',\n",
       " 'Regularly Busy',\n",
       " 'Regularly Busy',\n",
       " 'Regularly Busy',\n",
       " 'Regularly Busy',\n",
       " 'Busiest Day',\n",
       " 'Regularly Busy',\n",
       " 'Busiest Day',\n",
       " 'Regularly Busy',\n",
       " 'Regularly Busy',\n",
       " 'Regularly Busy',\n",
       " 'Regularly Busy',\n",
       " 'Regularly Busy',\n",
       " 'Regularly Busy',\n",
       " 'Regularly Busy',\n",
       " 'Busiest Day',\n",
       " 'Regularly Busy',\n",
       " 'Leasy Busy',\n",
       " 'Regularly Busy',\n",
       " 'Regularly Busy',\n",
       " 'Regularly Busy',\n",
       " 'Regularly Busy',\n",
       " 'Regularly Busy',\n",
       " 'Regularly Busy',\n",
       " 'Regularly Busy',\n",
       " 'Regularly Busy',\n",
       " 'Regularly Busy',\n",
       " 'Regularly Busy',\n",
       " 'Leasy Busy',\n",
       " 'Regularly Busy',\n",
       " 'Regularly Busy',\n",
       " 'Busiest Day',\n",
       " 'Regularly Busy',\n",
       " 'Regularly Busy',\n",
       " 'Regularly Busy',\n",
       " 'Regularly Busy',\n",
       " 'Busiest Day',\n",
       " 'Regularly Busy',\n",
       " 'Regularly Busy',\n",
       " 'Leasy Busy',\n",
       " 'Leasy Busy',\n",
       " 'Regularly Busy',\n",
       " 'Regularly Busy',\n",
       " 'Regularly Busy',\n",
       " 'Regularly Busy',\n",
       " 'Regularly Busy',\n",
       " 'Busiest Day',\n",
       " 'Regularly Busy',\n",
       " 'Busiest Day',\n",
       " 'Regularly Busy',\n",
       " 'Regularly Busy',\n",
       " 'Regularly Busy',\n",
       " 'Regularly Busy',\n",
       " 'Leasy Busy',\n",
       " 'Regularly Busy',\n",
       " 'Regularly Busy',\n",
       " 'Busiest Day',\n",
       " 'Busiest Day',\n",
       " 'Regularly Busy',\n",
       " 'Regularly Busy',\n",
       " 'Regularly Busy',\n",
       " 'Regularly Busy',\n",
       " 'Regularly Busy',\n",
       " 'Regularly Busy',\n",
       " 'Regularly Busy',\n",
       " 'Regularly Busy',\n",
       " 'Busiest Day',\n",
       " 'Regularly Busy',\n",
       " 'Regularly Busy',\n",
       " 'Leasy Busy',\n",
       " 'Regularly Busy',\n",
       " 'Regularly Busy',\n",
       " 'Regularly Busy',\n",
       " 'Regularly Busy',\n",
       " 'Regularly Busy',\n",
       " 'Regularly Busy',\n",
       " 'Regularly Busy',\n",
       " 'Regularly Busy',\n",
       " 'Leasy Busy',\n",
       " 'Regularly Busy',\n",
       " 'Regularly Busy',\n",
       " 'Regularly Busy',\n",
       " 'Regularly Busy',\n",
       " 'Leasy Busy',\n",
       " 'Regularly Busy',\n",
       " 'Regularly Busy',\n",
       " 'Regularly Busy',\n",
       " 'Regularly Busy',\n",
       " 'Regularly Busy',\n",
       " 'Regularly Busy',\n",
       " 'Regularly Busy',\n",
       " 'Regularly Busy',\n",
       " 'Regularly Busy',\n",
       " 'Leasy Busy',\n",
       " 'Regularly Busy',\n",
       " 'Regularly Busy',\n",
       " 'Busiest Day',\n",
       " 'Regularly Busy',\n",
       " 'Leasy Busy',\n",
       " 'Regularly Busy',\n",
       " 'Regularly Busy',\n",
       " 'Regularly Busy',\n",
       " 'Regularly Busy',\n",
       " 'Regularly Busy',\n",
       " 'Regularly Busy',\n",
       " 'Busiest Day',\n",
       " 'Regularly Busy',\n",
       " 'Regularly Busy',\n",
       " 'Regularly Busy',\n",
       " 'Regularly Busy',\n",
       " 'Leasy Busy',\n",
       " 'Regularly Busy',\n",
       " 'Regularly Busy',\n",
       " 'Regularly Busy',\n",
       " 'Regularly Busy',\n",
       " 'Regularly Busy',\n",
       " 'Leasy Busy',\n",
       " 'Leasy Busy',\n",
       " 'Leasy Busy',\n",
       " 'Regularly Busy',\n",
       " 'Regularly Busy',\n",
       " 'Leasy Busy',\n",
       " 'Regularly Busy',\n",
       " 'Leasy Busy',\n",
       " 'Regularly Busy',\n",
       " 'Regularly Busy',\n",
       " 'Regularly Busy',\n",
       " 'Regularly Busy',\n",
       " 'Regularly Busy',\n",
       " 'Regularly Busy',\n",
       " 'Busiest Day',\n",
       " 'Busiest Day',\n",
       " 'Busiest Day',\n",
       " 'Busiest Day',\n",
       " 'Busiest Day',\n",
       " 'Busiest Day',\n",
       " 'Regularly Busy',\n",
       " 'Leasy Busy',\n",
       " 'Busiest Day',\n",
       " 'Regularly Busy',\n",
       " 'Regularly Busy',\n",
       " 'Leasy Busy',\n",
       " 'Regularly Busy',\n",
       " 'Regularly Busy',\n",
       " 'Leasy Busy',\n",
       " 'Leasy Busy',\n",
       " 'Regularly Busy',\n",
       " 'Busiest Day',\n",
       " 'Regularly Busy',\n",
       " 'Regularly Busy',\n",
       " 'Regularly Busy',\n",
       " 'Regularly Busy',\n",
       " 'Regularly Busy',\n",
       " 'Busiest Day',\n",
       " 'Regularly Busy',\n",
       " 'Regularly Busy',\n",
       " 'Regularly Busy',\n",
       " 'Regularly Busy',\n",
       " 'Regularly Busy',\n",
       " 'Regularly Busy',\n",
       " 'Regularly Busy',\n",
       " 'Regularly Busy',\n",
       " 'Regularly Busy',\n",
       " 'Leasy Busy',\n",
       " 'Regularly Busy',\n",
       " 'Leasy Busy',\n",
       " 'Regularly Busy',\n",
       " 'Regularly Busy',\n",
       " 'Leasy Busy',\n",
       " 'Busiest Day',\n",
       " 'Busiest Day',\n",
       " 'Regularly Busy',\n",
       " 'Regularly Busy',\n",
       " 'Regularly Busy',\n",
       " 'Regularly Busy',\n",
       " 'Regularly Busy',\n",
       " 'Regularly Busy',\n",
       " 'Regularly Busy',\n",
       " 'Regularly Busy',\n",
       " 'Regularly Busy',\n",
       " 'Busiest Day',\n",
       " 'Regularly Busy',\n",
       " 'Regularly Busy',\n",
       " 'Regularly Busy',\n",
       " 'Regularly Busy',\n",
       " 'Regularly Busy',\n",
       " 'Regularly Busy',\n",
       " 'Regularly Busy',\n",
       " 'Regularly Busy',\n",
       " 'Leasy Busy',\n",
       " 'Leasy Busy',\n",
       " 'Leasy Busy',\n",
       " 'Regularly Busy',\n",
       " 'Regularly Busy',\n",
       " 'Leasy Busy',\n",
       " 'Regularly Busy',\n",
       " 'Leasy Busy',\n",
       " 'Busiest Day',\n",
       " 'Regularly Busy',\n",
       " 'Busiest Day',\n",
       " 'Busiest Day',\n",
       " 'Regularly Busy',\n",
       " 'Busiest Day',\n",
       " 'Regularly Busy',\n",
       " 'Regularly Busy',\n",
       " 'Regularly Busy',\n",
       " 'Leasy Busy',\n",
       " 'Regularly Busy',\n",
       " 'Leasy Busy',\n",
       " 'Regularly Busy',\n",
       " 'Regularly Busy',\n",
       " 'Leasy Busy',\n",
       " 'Regularly Busy',\n",
       " 'Regularly Busy',\n",
       " 'Regularly Busy',\n",
       " 'Busiest Day',\n",
       " 'Regularly Busy',\n",
       " 'Regularly Busy',\n",
       " 'Busiest Day',\n",
       " 'Regularly Busy',\n",
       " 'Regularly Busy',\n",
       " 'Busiest Day',\n",
       " 'Regularly Busy',\n",
       " 'Leasy Busy',\n",
       " 'Regularly Busy',\n",
       " 'Regularly Busy',\n",
       " 'Regularly Busy',\n",
       " 'Regularly Busy',\n",
       " 'Busiest Day',\n",
       " 'Regularly Busy',\n",
       " 'Leasy Busy',\n",
       " 'Regularly Busy',\n",
       " 'Busiest Day',\n",
       " 'Regularly Busy',\n",
       " 'Leasy Busy',\n",
       " 'Regularly Busy',\n",
       " 'Leasy Busy',\n",
       " 'Regularly Busy',\n",
       " 'Regularly Busy',\n",
       " 'Leasy Busy',\n",
       " 'Regularly Busy',\n",
       " 'Regularly Busy',\n",
       " 'Leasy Busy',\n",
       " 'Regularly Busy',\n",
       " 'Regularly Busy',\n",
       " 'Regularly Busy',\n",
       " 'Regularly Busy',\n",
       " 'Regularly Busy',\n",
       " 'Regularly Busy',\n",
       " 'Regularly Busy',\n",
       " 'Regularly Busy',\n",
       " 'Busiest Day',\n",
       " 'Regularly Busy',\n",
       " 'Regularly Busy',\n",
       " 'Regularly Busy',\n",
       " 'Regularly Busy',\n",
       " 'Regularly Busy',\n",
       " 'Busiest Day',\n",
       " 'Regularly Busy',\n",
       " 'Regularly Busy',\n",
       " 'Regularly Busy',\n",
       " 'Busiest Day',\n",
       " 'Regularly Busy',\n",
       " 'Regularly Busy',\n",
       " 'Regularly Busy',\n",
       " 'Regularly Busy',\n",
       " 'Regularly Busy',\n",
       " 'Regularly Busy',\n",
       " 'Regularly Busy',\n",
       " 'Regularly Busy',\n",
       " 'Regularly Busy',\n",
       " 'Regularly Busy',\n",
       " 'Regularly Busy',\n",
       " 'Regularly Busy',\n",
       " 'Regularly Busy',\n",
       " 'Regularly Busy',\n",
       " 'Leasy Busy',\n",
       " 'Regularly Busy',\n",
       " 'Regularly Busy',\n",
       " 'Regularly Busy',\n",
       " 'Regularly Busy',\n",
       " 'Regularly Busy',\n",
       " 'Regularly Busy',\n",
       " 'Regularly Busy',\n",
       " 'Leasy Busy',\n",
       " 'Regularly Busy',\n",
       " 'Regularly Busy',\n",
       " 'Leasy Busy',\n",
       " 'Regularly Busy',\n",
       " 'Regularly Busy',\n",
       " 'Regularly Busy',\n",
       " 'Regularly Busy',\n",
       " 'Regularly Busy',\n",
       " 'Regularly Busy',\n",
       " 'Regularly Busy',\n",
       " 'Regularly Busy',\n",
       " 'Regularly Busy',\n",
       " 'Regularly Busy',\n",
       " 'Regularly Busy',\n",
       " 'Regularly Busy',\n",
       " 'Regularly Busy',\n",
       " 'Leasy Busy',\n",
       " 'Regularly Busy',\n",
       " 'Regularly Busy',\n",
       " 'Regularly Busy',\n",
       " 'Regularly Busy',\n",
       " 'Regularly Busy',\n",
       " 'Regularly Busy',\n",
       " 'Regularly Busy',\n",
       " 'Regularly Busy',\n",
       " 'Regularly Busy',\n",
       " 'Regularly Busy',\n",
       " 'Regularly Busy',\n",
       " 'Regularly Busy',\n",
       " 'Regularly Busy',\n",
       " 'Regularly Busy',\n",
       " 'Regularly Busy',\n",
       " 'Regularly Busy',\n",
       " 'Regularly Busy',\n",
       " 'Leasy Busy',\n",
       " 'Regularly Busy',\n",
       " 'Regularly Busy',\n",
       " 'Regularly Busy',\n",
       " 'Regularly Busy',\n",
       " 'Regularly Busy',\n",
       " 'Regularly Busy',\n",
       " 'Leasy Busy',\n",
       " 'Regularly Busy',\n",
       " 'Regularly Busy',\n",
       " 'Regularly Busy',\n",
       " 'Leasy Busy',\n",
       " 'Regularly Busy',\n",
       " 'Leasy Busy',\n",
       " 'Leasy Busy',\n",
       " 'Regularly Busy',\n",
       " 'Regularly Busy',\n",
       " 'Regularly Busy',\n",
       " 'Regularly Busy',\n",
       " 'Regularly Busy',\n",
       " 'Regularly Busy',\n",
       " 'Regularly Busy',\n",
       " 'Regularly Busy',\n",
       " 'Regularly Busy',\n",
       " 'Regularly Busy',\n",
       " 'Regularly Busy',\n",
       " 'Regularly Busy',\n",
       " 'Busiest Day',\n",
       " 'Regularly Busy',\n",
       " 'Regularly Busy',\n",
       " 'Regularly Busy',\n",
       " 'Regularly Busy',\n",
       " 'Regularly Busy',\n",
       " 'Busiest Day',\n",
       " 'Busiest Day',\n",
       " 'Regularly Busy',\n",
       " 'Regularly Busy',\n",
       " 'Regularly Busy',\n",
       " 'Regularly Busy',\n",
       " 'Regularly Busy',\n",
       " 'Leasy Busy',\n",
       " 'Regularly Busy',\n",
       " 'Regularly Busy',\n",
       " 'Regularly Busy',\n",
       " 'Leasy Busy',\n",
       " 'Regularly Busy',\n",
       " 'Regularly Busy',\n",
       " 'Regularly Busy',\n",
       " 'Regularly Busy',\n",
       " 'Regularly Busy',\n",
       " 'Regularly Busy',\n",
       " 'Regularly Busy',\n",
       " 'Leasy Busy',\n",
       " 'Leasy Busy',\n",
       " 'Leasy Busy',\n",
       " 'Regularly Busy',\n",
       " 'Regularly Busy',\n",
       " 'Regularly Busy',\n",
       " 'Regularly Busy',\n",
       " 'Busiest Day',\n",
       " 'Regularly Busy',\n",
       " 'Regularly Busy',\n",
       " 'Leasy Busy',\n",
       " 'Regularly Busy',\n",
       " 'Regularly Busy',\n",
       " 'Busiest Day',\n",
       " 'Leasy Busy',\n",
       " 'Busiest Day',\n",
       " 'Regularly Busy',\n",
       " 'Regularly Busy',\n",
       " 'Regularly Busy',\n",
       " 'Regularly Busy',\n",
       " 'Regularly Busy',\n",
       " 'Regularly Busy',\n",
       " 'Leasy Busy',\n",
       " 'Regularly Busy',\n",
       " 'Regularly Busy',\n",
       " 'Busiest Day',\n",
       " 'Regularly Busy',\n",
       " 'Regularly Busy',\n",
       " 'Regularly Busy',\n",
       " 'Regularly Busy',\n",
       " 'Busiest Day',\n",
       " 'Leasy Busy',\n",
       " 'Regularly Busy',\n",
       " 'Regularly Busy',\n",
       " 'Regularly Busy',\n",
       " 'Leasy Busy',\n",
       " 'Leasy Busy',\n",
       " 'Regularly Busy',\n",
       " 'Leasy Busy',\n",
       " 'Regularly Busy',\n",
       " 'Regularly Busy',\n",
       " 'Regularly Busy',\n",
       " 'Regularly Busy',\n",
       " 'Leasy Busy',\n",
       " 'Regularly Busy',\n",
       " 'Regularly Busy',\n",
       " 'Regularly Busy',\n",
       " 'Regularly Busy',\n",
       " 'Regularly Busy',\n",
       " 'Regularly Busy',\n",
       " 'Leasy Busy',\n",
       " 'Regularly Busy',\n",
       " 'Regularly Busy',\n",
       " 'Regularly Busy',\n",
       " 'Regularly Busy',\n",
       " 'Regularly Busy',\n",
       " 'Regularly Busy',\n",
       " 'Regularly Busy',\n",
       " 'Regularly Busy',\n",
       " 'Regularly Busy',\n",
       " 'Regularly Busy',\n",
       " 'Regularly Busy',\n",
       " 'Regularly Busy',\n",
       " 'Regularly Busy',\n",
       " 'Regularly Busy',\n",
       " 'Leasy Busy',\n",
       " 'Regularly Busy',\n",
       " 'Regularly Busy',\n",
       " 'Leasy Busy',\n",
       " 'Leasy Busy',\n",
       " 'Regularly Busy',\n",
       " 'Busiest Day',\n",
       " 'Busiest Day',\n",
       " 'Regularly Busy',\n",
       " 'Regularly Busy',\n",
       " 'Regularly Busy',\n",
       " 'Regularly Busy',\n",
       " 'Regularly Busy',\n",
       " 'Regularly Busy',\n",
       " 'Regularly Busy',\n",
       " 'Regularly Busy',\n",
       " 'Leasy Busy',\n",
       " 'Regularly Busy',\n",
       " 'Regularly Busy',\n",
       " 'Regularly Busy',\n",
       " 'Regularly Busy',\n",
       " 'Regularly Busy',\n",
       " 'Regularly Busy',\n",
       " 'Regularly Busy',\n",
       " 'Regularly Busy',\n",
       " 'Regularly Busy',\n",
       " 'Leasy Busy',\n",
       " 'Regularly Busy',\n",
       " 'Regularly Busy',\n",
       " 'Regularly Busy',\n",
       " 'Regularly Busy',\n",
       " 'Regularly Busy',\n",
       " 'Regularly Busy',\n",
       " 'Regularly Busy',\n",
       " 'Regularly Busy',\n",
       " 'Regularly Busy',\n",
       " 'Leasy Busy',\n",
       " 'Regularly Busy',\n",
       " 'Regularly Busy',\n",
       " 'Regularly Busy',\n",
       " 'Regularly Busy',\n",
       " 'Regularly Busy',\n",
       " 'Regularly Busy',\n",
       " 'Regularly Busy',\n",
       " 'Regularly Busy',\n",
       " 'Regularly Busy',\n",
       " 'Leasy Busy',\n",
       " 'Regularly Busy',\n",
       " 'Regularly Busy',\n",
       " 'Regularly Busy',\n",
       " 'Regularly Busy',\n",
       " 'Regularly Busy',\n",
       " 'Regularly Busy',\n",
       " 'Regularly Busy',\n",
       " 'Regularly Busy',\n",
       " 'Regularly Busy',\n",
       " 'Regularly Busy',\n",
       " 'Regularly Busy',\n",
       " 'Regularly Busy',\n",
       " 'Regularly Busy',\n",
       " 'Regularly Busy',\n",
       " 'Regularly Busy',\n",
       " 'Regularly Busy',\n",
       " 'Regularly Busy',\n",
       " 'Regularly Busy',\n",
       " 'Regularly Busy',\n",
       " 'Regularly Busy',\n",
       " 'Regularly Busy',\n",
       " 'Regularly Busy',\n",
       " 'Regularly Busy',\n",
       " 'Regularly Busy',\n",
       " 'Busiest Day',\n",
       " 'Busiest Day',\n",
       " 'Regularly Busy',\n",
       " 'Regularly Busy',\n",
       " 'Busiest Day',\n",
       " 'Regularly Busy',\n",
       " 'Busiest Day',\n",
       " 'Regularly Busy',\n",
       " 'Regularly Busy',\n",
       " 'Regularly Busy',\n",
       " 'Regularly Busy',\n",
       " 'Regularly Busy',\n",
       " 'Regularly Busy',\n",
       " 'Regularly Busy',\n",
       " 'Regularly Busy',\n",
       " 'Regularly Busy',\n",
       " 'Busiest Day',\n",
       " 'Regularly Busy',\n",
       " 'Regularly Busy',\n",
       " 'Regularly Busy',\n",
       " 'Regularly Busy',\n",
       " 'Regularly Busy',\n",
       " 'Busiest Day',\n",
       " 'Regularly Busy',\n",
       " 'Leasy Busy',\n",
       " 'Leasy Busy',\n",
       " 'Regularly Busy',\n",
       " 'Regularly Busy',\n",
       " 'Regularly Busy',\n",
       " 'Regularly Busy',\n",
       " 'Regularly Busy',\n",
       " 'Leasy Busy',\n",
       " 'Regularly Busy',\n",
       " 'Leasy Busy',\n",
       " 'Regularly Busy',\n",
       " 'Regularly Busy',\n",
       " 'Regularly Busy',\n",
       " 'Regularly Busy',\n",
       " 'Regularly Busy',\n",
       " 'Regularly Busy',\n",
       " 'Regularly Busy',\n",
       " 'Regularly Busy',\n",
       " 'Regularly Busy',\n",
       " 'Regularly Busy',\n",
       " 'Regularly Busy',\n",
       " 'Regularly Busy',\n",
       " 'Regularly Busy',\n",
       " 'Regularly Busy',\n",
       " 'Regularly Busy',\n",
       " 'Regularly Busy',\n",
       " 'Regularly Busy',\n",
       " 'Regularly Busy',\n",
       " 'Busiest Day',\n",
       " 'Regularly Busy',\n",
       " 'Regularly Busy',\n",
       " 'Regularly Busy',\n",
       " 'Leasy Busy',\n",
       " 'Regularly Busy',\n",
       " 'Regularly Busy',\n",
       " 'Regularly Busy',\n",
       " 'Regularly Busy',\n",
       " 'Regularly Busy',\n",
       " 'Regularly Busy',\n",
       " 'Regularly Busy',\n",
       " 'Regularly Busy',\n",
       " 'Regularly Busy',\n",
       " 'Regularly Busy',\n",
       " 'Regularly Busy',\n",
       " 'Regularly Busy',\n",
       " 'Regularly Busy',\n",
       " 'Regularly Busy',\n",
       " 'Regularly Busy',\n",
       " 'Regularly Busy',\n",
       " 'Regularly Busy',\n",
       " 'Regularly Busy',\n",
       " 'Regularly Busy',\n",
       " 'Regularly Busy',\n",
       " 'Regularly Busy',\n",
       " 'Regularly Busy',\n",
       " 'Regularly Busy',\n",
       " 'Regularly Busy',\n",
       " 'Regularly Busy',\n",
       " 'Regularly Busy',\n",
       " 'Regularly Busy',\n",
       " 'Regularly Busy',\n",
       " 'Regularly Busy',\n",
       " 'Regularly Busy',\n",
       " 'Regularly Busy',\n",
       " 'Regularly Busy',\n",
       " 'Busiest Day',\n",
       " 'Regularly Busy',\n",
       " 'Regularly Busy',\n",
       " 'Leasy Busy',\n",
       " 'Regularly Busy',\n",
       " 'Regularly Busy',\n",
       " 'Leasy Busy',\n",
       " 'Leasy Busy',\n",
       " 'Regularly Busy',\n",
       " 'Regularly Busy',\n",
       " 'Regularly Busy',\n",
       " 'Regularly Busy',\n",
       " 'Leasy Busy',\n",
       " 'Regularly Busy',\n",
       " 'Leasy Busy',\n",
       " 'Regularly Busy',\n",
       " 'Regularly Busy',\n",
       " 'Regularly Busy',\n",
       " 'Regularly Busy',\n",
       " 'Busiest Day',\n",
       " 'Regularly Busy',\n",
       " 'Leasy Busy',\n",
       " 'Regularly Busy',\n",
       " 'Regularly Busy',\n",
       " 'Regularly Busy',\n",
       " 'Regularly Busy',\n",
       " 'Regularly Busy',\n",
       " 'Regularly Busy',\n",
       " 'Regularly Busy',\n",
       " 'Regularly Busy',\n",
       " 'Regularly Busy',\n",
       " 'Regularly Busy',\n",
       " 'Regularly Busy',\n",
       " 'Regularly Busy',\n",
       " 'Regularly Busy',\n",
       " 'Regularly Busy',\n",
       " 'Leasy Busy',\n",
       " 'Regularly Busy',\n",
       " 'Regularly Busy',\n",
       " 'Busiest Day',\n",
       " 'Regularly Busy',\n",
       " 'Regularly Busy',\n",
       " 'Regularly Busy',\n",
       " 'Leasy Busy',\n",
       " 'Regularly Busy',\n",
       " 'Regularly Busy',\n",
       " 'Regularly Busy',\n",
       " 'Regularly Busy',\n",
       " 'Regularly Busy',\n",
       " 'Leasy Busy',\n",
       " 'Regularly Busy',\n",
       " 'Leasy Busy',\n",
       " 'Leasy Busy',\n",
       " 'Regularly Busy',\n",
       " 'Regularly Busy',\n",
       " 'Regularly Busy',\n",
       " 'Regularly Busy',\n",
       " 'Regularly Busy',\n",
       " 'Regularly Busy',\n",
       " 'Leasy Busy',\n",
       " 'Regularly Busy',\n",
       " 'Regularly Busy',\n",
       " 'Regularly Busy',\n",
       " 'Regularly Busy',\n",
       " 'Regularly Busy',\n",
       " 'Leasy Busy',\n",
       " 'Busiest Day',\n",
       " 'Regularly Busy',\n",
       " 'Regularly Busy',\n",
       " 'Leasy Busy',\n",
       " 'Regularly Busy',\n",
       " 'Regularly Busy',\n",
       " 'Regularly Busy',\n",
       " 'Regularly Busy',\n",
       " 'Regularly Busy',\n",
       " 'Busiest Day',\n",
       " 'Regularly Busy',\n",
       " 'Regularly Busy',\n",
       " 'Regularly Busy',\n",
       " 'Regularly Busy',\n",
       " 'Regularly Busy',\n",
       " 'Leasy Busy',\n",
       " 'Regularly Busy',\n",
       " 'Regularly Busy',\n",
       " 'Busiest Day',\n",
       " 'Regularly Busy',\n",
       " 'Busiest Day',\n",
       " 'Regularly Busy',\n",
       " 'Leasy Busy',\n",
       " 'Regularly Busy',\n",
       " 'Regularly Busy',\n",
       " 'Leasy Busy',\n",
       " 'Leasy Busy',\n",
       " 'Regularly Busy',\n",
       " 'Regularly Busy',\n",
       " 'Leasy Busy',\n",
       " 'Leasy Busy',\n",
       " 'Regularly Busy',\n",
       " 'Regularly Busy',\n",
       " 'Regularly Busy',\n",
       " 'Leasy Busy',\n",
       " 'Regularly Busy',\n",
       " 'Regularly Busy',\n",
       " 'Regularly Busy',\n",
       " 'Regularly Busy',\n",
       " 'Regularly Busy',\n",
       " 'Regularly Busy',\n",
       " 'Regularly Busy',\n",
       " 'Regularly Busy',\n",
       " 'Regularly Busy',\n",
       " 'Regularly Busy',\n",
       " 'Regularly Busy',\n",
       " 'Regularly Busy',\n",
       " 'Regularly Busy',\n",
       " 'Regularly Busy',\n",
       " 'Regularly Busy',\n",
       " 'Regularly Busy',\n",
       " 'Regularly Busy',\n",
       " 'Leasy Busy',\n",
       " 'Regularly Busy',\n",
       " 'Leasy Busy',\n",
       " 'Regularly Busy',\n",
       " 'Regularly Busy',\n",
       " 'Regularly Busy',\n",
       " 'Leasy Busy',\n",
       " 'Regularly Busy',\n",
       " 'Regularly Busy',\n",
       " 'Regularly Busy',\n",
       " 'Regularly Busy',\n",
       " 'Regularly Busy',\n",
       " 'Regularly Busy',\n",
       " 'Regularly Busy',\n",
       " 'Regularly Busy',\n",
       " 'Regularly Busy',\n",
       " 'Regularly Busy',\n",
       " 'Leasy Busy',\n",
       " 'Regularly Busy',\n",
       " 'Leasy Busy',\n",
       " 'Regularly Busy',\n",
       " 'Regularly Busy',\n",
       " 'Regularly Busy',\n",
       " 'Regularly Busy',\n",
       " 'Regularly Busy',\n",
       " 'Regularly Busy',\n",
       " 'Regularly Busy',\n",
       " 'Leasy Busy',\n",
       " 'Regularly Busy',\n",
       " 'Regularly Busy',\n",
       " 'Regularly Busy',\n",
       " 'Regularly Busy',\n",
       " 'Regularly Busy',\n",
       " 'Regularly Busy',\n",
       " 'Regularly Busy',\n",
       " 'Regularly Busy',\n",
       " 'Regularly Busy',\n",
       " 'Regularly Busy',\n",
       " 'Regularly Busy',\n",
       " 'Regularly Busy',\n",
       " 'Regularly Busy',\n",
       " 'Regularly Busy',\n",
       " 'Leasy Busy',\n",
       " 'Regularly Busy',\n",
       " 'Regularly Busy',\n",
       " 'Regularly Busy',\n",
       " 'Regularly Busy',\n",
       " 'Regularly Busy',\n",
       " 'Regularly Busy',\n",
       " 'Leasy Busy',\n",
       " 'Regularly Busy',\n",
       " 'Regularly Busy',\n",
       " 'Regularly Busy',\n",
       " 'Regularly Busy',\n",
       " 'Busiest Day',\n",
       " 'Regularly Busy',\n",
       " 'Leasy Busy',\n",
       " 'Leasy Busy',\n",
       " 'Leasy Busy',\n",
       " 'Regularly Busy',\n",
       " 'Busiest Day',\n",
       " 'Regularly Busy',\n",
       " 'Regularly Busy',\n",
       " 'Regularly Busy',\n",
       " 'Regularly Busy',\n",
       " 'Regularly Busy',\n",
       " 'Regularly Busy',\n",
       " 'Regularly Busy',\n",
       " 'Leasy Busy',\n",
       " 'Regularly Busy',\n",
       " 'Regularly Busy',\n",
       " 'Regularly Busy',\n",
       " 'Regularly Busy',\n",
       " 'Regularly Busy',\n",
       " 'Regularly Busy',\n",
       " 'Regularly Busy',\n",
       " 'Regularly Busy',\n",
       " 'Regularly Busy',\n",
       " 'Regularly Busy',\n",
       " 'Regularly Busy',\n",
       " 'Regularly Busy',\n",
       " 'Leasy Busy',\n",
       " 'Regularly Busy',\n",
       " 'Regularly Busy',\n",
       " 'Regularly Busy',\n",
       " 'Leasy Busy',\n",
       " 'Regularly Busy',\n",
       " 'Regularly Busy',\n",
       " 'Leasy Busy',\n",
       " 'Busiest Day',\n",
       " 'Regularly Busy',\n",
       " 'Regularly Busy',\n",
       " 'Regularly Busy',\n",
       " 'Regularly Busy',\n",
       " 'Regularly Busy',\n",
       " 'Leasy Busy',\n",
       " 'Leasy Busy',\n",
       " 'Leasy Busy',\n",
       " 'Leasy Busy',\n",
       " 'Regularly Busy',\n",
       " 'Regularly Busy',\n",
       " 'Regularly Busy',\n",
       " 'Regularly Busy',\n",
       " 'Leasy Busy',\n",
       " 'Regularly Busy',\n",
       " 'Regularly Busy',\n",
       " 'Regularly Busy',\n",
       " 'Regularly Busy',\n",
       " 'Regularly Busy',\n",
       " 'Regularly Busy',\n",
       " 'Regularly Busy',\n",
       " 'Regularly Busy',\n",
       " 'Regularly Busy',\n",
       " 'Regularly Busy',\n",
       " 'Regularly Busy',\n",
       " 'Regularly Busy',\n",
       " 'Regularly Busy',\n",
       " 'Regularly Busy',\n",
       " 'Regularly Busy',\n",
       " 'Regularly Busy',\n",
       " 'Regularly Busy',\n",
       " 'Regularly Busy',\n",
       " 'Busiest Day',\n",
       " 'Leasy Busy',\n",
       " 'Regularly Busy',\n",
       " 'Regularly Busy',\n",
       " 'Regularly Busy',\n",
       " 'Leasy Busy',\n",
       " 'Regularly Busy',\n",
       " 'Regularly Busy',\n",
       " 'Busiest Day',\n",
       " 'Regularly Busy',\n",
       " 'Regularly Busy',\n",
       " 'Regularly Busy',\n",
       " 'Regularly Busy',\n",
       " 'Regularly Busy',\n",
       " 'Regularly Busy',\n",
       " 'Regularly Busy',\n",
       " 'Regularly Busy',\n",
       " 'Regularly Busy',\n",
       " 'Leasy Busy',\n",
       " 'Regularly Busy',\n",
       " 'Regularly Busy',\n",
       " 'Regularly Busy',\n",
       " 'Regularly Busy',\n",
       " 'Regularly Busy',\n",
       " 'Regularly Busy',\n",
       " 'Leasy Busy',\n",
       " 'Regularly Busy',\n",
       " 'Regularly Busy',\n",
       " 'Leasy Busy',\n",
       " 'Regularly Busy',\n",
       " 'Regularly Busy',\n",
       " 'Regularly Busy',\n",
       " 'Regularly Busy',\n",
       " 'Regularly Busy',\n",
       " 'Regularly Busy',\n",
       " 'Leasy Busy',\n",
       " 'Regularly Busy',\n",
       " 'Regularly Busy',\n",
       " 'Regularly Busy',\n",
       " 'Leasy Busy',\n",
       " 'Leasy Busy',\n",
       " 'Regularly Busy',\n",
       " 'Regularly Busy',\n",
       " 'Regularly Busy',\n",
       " 'Leasy Busy',\n",
       " 'Regularly Busy',\n",
       " 'Regularly Busy',\n",
       " 'Regularly Busy',\n",
       " 'Busiest Day',\n",
       " 'Busiest Day',\n",
       " 'Regularly Busy',\n",
       " 'Regularly Busy',\n",
       " 'Regularly Busy',\n",
       " ...]"
      ]
     },
     "execution_count": 32,
     "metadata": {},
     "output_type": "execute_result"
    }
   ],
   "source": [
    "result"
   ]
  },
  {
   "cell_type": "code",
   "execution_count": 39,
   "id": "d428b631",
   "metadata": {
    "ExecuteTime": {
     "end_time": "2022-11-24T00:51:24.020205Z",
     "start_time": "2022-11-24T00:51:23.384198Z"
    }
   },
   "outputs": [],
   "source": [
    "# creating column for busiest day variable\n",
    "df_ords_prods_merged['busiest_day'] = result"
   ]
  },
  {
   "cell_type": "code",
   "execution_count": 42,
   "id": "01b09f37",
   "metadata": {
    "ExecuteTime": {
     "end_time": "2022-11-24T00:52:16.922792Z",
     "start_time": "2022-11-24T00:52:16.061793Z"
    }
   },
   "outputs": [
    {
     "data": {
      "text/plain": [
       "Regularly Busy    22416875\n",
       "Busiest Day        6204182\n",
       "Leasy Busy         3783802\n",
       "Name: busiest_day, dtype: int64"
      ]
     },
     "execution_count": 42,
     "metadata": {},
     "output_type": "execute_result"
    }
   ],
   "source": [
    "#checking busiest_day value counts\n",
    "df_ords_prods_merged['busiest_day'].value_counts()"
   ]
  },
  {
   "cell_type": "markdown",
   "id": "7c1d1f21",
   "metadata": {},
   "source": [
    "# 06. Creating Busiest Days column"
   ]
  },
  {
   "cell_type": "code",
   "execution_count": 71,
   "id": "867fc4ec",
   "metadata": {
    "ExecuteTime": {
     "end_time": "2022-11-24T01:16:30.079016Z",
     "start_time": "2022-11-24T01:16:24.930882Z"
    }
   },
   "outputs": [],
   "source": [
    "# Create loop to creat Busiest Days Column\n",
    "\n",
    "result = []\n",
    "\n",
    "for value in df_ords_prods_merged['order_day_of_week']:\n",
    "    if value in [0,1]:\n",
    "        result.append(\"Busiest Days\")\n",
    "    elif value in [3,4]:\n",
    "        result.append(\"Leasy Busy\")\n",
    "    else:\n",
    "        result.append(\"Regularly Busy\")"
   ]
  },
  {
   "cell_type": "code",
   "execution_count": 50,
   "id": "a0b6a6b6",
   "metadata": {
    "ExecuteTime": {
     "end_time": "2022-11-24T01:03:37.502006Z",
     "start_time": "2022-11-24T01:03:30.390011Z"
    },
    "scrolled": true
   },
   "outputs": [],
   "source": [
    "#dropping busiest_day column\n",
    "df_ords_prods_merged = df_ords_prods_merged.drop(columns = ['busiest_day', 'busiest day'])"
   ]
  },
  {
   "cell_type": "code",
   "execution_count": 72,
   "id": "c52dfb8f",
   "metadata": {
    "ExecuteTime": {
     "end_time": "2022-11-24T01:16:32.065014Z",
     "start_time": "2022-11-24T01:16:31.490860Z"
    }
   },
   "outputs": [],
   "source": [
    "# creat column for Busiest Days variable\n",
    "df_ords_prods_merged['Busiest Days'] = result"
   ]
  },
  {
   "cell_type": "code",
   "execution_count": 73,
   "id": "4d20725a",
   "metadata": {
    "ExecuteTime": {
     "end_time": "2022-11-24T01:16:39.588041Z",
     "start_time": "2022-11-24T01:16:39.566040Z"
    },
    "scrolled": true
   },
   "outputs": [
    {
     "data": {
      "text/html": [
       "<div>\n",
       "<style scoped>\n",
       "    .dataframe tbody tr th:only-of-type {\n",
       "        vertical-align: middle;\n",
       "    }\n",
       "\n",
       "    .dataframe tbody tr th {\n",
       "        vertical-align: top;\n",
       "    }\n",
       "\n",
       "    .dataframe thead th {\n",
       "        text-align: right;\n",
       "    }\n",
       "</style>\n",
       "<table border=\"1\" class=\"dataframe\">\n",
       "  <thead>\n",
       "    <tr style=\"text-align: right;\">\n",
       "      <th></th>\n",
       "      <th>Unnamed: 0_x</th>\n",
       "      <th>order_id</th>\n",
       "      <th>user_id</th>\n",
       "      <th>order_number</th>\n",
       "      <th>order_day_of_week</th>\n",
       "      <th>order_hour_of_day</th>\n",
       "      <th>days_since_last_order</th>\n",
       "      <th>product_id</th>\n",
       "      <th>add_to_cart_order</th>\n",
       "      <th>reordered</th>\n",
       "      <th>Unnamed: 0_y</th>\n",
       "      <th>product_name</th>\n",
       "      <th>aisle_id</th>\n",
       "      <th>department_id</th>\n",
       "      <th>prices</th>\n",
       "      <th>price_range_loc</th>\n",
       "      <th>Busiest Days</th>\n",
       "    </tr>\n",
       "  </thead>\n",
       "  <tbody>\n",
       "    <tr>\n",
       "      <th>0</th>\n",
       "      <td>0</td>\n",
       "      <td>2539329</td>\n",
       "      <td>1</td>\n",
       "      <td>1</td>\n",
       "      <td>2</td>\n",
       "      <td>8</td>\n",
       "      <td>NaN</td>\n",
       "      <td>196</td>\n",
       "      <td>1</td>\n",
       "      <td>0</td>\n",
       "      <td>195</td>\n",
       "      <td>Soda</td>\n",
       "      <td>77</td>\n",
       "      <td>7</td>\n",
       "      <td>9.0</td>\n",
       "      <td>Mid-Range Product</td>\n",
       "      <td>Regularly Busy</td>\n",
       "    </tr>\n",
       "    <tr>\n",
       "      <th>1</th>\n",
       "      <td>1</td>\n",
       "      <td>2398795</td>\n",
       "      <td>1</td>\n",
       "      <td>2</td>\n",
       "      <td>3</td>\n",
       "      <td>7</td>\n",
       "      <td>15.0</td>\n",
       "      <td>196</td>\n",
       "      <td>1</td>\n",
       "      <td>1</td>\n",
       "      <td>195</td>\n",
       "      <td>Soda</td>\n",
       "      <td>77</td>\n",
       "      <td>7</td>\n",
       "      <td>9.0</td>\n",
       "      <td>Mid-Range Product</td>\n",
       "      <td>Least Busy</td>\n",
       "    </tr>\n",
       "    <tr>\n",
       "      <th>2</th>\n",
       "      <td>2</td>\n",
       "      <td>473747</td>\n",
       "      <td>1</td>\n",
       "      <td>3</td>\n",
       "      <td>3</td>\n",
       "      <td>12</td>\n",
       "      <td>21.0</td>\n",
       "      <td>196</td>\n",
       "      <td>1</td>\n",
       "      <td>1</td>\n",
       "      <td>195</td>\n",
       "      <td>Soda</td>\n",
       "      <td>77</td>\n",
       "      <td>7</td>\n",
       "      <td>9.0</td>\n",
       "      <td>Mid-Range Product</td>\n",
       "      <td>Least Busy</td>\n",
       "    </tr>\n",
       "    <tr>\n",
       "      <th>3</th>\n",
       "      <td>3</td>\n",
       "      <td>2254736</td>\n",
       "      <td>1</td>\n",
       "      <td>4</td>\n",
       "      <td>4</td>\n",
       "      <td>7</td>\n",
       "      <td>29.0</td>\n",
       "      <td>196</td>\n",
       "      <td>1</td>\n",
       "      <td>1</td>\n",
       "      <td>195</td>\n",
       "      <td>Soda</td>\n",
       "      <td>77</td>\n",
       "      <td>7</td>\n",
       "      <td>9.0</td>\n",
       "      <td>Mid-Range Product</td>\n",
       "      <td>Least Busy</td>\n",
       "    </tr>\n",
       "    <tr>\n",
       "      <th>4</th>\n",
       "      <td>4</td>\n",
       "      <td>431534</td>\n",
       "      <td>1</td>\n",
       "      <td>5</td>\n",
       "      <td>4</td>\n",
       "      <td>15</td>\n",
       "      <td>28.0</td>\n",
       "      <td>196</td>\n",
       "      <td>1</td>\n",
       "      <td>1</td>\n",
       "      <td>195</td>\n",
       "      <td>Soda</td>\n",
       "      <td>77</td>\n",
       "      <td>7</td>\n",
       "      <td>9.0</td>\n",
       "      <td>Mid-Range Product</td>\n",
       "      <td>Least Busy</td>\n",
       "    </tr>\n",
       "  </tbody>\n",
       "</table>\n",
       "</div>"
      ],
      "text/plain": [
       "   Unnamed: 0_x  order_id  user_id  order_number  order_day_of_week  \\\n",
       "0             0   2539329        1             1                  2   \n",
       "1             1   2398795        1             2                  3   \n",
       "2             2    473747        1             3                  3   \n",
       "3             3   2254736        1             4                  4   \n",
       "4             4    431534        1             5                  4   \n",
       "\n",
       "   order_hour_of_day  days_since_last_order  product_id  add_to_cart_order  \\\n",
       "0                  8                    NaN         196                  1   \n",
       "1                  7                   15.0         196                  1   \n",
       "2                 12                   21.0         196                  1   \n",
       "3                  7                   29.0         196                  1   \n",
       "4                 15                   28.0         196                  1   \n",
       "\n",
       "   reordered  Unnamed: 0_y product_name  aisle_id  department_id  prices  \\\n",
       "0          0           195         Soda        77              7     9.0   \n",
       "1          1           195         Soda        77              7     9.0   \n",
       "2          1           195         Soda        77              7     9.0   \n",
       "3          1           195         Soda        77              7     9.0   \n",
       "4          1           195         Soda        77              7     9.0   \n",
       "\n",
       "     price_range_loc    Busiest Days  \n",
       "0  Mid-Range Product  Regularly Busy  \n",
       "1  Mid-Range Product      Least Busy  \n",
       "2  Mid-Range Product      Least Busy  \n",
       "3  Mid-Range Product      Least Busy  \n",
       "4  Mid-Range Product      Least Busy  "
      ]
     },
     "execution_count": 73,
     "metadata": {},
     "output_type": "execute_result"
    }
   ],
   "source": [
    "df_ords_prods_merged.head()"
   ]
  },
  {
   "cell_type": "code",
   "execution_count": 74,
   "id": "2f048d54",
   "metadata": {
    "ExecuteTime": {
     "end_time": "2022-11-24T01:16:45.456026Z",
     "start_time": "2022-11-24T01:16:44.641832Z"
    }
   },
   "outputs": [
    {
     "data": {
      "text/plain": [
       "Regularly Busy    12916111\n",
       "Busiest Day       11864412\n",
       "Least Busy         7624336\n",
       "Name: Busiest Days, dtype: int64"
      ]
     },
     "execution_count": 74,
     "metadata": {},
     "output_type": "execute_result"
    }
   ],
   "source": [
    "df_ords_prods_merged['Busiest Days'].value_counts()"
   ]
  },
  {
   "cell_type": "markdown",
   "id": "999023fc",
   "metadata": {},
   "source": [
    "# 07. Creating Busiest Period of Day Column"
   ]
  },
  {
   "cell_type": "code",
   "execution_count": 75,
   "id": "f4b4b1b0",
   "metadata": {
    "ExecuteTime": {
     "end_time": "2022-11-24T01:18:26.718548Z",
     "start_time": "2022-11-24T01:18:26.540544Z"
    }
   },
   "outputs": [
    {
     "data": {
      "text/plain": [
       "10    2761760\n",
       "11    2736140\n",
       "14    2689136\n",
       "15    2662144\n",
       "13    2660954\n",
       "12    2618532\n",
       "16    2535202\n",
       "9     2454203\n",
       "17    2087654\n",
       "8     1718118\n",
       "18    1636502\n",
       "19    1258305\n",
       "20     976156\n",
       "7      891054\n",
       "21     795637\n",
       "22     634225\n",
       "23     402316\n",
       "6      290493\n",
       "0      218769\n",
       "1      115700\n",
       "5       87961\n",
       "2       69375\n",
       "4       53242\n",
       "3       51281\n",
       "Name: order_hour_of_day, dtype: int64"
      ]
     },
     "execution_count": 75,
     "metadata": {},
     "output_type": "execute_result"
    }
   ],
   "source": [
    "# checking busiest hours of day\n",
    "df_ords_prods_merged['order_hour_of_day'].value_counts()"
   ]
  },
  {
   "cell_type": "code",
   "execution_count": 76,
   "id": "8c355f11",
   "metadata": {
    "ExecuteTime": {
     "end_time": "2022-11-24T01:25:47.332293Z",
     "start_time": "2022-11-24T01:25:41.473178Z"
    }
   },
   "outputs": [],
   "source": [
    "# Creating loop to derive busiest_period_of_day variable\n",
    "result = []\n",
    "\n",
    "for value in df_ords_prods_merged['order_hour_of_day']:\n",
    "    if value in [10, 11, 14, 15, 13, 12, 16, 9]:\n",
    "        result.append(\"Most Orders\")\n",
    "    elif value in [17, 8, 18, 19, 20, 7, 21, 22]:\n",
    "        result.append(\"Average Orders\")\n",
    "    else:\n",
    "        result.append(\"Fewest Orders\")"
   ]
  },
  {
   "cell_type": "code",
   "execution_count": 77,
   "id": "fa43fb84",
   "metadata": {
    "ExecuteTime": {
     "end_time": "2022-11-24T01:26:09.831268Z",
     "start_time": "2022-11-24T01:26:09.210191Z"
    }
   },
   "outputs": [],
   "source": [
    "#Adding column to data frame\n",
    "df_ords_prods_merged['busiest_period_of_day'] = result"
   ]
  },
  {
   "cell_type": "code",
   "execution_count": 79,
   "id": "2c8712db",
   "metadata": {
    "ExecuteTime": {
     "end_time": "2022-11-24T01:26:51.777541Z",
     "start_time": "2022-11-24T01:26:50.966541Z"
    }
   },
   "outputs": [
    {
     "data": {
      "text/plain": [
       "Most Orders       21118071\n",
       "Average Orders     9997651\n",
       "Fewest Orders      1289137\n",
       "Name: busiest_period_of_day, dtype: int64"
      ]
     },
     "execution_count": 79,
     "metadata": {},
     "output_type": "execute_result"
    }
   ],
   "source": [
    "#checking values of new column\n",
    "df_ords_prods_merged['busiest_period_of_day'].value_counts()"
   ]
  },
  {
   "cell_type": "code",
   "execution_count": 80,
   "id": "9ec03b1e",
   "metadata": {
    "ExecuteTime": {
     "end_time": "2022-11-24T03:20:22.223176Z",
     "start_time": "2022-11-24T03:20:10.643960Z"
    }
   },
   "outputs": [],
   "source": [
    "#exporting dataframe to pickle file\n",
    "df_ords_prods_merged.to_pickle(os.path.join(path, '02 Data', 'Prepared Data', 'orders_products_derived.pkl'))"
   ]
  },
  {
   "cell_type": "code",
   "execution_count": null,
   "id": "7f0af4a1",
   "metadata": {},
   "outputs": [],
   "source": []
  }
 ],
 "metadata": {
  "kernelspec": {
   "display_name": "Python 3 (ipykernel)",
   "language": "python",
   "name": "python3"
  },
  "language_info": {
   "codemirror_mode": {
    "name": "ipython",
    "version": 3
   },
   "file_extension": ".py",
   "mimetype": "text/x-python",
   "name": "python",
   "nbconvert_exporter": "python",
   "pygments_lexer": "ipython3",
   "version": "3.9.13"
  },
  "varInspector": {
   "cols": {
    "lenName": 16,
    "lenType": 16,
    "lenVar": 40
   },
   "kernels_config": {
    "python": {
     "delete_cmd_postfix": "",
     "delete_cmd_prefix": "del ",
     "library": "var_list.py",
     "varRefreshCmd": "print(var_dic_list())"
    },
    "r": {
     "delete_cmd_postfix": ") ",
     "delete_cmd_prefix": "rm(",
     "library": "var_list.r",
     "varRefreshCmd": "cat(var_dic_list()) "
    }
   },
   "types_to_exclude": [
    "module",
    "function",
    "builtin_function_or_method",
    "instance",
    "_Feature"
   ],
   "window_display": false
  }
 },
 "nbformat": 4,
 "nbformat_minor": 5
}

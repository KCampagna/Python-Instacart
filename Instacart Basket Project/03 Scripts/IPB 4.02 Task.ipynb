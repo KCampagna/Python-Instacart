{
 "cells": [
  {
   "cell_type": "markdown",
   "id": "10f605ef",
   "metadata": {},
   "source": [
    "# 01. Import Libraries"
   ]
  },
  {
   "cell_type": "code",
   "execution_count": 1,
   "id": "3d746052",
   "metadata": {},
   "outputs": [],
   "source": [
    "# Import libraries\n",
    "import pandas as pd\n",
    "import numpy as np\n",
    "import os"
   ]
  },
  {
   "cell_type": "markdown",
   "id": "8148020b",
   "metadata": {},
   "source": [
    "# 01. Working With Python Data Types"
   ]
  },
  {
   "cell_type": "code",
   "execution_count": 2,
   "id": "daf290be",
   "metadata": {},
   "outputs": [],
   "source": [
    "x = 50"
   ]
  },
  {
   "cell_type": "code",
   "execution_count": 3,
   "id": "33d19056",
   "metadata": {},
   "outputs": [
    {
     "data": {
      "text/plain": [
       "100"
      ]
     },
     "execution_count": 3,
     "metadata": {},
     "output_type": "execute_result"
    }
   ],
   "source": [
    "2 * x"
   ]
  },
  {
   "cell_type": "code",
   "execution_count": 4,
   "id": "efdcc846",
   "metadata": {},
   "outputs": [],
   "source": [
    "y = 200"
   ]
  },
  {
   "cell_type": "code",
   "execution_count": 5,
   "id": "0c27cc6e",
   "metadata": {},
   "outputs": [
    {
     "data": {
      "text/plain": [
       "100.0"
      ]
     },
     "execution_count": 5,
     "metadata": {},
     "output_type": "execute_result"
    }
   ],
   "source": [
    "y / 2"
   ]
  },
  {
   "cell_type": "code",
   "execution_count": 6,
   "id": "c0f80813",
   "metadata": {},
   "outputs": [
    {
     "data": {
      "text/plain": [
       "100"
      ]
     },
     "execution_count": 6,
     "metadata": {},
     "output_type": "execute_result"
    }
   ],
   "source": [
    "x + x"
   ]
  },
  {
   "cell_type": "code",
   "execution_count": 7,
   "id": "1294c909",
   "metadata": {},
   "outputs": [
    {
     "data": {
      "text/plain": [
       "100"
      ]
     },
     "execution_count": 7,
     "metadata": {},
     "output_type": "execute_result"
    }
   ],
   "source": [
    "y - (2 * x)"
   ]
  },
  {
   "cell_type": "code",
   "execution_count": 8,
   "id": "0b748e0e",
   "metadata": {},
   "outputs": [],
   "source": [
    "z = 3.74"
   ]
  },
  {
   "cell_type": "code",
   "execution_count": 9,
   "id": "fef34447",
   "metadata": {},
   "outputs": [],
   "source": [
    "n = 20.54"
   ]
  },
  {
   "cell_type": "code",
   "execution_count": 10,
   "id": "ff6d7c29",
   "metadata": {},
   "outputs": [
    {
     "data": {
      "text/plain": [
       "5.491978609625668"
      ]
     },
     "execution_count": 10,
     "metadata": {},
     "output_type": "execute_result"
    }
   ],
   "source": [
    "n / z"
   ]
  },
  {
   "cell_type": "code",
   "execution_count": 11,
   "id": "6e500ab0",
   "metadata": {},
   "outputs": [],
   "source": [
    "a = 'Basket'"
   ]
  },
  {
   "cell_type": "code",
   "execution_count": 12,
   "id": "d1778b0b",
   "metadata": {},
   "outputs": [],
   "source": [
    "b = 'ball'"
   ]
  },
  {
   "cell_type": "code",
   "execution_count": 13,
   "id": "ff865bd6",
   "metadata": {},
   "outputs": [
    {
     "data": {
      "text/plain": [
       "'Basketball'"
      ]
     },
     "execution_count": 13,
     "metadata": {},
     "output_type": "execute_result"
    }
   ],
   "source": [
    "a + b"
   ]
  },
  {
   "cell_type": "code",
   "execution_count": 14,
   "id": "42fac5f5",
   "metadata": {},
   "outputs": [],
   "source": [
    "i = 'I'"
   ]
  },
  {
   "cell_type": "code",
   "execution_count": 15,
   "id": "d0f03e6d",
   "metadata": {},
   "outputs": [],
   "source": [
    "m = \"made\""
   ]
  },
  {
   "cell_type": "code",
   "execution_count": 16,
   "id": "3452380a",
   "metadata": {},
   "outputs": [],
   "source": [
    "p = 'pizza!'"
   ]
  },
  {
   "cell_type": "code",
   "execution_count": 17,
   "id": "5cc0d163",
   "metadata": {},
   "outputs": [
    {
     "data": {
      "text/plain": [
       "'Imadepizza!'"
      ]
     },
     "execution_count": 17,
     "metadata": {},
     "output_type": "execute_result"
    }
   ],
   "source": [
    "i + m + p"
   ]
  },
  {
   "cell_type": "code",
   "execution_count": 18,
   "id": "d14c4499",
   "metadata": {},
   "outputs": [],
   "source": [
    "i = 'I '"
   ]
  },
  {
   "cell_type": "code",
   "execution_count": 19,
   "id": "4cbe6130",
   "metadata": {},
   "outputs": [],
   "source": [
    "m = 'made '"
   ]
  },
  {
   "cell_type": "code",
   "execution_count": 20,
   "id": "0acaee55",
   "metadata": {},
   "outputs": [],
   "source": [
    "p = 'pizza!'"
   ]
  },
  {
   "cell_type": "code",
   "execution_count": 21,
   "id": "99280fee",
   "metadata": {},
   "outputs": [
    {
     "data": {
      "text/plain": [
       "'I made pizza!'"
      ]
     },
     "execution_count": 21,
     "metadata": {},
     "output_type": "execute_result"
    }
   ],
   "source": [
    "i + m + p"
   ]
  },
  {
   "cell_type": "code",
   "execution_count": 22,
   "id": "c202b9c0",
   "metadata": {},
   "outputs": [],
   "source": [
    "l = 'love'"
   ]
  },
  {
   "cell_type": "code",
   "execution_count": 23,
   "id": "2d88bb07",
   "metadata": {},
   "outputs": [],
   "source": [
    "l = 'love '"
   ]
  },
  {
   "cell_type": "code",
   "execution_count": 24,
   "id": "9e5afa01",
   "metadata": {},
   "outputs": [],
   "source": [
    "e = '!'"
   ]
  },
  {
   "cell_type": "code",
   "execution_count": 25,
   "id": "96b1bcd7",
   "metadata": {},
   "outputs": [
    {
     "data": {
      "text/plain": [
       "'I love Basketball!'"
      ]
     },
     "execution_count": 25,
     "metadata": {},
     "output_type": "execute_result"
    }
   ],
   "source": [
    "i + l + (a+b) + e"
   ]
  },
  {
   "cell_type": "code",
   "execution_count": 26,
   "id": "d2ed660d",
   "metadata": {},
   "outputs": [
    {
     "data": {
      "text/plain": [
       "'love love love love love love love love love love love love love love love love love love love love love love love love love love love love love love love love love love love love love love love love love love love love love love love love love love love love love love love love love love love love love love love love love love love love love love love love love love love love love love love love love love love love love love love love love love love love love love love love love love love love '"
      ]
     },
     "execution_count": 26,
     "metadata": {},
     "output_type": "execute_result"
    }
   ],
   "source": [
    "l * 100"
   ]
  },
  {
   "cell_type": "code",
   "execution_count": null,
   "id": "c924c79f",
   "metadata": {},
   "outputs": [],
   "source": []
  }
 ],
 "metadata": {
  "kernelspec": {
   "display_name": "Python 3 (ipykernel)",
   "language": "python",
   "name": "python3"
  },
  "language_info": {
   "codemirror_mode": {
    "name": "ipython",
    "version": 3
   },
   "file_extension": ".py",
   "mimetype": "text/x-python",
   "name": "python",
   "nbconvert_exporter": "python",
   "pygments_lexer": "ipython3",
   "version": "3.9.13"
  }
 },
 "nbformat": 4,
 "nbformat_minor": 5
}

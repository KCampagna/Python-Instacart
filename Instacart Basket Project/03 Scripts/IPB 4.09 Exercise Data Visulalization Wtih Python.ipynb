{
 "cells": [
  {
   "cell_type": "markdown",
   "id": "c22f5717",
   "metadata": {},
   "source": [
    "# 01. Import Libraries"
   ]
  },
  {
   "cell_type": "code",
   "execution_count": 1,
   "id": "ce7f6cea",
   "metadata": {
    "ExecuteTime": {
     "end_time": "2022-11-30T22:37:41.635094Z",
     "start_time": "2022-11-30T22:37:33.113896Z"
    }
   },
   "outputs": [],
   "source": [
    "# Import libraries\n",
    "import pandas as pd\n",
    "import numpy as np\n",
    "import os\n",
    "import matplotlib.pyplot as plt\n",
    "import seaborn as sns\n",
    "import scipy"
   ]
  },
  {
   "cell_type": "markdown",
   "id": "bfbf69f1",
   "metadata": {},
   "source": [
    "# 02. Import Dataframe"
   ]
  },
  {
   "cell_type": "code",
   "execution_count": 2,
   "id": "83e96d0e",
   "metadata": {
    "ExecuteTime": {
     "end_time": "2022-11-30T22:39:12.355162Z",
     "start_time": "2022-11-30T22:39:12.340170Z"
    }
   },
   "outputs": [],
   "source": [
    "# Set file path\n",
    "path = r'C:\\Users\\Campa\\Data Projects\\Instacart Basket Project'"
   ]
  },
  {
   "cell_type": "code",
   "execution_count": 5,
   "id": "dd32fe14",
   "metadata": {
    "ExecuteTime": {
     "end_time": "2022-11-30T22:42:43.513988Z",
     "start_time": "2022-11-30T22:42:28.150783Z"
    }
   },
   "outputs": [],
   "source": [
    "# Import Pickle\n",
    "ords_prods_joined = pd.read_pickle(os.path.join(path, '02 Data', 'Prepared Data', 'Ords_prod_merged_11262022.pkl'))"
   ]
  },
  {
   "cell_type": "code",
   "execution_count": 6,
   "id": "66748379",
   "metadata": {
    "ExecuteTime": {
     "end_time": "2022-11-30T22:44:27.490547Z",
     "start_time": "2022-11-30T22:44:27.477546Z"
    }
   },
   "outputs": [],
   "source": [
    "ords_prods = ords_prods_joined"
   ]
  },
  {
   "cell_type": "code",
   "execution_count": 7,
   "id": "b5584136",
   "metadata": {
    "ExecuteTime": {
     "end_time": "2022-11-30T22:44:32.203177Z",
     "start_time": "2022-11-30T22:44:32.180994Z"
    }
   },
   "outputs": [
    {
     "data": {
      "text/plain": [
       "(32404859, 22)"
      ]
     },
     "execution_count": 7,
     "metadata": {},
     "output_type": "execute_result"
    }
   ],
   "source": [
    "# Check data frame shape\n",
    "ords_prods.shape"
   ]
  },
  {
   "cell_type": "code",
   "execution_count": 8,
   "id": "200215a2",
   "metadata": {
    "ExecuteTime": {
     "end_time": "2022-11-30T22:44:39.665795Z",
     "start_time": "2022-11-30T22:44:39.617919Z"
    }
   },
   "outputs": [
    {
     "data": {
      "text/html": [
       "<div>\n",
       "<style scoped>\n",
       "    .dataframe tbody tr th:only-of-type {\n",
       "        vertical-align: middle;\n",
       "    }\n",
       "\n",
       "    .dataframe tbody tr th {\n",
       "        vertical-align: top;\n",
       "    }\n",
       "\n",
       "    .dataframe thead th {\n",
       "        text-align: right;\n",
       "    }\n",
       "</style>\n",
       "<table border=\"1\" class=\"dataframe\">\n",
       "  <thead>\n",
       "    <tr style=\"text-align: right;\">\n",
       "      <th></th>\n",
       "      <th>Unnamed: 0_x</th>\n",
       "      <th>order_id</th>\n",
       "      <th>user_id</th>\n",
       "      <th>order_number</th>\n",
       "      <th>order_day_of_week</th>\n",
       "      <th>order_hour_of_day</th>\n",
       "      <th>days_since_last_order</th>\n",
       "      <th>product_id</th>\n",
       "      <th>add_to_cart_order</th>\n",
       "      <th>reordered</th>\n",
       "      <th>...</th>\n",
       "      <th>aisle_id</th>\n",
       "      <th>department_id</th>\n",
       "      <th>prices</th>\n",
       "      <th>price_range_loc</th>\n",
       "      <th>Busiest Days</th>\n",
       "      <th>busiest_period_of_day</th>\n",
       "      <th>max_order</th>\n",
       "      <th>loyalty_flag</th>\n",
       "      <th>Average_spending</th>\n",
       "      <th>Spending_Flag</th>\n",
       "    </tr>\n",
       "  </thead>\n",
       "  <tbody>\n",
       "    <tr>\n",
       "      <th>0</th>\n",
       "      <td>0</td>\n",
       "      <td>2539329</td>\n",
       "      <td>1</td>\n",
       "      <td>1</td>\n",
       "      <td>2</td>\n",
       "      <td>8</td>\n",
       "      <td>NaN</td>\n",
       "      <td>196</td>\n",
       "      <td>1</td>\n",
       "      <td>0</td>\n",
       "      <td>...</td>\n",
       "      <td>77</td>\n",
       "      <td>7</td>\n",
       "      <td>9.0</td>\n",
       "      <td>Mid-Range Product</td>\n",
       "      <td>Regularly Busy</td>\n",
       "      <td>Average Orders</td>\n",
       "      <td>10</td>\n",
       "      <td>New customer</td>\n",
       "      <td>6.367797</td>\n",
       "      <td>Low Spender</td>\n",
       "    </tr>\n",
       "    <tr>\n",
       "      <th>1</th>\n",
       "      <td>1</td>\n",
       "      <td>2398795</td>\n",
       "      <td>1</td>\n",
       "      <td>2</td>\n",
       "      <td>3</td>\n",
       "      <td>7</td>\n",
       "      <td>15.0</td>\n",
       "      <td>196</td>\n",
       "      <td>1</td>\n",
       "      <td>1</td>\n",
       "      <td>...</td>\n",
       "      <td>77</td>\n",
       "      <td>7</td>\n",
       "      <td>9.0</td>\n",
       "      <td>Mid-Range Product</td>\n",
       "      <td>Least Busy</td>\n",
       "      <td>Average Orders</td>\n",
       "      <td>10</td>\n",
       "      <td>New customer</td>\n",
       "      <td>6.367797</td>\n",
       "      <td>Low Spender</td>\n",
       "    </tr>\n",
       "    <tr>\n",
       "      <th>2</th>\n",
       "      <td>2</td>\n",
       "      <td>473747</td>\n",
       "      <td>1</td>\n",
       "      <td>3</td>\n",
       "      <td>3</td>\n",
       "      <td>12</td>\n",
       "      <td>21.0</td>\n",
       "      <td>196</td>\n",
       "      <td>1</td>\n",
       "      <td>1</td>\n",
       "      <td>...</td>\n",
       "      <td>77</td>\n",
       "      <td>7</td>\n",
       "      <td>9.0</td>\n",
       "      <td>Mid-Range Product</td>\n",
       "      <td>Least Busy</td>\n",
       "      <td>Most Orders</td>\n",
       "      <td>10</td>\n",
       "      <td>New customer</td>\n",
       "      <td>6.367797</td>\n",
       "      <td>Low Spender</td>\n",
       "    </tr>\n",
       "    <tr>\n",
       "      <th>3</th>\n",
       "      <td>3</td>\n",
       "      <td>2254736</td>\n",
       "      <td>1</td>\n",
       "      <td>4</td>\n",
       "      <td>4</td>\n",
       "      <td>7</td>\n",
       "      <td>29.0</td>\n",
       "      <td>196</td>\n",
       "      <td>1</td>\n",
       "      <td>1</td>\n",
       "      <td>...</td>\n",
       "      <td>77</td>\n",
       "      <td>7</td>\n",
       "      <td>9.0</td>\n",
       "      <td>Mid-Range Product</td>\n",
       "      <td>Least Busy</td>\n",
       "      <td>Average Orders</td>\n",
       "      <td>10</td>\n",
       "      <td>New customer</td>\n",
       "      <td>6.367797</td>\n",
       "      <td>Low Spender</td>\n",
       "    </tr>\n",
       "    <tr>\n",
       "      <th>4</th>\n",
       "      <td>4</td>\n",
       "      <td>431534</td>\n",
       "      <td>1</td>\n",
       "      <td>5</td>\n",
       "      <td>4</td>\n",
       "      <td>15</td>\n",
       "      <td>28.0</td>\n",
       "      <td>196</td>\n",
       "      <td>1</td>\n",
       "      <td>1</td>\n",
       "      <td>...</td>\n",
       "      <td>77</td>\n",
       "      <td>7</td>\n",
       "      <td>9.0</td>\n",
       "      <td>Mid-Range Product</td>\n",
       "      <td>Least Busy</td>\n",
       "      <td>Most Orders</td>\n",
       "      <td>10</td>\n",
       "      <td>New customer</td>\n",
       "      <td>6.367797</td>\n",
       "      <td>Low Spender</td>\n",
       "    </tr>\n",
       "  </tbody>\n",
       "</table>\n",
       "<p>5 rows × 22 columns</p>\n",
       "</div>"
      ],
      "text/plain": [
       "   Unnamed: 0_x  order_id  user_id  order_number  order_day_of_week  \\\n",
       "0             0   2539329        1             1                  2   \n",
       "1             1   2398795        1             2                  3   \n",
       "2             2    473747        1             3                  3   \n",
       "3             3   2254736        1             4                  4   \n",
       "4             4    431534        1             5                  4   \n",
       "\n",
       "   order_hour_of_day  days_since_last_order  product_id  add_to_cart_order  \\\n",
       "0                  8                    NaN         196                  1   \n",
       "1                  7                   15.0         196                  1   \n",
       "2                 12                   21.0         196                  1   \n",
       "3                  7                   29.0         196                  1   \n",
       "4                 15                   28.0         196                  1   \n",
       "\n",
       "   reordered  ...  aisle_id department_id  prices    price_range_loc  \\\n",
       "0          0  ...        77             7     9.0  Mid-Range Product   \n",
       "1          1  ...        77             7     9.0  Mid-Range Product   \n",
       "2          1  ...        77             7     9.0  Mid-Range Product   \n",
       "3          1  ...        77             7     9.0  Mid-Range Product   \n",
       "4          1  ...        77             7     9.0  Mid-Range Product   \n",
       "\n",
       "     Busiest Days busiest_period_of_day max_order  loyalty_flag  \\\n",
       "0  Regularly Busy        Average Orders        10  New customer   \n",
       "1      Least Busy        Average Orders        10  New customer   \n",
       "2      Least Busy           Most Orders        10  New customer   \n",
       "3      Least Busy        Average Orders        10  New customer   \n",
       "4      Least Busy           Most Orders        10  New customer   \n",
       "\n",
       "   Average_spending Spending_Flag  \n",
       "0          6.367797   Low Spender  \n",
       "1          6.367797   Low Spender  \n",
       "2          6.367797   Low Spender  \n",
       "3          6.367797   Low Spender  \n",
       "4          6.367797   Low Spender  \n",
       "\n",
       "[5 rows x 22 columns]"
      ]
     },
     "execution_count": 8,
     "metadata": {},
     "output_type": "execute_result"
    }
   ],
   "source": [
    "ords_prods.head()"
   ]
  },
  {
   "cell_type": "markdown",
   "id": "8abba77a",
   "metadata": {},
   "source": [
    "# 03. Creating Bar Charts"
   ]
  },
  {
   "cell_type": "code",
   "execution_count": 12,
   "id": "2e0afe78",
   "metadata": {
    "ExecuteTime": {
     "end_time": "2022-11-30T22:47:05.196652Z",
     "start_time": "2022-11-30T22:47:04.659236Z"
    }
   },
   "outputs": [
    {
     "data": {
      "text/plain": [
       "<AxesSubplot:>"
      ]
     },
     "execution_count": 12,
     "metadata": {},
     "output_type": "execute_result"
    },
    {
     "data": {
      "image/png": "[encoded data removed]",
      "text/plain": [
       "<Figure size 640x480 with 1 Axes>"
      ]
     },
     "metadata": {},
     "output_type": "display_data"
    }
   ],
   "source": [
    "# Creat a bar chart\n",
    "ords_prods['order_day_of_week'].value_counts().plot.bar()"
   ]
  },
  {
   "cell_type": "code",
   "execution_count": 13,
   "id": "eb0c7d8c",
   "metadata": {
    "ExecuteTime": {
     "end_time": "2022-11-30T22:50:16.596169Z",
     "start_time": "2022-11-30T22:50:16.308036Z"
    }
   },
   "outputs": [
    {
     "data": {
      "image/png": "[encoded data removed]",
      "text/plain": [
       "<Figure size 640x480 with 1 Axes>"
      ]
     },
     "metadata": {},
     "output_type": "display_data"
    }
   ],
   "source": [
    "bar = ords_prods['order_day_of_week'].value_counts().sort_index().plot.bar()"
   ]
  },
  {
   "cell_type": "code",
   "execution_count": 15,
   "id": "973fe3f0",
   "metadata": {
    "ExecuteTime": {
     "end_time": "2022-11-30T22:54:43.080569Z",
     "start_time": "2022-11-30T22:54:42.803118Z"
    }
   },
   "outputs": [
    {
     "data": {
      "image/png": "[encoded data removed]",
      "text/plain": [
       "<Figure size 640x480 with 1 Axes>"
      ]
     },
     "metadata": {},
     "output_type": "display_data"
    }
   ],
   "source": [
    "bar = ords_prods['order_day_of_week'].value_counts().plot.bar(color =['purple', 'red', 'pink', 'orange', 'yellow', 'green', 'blue'])\n",
    "                                                                    "
   ]
  },
  {
   "cell_type": "code",
   "execution_count": 17,
   "id": "5c0a6958",
   "metadata": {
    "ExecuteTime": {
     "end_time": "2022-11-30T22:56:33.508668Z",
     "start_time": "2022-11-30T22:56:33.472891Z"
    }
   },
   "outputs": [],
   "source": [
    "# Exporting bar chart\n",
    "bar.figure.savefig(os.path.join(path, '04 Analysis', 'Visualizations', 'bar_orders_dow.png'))"
   ]
  },
  {
   "cell_type": "markdown",
   "id": "fc7b5dea",
   "metadata": {},
   "source": [
    "# 04. Creating Histograms and Scatterplots"
   ]
  },
  {
   "cell_type": "code",
   "execution_count": 18,
   "id": "ef43fb6d",
   "metadata": {
    "ExecuteTime": {
     "end_time": "2022-11-30T22:58:04.216732Z",
     "start_time": "2022-11-30T22:58:02.180832Z"
    }
   },
   "outputs": [
    {
     "data": {
      "text/plain": [
       "<AxesSubplot:ylabel='Frequency'>"
      ]
     },
     "execution_count": 18,
     "metadata": {},
     "output_type": "execute_result"
    },
    {
     "data": {
      "image/png": "[encoded data removed]",
      "text/plain": [
       "<Figure size 640x480 with 1 Axes>"
      ]
     },
     "metadata": {},
     "output_type": "display_data"
    }
   ],
   "source": [
    "# creat price histogram\n",
    "ords_prods['prices'].plot.hist(bins = 25)"
   ]
  },
  {
   "cell_type": "code",
   "execution_count": 19,
   "id": "453ad737",
   "metadata": {
    "ExecuteTime": {
     "end_time": "2022-11-30T22:59:07.786832Z",
     "start_time": "2022-11-30T22:59:07.166454Z"
    }
   },
   "outputs": [
    {
     "data": {
      "text/plain": [
       "count    3.240486e+07\n",
       "mean     1.198023e+01\n",
       "std      4.956554e+02\n",
       "min      1.000000e+00\n",
       "25%      4.200000e+00\n",
       "50%      7.400000e+00\n",
       "75%      1.130000e+01\n",
       "max      9.999900e+04\n",
       "Name: prices, dtype: float64"
      ]
     },
     "execution_count": 19,
     "metadata": {},
     "output_type": "execute_result"
    }
   ],
   "source": [
    "ords_prods['prices'].describe()"
   ]
  },
  {
   "cell_type": "code",
   "execution_count": 22,
   "id": "cbe5ccfd",
   "metadata": {
    "ExecuteTime": {
     "end_time": "2022-11-30T23:07:28.257086Z",
     "start_time": "2022-11-30T23:06:35.758667Z"
    }
   },
   "outputs": [
    {
     "data": {
      "text/plain": [
       "<AxesSubplot:xlabel='prices', ylabel='prices'>"
      ]
     },
     "execution_count": 22,
     "metadata": {},
     "output_type": "execute_result"
    },
    {
     "data": {
      "image/png": "[encoded data removed]",
      "text/plain": [
       "<Figure size 640x480 with 1 Axes>"
      ]
     },
     "metadata": {},
     "output_type": "display_data"
    }
   ],
   "source": [
    "#Creating scatterplot of prices\n",
    "sns.scatterplot(x = 'prices', y = 'prices',data = ords_prods)"
   ]
  },
  {
   "cell_type": "code",
   "execution_count": 23,
   "id": "1b2fb3cd",
   "metadata": {
    "ExecuteTime": {
     "end_time": "2022-11-30T23:08:06.414525Z",
     "start_time": "2022-11-30T23:08:04.755658Z"
    }
   },
   "outputs": [
    {
     "data": {
      "text/html": [
       "<div>\n",
       "<style scoped>\n",
       "    .dataframe tbody tr th:only-of-type {\n",
       "        vertical-align: middle;\n",
       "    }\n",
       "\n",
       "    .dataframe tbody tr th {\n",
       "        vertical-align: top;\n",
       "    }\n",
       "\n",
       "    .dataframe thead th {\n",
       "        text-align: right;\n",
       "    }\n",
       "</style>\n",
       "<table border=\"1\" class=\"dataframe\">\n",
       "  <thead>\n",
       "    <tr style=\"text-align: right;\">\n",
       "      <th></th>\n",
       "      <th>Unnamed: 0_x</th>\n",
       "      <th>order_id</th>\n",
       "      <th>user_id</th>\n",
       "      <th>order_number</th>\n",
       "      <th>order_day_of_week</th>\n",
       "      <th>order_hour_of_day</th>\n",
       "      <th>days_since_last_order</th>\n",
       "      <th>product_id</th>\n",
       "      <th>add_to_cart_order</th>\n",
       "      <th>reordered</th>\n",
       "      <th>...</th>\n",
       "      <th>aisle_id</th>\n",
       "      <th>department_id</th>\n",
       "      <th>prices</th>\n",
       "      <th>price_range_loc</th>\n",
       "      <th>Busiest Days</th>\n",
       "      <th>busiest_period_of_day</th>\n",
       "      <th>max_order</th>\n",
       "      <th>loyalty_flag</th>\n",
       "      <th>Average_spending</th>\n",
       "      <th>Spending_Flag</th>\n",
       "    </tr>\n",
       "  </thead>\n",
       "  <tbody>\n",
       "    <tr>\n",
       "      <th>10030345</th>\n",
       "      <td>171</td>\n",
       "      <td>912404</td>\n",
       "      <td>17</td>\n",
       "      <td>12</td>\n",
       "      <td>2</td>\n",
       "      <td>14</td>\n",
       "      <td>5.0</td>\n",
       "      <td>21553</td>\n",
       "      <td>5</td>\n",
       "      <td>0</td>\n",
       "      <td>...</td>\n",
       "      <td>108</td>\n",
       "      <td>16</td>\n",
       "      <td>14900.0</td>\n",
       "      <td>High-Range Product</td>\n",
       "      <td>Regularly Busy</td>\n",
       "      <td>Most Orders</td>\n",
       "      <td>40</td>\n",
       "      <td>Regular customer</td>\n",
       "      <td>108.648299</td>\n",
       "      <td>High Spender</td>\n",
       "    </tr>\n",
       "    <tr>\n",
       "      <th>10030346</th>\n",
       "      <td>181</td>\n",
       "      <td>603376</td>\n",
       "      <td>17</td>\n",
       "      <td>22</td>\n",
       "      <td>6</td>\n",
       "      <td>16</td>\n",
       "      <td>4.0</td>\n",
       "      <td>21553</td>\n",
       "      <td>3</td>\n",
       "      <td>1</td>\n",
       "      <td>...</td>\n",
       "      <td>108</td>\n",
       "      <td>16</td>\n",
       "      <td>14900.0</td>\n",
       "      <td>High-Range Product</td>\n",
       "      <td>Regularly Busy</td>\n",
       "      <td>Most Orders</td>\n",
       "      <td>40</td>\n",
       "      <td>Regular customer</td>\n",
       "      <td>108.648299</td>\n",
       "      <td>High Spender</td>\n",
       "    </tr>\n",
       "    <tr>\n",
       "      <th>10030347</th>\n",
       "      <td>1944</td>\n",
       "      <td>3264360</td>\n",
       "      <td>135</td>\n",
       "      <td>2</td>\n",
       "      <td>2</td>\n",
       "      <td>21</td>\n",
       "      <td>13.0</td>\n",
       "      <td>21553</td>\n",
       "      <td>6</td>\n",
       "      <td>0</td>\n",
       "      <td>...</td>\n",
       "      <td>108</td>\n",
       "      <td>16</td>\n",
       "      <td>14900.0</td>\n",
       "      <td>High-Range Product</td>\n",
       "      <td>Regularly Busy</td>\n",
       "      <td>Average Orders</td>\n",
       "      <td>4</td>\n",
       "      <td>New customer</td>\n",
       "      <td>1154.792308</td>\n",
       "      <td>High Spender</td>\n",
       "    </tr>\n",
       "    <tr>\n",
       "      <th>10030348</th>\n",
       "      <td>1945</td>\n",
       "      <td>892534</td>\n",
       "      <td>135</td>\n",
       "      <td>3</td>\n",
       "      <td>0</td>\n",
       "      <td>8</td>\n",
       "      <td>12.0</td>\n",
       "      <td>21553</td>\n",
       "      <td>3</td>\n",
       "      <td>1</td>\n",
       "      <td>...</td>\n",
       "      <td>108</td>\n",
       "      <td>16</td>\n",
       "      <td>14900.0</td>\n",
       "      <td>High-Range Product</td>\n",
       "      <td>Busiest Day</td>\n",
       "      <td>Average Orders</td>\n",
       "      <td>4</td>\n",
       "      <td>New customer</td>\n",
       "      <td>1154.792308</td>\n",
       "      <td>High Spender</td>\n",
       "    </tr>\n",
       "    <tr>\n",
       "      <th>10030349</th>\n",
       "      <td>5708</td>\n",
       "      <td>229704</td>\n",
       "      <td>342</td>\n",
       "      <td>8</td>\n",
       "      <td>1</td>\n",
       "      <td>19</td>\n",
       "      <td>30.0</td>\n",
       "      <td>21553</td>\n",
       "      <td>9</td>\n",
       "      <td>0</td>\n",
       "      <td>...</td>\n",
       "      <td>108</td>\n",
       "      <td>16</td>\n",
       "      <td>14900.0</td>\n",
       "      <td>High-Range Product</td>\n",
       "      <td>Busiest Day</td>\n",
       "      <td>Average Orders</td>\n",
       "      <td>16</td>\n",
       "      <td>Regular customer</td>\n",
       "      <td>114.426619</td>\n",
       "      <td>High Spender</td>\n",
       "    </tr>\n",
       "    <tr>\n",
       "      <th>...</th>\n",
       "      <td>...</td>\n",
       "      <td>...</td>\n",
       "      <td>...</td>\n",
       "      <td>...</td>\n",
       "      <td>...</td>\n",
       "      <td>...</td>\n",
       "      <td>...</td>\n",
       "      <td>...</td>\n",
       "      <td>...</td>\n",
       "      <td>...</td>\n",
       "      <td>...</td>\n",
       "      <td>...</td>\n",
       "      <td>...</td>\n",
       "      <td>...</td>\n",
       "      <td>...</td>\n",
       "      <td>...</td>\n",
       "      <td>...</td>\n",
       "      <td>...</td>\n",
       "      <td>...</td>\n",
       "      <td>...</td>\n",
       "      <td>...</td>\n",
       "    </tr>\n",
       "    <tr>\n",
       "      <th>29166209</th>\n",
       "      <td>3386542</td>\n",
       "      <td>2249946</td>\n",
       "      <td>204099</td>\n",
       "      <td>29</td>\n",
       "      <td>0</td>\n",
       "      <td>8</td>\n",
       "      <td>4.0</td>\n",
       "      <td>33664</td>\n",
       "      <td>1</td>\n",
       "      <td>0</td>\n",
       "      <td>...</td>\n",
       "      <td>84</td>\n",
       "      <td>16</td>\n",
       "      <td>99999.0</td>\n",
       "      <td>High-Range Product</td>\n",
       "      <td>Busiest Day</td>\n",
       "      <td>Average Orders</td>\n",
       "      <td>39</td>\n",
       "      <td>Regular customer</td>\n",
       "      <td>1106.743956</td>\n",
       "      <td>High Spender</td>\n",
       "    </tr>\n",
       "    <tr>\n",
       "      <th>29166210</th>\n",
       "      <td>3386544</td>\n",
       "      <td>2363282</td>\n",
       "      <td>204099</td>\n",
       "      <td>31</td>\n",
       "      <td>0</td>\n",
       "      <td>9</td>\n",
       "      <td>2.0</td>\n",
       "      <td>33664</td>\n",
       "      <td>1</td>\n",
       "      <td>1</td>\n",
       "      <td>...</td>\n",
       "      <td>84</td>\n",
       "      <td>16</td>\n",
       "      <td>99999.0</td>\n",
       "      <td>High-Range Product</td>\n",
       "      <td>Busiest Day</td>\n",
       "      <td>Most Orders</td>\n",
       "      <td>39</td>\n",
       "      <td>Regular customer</td>\n",
       "      <td>1106.743956</td>\n",
       "      <td>High Spender</td>\n",
       "    </tr>\n",
       "    <tr>\n",
       "      <th>29166211</th>\n",
       "      <td>3391313</td>\n",
       "      <td>3181945</td>\n",
       "      <td>204395</td>\n",
       "      <td>13</td>\n",
       "      <td>3</td>\n",
       "      <td>15</td>\n",
       "      <td>8.0</td>\n",
       "      <td>33664</td>\n",
       "      <td>25</td>\n",
       "      <td>0</td>\n",
       "      <td>...</td>\n",
       "      <td>84</td>\n",
       "      <td>16</td>\n",
       "      <td>99999.0</td>\n",
       "      <td>High-Range Product</td>\n",
       "      <td>Least Busy</td>\n",
       "      <td>Most Orders</td>\n",
       "      <td>15</td>\n",
       "      <td>Regular customer</td>\n",
       "      <td>451.153540</td>\n",
       "      <td>High Spender</td>\n",
       "    </tr>\n",
       "    <tr>\n",
       "      <th>29166212</th>\n",
       "      <td>3405096</td>\n",
       "      <td>2486215</td>\n",
       "      <td>205227</td>\n",
       "      <td>7</td>\n",
       "      <td>3</td>\n",
       "      <td>20</td>\n",
       "      <td>4.0</td>\n",
       "      <td>33664</td>\n",
       "      <td>8</td>\n",
       "      <td>0</td>\n",
       "      <td>...</td>\n",
       "      <td>84</td>\n",
       "      <td>16</td>\n",
       "      <td>99999.0</td>\n",
       "      <td>High-Range Product</td>\n",
       "      <td>Least Busy</td>\n",
       "      <td>Average Orders</td>\n",
       "      <td>12</td>\n",
       "      <td>Regular customer</td>\n",
       "      <td>1178.381871</td>\n",
       "      <td>High Spender</td>\n",
       "    </tr>\n",
       "    <tr>\n",
       "      <th>29166213</th>\n",
       "      <td>3405099</td>\n",
       "      <td>2232716</td>\n",
       "      <td>205227</td>\n",
       "      <td>10</td>\n",
       "      <td>0</td>\n",
       "      <td>11</td>\n",
       "      <td>4.0</td>\n",
       "      <td>33664</td>\n",
       "      <td>23</td>\n",
       "      <td>1</td>\n",
       "      <td>...</td>\n",
       "      <td>84</td>\n",
       "      <td>16</td>\n",
       "      <td>99999.0</td>\n",
       "      <td>High-Range Product</td>\n",
       "      <td>Busiest Day</td>\n",
       "      <td>Most Orders</td>\n",
       "      <td>12</td>\n",
       "      <td>Regular customer</td>\n",
       "      <td>1178.381871</td>\n",
       "      <td>High Spender</td>\n",
       "    </tr>\n",
       "  </tbody>\n",
       "</table>\n",
       "<p>5127 rows × 22 columns</p>\n",
       "</div>"
      ],
      "text/plain": [
       "          Unnamed: 0_x  order_id  user_id  order_number  order_day_of_week  \\\n",
       "10030345           171    912404       17            12                  2   \n",
       "10030346           181    603376       17            22                  6   \n",
       "10030347          1944   3264360      135             2                  2   \n",
       "10030348          1945    892534      135             3                  0   \n",
       "10030349          5708    229704      342             8                  1   \n",
       "...                ...       ...      ...           ...                ...   \n",
       "29166209       3386542   2249946   204099            29                  0   \n",
       "29166210       3386544   2363282   204099            31                  0   \n",
       "29166211       3391313   3181945   204395            13                  3   \n",
       "29166212       3405096   2486215   205227             7                  3   \n",
       "29166213       3405099   2232716   205227            10                  0   \n",
       "\n",
       "          order_hour_of_day  days_since_last_order  product_id  \\\n",
       "10030345                 14                    5.0       21553   \n",
       "10030346                 16                    4.0       21553   \n",
       "10030347                 21                   13.0       21553   \n",
       "10030348                  8                   12.0       21553   \n",
       "10030349                 19                   30.0       21553   \n",
       "...                     ...                    ...         ...   \n",
       "29166209                  8                    4.0       33664   \n",
       "29166210                  9                    2.0       33664   \n",
       "29166211                 15                    8.0       33664   \n",
       "29166212                 20                    4.0       33664   \n",
       "29166213                 11                    4.0       33664   \n",
       "\n",
       "          add_to_cart_order  reordered  ...  aisle_id department_id   prices  \\\n",
       "10030345                  5          0  ...       108            16  14900.0   \n",
       "10030346                  3          1  ...       108            16  14900.0   \n",
       "10030347                  6          0  ...       108            16  14900.0   \n",
       "10030348                  3          1  ...       108            16  14900.0   \n",
       "10030349                  9          0  ...       108            16  14900.0   \n",
       "...                     ...        ...  ...       ...           ...      ...   \n",
       "29166209                  1          0  ...        84            16  99999.0   \n",
       "29166210                  1          1  ...        84            16  99999.0   \n",
       "29166211                 25          0  ...        84            16  99999.0   \n",
       "29166212                  8          0  ...        84            16  99999.0   \n",
       "29166213                 23          1  ...        84            16  99999.0   \n",
       "\n",
       "             price_range_loc    Busiest Days busiest_period_of_day max_order  \\\n",
       "10030345  High-Range Product  Regularly Busy           Most Orders        40   \n",
       "10030346  High-Range Product  Regularly Busy           Most Orders        40   \n",
       "10030347  High-Range Product  Regularly Busy        Average Orders         4   \n",
       "10030348  High-Range Product     Busiest Day        Average Orders         4   \n",
       "10030349  High-Range Product     Busiest Day        Average Orders        16   \n",
       "...                      ...             ...                   ...       ...   \n",
       "29166209  High-Range Product     Busiest Day        Average Orders        39   \n",
       "29166210  High-Range Product     Busiest Day           Most Orders        39   \n",
       "29166211  High-Range Product      Least Busy           Most Orders        15   \n",
       "29166212  High-Range Product      Least Busy        Average Orders        12   \n",
       "29166213  High-Range Product     Busiest Day           Most Orders        12   \n",
       "\n",
       "              loyalty_flag  Average_spending Spending_Flag  \n",
       "10030345  Regular customer        108.648299  High Spender  \n",
       "10030346  Regular customer        108.648299  High Spender  \n",
       "10030347      New customer       1154.792308  High Spender  \n",
       "10030348      New customer       1154.792308  High Spender  \n",
       "10030349  Regular customer        114.426619  High Spender  \n",
       "...                    ...               ...           ...  \n",
       "29166209  Regular customer       1106.743956  High Spender  \n",
       "29166210  Regular customer       1106.743956  High Spender  \n",
       "29166211  Regular customer        451.153540  High Spender  \n",
       "29166212  Regular customer       1178.381871  High Spender  \n",
       "29166213  Regular customer       1178.381871  High Spender  \n",
       "\n",
       "[5127 rows x 22 columns]"
      ]
     },
     "execution_count": 23,
     "metadata": {},
     "output_type": "execute_result"
    }
   ],
   "source": [
    "#findinf outlier prices\n",
    "ords_prods.loc[ords_prods['prices'] > 100]"
   ]
  },
  {
   "cell_type": "code",
   "execution_count": 24,
   "id": "43a887f6",
   "metadata": {
    "ExecuteTime": {
     "end_time": "2022-11-30T23:09:44.701286Z",
     "start_time": "2022-11-30T23:09:44.657011Z"
    }
   },
   "outputs": [],
   "source": [
    "# marking outlier prices\n",
    "ords_prods.loc[ords_prods['prices'] > 100, 'prices'] = np.nan"
   ]
  },
  {
   "cell_type": "code",
   "execution_count": 25,
   "id": "319daf9c",
   "metadata": {
    "ExecuteTime": {
     "end_time": "2022-11-30T23:11:05.480159Z",
     "start_time": "2022-11-30T23:11:05.416932Z"
    }
   },
   "outputs": [
    {
     "data": {
      "text/plain": [
       "25.0"
      ]
     },
     "execution_count": 25,
     "metadata": {},
     "output_type": "execute_result"
    }
   ],
   "source": [
    "#testing prices range\n",
    "ords_prods['prices'].max()"
   ]
  },
  {
   "cell_type": "code",
   "execution_count": 27,
   "id": "4508fa4b",
   "metadata": {
    "ExecuteTime": {
     "end_time": "2022-11-30T23:12:08.488419Z",
     "start_time": "2022-11-30T23:12:06.672908Z"
    }
   },
   "outputs": [
    {
     "data": {
      "image/png": "[encoded data removed]",
      "text/plain": [
       "<Figure size 640x480 with 1 Axes>"
      ]
     },
     "metadata": {},
     "output_type": "display_data"
    }
   ],
   "source": [
    "hist = ords_prods['prices'].plot.hist(bins = 25)"
   ]
  },
  {
   "cell_type": "code",
   "execution_count": 28,
   "id": "ca95f122",
   "metadata": {
    "ExecuteTime": {
     "end_time": "2022-11-30T23:13:10.622259Z",
     "start_time": "2022-11-30T23:13:08.787483Z"
    }
   },
   "outputs": [
    {
     "data": {
      "image/png": "[encoded data removed]",
      "text/plain": [
       "<Figure size 640x480 with 1 Axes>"
      ]
     },
     "metadata": {},
     "output_type": "display_data"
    }
   ],
   "source": [
    "hist_2 = ords_prods['prices'].plot.hist(bins = 70)"
   ]
  },
  {
   "cell_type": "code",
   "execution_count": 29,
   "id": "da8dfb9f",
   "metadata": {
    "ExecuteTime": {
     "end_time": "2022-11-30T23:14:42.804631Z",
     "start_time": "2022-11-30T23:14:42.750267Z"
    }
   },
   "outputs": [],
   "source": [
    "# Exporting histogram\n",
    "hist.figure.savefig(os.path.join(path, '04 Analysis', 'Visualizations', 'prices histogram.png'))"
   ]
  },
  {
   "cell_type": "code",
   "execution_count": 30,
   "id": "3ed063f3",
   "metadata": {
    "ExecuteTime": {
     "end_time": "2022-11-30T23:15:47.423199Z",
     "start_time": "2022-11-30T23:15:47.345031Z"
    }
   },
   "outputs": [],
   "source": [
    "hist_2.figure.savefig(os.path.join(path, '04 Analysis', 'Visualizations', 'prices histogram 2.png'))"
   ]
  },
  {
   "cell_type": "markdown",
   "id": "aee24c8d",
   "metadata": {},
   "source": [
    "# 03. Sampling Data"
   ]
  },
  {
   "cell_type": "code",
   "execution_count": 31,
   "id": "b51b808f",
   "metadata": {
    "ExecuteTime": {
     "end_time": "2022-12-01T02:59:41.162725Z",
     "start_time": "2022-12-01T02:59:40.952428Z"
    }
   },
   "outputs": [],
   "source": [
    "# Creating Seed\n",
    "np.random.seed(4)\n",
    "dev = np.random.rand(len(ords_prods)) <= 0.7"
   ]
  },
  {
   "cell_type": "code",
   "execution_count": 32,
   "id": "ec112c6c",
   "metadata": {
    "ExecuteTime": {
     "end_time": "2022-12-01T02:59:43.550490Z",
     "start_time": "2022-12-01T02:59:43.541487Z"
    }
   },
   "outputs": [
    {
     "data": {
      "text/plain": [
       "array([False,  True, False, ...,  True,  True,  True])"
      ]
     },
     "execution_count": 32,
     "metadata": {},
     "output_type": "execute_result"
    }
   ],
   "source": [
    "dev"
   ]
  },
  {
   "cell_type": "code",
   "execution_count": 33,
   "id": "4abac87e",
   "metadata": {
    "ExecuteTime": {
     "end_time": "2022-12-01T03:06:27.359828Z",
     "start_time": "2022-12-01T03:05:58.895588Z"
    }
   },
   "outputs": [],
   "source": [
    "# splitting samples big = 70% of df small = 30% of df\n",
    "big = ords_prods[dev]\n",
    "small = ords_prods[~dev]"
   ]
  },
  {
   "cell_type": "code",
   "execution_count": 34,
   "id": "52c619aa",
   "metadata": {
    "ExecuteTime": {
     "end_time": "2022-12-01T03:07:31.243441Z",
     "start_time": "2022-12-01T03:07:31.230349Z"
    }
   },
   "outputs": [
    {
     "data": {
      "text/plain": [
       "32404859"
      ]
     },
     "execution_count": 34,
     "metadata": {},
     "output_type": "execute_result"
    }
   ],
   "source": [
    "# checking samples\n",
    "len(ords_prods)"
   ]
  },
  {
   "cell_type": "code",
   "execution_count": 35,
   "id": "7f191e01",
   "metadata": {
    "ExecuteTime": {
     "end_time": "2022-12-01T03:07:39.033278Z",
     "start_time": "2022-12-01T03:07:39.013279Z"
    }
   },
   "outputs": [
    {
     "data": {
      "text/plain": [
       "32404859"
      ]
     },
     "execution_count": 35,
     "metadata": {},
     "output_type": "execute_result"
    }
   ],
   "source": [
    "len(big) + len(small)"
   ]
  },
  {
   "cell_type": "code",
   "execution_count": 36,
   "id": "5f67b7a9",
   "metadata": {
    "ExecuteTime": {
     "end_time": "2022-12-01T03:08:31.580803Z",
     "start_time": "2022-12-01T03:08:31.501802Z"
    }
   },
   "outputs": [],
   "source": [
    "#creating subset for visualization\n",
    "df_2 = small[['order_day_of_week','prices']]"
   ]
  },
  {
   "cell_type": "code",
   "execution_count": 39,
   "id": "dfc8936c",
   "metadata": {
    "ExecuteTime": {
     "end_time": "2022-12-01T03:12:17.022772Z",
     "start_time": "2022-12-01T03:10:11.811816Z"
    }
   },
   "outputs": [
    {
     "data": {
      "image/png": "[encoded data removed]",
      "text/plain": [
       "<Figure size 640x480 with 1 Axes>"
      ]
     },
     "metadata": {},
     "output_type": "display_data"
    }
   ],
   "source": [
    "# Creating line chart of prices over days of week\n",
    "line = sns.lineplot(data = df_2, x = 'order_day_of_week', y = 'prices')"
   ]
  },
  {
   "cell_type": "code",
   "execution_count": 41,
   "id": "d4bfc24d",
   "metadata": {
    "ExecuteTime": {
     "end_time": "2022-12-01T03:20:51.792849Z",
     "start_time": "2022-12-01T03:20:51.750832Z"
    }
   },
   "outputs": [],
   "source": [
    "# exporting line chart\n",
    "line.figure.savefig(os.path.join(path, '04 Analysis', 'Visualizations', 'price day of week line.png'))"
   ]
  },
  {
   "cell_type": "code",
   "execution_count": null,
   "id": "6445e508",
   "metadata": {
    "ExecuteTime": {
     "start_time": "2022-12-01T03:22:20.979Z"
    }
   },
   "outputs": [],
   "source": [
    "fullline = sns.lineplot(data = ords_prods, x = 'order_day_of_week', y = 'prices')"
   ]
  },
  {
   "cell_type": "code",
   "execution_count": null,
   "id": "ac6dc9fb",
   "metadata": {},
   "outputs": [],
   "source": []
  }
 ],
 "metadata": {
  "kernelspec": {
   "display_name": "Python 3 (ipykernel)",
   "language": "python",
   "name": "python3"
  },
  "language_info": {
   "codemirror_mode": {
    "name": "ipython",
    "version": 3
   },
   "file_extension": ".py",
   "mimetype": "text/x-python",
   "name": "python",
   "nbconvert_exporter": "python",
   "pygments_lexer": "ipython3",
   "version": "3.9.13"
  },
  "varInspector": {
   "cols": {
    "lenName": 16,
    "lenType": 16,
    "lenVar": 40
   },
   "kernels_config": {
    "python": {
     "delete_cmd_postfix": "",
     "delete_cmd_prefix": "del ",
     "library": "var_list.py",
     "varRefreshCmd": "print(var_dic_list())"
    },
    "r": {
     "delete_cmd_postfix": ") ",
     "delete_cmd_prefix": "rm(",
     "library": "var_list.r",
     "varRefreshCmd": "cat(var_dic_list()) "
    }
   },
   "types_to_exclude": [
    "module",
    "function",
    "builtin_function_or_method",
    "instance",
    "_Feature"
   ],
   "window_display": false
  }
 },
 "nbformat": 4,
 "nbformat_minor": 5
}

{
 "cells": [
  {
   "cell_type": "markdown",
   "id": "150a2ea1",
   "metadata": {},
   "source": [
    "# Contents\n",
    "01.\tImport Libraries\n",
    "02.\tImport Dataframe\n",
    "03.\tCreate a Region Variable\n",
    "04.\tCrossing Region with Spending Flag\n",
    "05.\tCreating Exclusion Flag for Low Activity Customers\n",
    "06.\tCreating Customer Profiling Variables\n",
    "07.\tCreating Visualizations of New Variables\n",
    "08.\tAggregating on Customer Level\n",
    "09.\tMapping Department Name to Department ID\n",
    "10.\tCrossing Departments with New Variables\n",
    "11.\tCrossing Days Since Last Order with New Variables\n",
    "12.\tCrossing Prices with New Variables\n",
    "13.\tCrossing Order Hour of Day with New Variables\n",
    "14.\tCrossing Loyalty Flag with New Variables\n",
    "15.\tExporting Final Data Set\n"
   ]
  },
  {
   "cell_type": "markdown",
   "id": "2bfaae15",
   "metadata": {},
   "source": [
    "# 01. Import Libraries"
   ]
  },
  {
   "cell_type": "code",
   "execution_count": 1,
   "id": "7f9f3dc3",
   "metadata": {
    "ExecuteTime": {
     "end_time": "2022-12-13T23:06:24.865018Z",
     "start_time": "2022-12-13T23:06:18.298786Z"
    }
   },
   "outputs": [],
   "source": [
    "# Import libraries\n",
    "import pandas as pd\n",
    "import numpy as np\n",
    "import os\n",
    "import matplotlib.pyplot as plt\n",
    "import seaborn as sns\n",
    "import scipy"
   ]
  },
  {
   "cell_type": "markdown",
   "id": "3c928a6d",
   "metadata": {},
   "source": [
    "# 02. Import Dataframe"
   ]
  },
  {
   "cell_type": "code",
   "execution_count": 2,
   "id": "68545bec",
   "metadata": {
    "ExecuteTime": {
     "end_time": "2022-12-13T23:06:24.880179Z",
     "start_time": "2022-12-13T23:06:24.870996Z"
    }
   },
   "outputs": [],
   "source": [
    "# Set File Path\n",
    "path = r'C:\\Users\\Campa\\Data Projects\\Instacart Basket Project'"
   ]
  },
  {
   "cell_type": "code",
   "execution_count": 3,
   "id": "8c02d3c0",
   "metadata": {
    "ExecuteTime": {
     "end_time": "2022-12-13T23:07:28.292427Z",
     "start_time": "2022-12-13T23:06:24.884886Z"
    }
   },
   "outputs": [],
   "source": [
    "# Import Cust_Ords_Prods_Merged.pkl\n",
    "cust_ords_prods = pd.read_pickle(os.path.join(path, '02 Data', 'Prepared Data', 'Cust_Ords_Prods_Merged.pkl'))"
   ]
  },
  {
   "cell_type": "code",
   "execution_count": 4,
   "id": "5f15d8d4",
   "metadata": {
    "ExecuteTime": {
     "end_time": "2022-12-13T23:07:28.414281Z",
     "start_time": "2022-12-13T23:07:28.337286Z"
    }
   },
   "outputs": [
    {
     "data": {
      "text/plain": [
       "(32404859, 31)"
      ]
     },
     "execution_count": 4,
     "metadata": {},
     "output_type": "execute_result"
    }
   ],
   "source": [
    "# Check DF shape\n",
    "cust_ords_prods.shape"
   ]
  },
  {
   "cell_type": "code",
   "execution_count": 5,
   "id": "9e7eb0e5",
   "metadata": {
    "ExecuteTime": {
     "end_time": "2022-12-13T23:07:28.586048Z",
     "start_time": "2022-12-13T23:07:28.419257Z"
    }
   },
   "outputs": [
    {
     "data": {
      "text/html": [
       "<div>\n",
       "<style scoped>\n",
       "    .dataframe tbody tr th:only-of-type {\n",
       "        vertical-align: middle;\n",
       "    }\n",
       "\n",
       "    .dataframe tbody tr th {\n",
       "        vertical-align: top;\n",
       "    }\n",
       "\n",
       "    .dataframe thead th {\n",
       "        text-align: right;\n",
       "    }\n",
       "</style>\n",
       "<table border=\"1\" class=\"dataframe\">\n",
       "  <thead>\n",
       "    <tr style=\"text-align: right;\">\n",
       "      <th></th>\n",
       "      <th>user_id</th>\n",
       "      <th>First Name</th>\n",
       "      <th>Last Name</th>\n",
       "      <th>Gender</th>\n",
       "      <th>STATE</th>\n",
       "      <th>Age</th>\n",
       "      <th>date_joined</th>\n",
       "      <th>n_dependants</th>\n",
       "      <th>Marital Status</th>\n",
       "      <th>income</th>\n",
       "      <th>...</th>\n",
       "      <th>aisle_id</th>\n",
       "      <th>department_id</th>\n",
       "      <th>prices</th>\n",
       "      <th>price_range_loc</th>\n",
       "      <th>Busiest Days</th>\n",
       "      <th>busiest_period_of_day</th>\n",
       "      <th>max_order</th>\n",
       "      <th>loyalty_flag</th>\n",
       "      <th>Average_spending</th>\n",
       "      <th>Spending_Flag</th>\n",
       "    </tr>\n",
       "  </thead>\n",
       "  <tbody>\n",
       "    <tr>\n",
       "      <th>0</th>\n",
       "      <td>26711</td>\n",
       "      <td>Deborah</td>\n",
       "      <td>Esquivel</td>\n",
       "      <td>Female</td>\n",
       "      <td>Missouri</td>\n",
       "      <td>48</td>\n",
       "      <td>1/1/2017</td>\n",
       "      <td>3</td>\n",
       "      <td>married</td>\n",
       "      <td>165665</td>\n",
       "      <td>...</td>\n",
       "      <td>77</td>\n",
       "      <td>7</td>\n",
       "      <td>9.0</td>\n",
       "      <td>Mid-Range Product</td>\n",
       "      <td>Busiest Day</td>\n",
       "      <td>Most Orders</td>\n",
       "      <td>8</td>\n",
       "      <td>New customer</td>\n",
       "      <td>7.988889</td>\n",
       "      <td>Low Spender</td>\n",
       "    </tr>\n",
       "    <tr>\n",
       "      <th>1</th>\n",
       "      <td>26711</td>\n",
       "      <td>Deborah</td>\n",
       "      <td>Esquivel</td>\n",
       "      <td>Female</td>\n",
       "      <td>Missouri</td>\n",
       "      <td>48</td>\n",
       "      <td>1/1/2017</td>\n",
       "      <td>3</td>\n",
       "      <td>married</td>\n",
       "      <td>165665</td>\n",
       "      <td>...</td>\n",
       "      <td>77</td>\n",
       "      <td>7</td>\n",
       "      <td>9.0</td>\n",
       "      <td>Mid-Range Product</td>\n",
       "      <td>Regularly Busy</td>\n",
       "      <td>Most Orders</td>\n",
       "      <td>8</td>\n",
       "      <td>New customer</td>\n",
       "      <td>7.988889</td>\n",
       "      <td>Low Spender</td>\n",
       "    </tr>\n",
       "    <tr>\n",
       "      <th>2</th>\n",
       "      <td>26711</td>\n",
       "      <td>Deborah</td>\n",
       "      <td>Esquivel</td>\n",
       "      <td>Female</td>\n",
       "      <td>Missouri</td>\n",
       "      <td>48</td>\n",
       "      <td>1/1/2017</td>\n",
       "      <td>3</td>\n",
       "      <td>married</td>\n",
       "      <td>165665</td>\n",
       "      <td>...</td>\n",
       "      <td>77</td>\n",
       "      <td>7</td>\n",
       "      <td>9.0</td>\n",
       "      <td>Mid-Range Product</td>\n",
       "      <td>Busiest Day</td>\n",
       "      <td>Most Orders</td>\n",
       "      <td>8</td>\n",
       "      <td>New customer</td>\n",
       "      <td>7.988889</td>\n",
       "      <td>Low Spender</td>\n",
       "    </tr>\n",
       "    <tr>\n",
       "      <th>3</th>\n",
       "      <td>26711</td>\n",
       "      <td>Deborah</td>\n",
       "      <td>Esquivel</td>\n",
       "      <td>Female</td>\n",
       "      <td>Missouri</td>\n",
       "      <td>48</td>\n",
       "      <td>1/1/2017</td>\n",
       "      <td>3</td>\n",
       "      <td>married</td>\n",
       "      <td>165665</td>\n",
       "      <td>...</td>\n",
       "      <td>120</td>\n",
       "      <td>16</td>\n",
       "      <td>12.6</td>\n",
       "      <td>Mid-Range Product</td>\n",
       "      <td>Regularly Busy</td>\n",
       "      <td>Most Orders</td>\n",
       "      <td>8</td>\n",
       "      <td>New customer</td>\n",
       "      <td>7.988889</td>\n",
       "      <td>Low Spender</td>\n",
       "    </tr>\n",
       "    <tr>\n",
       "      <th>4</th>\n",
       "      <td>26711</td>\n",
       "      <td>Deborah</td>\n",
       "      <td>Esquivel</td>\n",
       "      <td>Female</td>\n",
       "      <td>Missouri</td>\n",
       "      <td>48</td>\n",
       "      <td>1/1/2017</td>\n",
       "      <td>3</td>\n",
       "      <td>married</td>\n",
       "      <td>165665</td>\n",
       "      <td>...</td>\n",
       "      <td>120</td>\n",
       "      <td>16</td>\n",
       "      <td>12.6</td>\n",
       "      <td>Mid-Range Product</td>\n",
       "      <td>Least Busy</td>\n",
       "      <td>Most Orders</td>\n",
       "      <td>8</td>\n",
       "      <td>New customer</td>\n",
       "      <td>7.988889</td>\n",
       "      <td>Low Spender</td>\n",
       "    </tr>\n",
       "  </tbody>\n",
       "</table>\n",
       "<p>5 rows × 31 columns</p>\n",
       "</div>"
      ],
      "text/plain": [
       "   user_id First Name Last Name  Gender     STATE  Age date_joined  \\\n",
       "0    26711    Deborah  Esquivel  Female  Missouri   48    1/1/2017   \n",
       "1    26711    Deborah  Esquivel  Female  Missouri   48    1/1/2017   \n",
       "2    26711    Deborah  Esquivel  Female  Missouri   48    1/1/2017   \n",
       "3    26711    Deborah  Esquivel  Female  Missouri   48    1/1/2017   \n",
       "4    26711    Deborah  Esquivel  Female  Missouri   48    1/1/2017   \n",
       "\n",
       "   n_dependants Marital Status  income  ...  aisle_id  department_id  prices  \\\n",
       "0             3        married  165665  ...        77              7     9.0   \n",
       "1             3        married  165665  ...        77              7     9.0   \n",
       "2             3        married  165665  ...        77              7     9.0   \n",
       "3             3        married  165665  ...       120             16    12.6   \n",
       "4             3        married  165665  ...       120             16    12.6   \n",
       "\n",
       "     price_range_loc    Busiest Days  busiest_period_of_day  max_order  \\\n",
       "0  Mid-Range Product     Busiest Day            Most Orders          8   \n",
       "1  Mid-Range Product  Regularly Busy            Most Orders          8   \n",
       "2  Mid-Range Product     Busiest Day            Most Orders          8   \n",
       "3  Mid-Range Product  Regularly Busy            Most Orders          8   \n",
       "4  Mid-Range Product      Least Busy            Most Orders          8   \n",
       "\n",
       "   loyalty_flag  Average_spending  Spending_Flag  \n",
       "0  New customer          7.988889    Low Spender  \n",
       "1  New customer          7.988889    Low Spender  \n",
       "2  New customer          7.988889    Low Spender  \n",
       "3  New customer          7.988889    Low Spender  \n",
       "4  New customer          7.988889    Low Spender  \n",
       "\n",
       "[5 rows x 31 columns]"
      ]
     },
     "execution_count": 5,
     "metadata": {},
     "output_type": "execute_result"
    }
   ],
   "source": [
    "cust_ords_prods.head()"
   ]
  },
  {
   "cell_type": "code",
   "execution_count": 6,
   "id": "08a390e9",
   "metadata": {
    "ExecuteTime": {
     "end_time": "2022-12-13T23:07:28.617209Z",
     "start_time": "2022-12-13T23:07:28.591674Z"
    }
   },
   "outputs": [
    {
     "data": {
      "text/plain": [
       "user_id                    int64\n",
       "First Name                object\n",
       "Last Name                 object\n",
       "Gender                    object\n",
       "STATE                     object\n",
       "Age                        int64\n",
       "date_joined               object\n",
       "n_dependants               int64\n",
       "Marital Status            object\n",
       "income                     int64\n",
       "Unnamed: 0_x               int64\n",
       "order_id                   int64\n",
       "order_number               int64\n",
       "order_day_of_week          int64\n",
       "order_hour_of_day          int64\n",
       "days_since_last_order    float64\n",
       "product_id                 int64\n",
       "add_to_cart_order          int64\n",
       "reordered                  int64\n",
       "Unnamed: 0_y               int64\n",
       "product_name              object\n",
       "aisle_id                   int64\n",
       "department_id              int64\n",
       "prices                   float64\n",
       "price_range_loc           object\n",
       "Busiest Days              object\n",
       "busiest_period_of_day     object\n",
       "max_order                  int64\n",
       "loyalty_flag              object\n",
       "Average_spending         float64\n",
       "Spending_Flag             object\n",
       "dtype: object"
      ]
     },
     "execution_count": 6,
     "metadata": {},
     "output_type": "execute_result"
    }
   ],
   "source": [
    "cust_ords_prods.dtypes"
   ]
  },
  {
   "cell_type": "code",
   "execution_count": 7,
   "id": "fafaa316",
   "metadata": {
    "ExecuteTime": {
     "end_time": "2022-12-13T23:07:28.649078Z",
     "start_time": "2022-12-13T23:07:28.622003Z"
    }
   },
   "outputs": [
    {
     "data": {
      "text/plain": [
       "0    443895\n",
       "1    443897\n",
       "2    443898\n",
       "3    443892\n",
       "4    443893\n",
       "Name: Unnamed: 0_x, dtype: int64"
      ]
     },
     "execution_count": 7,
     "metadata": {},
     "output_type": "execute_result"
    }
   ],
   "source": [
    "#remove unnecessary column\n",
    "cust_ords_prods['Unnamed: 0_x'].head()"
   ]
  },
  {
   "cell_type": "code",
   "execution_count": 8,
   "id": "cfc5b45f",
   "metadata": {
    "ExecuteTime": {
     "end_time": "2022-12-13T23:08:28.695319Z",
     "start_time": "2022-12-13T23:07:28.655068Z"
    }
   },
   "outputs": [],
   "source": [
    "cust_ords_prods = cust_ords_prods.drop(columns = ['Unnamed: 0_x'])"
   ]
  },
  {
   "cell_type": "code",
   "execution_count": 9,
   "id": "3cb80a01",
   "metadata": {
    "ExecuteTime": {
     "end_time": "2022-12-13T23:08:28.771503Z",
     "start_time": "2022-12-13T23:08:28.722231Z"
    }
   },
   "outputs": [
    {
     "data": {
      "text/plain": [
       "(32404859, 30)"
      ]
     },
     "execution_count": 9,
     "metadata": {},
     "output_type": "execute_result"
    }
   ],
   "source": [
    "cust_ords_prods.shape"
   ]
  },
  {
   "cell_type": "markdown",
   "id": "311ff0ef",
   "metadata": {},
   "source": [
    "# 03. Create a Region Variable"
   ]
  },
  {
   "cell_type": "code",
   "execution_count": 10,
   "id": "f9603fce",
   "metadata": {
    "ExecuteTime": {
     "end_time": "2022-12-13T23:09:17.681002Z",
     "start_time": "2022-12-13T23:08:28.791435Z"
    }
   },
   "outputs": [],
   "source": [
    "#Create region column\n",
    "result = []\n",
    "\n",
    "for value in cust_ords_prods[\"STATE\"]:\n",
    "    if value in ['Maine', 'New Hampshire', 'Vermont', 'Massachusetts', 'Rhode Island', 'Connecticut', 'New York', 'Pennsylvania', 'New Jersey']:\n",
    "        result.append(\"Northeast\")\n",
    "    elif value in ['Wisconsin', 'Michigan', 'Illinois', 'Indiana', 'Ohio', 'North Dakota', 'South Dakota', 'Nebraska', 'Kansas', 'Minnesota', 'Iowa', 'Missouri']:\n",
    "        result.append(\"Midwest\")\n",
    "    elif value in ['Delaware', 'Maryland', 'District of Columbia', 'Virgina', 'West Virginia', 'North Carolina', 'South Carolina', 'Georgia', 'Florida', 'Kentucky', 'Tennessee', 'Mississippi', 'Alabama', 'Oklahoma', 'Texas', 'Arkansas', 'Louisiana']:\n",
    "        result.append(\"South\")\n",
    "    else:\n",
    "        result.append(\"West\")\n"
   ]
  },
  {
   "cell_type": "code",
   "execution_count": 11,
   "id": "b3116ddc",
   "metadata": {
    "ExecuteTime": {
     "end_time": "2022-12-13T23:09:20.625017Z",
     "start_time": "2022-12-13T23:09:17.686984Z"
    }
   },
   "outputs": [],
   "source": [
    "cust_ords_prods['Region'] = result"
   ]
  },
  {
   "cell_type": "code",
   "execution_count": 12,
   "id": "14efb13b",
   "metadata": {
    "ExecuteTime": {
     "end_time": "2022-12-13T23:09:24.720577Z",
     "start_time": "2022-12-13T23:09:20.630557Z"
    }
   },
   "outputs": [
    {
     "data": {
      "text/plain": [
       "South        10150464\n",
       "West          8934334\n",
       "Midwest       7597325\n",
       "Northeast     5722736\n",
       "Name: Region, dtype: int64"
      ]
     },
     "execution_count": 12,
     "metadata": {},
     "output_type": "execute_result"
    }
   ],
   "source": [
    "cust_ords_prods['Region'].value_counts()"
   ]
  },
  {
   "cell_type": "markdown",
   "id": "19bd5510",
   "metadata": {},
   "source": [
    "# 04. Crossing Region with Spending Flag"
   ]
  },
  {
   "cell_type": "code",
   "execution_count": 13,
   "id": "c73d02d8",
   "metadata": {
    "ExecuteTime": {
     "end_time": "2022-12-13T23:09:43.605227Z",
     "start_time": "2022-12-13T23:09:24.724563Z"
    }
   },
   "outputs": [],
   "source": [
    "#crossing region tag with spending tag\n",
    "crosstab = pd.crosstab(cust_ords_prods['Region'], cust_ords_prods['Spending_Flag'], dropna = False)"
   ]
  },
  {
   "cell_type": "code",
   "execution_count": 14,
   "id": "a1d789d7",
   "metadata": {
    "ExecuteTime": {
     "end_time": "2022-12-13T23:09:43.636293Z",
     "start_time": "2022-12-13T23:09:43.611797Z"
    }
   },
   "outputs": [
    {
     "data": {
      "text/html": [
       "<div>\n",
       "<style scoped>\n",
       "    .dataframe tbody tr th:only-of-type {\n",
       "        vertical-align: middle;\n",
       "    }\n",
       "\n",
       "    .dataframe tbody tr th {\n",
       "        vertical-align: top;\n",
       "    }\n",
       "\n",
       "    .dataframe thead th {\n",
       "        text-align: right;\n",
       "    }\n",
       "</style>\n",
       "<table border=\"1\" class=\"dataframe\">\n",
       "  <thead>\n",
       "    <tr style=\"text-align: right;\">\n",
       "      <th>Spending_Flag</th>\n",
       "      <th>High Spender</th>\n",
       "      <th>Low Spender</th>\n",
       "    </tr>\n",
       "    <tr>\n",
       "      <th>Region</th>\n",
       "      <th></th>\n",
       "      <th></th>\n",
       "    </tr>\n",
       "  </thead>\n",
       "  <tbody>\n",
       "    <tr>\n",
       "      <th>Midwest</th>\n",
       "      <td>155975</td>\n",
       "      <td>7441350</td>\n",
       "    </tr>\n",
       "    <tr>\n",
       "      <th>Northeast</th>\n",
       "      <td>108225</td>\n",
       "      <td>5614511</td>\n",
       "    </tr>\n",
       "    <tr>\n",
       "      <th>South</th>\n",
       "      <td>193681</td>\n",
       "      <td>9956783</td>\n",
       "    </tr>\n",
       "    <tr>\n",
       "      <th>West</th>\n",
       "      <td>176364</td>\n",
       "      <td>8757970</td>\n",
       "    </tr>\n",
       "  </tbody>\n",
       "</table>\n",
       "</div>"
      ],
      "text/plain": [
       "Spending_Flag  High Spender  Low Spender\n",
       "Region                                  \n",
       "Midwest              155975      7441350\n",
       "Northeast            108225      5614511\n",
       "South                193681      9956783\n",
       "West                 176364      8757970"
      ]
     },
     "execution_count": 14,
     "metadata": {},
     "output_type": "execute_result"
    }
   ],
   "source": [
    "crosstab"
   ]
  },
  {
   "cell_type": "markdown",
   "id": "46f168b5",
   "metadata": {},
   "source": [
    "# 05. Creating Exclusion Flag for Low Activity Customers"
   ]
  },
  {
   "cell_type": "code",
   "execution_count": 15,
   "id": "daf469d0",
   "metadata": {
    "ExecuteTime": {
     "end_time": "2022-12-13T23:09:49.147770Z",
     "start_time": "2022-12-13T23:09:43.640192Z"
    }
   },
   "outputs": [],
   "source": [
    "# Create Exclusion flag\n",
    "cust_ords_prods.loc[cust_ords_prods['max_order'] < 5, 'activity'] = 'low'\n",
    "cust_ords_prods.loc[cust_ords_prods['max_order'] >= 5, 'activity'] = 'normal'"
   ]
  },
  {
   "cell_type": "code",
   "execution_count": 16,
   "id": "f0f52207",
   "metadata": {
    "ExecuteTime": {
     "end_time": "2022-12-13T23:09:53.079985Z",
     "start_time": "2022-12-13T23:09:49.155534Z"
    }
   },
   "outputs": [
    {
     "data": {
      "text/plain": [
       "normal    30964564\n",
       "low        1440295\n",
       "Name: activity, dtype: int64"
      ]
     },
     "execution_count": 16,
     "metadata": {},
     "output_type": "execute_result"
    }
   ],
   "source": [
    "#Checking value counts of exclusion flag\n",
    "cust_ords_prods['activity'].value_counts()"
   ]
  },
  {
   "cell_type": "code",
   "execution_count": 17,
   "id": "084022f9",
   "metadata": {
    "ExecuteTime": {
     "end_time": "2022-12-13T23:09:53.111171Z",
     "start_time": "2022-12-13T23:09:53.085340Z"
    }
   },
   "outputs": [
    {
     "data": {
      "text/plain": [
       "32404859"
      ]
     },
     "execution_count": 17,
     "metadata": {},
     "output_type": "execute_result"
    }
   ],
   "source": [
    "#Checking length of of new column\n",
    "len(cust_ords_prods['activity'])"
   ]
  },
  {
   "cell_type": "code",
   "execution_count": 18,
   "id": "6ee16ad6",
   "metadata": {
    "ExecuteTime": {
     "end_time": "2022-12-14T14:18:15.334830Z",
     "start_time": "2022-12-13T23:09:53.117130Z"
    }
   },
   "outputs": [],
   "source": [
    "#Creating a dataframe containin only the low activity customers\n",
    "df_low = cust_ords_prods[cust_ords_prods['activity'] == 'low']"
   ]
  },
  {
   "cell_type": "code",
   "execution_count": 19,
   "id": "fa7d3b42",
   "metadata": {
    "ExecuteTime": {
     "end_time": "2022-12-14T14:18:15.364729Z",
     "start_time": "2022-12-14T14:18:15.340810Z"
    }
   },
   "outputs": [
    {
     "data": {
      "text/plain": [
       "(1440295, 32)"
      ]
     },
     "execution_count": 19,
     "metadata": {},
     "output_type": "execute_result"
    }
   ],
   "source": [
    "df_low.shape"
   ]
  },
  {
   "cell_type": "code",
   "execution_count": 20,
   "id": "75c461d8",
   "metadata": {
    "ExecuteTime": {
     "end_time": "2022-12-14T14:18:15.409579Z",
     "start_time": "2022-12-14T14:18:15.365726Z"
    }
   },
   "outputs": [
    {
     "data": {
      "text/html": [
       "<div>\n",
       "<style scoped>\n",
       "    .dataframe tbody tr th:only-of-type {\n",
       "        vertical-align: middle;\n",
       "    }\n",
       "\n",
       "    .dataframe tbody tr th {\n",
       "        vertical-align: top;\n",
       "    }\n",
       "\n",
       "    .dataframe thead th {\n",
       "        text-align: right;\n",
       "    }\n",
       "</style>\n",
       "<table border=\"1\" class=\"dataframe\">\n",
       "  <thead>\n",
       "    <tr style=\"text-align: right;\">\n",
       "      <th></th>\n",
       "      <th>user_id</th>\n",
       "      <th>First Name</th>\n",
       "      <th>Last Name</th>\n",
       "      <th>Gender</th>\n",
       "      <th>STATE</th>\n",
       "      <th>Age</th>\n",
       "      <th>date_joined</th>\n",
       "      <th>n_dependants</th>\n",
       "      <th>Marital Status</th>\n",
       "      <th>income</th>\n",
       "      <th>...</th>\n",
       "      <th>prices</th>\n",
       "      <th>price_range_loc</th>\n",
       "      <th>Busiest Days</th>\n",
       "      <th>busiest_period_of_day</th>\n",
       "      <th>max_order</th>\n",
       "      <th>loyalty_flag</th>\n",
       "      <th>Average_spending</th>\n",
       "      <th>Spending_Flag</th>\n",
       "      <th>Region</th>\n",
       "      <th>activity</th>\n",
       "    </tr>\n",
       "  </thead>\n",
       "  <tbody>\n",
       "    <tr>\n",
       "      <th>729</th>\n",
       "      <td>168851</td>\n",
       "      <td>Joseph</td>\n",
       "      <td>Hickman</td>\n",
       "      <td>Male</td>\n",
       "      <td>South Carolina</td>\n",
       "      <td>30</td>\n",
       "      <td>1/1/2017</td>\n",
       "      <td>0</td>\n",
       "      <td>single</td>\n",
       "      <td>63712</td>\n",
       "      <td>...</td>\n",
       "      <td>9.0</td>\n",
       "      <td>Mid-Range Product</td>\n",
       "      <td>Regularly Busy</td>\n",
       "      <td>Average Orders</td>\n",
       "      <td>3</td>\n",
       "      <td>New customer</td>\n",
       "      <td>7.485714</td>\n",
       "      <td>Low Spender</td>\n",
       "      <td>South</td>\n",
       "      <td>low</td>\n",
       "    </tr>\n",
       "    <tr>\n",
       "      <th>730</th>\n",
       "      <td>168851</td>\n",
       "      <td>Joseph</td>\n",
       "      <td>Hickman</td>\n",
       "      <td>Male</td>\n",
       "      <td>South Carolina</td>\n",
       "      <td>30</td>\n",
       "      <td>1/1/2017</td>\n",
       "      <td>0</td>\n",
       "      <td>single</td>\n",
       "      <td>63712</td>\n",
       "      <td>...</td>\n",
       "      <td>9.0</td>\n",
       "      <td>Mid-Range Product</td>\n",
       "      <td>Least Busy</td>\n",
       "      <td>Most Orders</td>\n",
       "      <td>3</td>\n",
       "      <td>New customer</td>\n",
       "      <td>7.485714</td>\n",
       "      <td>Low Spender</td>\n",
       "      <td>South</td>\n",
       "      <td>low</td>\n",
       "    </tr>\n",
       "    <tr>\n",
       "      <th>731</th>\n",
       "      <td>168851</td>\n",
       "      <td>Joseph</td>\n",
       "      <td>Hickman</td>\n",
       "      <td>Male</td>\n",
       "      <td>South Carolina</td>\n",
       "      <td>30</td>\n",
       "      <td>1/1/2017</td>\n",
       "      <td>0</td>\n",
       "      <td>single</td>\n",
       "      <td>63712</td>\n",
       "      <td>...</td>\n",
       "      <td>4.3</td>\n",
       "      <td>Low-range product</td>\n",
       "      <td>Busiest Day</td>\n",
       "      <td>Average Orders</td>\n",
       "      <td>3</td>\n",
       "      <td>New customer</td>\n",
       "      <td>7.485714</td>\n",
       "      <td>Low Spender</td>\n",
       "      <td>South</td>\n",
       "      <td>low</td>\n",
       "    </tr>\n",
       "    <tr>\n",
       "      <th>732</th>\n",
       "      <td>168851</td>\n",
       "      <td>Joseph</td>\n",
       "      <td>Hickman</td>\n",
       "      <td>Male</td>\n",
       "      <td>South Carolina</td>\n",
       "      <td>30</td>\n",
       "      <td>1/1/2017</td>\n",
       "      <td>0</td>\n",
       "      <td>single</td>\n",
       "      <td>63712</td>\n",
       "      <td>...</td>\n",
       "      <td>8.2</td>\n",
       "      <td>Mid-Range Product</td>\n",
       "      <td>Regularly Busy</td>\n",
       "      <td>Average Orders</td>\n",
       "      <td>3</td>\n",
       "      <td>New customer</td>\n",
       "      <td>7.485714</td>\n",
       "      <td>Low Spender</td>\n",
       "      <td>South</td>\n",
       "      <td>low</td>\n",
       "    </tr>\n",
       "    <tr>\n",
       "      <th>733</th>\n",
       "      <td>168851</td>\n",
       "      <td>Joseph</td>\n",
       "      <td>Hickman</td>\n",
       "      <td>Male</td>\n",
       "      <td>South Carolina</td>\n",
       "      <td>30</td>\n",
       "      <td>1/1/2017</td>\n",
       "      <td>0</td>\n",
       "      <td>single</td>\n",
       "      <td>63712</td>\n",
       "      <td>...</td>\n",
       "      <td>8.2</td>\n",
       "      <td>Mid-Range Product</td>\n",
       "      <td>Least Busy</td>\n",
       "      <td>Most Orders</td>\n",
       "      <td>3</td>\n",
       "      <td>New customer</td>\n",
       "      <td>7.485714</td>\n",
       "      <td>Low Spender</td>\n",
       "      <td>South</td>\n",
       "      <td>low</td>\n",
       "    </tr>\n",
       "  </tbody>\n",
       "</table>\n",
       "<p>5 rows × 32 columns</p>\n",
       "</div>"
      ],
      "text/plain": [
       "     user_id First Name Last Name Gender           STATE  Age date_joined  \\\n",
       "729   168851     Joseph   Hickman   Male  South Carolina   30    1/1/2017   \n",
       "730   168851     Joseph   Hickman   Male  South Carolina   30    1/1/2017   \n",
       "731   168851     Joseph   Hickman   Male  South Carolina   30    1/1/2017   \n",
       "732   168851     Joseph   Hickman   Male  South Carolina   30    1/1/2017   \n",
       "733   168851     Joseph   Hickman   Male  South Carolina   30    1/1/2017   \n",
       "\n",
       "     n_dependants Marital Status  income  ...  prices    price_range_loc  \\\n",
       "729             0         single   63712  ...     9.0  Mid-Range Product   \n",
       "730             0         single   63712  ...     9.0  Mid-Range Product   \n",
       "731             0         single   63712  ...     4.3  Low-range product   \n",
       "732             0         single   63712  ...     8.2  Mid-Range Product   \n",
       "733             0         single   63712  ...     8.2  Mid-Range Product   \n",
       "\n",
       "       Busiest Days  busiest_period_of_day  max_order  loyalty_flag  \\\n",
       "729  Regularly Busy         Average Orders          3  New customer   \n",
       "730      Least Busy            Most Orders          3  New customer   \n",
       "731     Busiest Day         Average Orders          3  New customer   \n",
       "732  Regularly Busy         Average Orders          3  New customer   \n",
       "733      Least Busy            Most Orders          3  New customer   \n",
       "\n",
       "     Average_spending  Spending_Flag  Region activity  \n",
       "729          7.485714    Low Spender   South      low  \n",
       "730          7.485714    Low Spender   South      low  \n",
       "731          7.485714    Low Spender   South      low  \n",
       "732          7.485714    Low Spender   South      low  \n",
       "733          7.485714    Low Spender   South      low  \n",
       "\n",
       "[5 rows x 32 columns]"
      ]
     },
     "execution_count": 20,
     "metadata": {},
     "output_type": "execute_result"
    }
   ],
   "source": [
    "df_low.head()"
   ]
  },
  {
   "cell_type": "code",
   "execution_count": 21,
   "id": "f578e661",
   "metadata": {
    "ExecuteTime": {
     "end_time": "2022-12-14T14:18:16.128209Z",
     "start_time": "2022-12-14T14:18:15.410577Z"
    }
   },
   "outputs": [],
   "source": [
    "#Exporting low activity sampe as pkl\n",
    "df_low.to_pickle(os.path.join(path, '02 Data', 'Prepared Data', 'low_activity_customer_data.pkl'))"
   ]
  },
  {
   "cell_type": "code",
   "execution_count": 22,
   "id": "fdb33013",
   "metadata": {
    "ExecuteTime": {
     "end_time": "2022-12-14T14:18:48.953707Z",
     "start_time": "2022-12-14T14:18:16.130215Z"
    }
   },
   "outputs": [],
   "source": [
    "#Creating a dataframe containing only regular activity customers\n",
    "df_reg = cust_ords_prods[cust_ords_prods['activity'] == 'normal']\n"
   ]
  },
  {
   "cell_type": "code",
   "execution_count": 23,
   "id": "ceee57bb",
   "metadata": {
    "ExecuteTime": {
     "end_time": "2022-12-14T14:18:48.998557Z",
     "start_time": "2022-12-14T14:18:48.970651Z"
    }
   },
   "outputs": [
    {
     "data": {
      "text/plain": [
       "(30964564, 32)"
      ]
     },
     "execution_count": 23,
     "metadata": {},
     "output_type": "execute_result"
    }
   ],
   "source": [
    "df_reg.shape"
   ]
  },
  {
   "cell_type": "code",
   "execution_count": 24,
   "id": "abbd1770",
   "metadata": {
    "ExecuteTime": {
     "end_time": "2022-12-14T14:18:49.093240Z",
     "start_time": "2022-12-14T14:18:49.000550Z"
    },
    "scrolled": true
   },
   "outputs": [
    {
     "data": {
      "text/html": [
       "<div>\n",
       "<style scoped>\n",
       "    .dataframe tbody tr th:only-of-type {\n",
       "        vertical-align: middle;\n",
       "    }\n",
       "\n",
       "    .dataframe tbody tr th {\n",
       "        vertical-align: top;\n",
       "    }\n",
       "\n",
       "    .dataframe thead th {\n",
       "        text-align: right;\n",
       "    }\n",
       "</style>\n",
       "<table border=\"1\" class=\"dataframe\">\n",
       "  <thead>\n",
       "    <tr style=\"text-align: right;\">\n",
       "      <th></th>\n",
       "      <th>user_id</th>\n",
       "      <th>First Name</th>\n",
       "      <th>Last Name</th>\n",
       "      <th>Gender</th>\n",
       "      <th>STATE</th>\n",
       "      <th>Age</th>\n",
       "      <th>date_joined</th>\n",
       "      <th>n_dependants</th>\n",
       "      <th>Marital Status</th>\n",
       "      <th>income</th>\n",
       "      <th>...</th>\n",
       "      <th>prices</th>\n",
       "      <th>price_range_loc</th>\n",
       "      <th>Busiest Days</th>\n",
       "      <th>busiest_period_of_day</th>\n",
       "      <th>max_order</th>\n",
       "      <th>loyalty_flag</th>\n",
       "      <th>Average_spending</th>\n",
       "      <th>Spending_Flag</th>\n",
       "      <th>Region</th>\n",
       "      <th>activity</th>\n",
       "    </tr>\n",
       "  </thead>\n",
       "  <tbody>\n",
       "    <tr>\n",
       "      <th>0</th>\n",
       "      <td>26711</td>\n",
       "      <td>Deborah</td>\n",
       "      <td>Esquivel</td>\n",
       "      <td>Female</td>\n",
       "      <td>Missouri</td>\n",
       "      <td>48</td>\n",
       "      <td>1/1/2017</td>\n",
       "      <td>3</td>\n",
       "      <td>married</td>\n",
       "      <td>165665</td>\n",
       "      <td>...</td>\n",
       "      <td>9.0</td>\n",
       "      <td>Mid-Range Product</td>\n",
       "      <td>Busiest Day</td>\n",
       "      <td>Most Orders</td>\n",
       "      <td>8</td>\n",
       "      <td>New customer</td>\n",
       "      <td>7.988889</td>\n",
       "      <td>Low Spender</td>\n",
       "      <td>Midwest</td>\n",
       "      <td>normal</td>\n",
       "    </tr>\n",
       "    <tr>\n",
       "      <th>1</th>\n",
       "      <td>26711</td>\n",
       "      <td>Deborah</td>\n",
       "      <td>Esquivel</td>\n",
       "      <td>Female</td>\n",
       "      <td>Missouri</td>\n",
       "      <td>48</td>\n",
       "      <td>1/1/2017</td>\n",
       "      <td>3</td>\n",
       "      <td>married</td>\n",
       "      <td>165665</td>\n",
       "      <td>...</td>\n",
       "      <td>9.0</td>\n",
       "      <td>Mid-Range Product</td>\n",
       "      <td>Regularly Busy</td>\n",
       "      <td>Most Orders</td>\n",
       "      <td>8</td>\n",
       "      <td>New customer</td>\n",
       "      <td>7.988889</td>\n",
       "      <td>Low Spender</td>\n",
       "      <td>Midwest</td>\n",
       "      <td>normal</td>\n",
       "    </tr>\n",
       "    <tr>\n",
       "      <th>2</th>\n",
       "      <td>26711</td>\n",
       "      <td>Deborah</td>\n",
       "      <td>Esquivel</td>\n",
       "      <td>Female</td>\n",
       "      <td>Missouri</td>\n",
       "      <td>48</td>\n",
       "      <td>1/1/2017</td>\n",
       "      <td>3</td>\n",
       "      <td>married</td>\n",
       "      <td>165665</td>\n",
       "      <td>...</td>\n",
       "      <td>9.0</td>\n",
       "      <td>Mid-Range Product</td>\n",
       "      <td>Busiest Day</td>\n",
       "      <td>Most Orders</td>\n",
       "      <td>8</td>\n",
       "      <td>New customer</td>\n",
       "      <td>7.988889</td>\n",
       "      <td>Low Spender</td>\n",
       "      <td>Midwest</td>\n",
       "      <td>normal</td>\n",
       "    </tr>\n",
       "    <tr>\n",
       "      <th>3</th>\n",
       "      <td>26711</td>\n",
       "      <td>Deborah</td>\n",
       "      <td>Esquivel</td>\n",
       "      <td>Female</td>\n",
       "      <td>Missouri</td>\n",
       "      <td>48</td>\n",
       "      <td>1/1/2017</td>\n",
       "      <td>3</td>\n",
       "      <td>married</td>\n",
       "      <td>165665</td>\n",
       "      <td>...</td>\n",
       "      <td>12.6</td>\n",
       "      <td>Mid-Range Product</td>\n",
       "      <td>Regularly Busy</td>\n",
       "      <td>Most Orders</td>\n",
       "      <td>8</td>\n",
       "      <td>New customer</td>\n",
       "      <td>7.988889</td>\n",
       "      <td>Low Spender</td>\n",
       "      <td>Midwest</td>\n",
       "      <td>normal</td>\n",
       "    </tr>\n",
       "    <tr>\n",
       "      <th>4</th>\n",
       "      <td>26711</td>\n",
       "      <td>Deborah</td>\n",
       "      <td>Esquivel</td>\n",
       "      <td>Female</td>\n",
       "      <td>Missouri</td>\n",
       "      <td>48</td>\n",
       "      <td>1/1/2017</td>\n",
       "      <td>3</td>\n",
       "      <td>married</td>\n",
       "      <td>165665</td>\n",
       "      <td>...</td>\n",
       "      <td>12.6</td>\n",
       "      <td>Mid-Range Product</td>\n",
       "      <td>Least Busy</td>\n",
       "      <td>Most Orders</td>\n",
       "      <td>8</td>\n",
       "      <td>New customer</td>\n",
       "      <td>7.988889</td>\n",
       "      <td>Low Spender</td>\n",
       "      <td>Midwest</td>\n",
       "      <td>normal</td>\n",
       "    </tr>\n",
       "  </tbody>\n",
       "</table>\n",
       "<p>5 rows × 32 columns</p>\n",
       "</div>"
      ],
      "text/plain": [
       "   user_id First Name Last Name  Gender     STATE  Age date_joined  \\\n",
       "0    26711    Deborah  Esquivel  Female  Missouri   48    1/1/2017   \n",
       "1    26711    Deborah  Esquivel  Female  Missouri   48    1/1/2017   \n",
       "2    26711    Deborah  Esquivel  Female  Missouri   48    1/1/2017   \n",
       "3    26711    Deborah  Esquivel  Female  Missouri   48    1/1/2017   \n",
       "4    26711    Deborah  Esquivel  Female  Missouri   48    1/1/2017   \n",
       "\n",
       "   n_dependants Marital Status  income  ...  prices    price_range_loc  \\\n",
       "0             3        married  165665  ...     9.0  Mid-Range Product   \n",
       "1             3        married  165665  ...     9.0  Mid-Range Product   \n",
       "2             3        married  165665  ...     9.0  Mid-Range Product   \n",
       "3             3        married  165665  ...    12.6  Mid-Range Product   \n",
       "4             3        married  165665  ...    12.6  Mid-Range Product   \n",
       "\n",
       "     Busiest Days  busiest_period_of_day  max_order  loyalty_flag  \\\n",
       "0     Busiest Day            Most Orders          8  New customer   \n",
       "1  Regularly Busy            Most Orders          8  New customer   \n",
       "2     Busiest Day            Most Orders          8  New customer   \n",
       "3  Regularly Busy            Most Orders          8  New customer   \n",
       "4      Least Busy            Most Orders          8  New customer   \n",
       "\n",
       "   Average_spending  Spending_Flag   Region activity  \n",
       "0          7.988889    Low Spender  Midwest   normal  \n",
       "1          7.988889    Low Spender  Midwest   normal  \n",
       "2          7.988889    Low Spender  Midwest   normal  \n",
       "3          7.988889    Low Spender  Midwest   normal  \n",
       "4          7.988889    Low Spender  Midwest   normal  \n",
       "\n",
       "[5 rows x 32 columns]"
      ]
     },
     "execution_count": 24,
     "metadata": {},
     "output_type": "execute_result"
    }
   ],
   "source": [
    "df_reg.head()"
   ]
  },
  {
   "cell_type": "markdown",
   "id": "1118f4b3",
   "metadata": {},
   "source": [
    "# 06. Creating Customer Profiling Variables"
   ]
  },
  {
   "cell_type": "code",
   "execution_count": 25,
   "id": "fc0291c7",
   "metadata": {
    "ExecuteTime": {
     "end_time": "2022-12-14T14:18:52.599506Z",
     "start_time": "2022-12-14T14:18:49.095233Z"
    }
   },
   "outputs": [
    {
     "name": "stderr",
     "output_type": "stream",
     "text": [
      "C:\\Users\\campa\\AppData\\Local\\Temp\\ipykernel_16604\\3095831854.py:2: SettingWithCopyWarning: \n",
      "A value is trying to be set on a copy of a slice from a DataFrame.\n",
      "Try using .loc[row_indexer,col_indexer] = value instead\n",
      "\n",
      "See the caveats in the documentation: https://pandas.pydata.org/pandas-docs/stable/user_guide/indexing.html#returning-a-view-versus-a-copy\n",
      "  df_reg.loc[(df_reg['Age'] >= 18) & (df_reg['Age'] < 25), 'Age_Group'] = 'College Age'\n"
     ]
    }
   ],
   "source": [
    "# Creating variable for age\n",
    "df_reg.loc[(df_reg['Age'] >= 18) & (df_reg['Age'] < 25), 'Age_Group'] = 'College Age'\n",
    "df_reg.loc[(df_reg['Age'] >= 25) & (df_reg['Age'] < 40), 'Age_Group'] = 'Early Career'\n",
    "df_reg.loc[(df_reg['Age'] >= 40) & (df_reg['Age'] < 65), 'Age_Group'] = 'Middle Age'\n",
    "df_reg.loc[df_reg['Age'] >= 65, 'Age_Group'] = 'Retirement Age'"
   ]
  },
  {
   "cell_type": "code",
   "execution_count": 26,
   "id": "235f568c",
   "metadata": {
    "ExecuteTime": {
     "end_time": "2022-12-14T14:18:52.631399Z",
     "start_time": "2022-12-14T14:18:52.602492Z"
    }
   },
   "outputs": [
    {
     "data": {
      "text/html": [
       "<div>\n",
       "<style scoped>\n",
       "    .dataframe tbody tr th:only-of-type {\n",
       "        vertical-align: middle;\n",
       "    }\n",
       "\n",
       "    .dataframe tbody tr th {\n",
       "        vertical-align: top;\n",
       "    }\n",
       "\n",
       "    .dataframe thead th {\n",
       "        text-align: right;\n",
       "    }\n",
       "</style>\n",
       "<table border=\"1\" class=\"dataframe\">\n",
       "  <thead>\n",
       "    <tr style=\"text-align: right;\">\n",
       "      <th></th>\n",
       "      <th>user_id</th>\n",
       "      <th>First Name</th>\n",
       "      <th>Last Name</th>\n",
       "      <th>Gender</th>\n",
       "      <th>STATE</th>\n",
       "      <th>Age</th>\n",
       "      <th>date_joined</th>\n",
       "      <th>n_dependants</th>\n",
       "      <th>Marital Status</th>\n",
       "      <th>income</th>\n",
       "      <th>...</th>\n",
       "      <th>price_range_loc</th>\n",
       "      <th>Busiest Days</th>\n",
       "      <th>busiest_period_of_day</th>\n",
       "      <th>max_order</th>\n",
       "      <th>loyalty_flag</th>\n",
       "      <th>Average_spending</th>\n",
       "      <th>Spending_Flag</th>\n",
       "      <th>Region</th>\n",
       "      <th>activity</th>\n",
       "      <th>Age_Group</th>\n",
       "    </tr>\n",
       "  </thead>\n",
       "  <tbody>\n",
       "    <tr>\n",
       "      <th>0</th>\n",
       "      <td>26711</td>\n",
       "      <td>Deborah</td>\n",
       "      <td>Esquivel</td>\n",
       "      <td>Female</td>\n",
       "      <td>Missouri</td>\n",
       "      <td>48</td>\n",
       "      <td>1/1/2017</td>\n",
       "      <td>3</td>\n",
       "      <td>married</td>\n",
       "      <td>165665</td>\n",
       "      <td>...</td>\n",
       "      <td>Mid-Range Product</td>\n",
       "      <td>Busiest Day</td>\n",
       "      <td>Most Orders</td>\n",
       "      <td>8</td>\n",
       "      <td>New customer</td>\n",
       "      <td>7.988889</td>\n",
       "      <td>Low Spender</td>\n",
       "      <td>Midwest</td>\n",
       "      <td>normal</td>\n",
       "      <td>Middle Age</td>\n",
       "    </tr>\n",
       "    <tr>\n",
       "      <th>1</th>\n",
       "      <td>26711</td>\n",
       "      <td>Deborah</td>\n",
       "      <td>Esquivel</td>\n",
       "      <td>Female</td>\n",
       "      <td>Missouri</td>\n",
       "      <td>48</td>\n",
       "      <td>1/1/2017</td>\n",
       "      <td>3</td>\n",
       "      <td>married</td>\n",
       "      <td>165665</td>\n",
       "      <td>...</td>\n",
       "      <td>Mid-Range Product</td>\n",
       "      <td>Regularly Busy</td>\n",
       "      <td>Most Orders</td>\n",
       "      <td>8</td>\n",
       "      <td>New customer</td>\n",
       "      <td>7.988889</td>\n",
       "      <td>Low Spender</td>\n",
       "      <td>Midwest</td>\n",
       "      <td>normal</td>\n",
       "      <td>Middle Age</td>\n",
       "    </tr>\n",
       "    <tr>\n",
       "      <th>2</th>\n",
       "      <td>26711</td>\n",
       "      <td>Deborah</td>\n",
       "      <td>Esquivel</td>\n",
       "      <td>Female</td>\n",
       "      <td>Missouri</td>\n",
       "      <td>48</td>\n",
       "      <td>1/1/2017</td>\n",
       "      <td>3</td>\n",
       "      <td>married</td>\n",
       "      <td>165665</td>\n",
       "      <td>...</td>\n",
       "      <td>Mid-Range Product</td>\n",
       "      <td>Busiest Day</td>\n",
       "      <td>Most Orders</td>\n",
       "      <td>8</td>\n",
       "      <td>New customer</td>\n",
       "      <td>7.988889</td>\n",
       "      <td>Low Spender</td>\n",
       "      <td>Midwest</td>\n",
       "      <td>normal</td>\n",
       "      <td>Middle Age</td>\n",
       "    </tr>\n",
       "    <tr>\n",
       "      <th>3</th>\n",
       "      <td>26711</td>\n",
       "      <td>Deborah</td>\n",
       "      <td>Esquivel</td>\n",
       "      <td>Female</td>\n",
       "      <td>Missouri</td>\n",
       "      <td>48</td>\n",
       "      <td>1/1/2017</td>\n",
       "      <td>3</td>\n",
       "      <td>married</td>\n",
       "      <td>165665</td>\n",
       "      <td>...</td>\n",
       "      <td>Mid-Range Product</td>\n",
       "      <td>Regularly Busy</td>\n",
       "      <td>Most Orders</td>\n",
       "      <td>8</td>\n",
       "      <td>New customer</td>\n",
       "      <td>7.988889</td>\n",
       "      <td>Low Spender</td>\n",
       "      <td>Midwest</td>\n",
       "      <td>normal</td>\n",
       "      <td>Middle Age</td>\n",
       "    </tr>\n",
       "    <tr>\n",
       "      <th>4</th>\n",
       "      <td>26711</td>\n",
       "      <td>Deborah</td>\n",
       "      <td>Esquivel</td>\n",
       "      <td>Female</td>\n",
       "      <td>Missouri</td>\n",
       "      <td>48</td>\n",
       "      <td>1/1/2017</td>\n",
       "      <td>3</td>\n",
       "      <td>married</td>\n",
       "      <td>165665</td>\n",
       "      <td>...</td>\n",
       "      <td>Mid-Range Product</td>\n",
       "      <td>Least Busy</td>\n",
       "      <td>Most Orders</td>\n",
       "      <td>8</td>\n",
       "      <td>New customer</td>\n",
       "      <td>7.988889</td>\n",
       "      <td>Low Spender</td>\n",
       "      <td>Midwest</td>\n",
       "      <td>normal</td>\n",
       "      <td>Middle Age</td>\n",
       "    </tr>\n",
       "  </tbody>\n",
       "</table>\n",
       "<p>5 rows × 33 columns</p>\n",
       "</div>"
      ],
      "text/plain": [
       "   user_id First Name Last Name  Gender     STATE  Age date_joined  \\\n",
       "0    26711    Deborah  Esquivel  Female  Missouri   48    1/1/2017   \n",
       "1    26711    Deborah  Esquivel  Female  Missouri   48    1/1/2017   \n",
       "2    26711    Deborah  Esquivel  Female  Missouri   48    1/1/2017   \n",
       "3    26711    Deborah  Esquivel  Female  Missouri   48    1/1/2017   \n",
       "4    26711    Deborah  Esquivel  Female  Missouri   48    1/1/2017   \n",
       "\n",
       "   n_dependants Marital Status  income  ...    price_range_loc  \\\n",
       "0             3        married  165665  ...  Mid-Range Product   \n",
       "1             3        married  165665  ...  Mid-Range Product   \n",
       "2             3        married  165665  ...  Mid-Range Product   \n",
       "3             3        married  165665  ...  Mid-Range Product   \n",
       "4             3        married  165665  ...  Mid-Range Product   \n",
       "\n",
       "     Busiest Days  busiest_period_of_day  max_order  loyalty_flag  \\\n",
       "0     Busiest Day            Most Orders          8  New customer   \n",
       "1  Regularly Busy            Most Orders          8  New customer   \n",
       "2     Busiest Day            Most Orders          8  New customer   \n",
       "3  Regularly Busy            Most Orders          8  New customer   \n",
       "4      Least Busy            Most Orders          8  New customer   \n",
       "\n",
       "   Average_spending  Spending_Flag   Region  activity   Age_Group  \n",
       "0          7.988889    Low Spender  Midwest    normal  Middle Age  \n",
       "1          7.988889    Low Spender  Midwest    normal  Middle Age  \n",
       "2          7.988889    Low Spender  Midwest    normal  Middle Age  \n",
       "3          7.988889    Low Spender  Midwest    normal  Middle Age  \n",
       "4          7.988889    Low Spender  Midwest    normal  Middle Age  \n",
       "\n",
       "[5 rows x 33 columns]"
      ]
     },
     "execution_count": 26,
     "metadata": {},
     "output_type": "execute_result"
    }
   ],
   "source": [
    "df_reg.head()"
   ]
  },
  {
   "cell_type": "code",
   "execution_count": 27,
   "id": "cdfa86ea",
   "metadata": {
    "ExecuteTime": {
     "end_time": "2022-12-14T14:18:53.515989Z",
     "start_time": "2022-12-14T14:18:52.632392Z"
    }
   },
   "outputs": [
    {
     "data": {
      "text/plain": [
       "Middle Age        12103910\n",
       "Retirement Age     8195544\n",
       "Early Career       7249916\n",
       "College Age        3415194\n",
       "Name: Age_Group, dtype: int64"
      ]
     },
     "execution_count": 27,
     "metadata": {},
     "output_type": "execute_result"
    }
   ],
   "source": [
    "df_reg['Age_Group'].value_counts()"
   ]
  },
  {
   "cell_type": "code",
   "execution_count": 28,
   "id": "b4c7454a",
   "metadata": {
    "ExecuteTime": {
     "end_time": "2022-12-14T14:18:56.142201Z",
     "start_time": "2022-12-14T14:18:53.523960Z"
    }
   },
   "outputs": [
    {
     "name": "stderr",
     "output_type": "stream",
     "text": [
      "C:\\Users\\campa\\AppData\\Local\\Temp\\ipykernel_16604\\3842956786.py:2: SettingWithCopyWarning: \n",
      "A value is trying to be set on a copy of a slice from a DataFrame.\n",
      "Try using .loc[row_indexer,col_indexer] = value instead\n",
      "\n",
      "See the caveats in the documentation: https://pandas.pydata.org/pandas-docs/stable/user_guide/indexing.html#returning-a-view-versus-a-copy\n",
      "  df_reg.loc[(df_reg['department_id'] == 18) & (df_reg['n_dependants'] > 0), 'family_status'] = 'young children'\n"
     ]
    }
   ],
   "source": [
    "#Creating a variable for family status using dept 18 'babies' to identify \n",
    "df_reg.loc[(df_reg['department_id'] == 18) & (df_reg['n_dependants'] > 0), 'family_status'] = 'young children'\n",
    "df_reg.loc[(df_reg['department_id'] != 18) & (df_reg['n_dependants'] >0), 'family_status'] = 'older children'\n",
    "df_reg.loc[df_reg['n_dependants'] == 0, 'family_status'] = 'no children'           "
   ]
  },
  {
   "cell_type": "code",
   "execution_count": 29,
   "id": "ab5296c1",
   "metadata": {
    "ExecuteTime": {
     "end_time": "2022-12-14T14:18:56.967447Z",
     "start_time": "2022-12-14T14:18:56.143203Z"
    }
   },
   "outputs": [
    {
     "data": {
      "text/plain": [
       "older children    22917819\n",
       "no children        7739681\n",
       "young children      307064\n",
       "Name: family_status, dtype: int64"
      ]
     },
     "execution_count": 29,
     "metadata": {},
     "output_type": "execute_result"
    }
   ],
   "source": [
    "df_reg['family_status'].value_counts()"
   ]
  },
  {
   "cell_type": "code",
   "execution_count": 30,
   "id": "68a219c9",
   "metadata": {
    "ExecuteTime": {
     "end_time": "2022-12-14T14:18:59.265422Z",
     "start_time": "2022-12-14T14:18:56.993023Z"
    }
   },
   "outputs": [
    {
     "name": "stderr",
     "output_type": "stream",
     "text": [
      "C:\\Users\\campa\\AppData\\Local\\Temp\\ipykernel_16604\\666836674.py:2: SettingWithCopyWarning: \n",
      "A value is trying to be set on a copy of a slice from a DataFrame.\n",
      "Try using .loc[row_indexer,col_indexer] = value instead\n",
      "\n",
      "See the caveats in the documentation: https://pandas.pydata.org/pandas-docs/stable/user_guide/indexing.html#returning-a-view-versus-a-copy\n",
      "  df_reg.loc[(df_reg['income'] < 100000) & (df_reg['Age'] < 25), 'work_status'] = 'student'\n"
     ]
    }
   ],
   "source": [
    "#Creating Variable for work status\n",
    "df_reg.loc[(df_reg['income'] < 100000) & (df_reg['Age'] < 25), 'work_status'] = 'student'\n",
    "df_reg.loc[(df_reg['income'] < 100000) & (df_reg['Age'] > 64), 'work_status'] = 'retired'\n",
    "df_reg.loc[(df_reg['income'] >= 100000) & (df_reg['income'] < 300000), 'work_status'] = 'mid income'\n",
    "df_reg.loc[df_reg['income'] >= 300000, 'work_status'] = 'high income'\n",
    "df_reg.loc[(df_reg['income'] < 100000) & (df_reg['Age'] >= 25) & (df_reg['Age'] <= 64), 'work_status'] = 'low income' "
   ]
  },
  {
   "cell_type": "code",
   "execution_count": 31,
   "id": "5c6c4424",
   "metadata": {
    "ExecuteTime": {
     "end_time": "2022-12-14T14:19:00.102990Z",
     "start_time": "2022-12-14T14:18:59.266418Z"
    }
   },
   "outputs": [
    {
     "data": {
      "text/plain": [
       "mid income     14107373\n",
       "low income     10999010\n",
       "student         3304371\n",
       "retired         2453781\n",
       "high income      100029\n",
       "Name: work_status, dtype: int64"
      ]
     },
     "execution_count": 31,
     "metadata": {},
     "output_type": "execute_result"
    }
   ],
   "source": [
    "df_reg['work_status'].value_counts()"
   ]
  },
  {
   "cell_type": "code",
   "execution_count": 32,
   "id": "f00c2e99",
   "metadata": {
    "ExecuteTime": {
     "end_time": "2022-12-14T14:19:00.118941Z",
     "start_time": "2022-12-14T14:19:00.103987Z"
    }
   },
   "outputs": [
    {
     "data": {
      "text/plain": [
       "Index(['user_id', 'First Name', 'Last Name', 'Gender', 'STATE', 'Age',\n",
       "       'date_joined', 'n_dependants', 'Marital Status', 'income', 'order_id',\n",
       "       'order_number', 'order_day_of_week', 'order_hour_of_day',\n",
       "       'days_since_last_order', 'product_id', 'add_to_cart_order', 'reordered',\n",
       "       'Unnamed: 0_y', 'product_name', 'aisle_id', 'department_id', 'prices',\n",
       "       'price_range_loc', 'Busiest Days', 'busiest_period_of_day', 'max_order',\n",
       "       'loyalty_flag', 'Average_spending', 'Spending_Flag', 'Region',\n",
       "       'activity', 'Age_Group', 'family_status', 'work_status'],\n",
       "      dtype='object')"
      ]
     },
     "execution_count": 32,
     "metadata": {},
     "output_type": "execute_result"
    }
   ],
   "source": [
    "df_reg.columns"
   ]
  },
  {
   "cell_type": "markdown",
   "id": "d8e89337",
   "metadata": {},
   "source": [
    "# 07. Creating Visualizations of New Variables"
   ]
  },
  {
   "cell_type": "code",
   "execution_count": 33,
   "id": "8667d9c7",
   "metadata": {
    "ExecuteTime": {
     "end_time": "2022-12-14T14:19:01.854922Z",
     "start_time": "2022-12-14T14:19:00.119934Z"
    }
   },
   "outputs": [
    {
     "data": {
      "image/png": "[encoded data removed]",
      "text/plain": [
       "<Figure size 640x480 with 1 Axes>"
      ]
     },
     "metadata": {},
     "output_type": "display_data"
    }
   ],
   "source": [
    "#creatiing bar graph of age groups\n",
    "Age_bar = df_reg['Age_Group'].value_counts().plot.bar(color = ['darkgreen', 'green', 'forestgreen', 'limegreen'])"
   ]
  },
  {
   "cell_type": "code",
   "execution_count": 161,
   "id": "3544915b",
   "metadata": {
    "ExecuteTime": {
     "end_time": "2022-12-14T22:11:30.118031Z",
     "start_time": "2022-12-14T22:11:30.036078Z"
    }
   },
   "outputs": [],
   "source": [
    "#Exporting age bar graph\n",
    "Age_bar.figure.savefig((os.path.join(path, '04 Analysis', 'Visualizations', 'age_bar.png')), bbox_inches = \"tight\")"
   ]
  },
  {
   "cell_type": "code",
   "execution_count": 35,
   "id": "a4f25311",
   "metadata": {
    "ExecuteTime": {
     "end_time": "2022-12-14T14:19:02.772015Z",
     "start_time": "2022-12-14T14:19:01.887975Z"
    }
   },
   "outputs": [
    {
     "data": {
      "image/png": "[encoded data removed]",
      "text/plain": [
       "<Figure size 640x480 with 1 Axes>"
      ]
     },
     "metadata": {},
     "output_type": "display_data"
    }
   ],
   "source": [
    "#Creating bar graph of family stati\n",
    "Fam_bar = df_reg['family_status'].value_counts().plot.bar(color = ['darkgreen', 'green', 'forestgreen'])"
   ]
  },
  {
   "cell_type": "code",
   "execution_count": 165,
   "id": "de819ffd",
   "metadata": {
    "ExecuteTime": {
     "end_time": "2022-12-14T22:13:34.114387Z",
     "start_time": "2022-12-14T22:13:34.036779Z"
    }
   },
   "outputs": [],
   "source": [
    "#Exporting family status bar graph\n",
    "Fam_bar.figure.savefig((os.path.join(path, '04 Analysis', 'Visualizations', 'fam_bar.png')), bbox_inches = \"tight\")"
   ]
  },
  {
   "cell_type": "code",
   "execution_count": 37,
   "id": "ace79bdd",
   "metadata": {
    "ExecuteTime": {
     "end_time": "2022-12-14T14:19:03.702998Z",
     "start_time": "2022-12-14T14:19:02.804901Z"
    }
   },
   "outputs": [
    {
     "data": {
      "image/png": "[encoded data removed]",
      "text/plain": [
       "<Figure size 640x480 with 1 Axes>"
      ]
     },
     "metadata": {},
     "output_type": "display_data"
    }
   ],
   "source": [
    "#Creating Bar Graph of Work Stati\n",
    "wrk_stat_bar = df_reg['work_status'].value_counts().plot.bar(color = ['darkgreen', 'green', 'forestgreen', 'limegreen', 'lime'])"
   ]
  },
  {
   "cell_type": "code",
   "execution_count": 167,
   "id": "48c48473",
   "metadata": {
    "ExecuteTime": {
     "end_time": "2022-12-14T22:15:38.004436Z",
     "start_time": "2022-12-14T22:15:37.915420Z"
    }
   },
   "outputs": [],
   "source": [
    "#Exporting Work Status Bar Graph\n",
    "wrk_stat_bar.figure.savefig((os.path.join(path, '04 Analysis', 'Visualizations', 'wrk_bar.png')), bbox_inches = \"tight\")"
   ]
  },
  {
   "cell_type": "markdown",
   "id": "aa479ad7",
   "metadata": {},
   "source": [
    "# 08. Aggregating On Customer Level"
   ]
  },
  {
   "cell_type": "code",
   "execution_count": 39,
   "id": "19eed519",
   "metadata": {
    "ExecuteTime": {
     "end_time": "2022-12-14T14:19:08.154806Z",
     "start_time": "2022-12-14T14:19:03.735985Z"
    }
   },
   "outputs": [],
   "source": [
    "#Creating crosstab of region and age group\n",
    "Age_Reg = pd.crosstab(df_reg['Region'], df_reg['Age_Group'])"
   ]
  },
  {
   "cell_type": "code",
   "execution_count": 40,
   "id": "cf9f88e1",
   "metadata": {
    "ExecuteTime": {
     "end_time": "2022-12-14T14:19:08.170753Z",
     "start_time": "2022-12-14T14:19:08.155804Z"
    }
   },
   "outputs": [
    {
     "data": {
      "text/html": [
       "<div>\n",
       "<style scoped>\n",
       "    .dataframe tbody tr th:only-of-type {\n",
       "        vertical-align: middle;\n",
       "    }\n",
       "\n",
       "    .dataframe tbody tr th {\n",
       "        vertical-align: top;\n",
       "    }\n",
       "\n",
       "    .dataframe thead th {\n",
       "        text-align: right;\n",
       "    }\n",
       "</style>\n",
       "<table border=\"1\" class=\"dataframe\">\n",
       "  <thead>\n",
       "    <tr style=\"text-align: right;\">\n",
       "      <th>Age_Group</th>\n",
       "      <th>College Age</th>\n",
       "      <th>Early Career</th>\n",
       "      <th>Middle Age</th>\n",
       "      <th>Retirement Age</th>\n",
       "    </tr>\n",
       "    <tr>\n",
       "      <th>Region</th>\n",
       "      <th></th>\n",
       "      <th></th>\n",
       "      <th></th>\n",
       "      <th></th>\n",
       "    </tr>\n",
       "  </thead>\n",
       "  <tbody>\n",
       "    <tr>\n",
       "      <th>Midwest</th>\n",
       "      <td>791626</td>\n",
       "      <td>1691375</td>\n",
       "      <td>2874466</td>\n",
       "      <td>1904046</td>\n",
       "    </tr>\n",
       "    <tr>\n",
       "      <th>Northeast</th>\n",
       "      <td>602790</td>\n",
       "      <td>1268947</td>\n",
       "      <td>2108141</td>\n",
       "      <td>1484807</td>\n",
       "    </tr>\n",
       "    <tr>\n",
       "      <th>South</th>\n",
       "      <td>1098370</td>\n",
       "      <td>2300954</td>\n",
       "      <td>3753066</td>\n",
       "      <td>2545172</td>\n",
       "    </tr>\n",
       "    <tr>\n",
       "      <th>West</th>\n",
       "      <td>922408</td>\n",
       "      <td>1988640</td>\n",
       "      <td>3368237</td>\n",
       "      <td>2261519</td>\n",
       "    </tr>\n",
       "  </tbody>\n",
       "</table>\n",
       "</div>"
      ],
      "text/plain": [
       "Age_Group  College Age  Early Career  Middle Age  Retirement Age\n",
       "Region                                                          \n",
       "Midwest         791626       1691375     2874466         1904046\n",
       "Northeast       602790       1268947     2108141         1484807\n",
       "South          1098370       2300954     3753066         2545172\n",
       "West            922408       1988640     3368237         2261519"
      ]
     },
     "execution_count": 40,
     "metadata": {},
     "output_type": "execute_result"
    }
   ],
   "source": [
    "Age_Reg"
   ]
  },
  {
   "cell_type": "code",
   "execution_count": 41,
   "id": "8ef5856c",
   "metadata": {
    "ExecuteTime": {
     "end_time": "2022-12-14T14:19:08.217596Z",
     "start_time": "2022-12-14T14:19:08.171750Z"
    }
   },
   "outputs": [],
   "source": [
    "#Copying crosstab to clipboard\n",
    "Age_Reg.to_clipboard()"
   ]
  },
  {
   "cell_type": "code",
   "execution_count": 42,
   "id": "ee3a8b38",
   "metadata": {
    "ExecuteTime": {
     "end_time": "2022-12-14T14:19:08.328226Z",
     "start_time": "2022-12-14T14:19:08.218593Z"
    },
    "scrolled": true
   },
   "outputs": [
    {
     "data": {
      "image/png": "[encoded data removed]",
      "text/plain": [
       "<Figure size 640x480 with 1 Axes>"
      ]
     },
     "metadata": {},
     "output_type": "display_data"
    }
   ],
   "source": [
    "#Creating Bar Graph of Age Groups by Region\n",
    "age_reg_bar = Age_Reg.plot(kind = 'bar', stacked = True, color = ['darkgreen', 'limegreen', 'lime', 'seagreen'])"
   ]
  },
  {
   "cell_type": "code",
   "execution_count": 162,
   "id": "49c2a6f0",
   "metadata": {
    "ExecuteTime": {
     "end_time": "2022-12-14T22:12:01.528985Z",
     "start_time": "2022-12-14T22:12:01.411572Z"
    }
   },
   "outputs": [],
   "source": [
    "#Exporting Age by Region Bar Graph\n",
    "age_reg_bar.figure.savefig((os.path.join(path, '04 Analysis','Visualizations', 'age_reg_bar.png')), bbox_inches = \"tight\")"
   ]
  },
  {
   "cell_type": "code",
   "execution_count": 44,
   "id": "e0c52244",
   "metadata": {
    "ExecuteTime": {
     "end_time": "2022-12-14T14:19:12.358014Z",
     "start_time": "2022-12-14T14:19:08.376066Z"
    }
   },
   "outputs": [],
   "source": [
    "#Creating Crosstab of Family Stati by Age Group\n",
    "Age_fam = pd.crosstab(df_reg['Age_Group'], df_reg['family_status'])"
   ]
  },
  {
   "cell_type": "code",
   "execution_count": 45,
   "id": "1c59fa4b",
   "metadata": {
    "ExecuteTime": {
     "end_time": "2022-12-14T14:19:12.373956Z",
     "start_time": "2022-12-14T14:19:12.359006Z"
    }
   },
   "outputs": [
    {
     "data": {
      "text/html": [
       "<div>\n",
       "<style scoped>\n",
       "    .dataframe tbody tr th:only-of-type {\n",
       "        vertical-align: middle;\n",
       "    }\n",
       "\n",
       "    .dataframe tbody tr th {\n",
       "        vertical-align: top;\n",
       "    }\n",
       "\n",
       "    .dataframe thead th {\n",
       "        text-align: right;\n",
       "    }\n",
       "</style>\n",
       "<table border=\"1\" class=\"dataframe\">\n",
       "  <thead>\n",
       "    <tr style=\"text-align: right;\">\n",
       "      <th>family_status</th>\n",
       "      <th>no children</th>\n",
       "      <th>older children</th>\n",
       "      <th>young children</th>\n",
       "    </tr>\n",
       "    <tr>\n",
       "      <th>Age_Group</th>\n",
       "      <th></th>\n",
       "      <th></th>\n",
       "      <th></th>\n",
       "    </tr>\n",
       "  </thead>\n",
       "  <tbody>\n",
       "    <tr>\n",
       "      <th>College Age</th>\n",
       "      <td>825510</td>\n",
       "      <td>2555082</td>\n",
       "      <td>34602</td>\n",
       "    </tr>\n",
       "    <tr>\n",
       "      <th>Early Career</th>\n",
       "      <td>1835065</td>\n",
       "      <td>5344321</td>\n",
       "      <td>70530</td>\n",
       "    </tr>\n",
       "    <tr>\n",
       "      <th>Middle Age</th>\n",
       "      <td>3057148</td>\n",
       "      <td>8925142</td>\n",
       "      <td>121620</td>\n",
       "    </tr>\n",
       "    <tr>\n",
       "      <th>Retirement Age</th>\n",
       "      <td>2021958</td>\n",
       "      <td>6093274</td>\n",
       "      <td>80312</td>\n",
       "    </tr>\n",
       "  </tbody>\n",
       "</table>\n",
       "</div>"
      ],
      "text/plain": [
       "family_status   no children  older children  young children\n",
       "Age_Group                                                  \n",
       "College Age          825510         2555082           34602\n",
       "Early Career        1835065         5344321           70530\n",
       "Middle Age          3057148         8925142          121620\n",
       "Retirement Age      2021958         6093274           80312"
      ]
     },
     "execution_count": 45,
     "metadata": {},
     "output_type": "execute_result"
    }
   ],
   "source": [
    "Age_fam"
   ]
  },
  {
   "cell_type": "code",
   "execution_count": 46,
   "id": "e2886e5d",
   "metadata": {
    "ExecuteTime": {
     "end_time": "2022-12-14T14:19:12.389908Z",
     "start_time": "2022-12-14T14:19:12.374953Z"
    }
   },
   "outputs": [],
   "source": [
    "#Exporting Family-Age Crosstab to clipboard\n",
    "Age_fam.to_clipboard()"
   ]
  },
  {
   "cell_type": "code",
   "execution_count": 47,
   "id": "2e51668e",
   "metadata": {
    "ExecuteTime": {
     "end_time": "2022-12-14T14:19:12.482852Z",
     "start_time": "2022-12-14T14:19:12.391897Z"
    }
   },
   "outputs": [
    {
     "data": {
      "image/png": "[encoded data removed]",
      "text/plain": [
       "<Figure size 640x480 with 1 Axes>"
      ]
     },
     "metadata": {},
     "output_type": "display_data"
    }
   ],
   "source": [
    "#Creating Bar Graph of Family Stati by Age\n",
    "Age_fam_bar = Age_fam.plot(kind = 'bar', stacked = True, color = ['darkgreen', 'limegreen', 'seagreen', 'lime'])"
   ]
  },
  {
   "cell_type": "code",
   "execution_count": 164,
   "id": "79c8c61a",
   "metadata": {
    "ExecuteTime": {
     "end_time": "2022-12-14T22:12:59.796417Z",
     "start_time": "2022-12-14T22:12:59.683056Z"
    }
   },
   "outputs": [],
   "source": [
    "#Exporting Bar Graph of family stati by Age Group\n",
    "Age_fam_bar.figure.savefig(os.path.join(path, '04 Analysis', 'Visualizations', 'age_fam_bar.png'), bbox_inches = \"tight\")"
   ]
  },
  {
   "cell_type": "code",
   "execution_count": 49,
   "id": "a7c9e87d",
   "metadata": {
    "ExecuteTime": {
     "end_time": "2022-12-14T14:19:16.042996Z",
     "start_time": "2022-12-14T14:19:12.530692Z"
    }
   },
   "outputs": [],
   "source": [
    "#Creating crosstab of income levels by Region\n",
    "reg_wrk = pd.crosstab(df_reg['Region'], df_reg['work_status'])"
   ]
  },
  {
   "cell_type": "code",
   "execution_count": 50,
   "id": "7f85c72e",
   "metadata": {
    "ExecuteTime": {
     "end_time": "2022-12-14T14:19:16.058939Z",
     "start_time": "2022-12-14T14:19:16.043988Z"
    }
   },
   "outputs": [
    {
     "data": {
      "text/html": [
       "<div>\n",
       "<style scoped>\n",
       "    .dataframe tbody tr th:only-of-type {\n",
       "        vertical-align: middle;\n",
       "    }\n",
       "\n",
       "    .dataframe tbody tr th {\n",
       "        vertical-align: top;\n",
       "    }\n",
       "\n",
       "    .dataframe thead th {\n",
       "        text-align: right;\n",
       "    }\n",
       "</style>\n",
       "<table border=\"1\" class=\"dataframe\">\n",
       "  <thead>\n",
       "    <tr style=\"text-align: right;\">\n",
       "      <th>work_status</th>\n",
       "      <th>high income</th>\n",
       "      <th>low income</th>\n",
       "      <th>mid income</th>\n",
       "      <th>retired</th>\n",
       "      <th>student</th>\n",
       "    </tr>\n",
       "    <tr>\n",
       "      <th>Region</th>\n",
       "      <th></th>\n",
       "      <th></th>\n",
       "      <th></th>\n",
       "      <th></th>\n",
       "      <th></th>\n",
       "    </tr>\n",
       "  </thead>\n",
       "  <tbody>\n",
       "    <tr>\n",
       "      <th>Midwest</th>\n",
       "      <td>30583</td>\n",
       "      <td>2535843</td>\n",
       "      <td>3369510</td>\n",
       "      <td>565818</td>\n",
       "      <td>759759</td>\n",
       "    </tr>\n",
       "    <tr>\n",
       "      <th>Northeast</th>\n",
       "      <td>15435</td>\n",
       "      <td>1917716</td>\n",
       "      <td>2501049</td>\n",
       "      <td>441203</td>\n",
       "      <td>589282</td>\n",
       "    </tr>\n",
       "    <tr>\n",
       "      <th>South</th>\n",
       "      <td>26833</td>\n",
       "      <td>3491652</td>\n",
       "      <td>4346369</td>\n",
       "      <td>769737</td>\n",
       "      <td>1062971</td>\n",
       "    </tr>\n",
       "    <tr>\n",
       "      <th>West</th>\n",
       "      <td>27178</td>\n",
       "      <td>3053799</td>\n",
       "      <td>3890445</td>\n",
       "      <td>677023</td>\n",
       "      <td>892359</td>\n",
       "    </tr>\n",
       "  </tbody>\n",
       "</table>\n",
       "</div>"
      ],
      "text/plain": [
       "work_status  high income  low income  mid income  retired  student\n",
       "Region                                                            \n",
       "Midwest            30583     2535843     3369510   565818   759759\n",
       "Northeast          15435     1917716     2501049   441203   589282\n",
       "South              26833     3491652     4346369   769737  1062971\n",
       "West               27178     3053799     3890445   677023   892359"
      ]
     },
     "execution_count": 50,
     "metadata": {},
     "output_type": "execute_result"
    }
   ],
   "source": [
    "reg_wrk"
   ]
  },
  {
   "cell_type": "code",
   "execution_count": 51,
   "id": "a5d2fe28",
   "metadata": {
    "ExecuteTime": {
     "end_time": "2022-12-14T14:19:16.074886Z",
     "start_time": "2022-12-14T14:19:16.060938Z"
    }
   },
   "outputs": [],
   "source": [
    "#Copying Crosstab of income levels by region to cliboard\n",
    "reg_wrk.to_clipboard()"
   ]
  },
  {
   "cell_type": "code",
   "execution_count": 52,
   "id": "7440cf76",
   "metadata": {
    "ExecuteTime": {
     "end_time": "2022-12-14T14:19:16.186512Z",
     "start_time": "2022-12-14T14:19:16.075882Z"
    },
    "scrolled": true
   },
   "outputs": [
    {
     "data": {
      "image/png": "[encoded data removed]",
      "text/plain": [
       "<Figure size 640x480 with 1 Axes>"
      ]
     },
     "metadata": {},
     "output_type": "display_data"
    }
   ],
   "source": [
    "#creating bar graph of income levels by region\n",
    "reg_wrk_bar = reg_wrk.plot(kind = 'bar', stacked = True, color = ['darkgreen', 'limegreen', 'seagreen', 'lime', 'lawngreen'])"
   ]
  },
  {
   "cell_type": "code",
   "execution_count": 147,
   "id": "fbe8a72e",
   "metadata": {
    "ExecuteTime": {
     "end_time": "2022-12-14T22:05:05.587402Z",
     "start_time": "2022-12-14T22:05:05.458649Z"
    }
   },
   "outputs": [],
   "source": [
    "#Exporting bar graph of income levels by region\n",
    "reg_wrk_bar.figure.savefig((os.path.join(path, '04 Analysis', 'Visualizations', 'reg_wrk_bar.png')), bbox_inches = \"tight\")"
   ]
  },
  {
   "cell_type": "markdown",
   "id": "7188387b",
   "metadata": {},
   "source": [
    "# 09. Mapping Department Name to Department ID"
   ]
  },
  {
   "cell_type": "code",
   "execution_count": 54,
   "id": "52e305c3",
   "metadata": {
    "ExecuteTime": {
     "end_time": "2022-12-14T14:19:16.250302Z",
     "start_time": "2022-12-14T14:19:16.235348Z"
    }
   },
   "outputs": [],
   "source": [
    "#importing departments dataframe\n",
    "df_dept = pd.read_csv(os.path.join(path, '02 Data', 'Prepared Data', 'departments_wrangled.csv'))"
   ]
  },
  {
   "cell_type": "code",
   "execution_count": 55,
   "id": "99bffe6e",
   "metadata": {
    "ExecuteTime": {
     "end_time": "2022-12-14T14:19:16.266249Z",
     "start_time": "2022-12-14T14:19:16.251295Z"
    }
   },
   "outputs": [
    {
     "data": {
      "text/html": [
       "<div>\n",
       "<style scoped>\n",
       "    .dataframe tbody tr th:only-of-type {\n",
       "        vertical-align: middle;\n",
       "    }\n",
       "\n",
       "    .dataframe tbody tr th {\n",
       "        vertical-align: top;\n",
       "    }\n",
       "\n",
       "    .dataframe thead th {\n",
       "        text-align: right;\n",
       "    }\n",
       "</style>\n",
       "<table border=\"1\" class=\"dataframe\">\n",
       "  <thead>\n",
       "    <tr style=\"text-align: right;\">\n",
       "      <th></th>\n",
       "      <th>Unnamed: 0</th>\n",
       "      <th>department</th>\n",
       "    </tr>\n",
       "  </thead>\n",
       "  <tbody>\n",
       "    <tr>\n",
       "      <th>0</th>\n",
       "      <td>1</td>\n",
       "      <td>frozen</td>\n",
       "    </tr>\n",
       "    <tr>\n",
       "      <th>1</th>\n",
       "      <td>2</td>\n",
       "      <td>other</td>\n",
       "    </tr>\n",
       "    <tr>\n",
       "      <th>2</th>\n",
       "      <td>3</td>\n",
       "      <td>bakery</td>\n",
       "    </tr>\n",
       "    <tr>\n",
       "      <th>3</th>\n",
       "      <td>4</td>\n",
       "      <td>produce</td>\n",
       "    </tr>\n",
       "    <tr>\n",
       "      <th>4</th>\n",
       "      <td>5</td>\n",
       "      <td>alcohol</td>\n",
       "    </tr>\n",
       "    <tr>\n",
       "      <th>5</th>\n",
       "      <td>6</td>\n",
       "      <td>international</td>\n",
       "    </tr>\n",
       "    <tr>\n",
       "      <th>6</th>\n",
       "      <td>7</td>\n",
       "      <td>beverages</td>\n",
       "    </tr>\n",
       "    <tr>\n",
       "      <th>7</th>\n",
       "      <td>8</td>\n",
       "      <td>pets</td>\n",
       "    </tr>\n",
       "    <tr>\n",
       "      <th>8</th>\n",
       "      <td>9</td>\n",
       "      <td>dry goods pasta</td>\n",
       "    </tr>\n",
       "    <tr>\n",
       "      <th>9</th>\n",
       "      <td>10</td>\n",
       "      <td>bulk</td>\n",
       "    </tr>\n",
       "    <tr>\n",
       "      <th>10</th>\n",
       "      <td>11</td>\n",
       "      <td>personal care</td>\n",
       "    </tr>\n",
       "    <tr>\n",
       "      <th>11</th>\n",
       "      <td>12</td>\n",
       "      <td>meat seafood</td>\n",
       "    </tr>\n",
       "    <tr>\n",
       "      <th>12</th>\n",
       "      <td>13</td>\n",
       "      <td>pantry</td>\n",
       "    </tr>\n",
       "    <tr>\n",
       "      <th>13</th>\n",
       "      <td>14</td>\n",
       "      <td>breakfast</td>\n",
       "    </tr>\n",
       "    <tr>\n",
       "      <th>14</th>\n",
       "      <td>15</td>\n",
       "      <td>canned goods</td>\n",
       "    </tr>\n",
       "    <tr>\n",
       "      <th>15</th>\n",
       "      <td>16</td>\n",
       "      <td>dairy eggs</td>\n",
       "    </tr>\n",
       "    <tr>\n",
       "      <th>16</th>\n",
       "      <td>17</td>\n",
       "      <td>household</td>\n",
       "    </tr>\n",
       "    <tr>\n",
       "      <th>17</th>\n",
       "      <td>18</td>\n",
       "      <td>babies</td>\n",
       "    </tr>\n",
       "    <tr>\n",
       "      <th>18</th>\n",
       "      <td>19</td>\n",
       "      <td>snacks</td>\n",
       "    </tr>\n",
       "    <tr>\n",
       "      <th>19</th>\n",
       "      <td>20</td>\n",
       "      <td>deli</td>\n",
       "    </tr>\n",
       "    <tr>\n",
       "      <th>20</th>\n",
       "      <td>21</td>\n",
       "      <td>missing</td>\n",
       "    </tr>\n",
       "  </tbody>\n",
       "</table>\n",
       "</div>"
      ],
      "text/plain": [
       "    Unnamed: 0       department\n",
       "0            1           frozen\n",
       "1            2            other\n",
       "2            3           bakery\n",
       "3            4          produce\n",
       "4            5          alcohol\n",
       "5            6    international\n",
       "6            7        beverages\n",
       "7            8             pets\n",
       "8            9  dry goods pasta\n",
       "9           10             bulk\n",
       "10          11    personal care\n",
       "11          12     meat seafood\n",
       "12          13           pantry\n",
       "13          14        breakfast\n",
       "14          15     canned goods\n",
       "15          16       dairy eggs\n",
       "16          17        household\n",
       "17          18           babies\n",
       "18          19           snacks\n",
       "19          20             deli\n",
       "20          21          missing"
      ]
     },
     "execution_count": 55,
     "metadata": {},
     "output_type": "execute_result"
    }
   ],
   "source": [
    "df_dept"
   ]
  },
  {
   "cell_type": "code",
   "execution_count": 56,
   "id": "6cc3fbac",
   "metadata": {
    "ExecuteTime": {
     "end_time": "2022-12-14T14:19:16.282195Z",
     "start_time": "2022-12-14T14:19:16.268239Z"
    }
   },
   "outputs": [],
   "source": [
    "#renaming column to creat merge key\n",
    "df_dept.rename(columns = {'Unnamed: 0': 'department_id'}, inplace = True)"
   ]
  },
  {
   "cell_type": "code",
   "execution_count": 57,
   "id": "81f5fe9a",
   "metadata": {
    "ExecuteTime": {
     "end_time": "2022-12-14T14:19:16.298144Z",
     "start_time": "2022-12-14T14:19:16.284187Z"
    }
   },
   "outputs": [
    {
     "data": {
      "text/html": [
       "<div>\n",
       "<style scoped>\n",
       "    .dataframe tbody tr th:only-of-type {\n",
       "        vertical-align: middle;\n",
       "    }\n",
       "\n",
       "    .dataframe tbody tr th {\n",
       "        vertical-align: top;\n",
       "    }\n",
       "\n",
       "    .dataframe thead th {\n",
       "        text-align: right;\n",
       "    }\n",
       "</style>\n",
       "<table border=\"1\" class=\"dataframe\">\n",
       "  <thead>\n",
       "    <tr style=\"text-align: right;\">\n",
       "      <th></th>\n",
       "      <th>department_id</th>\n",
       "      <th>department</th>\n",
       "    </tr>\n",
       "  </thead>\n",
       "  <tbody>\n",
       "    <tr>\n",
       "      <th>0</th>\n",
       "      <td>1</td>\n",
       "      <td>frozen</td>\n",
       "    </tr>\n",
       "    <tr>\n",
       "      <th>1</th>\n",
       "      <td>2</td>\n",
       "      <td>other</td>\n",
       "    </tr>\n",
       "    <tr>\n",
       "      <th>2</th>\n",
       "      <td>3</td>\n",
       "      <td>bakery</td>\n",
       "    </tr>\n",
       "    <tr>\n",
       "      <th>3</th>\n",
       "      <td>4</td>\n",
       "      <td>produce</td>\n",
       "    </tr>\n",
       "    <tr>\n",
       "      <th>4</th>\n",
       "      <td>5</td>\n",
       "      <td>alcohol</td>\n",
       "    </tr>\n",
       "    <tr>\n",
       "      <th>5</th>\n",
       "      <td>6</td>\n",
       "      <td>international</td>\n",
       "    </tr>\n",
       "    <tr>\n",
       "      <th>6</th>\n",
       "      <td>7</td>\n",
       "      <td>beverages</td>\n",
       "    </tr>\n",
       "    <tr>\n",
       "      <th>7</th>\n",
       "      <td>8</td>\n",
       "      <td>pets</td>\n",
       "    </tr>\n",
       "    <tr>\n",
       "      <th>8</th>\n",
       "      <td>9</td>\n",
       "      <td>dry goods pasta</td>\n",
       "    </tr>\n",
       "    <tr>\n",
       "      <th>9</th>\n",
       "      <td>10</td>\n",
       "      <td>bulk</td>\n",
       "    </tr>\n",
       "    <tr>\n",
       "      <th>10</th>\n",
       "      <td>11</td>\n",
       "      <td>personal care</td>\n",
       "    </tr>\n",
       "    <tr>\n",
       "      <th>11</th>\n",
       "      <td>12</td>\n",
       "      <td>meat seafood</td>\n",
       "    </tr>\n",
       "    <tr>\n",
       "      <th>12</th>\n",
       "      <td>13</td>\n",
       "      <td>pantry</td>\n",
       "    </tr>\n",
       "    <tr>\n",
       "      <th>13</th>\n",
       "      <td>14</td>\n",
       "      <td>breakfast</td>\n",
       "    </tr>\n",
       "    <tr>\n",
       "      <th>14</th>\n",
       "      <td>15</td>\n",
       "      <td>canned goods</td>\n",
       "    </tr>\n",
       "    <tr>\n",
       "      <th>15</th>\n",
       "      <td>16</td>\n",
       "      <td>dairy eggs</td>\n",
       "    </tr>\n",
       "    <tr>\n",
       "      <th>16</th>\n",
       "      <td>17</td>\n",
       "      <td>household</td>\n",
       "    </tr>\n",
       "    <tr>\n",
       "      <th>17</th>\n",
       "      <td>18</td>\n",
       "      <td>babies</td>\n",
       "    </tr>\n",
       "    <tr>\n",
       "      <th>18</th>\n",
       "      <td>19</td>\n",
       "      <td>snacks</td>\n",
       "    </tr>\n",
       "    <tr>\n",
       "      <th>19</th>\n",
       "      <td>20</td>\n",
       "      <td>deli</td>\n",
       "    </tr>\n",
       "    <tr>\n",
       "      <th>20</th>\n",
       "      <td>21</td>\n",
       "      <td>missing</td>\n",
       "    </tr>\n",
       "  </tbody>\n",
       "</table>\n",
       "</div>"
      ],
      "text/plain": [
       "    department_id       department\n",
       "0               1           frozen\n",
       "1               2            other\n",
       "2               3           bakery\n",
       "3               4          produce\n",
       "4               5          alcohol\n",
       "5               6    international\n",
       "6               7        beverages\n",
       "7               8             pets\n",
       "8               9  dry goods pasta\n",
       "9              10             bulk\n",
       "10             11    personal care\n",
       "11             12     meat seafood\n",
       "12             13           pantry\n",
       "13             14        breakfast\n",
       "14             15     canned goods\n",
       "15             16       dairy eggs\n",
       "16             17        household\n",
       "17             18           babies\n",
       "18             19           snacks\n",
       "19             20             deli\n",
       "20             21          missing"
      ]
     },
     "execution_count": 57,
     "metadata": {},
     "output_type": "execute_result"
    }
   ],
   "source": [
    "df_dept"
   ]
  },
  {
   "cell_type": "code",
   "execution_count": 58,
   "id": "5310c875",
   "metadata": {
    "ExecuteTime": {
     "end_time": "2022-12-14T14:19:16.314086Z",
     "start_time": "2022-12-14T14:19:16.299134Z"
    }
   },
   "outputs": [],
   "source": [
    "#creating data dictionary\n",
    "zipped = zip(df_dept['department_id'], df_dept['department'])"
   ]
  },
  {
   "cell_type": "code",
   "execution_count": 59,
   "id": "09b4c60b",
   "metadata": {
    "ExecuteTime": {
     "end_time": "2022-12-14T14:19:16.330035Z",
     "start_time": "2022-12-14T14:19:16.317078Z"
    }
   },
   "outputs": [],
   "source": [
    "data_dict = dict(zipped)"
   ]
  },
  {
   "cell_type": "code",
   "execution_count": 60,
   "id": "e7be0bdf",
   "metadata": {
    "ExecuteTime": {
     "end_time": "2022-12-14T14:19:16.345982Z",
     "start_time": "2022-12-14T14:19:16.331029Z"
    }
   },
   "outputs": [
    {
     "data": {
      "text/plain": [
       "{1: 'frozen',\n",
       " 2: 'other',\n",
       " 3: 'bakery',\n",
       " 4: 'produce',\n",
       " 5: 'alcohol',\n",
       " 6: 'international',\n",
       " 7: 'beverages',\n",
       " 8: 'pets',\n",
       " 9: 'dry goods pasta',\n",
       " 10: 'bulk',\n",
       " 11: 'personal care',\n",
       " 12: 'meat seafood',\n",
       " 13: 'pantry',\n",
       " 14: 'breakfast',\n",
       " 15: 'canned goods',\n",
       " 16: 'dairy eggs',\n",
       " 17: 'household',\n",
       " 18: 'babies',\n",
       " 19: 'snacks',\n",
       " 20: 'deli',\n",
       " 21: 'missing'}"
      ]
     },
     "execution_count": 60,
     "metadata": {},
     "output_type": "execute_result"
    }
   ],
   "source": [
    "data_dict"
   ]
  },
  {
   "cell_type": "code",
   "execution_count": 61,
   "id": "1d7ee2e4",
   "metadata": {
    "ExecuteTime": {
     "end_time": "2022-12-14T14:19:16.804002Z",
     "start_time": "2022-12-14T14:19:16.346974Z"
    }
   },
   "outputs": [
    {
     "name": "stderr",
     "output_type": "stream",
     "text": [
      "C:\\Users\\campa\\AppData\\Local\\Temp\\ipykernel_16604\\1413058256.py:2: SettingWithCopyWarning: \n",
      "A value is trying to be set on a copy of a slice from a DataFrame.\n",
      "Try using .loc[row_indexer,col_indexer] = value instead\n",
      "\n",
      "See the caveats in the documentation: https://pandas.pydata.org/pandas-docs/stable/user_guide/indexing.html#returning-a-view-versus-a-copy\n",
      "  df_reg['department'] = df_reg['department_id'].map(data_dict)\n"
     ]
    }
   ],
   "source": [
    "#mapping data dictionary onto main dataframe\n",
    "df_reg['department'] = df_reg['department_id'].map(data_dict)"
   ]
  },
  {
   "cell_type": "code",
   "execution_count": 62,
   "id": "ff2aa959",
   "metadata": {
    "ExecuteTime": {
     "end_time": "2022-12-14T14:19:16.835899Z",
     "start_time": "2022-12-14T14:19:16.805995Z"
    }
   },
   "outputs": [
    {
     "data": {
      "text/html": [
       "<div>\n",
       "<style scoped>\n",
       "    .dataframe tbody tr th:only-of-type {\n",
       "        vertical-align: middle;\n",
       "    }\n",
       "\n",
       "    .dataframe tbody tr th {\n",
       "        vertical-align: top;\n",
       "    }\n",
       "\n",
       "    .dataframe thead th {\n",
       "        text-align: right;\n",
       "    }\n",
       "</style>\n",
       "<table border=\"1\" class=\"dataframe\">\n",
       "  <thead>\n",
       "    <tr style=\"text-align: right;\">\n",
       "      <th></th>\n",
       "      <th>user_id</th>\n",
       "      <th>First Name</th>\n",
       "      <th>Last Name</th>\n",
       "      <th>Gender</th>\n",
       "      <th>STATE</th>\n",
       "      <th>Age</th>\n",
       "      <th>date_joined</th>\n",
       "      <th>n_dependants</th>\n",
       "      <th>Marital Status</th>\n",
       "      <th>income</th>\n",
       "      <th>...</th>\n",
       "      <th>max_order</th>\n",
       "      <th>loyalty_flag</th>\n",
       "      <th>Average_spending</th>\n",
       "      <th>Spending_Flag</th>\n",
       "      <th>Region</th>\n",
       "      <th>activity</th>\n",
       "      <th>Age_Group</th>\n",
       "      <th>family_status</th>\n",
       "      <th>work_status</th>\n",
       "      <th>department</th>\n",
       "    </tr>\n",
       "  </thead>\n",
       "  <tbody>\n",
       "    <tr>\n",
       "      <th>0</th>\n",
       "      <td>26711</td>\n",
       "      <td>Deborah</td>\n",
       "      <td>Esquivel</td>\n",
       "      <td>Female</td>\n",
       "      <td>Missouri</td>\n",
       "      <td>48</td>\n",
       "      <td>1/1/2017</td>\n",
       "      <td>3</td>\n",
       "      <td>married</td>\n",
       "      <td>165665</td>\n",
       "      <td>...</td>\n",
       "      <td>8</td>\n",
       "      <td>New customer</td>\n",
       "      <td>7.988889</td>\n",
       "      <td>Low Spender</td>\n",
       "      <td>Midwest</td>\n",
       "      <td>normal</td>\n",
       "      <td>Middle Age</td>\n",
       "      <td>older children</td>\n",
       "      <td>mid income</td>\n",
       "      <td>beverages</td>\n",
       "    </tr>\n",
       "    <tr>\n",
       "      <th>1</th>\n",
       "      <td>26711</td>\n",
       "      <td>Deborah</td>\n",
       "      <td>Esquivel</td>\n",
       "      <td>Female</td>\n",
       "      <td>Missouri</td>\n",
       "      <td>48</td>\n",
       "      <td>1/1/2017</td>\n",
       "      <td>3</td>\n",
       "      <td>married</td>\n",
       "      <td>165665</td>\n",
       "      <td>...</td>\n",
       "      <td>8</td>\n",
       "      <td>New customer</td>\n",
       "      <td>7.988889</td>\n",
       "      <td>Low Spender</td>\n",
       "      <td>Midwest</td>\n",
       "      <td>normal</td>\n",
       "      <td>Middle Age</td>\n",
       "      <td>older children</td>\n",
       "      <td>mid income</td>\n",
       "      <td>beverages</td>\n",
       "    </tr>\n",
       "    <tr>\n",
       "      <th>2</th>\n",
       "      <td>26711</td>\n",
       "      <td>Deborah</td>\n",
       "      <td>Esquivel</td>\n",
       "      <td>Female</td>\n",
       "      <td>Missouri</td>\n",
       "      <td>48</td>\n",
       "      <td>1/1/2017</td>\n",
       "      <td>3</td>\n",
       "      <td>married</td>\n",
       "      <td>165665</td>\n",
       "      <td>...</td>\n",
       "      <td>8</td>\n",
       "      <td>New customer</td>\n",
       "      <td>7.988889</td>\n",
       "      <td>Low Spender</td>\n",
       "      <td>Midwest</td>\n",
       "      <td>normal</td>\n",
       "      <td>Middle Age</td>\n",
       "      <td>older children</td>\n",
       "      <td>mid income</td>\n",
       "      <td>beverages</td>\n",
       "    </tr>\n",
       "    <tr>\n",
       "      <th>3</th>\n",
       "      <td>26711</td>\n",
       "      <td>Deborah</td>\n",
       "      <td>Esquivel</td>\n",
       "      <td>Female</td>\n",
       "      <td>Missouri</td>\n",
       "      <td>48</td>\n",
       "      <td>1/1/2017</td>\n",
       "      <td>3</td>\n",
       "      <td>married</td>\n",
       "      <td>165665</td>\n",
       "      <td>...</td>\n",
       "      <td>8</td>\n",
       "      <td>New customer</td>\n",
       "      <td>7.988889</td>\n",
       "      <td>Low Spender</td>\n",
       "      <td>Midwest</td>\n",
       "      <td>normal</td>\n",
       "      <td>Middle Age</td>\n",
       "      <td>older children</td>\n",
       "      <td>mid income</td>\n",
       "      <td>dairy eggs</td>\n",
       "    </tr>\n",
       "    <tr>\n",
       "      <th>4</th>\n",
       "      <td>26711</td>\n",
       "      <td>Deborah</td>\n",
       "      <td>Esquivel</td>\n",
       "      <td>Female</td>\n",
       "      <td>Missouri</td>\n",
       "      <td>48</td>\n",
       "      <td>1/1/2017</td>\n",
       "      <td>3</td>\n",
       "      <td>married</td>\n",
       "      <td>165665</td>\n",
       "      <td>...</td>\n",
       "      <td>8</td>\n",
       "      <td>New customer</td>\n",
       "      <td>7.988889</td>\n",
       "      <td>Low Spender</td>\n",
       "      <td>Midwest</td>\n",
       "      <td>normal</td>\n",
       "      <td>Middle Age</td>\n",
       "      <td>older children</td>\n",
       "      <td>mid income</td>\n",
       "      <td>dairy eggs</td>\n",
       "    </tr>\n",
       "    <tr>\n",
       "      <th>5</th>\n",
       "      <td>26711</td>\n",
       "      <td>Deborah</td>\n",
       "      <td>Esquivel</td>\n",
       "      <td>Female</td>\n",
       "      <td>Missouri</td>\n",
       "      <td>48</td>\n",
       "      <td>1/1/2017</td>\n",
       "      <td>3</td>\n",
       "      <td>married</td>\n",
       "      <td>165665</td>\n",
       "      <td>...</td>\n",
       "      <td>8</td>\n",
       "      <td>New customer</td>\n",
       "      <td>7.988889</td>\n",
       "      <td>Low Spender</td>\n",
       "      <td>Midwest</td>\n",
       "      <td>normal</td>\n",
       "      <td>Middle Age</td>\n",
       "      <td>older children</td>\n",
       "      <td>mid income</td>\n",
       "      <td>dairy eggs</td>\n",
       "    </tr>\n",
       "    <tr>\n",
       "      <th>6</th>\n",
       "      <td>26711</td>\n",
       "      <td>Deborah</td>\n",
       "      <td>Esquivel</td>\n",
       "      <td>Female</td>\n",
       "      <td>Missouri</td>\n",
       "      <td>48</td>\n",
       "      <td>1/1/2017</td>\n",
       "      <td>3</td>\n",
       "      <td>married</td>\n",
       "      <td>165665</td>\n",
       "      <td>...</td>\n",
       "      <td>8</td>\n",
       "      <td>New customer</td>\n",
       "      <td>7.988889</td>\n",
       "      <td>Low Spender</td>\n",
       "      <td>Midwest</td>\n",
       "      <td>normal</td>\n",
       "      <td>Middle Age</td>\n",
       "      <td>older children</td>\n",
       "      <td>mid income</td>\n",
       "      <td>dairy eggs</td>\n",
       "    </tr>\n",
       "    <tr>\n",
       "      <th>7</th>\n",
       "      <td>26711</td>\n",
       "      <td>Deborah</td>\n",
       "      <td>Esquivel</td>\n",
       "      <td>Female</td>\n",
       "      <td>Missouri</td>\n",
       "      <td>48</td>\n",
       "      <td>1/1/2017</td>\n",
       "      <td>3</td>\n",
       "      <td>married</td>\n",
       "      <td>165665</td>\n",
       "      <td>...</td>\n",
       "      <td>8</td>\n",
       "      <td>New customer</td>\n",
       "      <td>7.988889</td>\n",
       "      <td>Low Spender</td>\n",
       "      <td>Midwest</td>\n",
       "      <td>normal</td>\n",
       "      <td>Middle Age</td>\n",
       "      <td>older children</td>\n",
       "      <td>mid income</td>\n",
       "      <td>dairy eggs</td>\n",
       "    </tr>\n",
       "    <tr>\n",
       "      <th>8</th>\n",
       "      <td>26711</td>\n",
       "      <td>Deborah</td>\n",
       "      <td>Esquivel</td>\n",
       "      <td>Female</td>\n",
       "      <td>Missouri</td>\n",
       "      <td>48</td>\n",
       "      <td>1/1/2017</td>\n",
       "      <td>3</td>\n",
       "      <td>married</td>\n",
       "      <td>165665</td>\n",
       "      <td>...</td>\n",
       "      <td>8</td>\n",
       "      <td>New customer</td>\n",
       "      <td>7.988889</td>\n",
       "      <td>Low Spender</td>\n",
       "      <td>Midwest</td>\n",
       "      <td>normal</td>\n",
       "      <td>Middle Age</td>\n",
       "      <td>older children</td>\n",
       "      <td>mid income</td>\n",
       "      <td>dairy eggs</td>\n",
       "    </tr>\n",
       "    <tr>\n",
       "      <th>9</th>\n",
       "      <td>26711</td>\n",
       "      <td>Deborah</td>\n",
       "      <td>Esquivel</td>\n",
       "      <td>Female</td>\n",
       "      <td>Missouri</td>\n",
       "      <td>48</td>\n",
       "      <td>1/1/2017</td>\n",
       "      <td>3</td>\n",
       "      <td>married</td>\n",
       "      <td>165665</td>\n",
       "      <td>...</td>\n",
       "      <td>8</td>\n",
       "      <td>New customer</td>\n",
       "      <td>7.988889</td>\n",
       "      <td>Low Spender</td>\n",
       "      <td>Midwest</td>\n",
       "      <td>normal</td>\n",
       "      <td>Middle Age</td>\n",
       "      <td>older children</td>\n",
       "      <td>mid income</td>\n",
       "      <td>produce</td>\n",
       "    </tr>\n",
       "    <tr>\n",
       "      <th>10</th>\n",
       "      <td>26711</td>\n",
       "      <td>Deborah</td>\n",
       "      <td>Esquivel</td>\n",
       "      <td>Female</td>\n",
       "      <td>Missouri</td>\n",
       "      <td>48</td>\n",
       "      <td>1/1/2017</td>\n",
       "      <td>3</td>\n",
       "      <td>married</td>\n",
       "      <td>165665</td>\n",
       "      <td>...</td>\n",
       "      <td>8</td>\n",
       "      <td>New customer</td>\n",
       "      <td>7.988889</td>\n",
       "      <td>Low Spender</td>\n",
       "      <td>Midwest</td>\n",
       "      <td>normal</td>\n",
       "      <td>Middle Age</td>\n",
       "      <td>older children</td>\n",
       "      <td>mid income</td>\n",
       "      <td>produce</td>\n",
       "    </tr>\n",
       "    <tr>\n",
       "      <th>11</th>\n",
       "      <td>26711</td>\n",
       "      <td>Deborah</td>\n",
       "      <td>Esquivel</td>\n",
       "      <td>Female</td>\n",
       "      <td>Missouri</td>\n",
       "      <td>48</td>\n",
       "      <td>1/1/2017</td>\n",
       "      <td>3</td>\n",
       "      <td>married</td>\n",
       "      <td>165665</td>\n",
       "      <td>...</td>\n",
       "      <td>8</td>\n",
       "      <td>New customer</td>\n",
       "      <td>7.988889</td>\n",
       "      <td>Low Spender</td>\n",
       "      <td>Midwest</td>\n",
       "      <td>normal</td>\n",
       "      <td>Middle Age</td>\n",
       "      <td>older children</td>\n",
       "      <td>mid income</td>\n",
       "      <td>produce</td>\n",
       "    </tr>\n",
       "    <tr>\n",
       "      <th>12</th>\n",
       "      <td>26711</td>\n",
       "      <td>Deborah</td>\n",
       "      <td>Esquivel</td>\n",
       "      <td>Female</td>\n",
       "      <td>Missouri</td>\n",
       "      <td>48</td>\n",
       "      <td>1/1/2017</td>\n",
       "      <td>3</td>\n",
       "      <td>married</td>\n",
       "      <td>165665</td>\n",
       "      <td>...</td>\n",
       "      <td>8</td>\n",
       "      <td>New customer</td>\n",
       "      <td>7.988889</td>\n",
       "      <td>Low Spender</td>\n",
       "      <td>Midwest</td>\n",
       "      <td>normal</td>\n",
       "      <td>Middle Age</td>\n",
       "      <td>older children</td>\n",
       "      <td>mid income</td>\n",
       "      <td>produce</td>\n",
       "    </tr>\n",
       "    <tr>\n",
       "      <th>13</th>\n",
       "      <td>26711</td>\n",
       "      <td>Deborah</td>\n",
       "      <td>Esquivel</td>\n",
       "      <td>Female</td>\n",
       "      <td>Missouri</td>\n",
       "      <td>48</td>\n",
       "      <td>1/1/2017</td>\n",
       "      <td>3</td>\n",
       "      <td>married</td>\n",
       "      <td>165665</td>\n",
       "      <td>...</td>\n",
       "      <td>8</td>\n",
       "      <td>New customer</td>\n",
       "      <td>7.988889</td>\n",
       "      <td>Low Spender</td>\n",
       "      <td>Midwest</td>\n",
       "      <td>normal</td>\n",
       "      <td>Middle Age</td>\n",
       "      <td>older children</td>\n",
       "      <td>mid income</td>\n",
       "      <td>produce</td>\n",
       "    </tr>\n",
       "    <tr>\n",
       "      <th>14</th>\n",
       "      <td>26711</td>\n",
       "      <td>Deborah</td>\n",
       "      <td>Esquivel</td>\n",
       "      <td>Female</td>\n",
       "      <td>Missouri</td>\n",
       "      <td>48</td>\n",
       "      <td>1/1/2017</td>\n",
       "      <td>3</td>\n",
       "      <td>married</td>\n",
       "      <td>165665</td>\n",
       "      <td>...</td>\n",
       "      <td>8</td>\n",
       "      <td>New customer</td>\n",
       "      <td>7.988889</td>\n",
       "      <td>Low Spender</td>\n",
       "      <td>Midwest</td>\n",
       "      <td>normal</td>\n",
       "      <td>Middle Age</td>\n",
       "      <td>older children</td>\n",
       "      <td>mid income</td>\n",
       "      <td>produce</td>\n",
       "    </tr>\n",
       "    <tr>\n",
       "      <th>15</th>\n",
       "      <td>26711</td>\n",
       "      <td>Deborah</td>\n",
       "      <td>Esquivel</td>\n",
       "      <td>Female</td>\n",
       "      <td>Missouri</td>\n",
       "      <td>48</td>\n",
       "      <td>1/1/2017</td>\n",
       "      <td>3</td>\n",
       "      <td>married</td>\n",
       "      <td>165665</td>\n",
       "      <td>...</td>\n",
       "      <td>8</td>\n",
       "      <td>New customer</td>\n",
       "      <td>7.988889</td>\n",
       "      <td>Low Spender</td>\n",
       "      <td>Midwest</td>\n",
       "      <td>normal</td>\n",
       "      <td>Middle Age</td>\n",
       "      <td>older children</td>\n",
       "      <td>mid income</td>\n",
       "      <td>produce</td>\n",
       "    </tr>\n",
       "    <tr>\n",
       "      <th>16</th>\n",
       "      <td>26711</td>\n",
       "      <td>Deborah</td>\n",
       "      <td>Esquivel</td>\n",
       "      <td>Female</td>\n",
       "      <td>Missouri</td>\n",
       "      <td>48</td>\n",
       "      <td>1/1/2017</td>\n",
       "      <td>3</td>\n",
       "      <td>married</td>\n",
       "      <td>165665</td>\n",
       "      <td>...</td>\n",
       "      <td>8</td>\n",
       "      <td>New customer</td>\n",
       "      <td>7.988889</td>\n",
       "      <td>Low Spender</td>\n",
       "      <td>Midwest</td>\n",
       "      <td>normal</td>\n",
       "      <td>Middle Age</td>\n",
       "      <td>older children</td>\n",
       "      <td>mid income</td>\n",
       "      <td>produce</td>\n",
       "    </tr>\n",
       "    <tr>\n",
       "      <th>17</th>\n",
       "      <td>26711</td>\n",
       "      <td>Deborah</td>\n",
       "      <td>Esquivel</td>\n",
       "      <td>Female</td>\n",
       "      <td>Missouri</td>\n",
       "      <td>48</td>\n",
       "      <td>1/1/2017</td>\n",
       "      <td>3</td>\n",
       "      <td>married</td>\n",
       "      <td>165665</td>\n",
       "      <td>...</td>\n",
       "      <td>8</td>\n",
       "      <td>New customer</td>\n",
       "      <td>7.988889</td>\n",
       "      <td>Low Spender</td>\n",
       "      <td>Midwest</td>\n",
       "      <td>normal</td>\n",
       "      <td>Middle Age</td>\n",
       "      <td>older children</td>\n",
       "      <td>mid income</td>\n",
       "      <td>snacks</td>\n",
       "    </tr>\n",
       "    <tr>\n",
       "      <th>18</th>\n",
       "      <td>33890</td>\n",
       "      <td>Patricia</td>\n",
       "      <td>Hart</td>\n",
       "      <td>Female</td>\n",
       "      <td>New Mexico</td>\n",
       "      <td>36</td>\n",
       "      <td>1/1/2017</td>\n",
       "      <td>0</td>\n",
       "      <td>single</td>\n",
       "      <td>59285</td>\n",
       "      <td>...</td>\n",
       "      <td>12</td>\n",
       "      <td>Regular customer</td>\n",
       "      <td>7.057534</td>\n",
       "      <td>Low Spender</td>\n",
       "      <td>West</td>\n",
       "      <td>normal</td>\n",
       "      <td>Early Career</td>\n",
       "      <td>no children</td>\n",
       "      <td>low income</td>\n",
       "      <td>beverages</td>\n",
       "    </tr>\n",
       "    <tr>\n",
       "      <th>19</th>\n",
       "      <td>33890</td>\n",
       "      <td>Patricia</td>\n",
       "      <td>Hart</td>\n",
       "      <td>Female</td>\n",
       "      <td>New Mexico</td>\n",
       "      <td>36</td>\n",
       "      <td>1/1/2017</td>\n",
       "      <td>0</td>\n",
       "      <td>single</td>\n",
       "      <td>59285</td>\n",
       "      <td>...</td>\n",
       "      <td>12</td>\n",
       "      <td>Regular customer</td>\n",
       "      <td>7.057534</td>\n",
       "      <td>Low Spender</td>\n",
       "      <td>West</td>\n",
       "      <td>normal</td>\n",
       "      <td>Early Career</td>\n",
       "      <td>no children</td>\n",
       "      <td>low income</td>\n",
       "      <td>beverages</td>\n",
       "    </tr>\n",
       "    <tr>\n",
       "      <th>20</th>\n",
       "      <td>33890</td>\n",
       "      <td>Patricia</td>\n",
       "      <td>Hart</td>\n",
       "      <td>Female</td>\n",
       "      <td>New Mexico</td>\n",
       "      <td>36</td>\n",
       "      <td>1/1/2017</td>\n",
       "      <td>0</td>\n",
       "      <td>single</td>\n",
       "      <td>59285</td>\n",
       "      <td>...</td>\n",
       "      <td>12</td>\n",
       "      <td>Regular customer</td>\n",
       "      <td>7.057534</td>\n",
       "      <td>Low Spender</td>\n",
       "      <td>West</td>\n",
       "      <td>normal</td>\n",
       "      <td>Early Career</td>\n",
       "      <td>no children</td>\n",
       "      <td>low income</td>\n",
       "      <td>beverages</td>\n",
       "    </tr>\n",
       "    <tr>\n",
       "      <th>21</th>\n",
       "      <td>33890</td>\n",
       "      <td>Patricia</td>\n",
       "      <td>Hart</td>\n",
       "      <td>Female</td>\n",
       "      <td>New Mexico</td>\n",
       "      <td>36</td>\n",
       "      <td>1/1/2017</td>\n",
       "      <td>0</td>\n",
       "      <td>single</td>\n",
       "      <td>59285</td>\n",
       "      <td>...</td>\n",
       "      <td>12</td>\n",
       "      <td>Regular customer</td>\n",
       "      <td>7.057534</td>\n",
       "      <td>Low Spender</td>\n",
       "      <td>West</td>\n",
       "      <td>normal</td>\n",
       "      <td>Early Career</td>\n",
       "      <td>no children</td>\n",
       "      <td>low income</td>\n",
       "      <td>produce</td>\n",
       "    </tr>\n",
       "    <tr>\n",
       "      <th>22</th>\n",
       "      <td>33890</td>\n",
       "      <td>Patricia</td>\n",
       "      <td>Hart</td>\n",
       "      <td>Female</td>\n",
       "      <td>New Mexico</td>\n",
       "      <td>36</td>\n",
       "      <td>1/1/2017</td>\n",
       "      <td>0</td>\n",
       "      <td>single</td>\n",
       "      <td>59285</td>\n",
       "      <td>...</td>\n",
       "      <td>12</td>\n",
       "      <td>Regular customer</td>\n",
       "      <td>7.057534</td>\n",
       "      <td>Low Spender</td>\n",
       "      <td>West</td>\n",
       "      <td>normal</td>\n",
       "      <td>Early Career</td>\n",
       "      <td>no children</td>\n",
       "      <td>low income</td>\n",
       "      <td>produce</td>\n",
       "    </tr>\n",
       "    <tr>\n",
       "      <th>23</th>\n",
       "      <td>33890</td>\n",
       "      <td>Patricia</td>\n",
       "      <td>Hart</td>\n",
       "      <td>Female</td>\n",
       "      <td>New Mexico</td>\n",
       "      <td>36</td>\n",
       "      <td>1/1/2017</td>\n",
       "      <td>0</td>\n",
       "      <td>single</td>\n",
       "      <td>59285</td>\n",
       "      <td>...</td>\n",
       "      <td>12</td>\n",
       "      <td>Regular customer</td>\n",
       "      <td>7.057534</td>\n",
       "      <td>Low Spender</td>\n",
       "      <td>West</td>\n",
       "      <td>normal</td>\n",
       "      <td>Early Career</td>\n",
       "      <td>no children</td>\n",
       "      <td>low income</td>\n",
       "      <td>produce</td>\n",
       "    </tr>\n",
       "    <tr>\n",
       "      <th>24</th>\n",
       "      <td>33890</td>\n",
       "      <td>Patricia</td>\n",
       "      <td>Hart</td>\n",
       "      <td>Female</td>\n",
       "      <td>New Mexico</td>\n",
       "      <td>36</td>\n",
       "      <td>1/1/2017</td>\n",
       "      <td>0</td>\n",
       "      <td>single</td>\n",
       "      <td>59285</td>\n",
       "      <td>...</td>\n",
       "      <td>12</td>\n",
       "      <td>Regular customer</td>\n",
       "      <td>7.057534</td>\n",
       "      <td>Low Spender</td>\n",
       "      <td>West</td>\n",
       "      <td>normal</td>\n",
       "      <td>Early Career</td>\n",
       "      <td>no children</td>\n",
       "      <td>low income</td>\n",
       "      <td>produce</td>\n",
       "    </tr>\n",
       "    <tr>\n",
       "      <th>25</th>\n",
       "      <td>33890</td>\n",
       "      <td>Patricia</td>\n",
       "      <td>Hart</td>\n",
       "      <td>Female</td>\n",
       "      <td>New Mexico</td>\n",
       "      <td>36</td>\n",
       "      <td>1/1/2017</td>\n",
       "      <td>0</td>\n",
       "      <td>single</td>\n",
       "      <td>59285</td>\n",
       "      <td>...</td>\n",
       "      <td>12</td>\n",
       "      <td>Regular customer</td>\n",
       "      <td>7.057534</td>\n",
       "      <td>Low Spender</td>\n",
       "      <td>West</td>\n",
       "      <td>normal</td>\n",
       "      <td>Early Career</td>\n",
       "      <td>no children</td>\n",
       "      <td>low income</td>\n",
       "      <td>dairy eggs</td>\n",
       "    </tr>\n",
       "    <tr>\n",
       "      <th>26</th>\n",
       "      <td>33890</td>\n",
       "      <td>Patricia</td>\n",
       "      <td>Hart</td>\n",
       "      <td>Female</td>\n",
       "      <td>New Mexico</td>\n",
       "      <td>36</td>\n",
       "      <td>1/1/2017</td>\n",
       "      <td>0</td>\n",
       "      <td>single</td>\n",
       "      <td>59285</td>\n",
       "      <td>...</td>\n",
       "      <td>12</td>\n",
       "      <td>Regular customer</td>\n",
       "      <td>7.057534</td>\n",
       "      <td>Low Spender</td>\n",
       "      <td>West</td>\n",
       "      <td>normal</td>\n",
       "      <td>Early Career</td>\n",
       "      <td>no children</td>\n",
       "      <td>low income</td>\n",
       "      <td>dairy eggs</td>\n",
       "    </tr>\n",
       "    <tr>\n",
       "      <th>27</th>\n",
       "      <td>33890</td>\n",
       "      <td>Patricia</td>\n",
       "      <td>Hart</td>\n",
       "      <td>Female</td>\n",
       "      <td>New Mexico</td>\n",
       "      <td>36</td>\n",
       "      <td>1/1/2017</td>\n",
       "      <td>0</td>\n",
       "      <td>single</td>\n",
       "      <td>59285</td>\n",
       "      <td>...</td>\n",
       "      <td>12</td>\n",
       "      <td>Regular customer</td>\n",
       "      <td>7.057534</td>\n",
       "      <td>Low Spender</td>\n",
       "      <td>West</td>\n",
       "      <td>normal</td>\n",
       "      <td>Early Career</td>\n",
       "      <td>no children</td>\n",
       "      <td>low income</td>\n",
       "      <td>dairy eggs</td>\n",
       "    </tr>\n",
       "    <tr>\n",
       "      <th>28</th>\n",
       "      <td>33890</td>\n",
       "      <td>Patricia</td>\n",
       "      <td>Hart</td>\n",
       "      <td>Female</td>\n",
       "      <td>New Mexico</td>\n",
       "      <td>36</td>\n",
       "      <td>1/1/2017</td>\n",
       "      <td>0</td>\n",
       "      <td>single</td>\n",
       "      <td>59285</td>\n",
       "      <td>...</td>\n",
       "      <td>12</td>\n",
       "      <td>Regular customer</td>\n",
       "      <td>7.057534</td>\n",
       "      <td>Low Spender</td>\n",
       "      <td>West</td>\n",
       "      <td>normal</td>\n",
       "      <td>Early Career</td>\n",
       "      <td>no children</td>\n",
       "      <td>low income</td>\n",
       "      <td>produce</td>\n",
       "    </tr>\n",
       "    <tr>\n",
       "      <th>29</th>\n",
       "      <td>33890</td>\n",
       "      <td>Patricia</td>\n",
       "      <td>Hart</td>\n",
       "      <td>Female</td>\n",
       "      <td>New Mexico</td>\n",
       "      <td>36</td>\n",
       "      <td>1/1/2017</td>\n",
       "      <td>0</td>\n",
       "      <td>single</td>\n",
       "      <td>59285</td>\n",
       "      <td>...</td>\n",
       "      <td>12</td>\n",
       "      <td>Regular customer</td>\n",
       "      <td>7.057534</td>\n",
       "      <td>Low Spender</td>\n",
       "      <td>West</td>\n",
       "      <td>normal</td>\n",
       "      <td>Early Career</td>\n",
       "      <td>no children</td>\n",
       "      <td>low income</td>\n",
       "      <td>canned goods</td>\n",
       "    </tr>\n",
       "  </tbody>\n",
       "</table>\n",
       "<p>30 rows × 36 columns</p>\n",
       "</div>"
      ],
      "text/plain": [
       "    user_id First Name Last Name  Gender       STATE  Age date_joined  \\\n",
       "0     26711    Deborah  Esquivel  Female    Missouri   48    1/1/2017   \n",
       "1     26711    Deborah  Esquivel  Female    Missouri   48    1/1/2017   \n",
       "2     26711    Deborah  Esquivel  Female    Missouri   48    1/1/2017   \n",
       "3     26711    Deborah  Esquivel  Female    Missouri   48    1/1/2017   \n",
       "4     26711    Deborah  Esquivel  Female    Missouri   48    1/1/2017   \n",
       "5     26711    Deborah  Esquivel  Female    Missouri   48    1/1/2017   \n",
       "6     26711    Deborah  Esquivel  Female    Missouri   48    1/1/2017   \n",
       "7     26711    Deborah  Esquivel  Female    Missouri   48    1/1/2017   \n",
       "8     26711    Deborah  Esquivel  Female    Missouri   48    1/1/2017   \n",
       "9     26711    Deborah  Esquivel  Female    Missouri   48    1/1/2017   \n",
       "10    26711    Deborah  Esquivel  Female    Missouri   48    1/1/2017   \n",
       "11    26711    Deborah  Esquivel  Female    Missouri   48    1/1/2017   \n",
       "12    26711    Deborah  Esquivel  Female    Missouri   48    1/1/2017   \n",
       "13    26711    Deborah  Esquivel  Female    Missouri   48    1/1/2017   \n",
       "14    26711    Deborah  Esquivel  Female    Missouri   48    1/1/2017   \n",
       "15    26711    Deborah  Esquivel  Female    Missouri   48    1/1/2017   \n",
       "16    26711    Deborah  Esquivel  Female    Missouri   48    1/1/2017   \n",
       "17    26711    Deborah  Esquivel  Female    Missouri   48    1/1/2017   \n",
       "18    33890   Patricia      Hart  Female  New Mexico   36    1/1/2017   \n",
       "19    33890   Patricia      Hart  Female  New Mexico   36    1/1/2017   \n",
       "20    33890   Patricia      Hart  Female  New Mexico   36    1/1/2017   \n",
       "21    33890   Patricia      Hart  Female  New Mexico   36    1/1/2017   \n",
       "22    33890   Patricia      Hart  Female  New Mexico   36    1/1/2017   \n",
       "23    33890   Patricia      Hart  Female  New Mexico   36    1/1/2017   \n",
       "24    33890   Patricia      Hart  Female  New Mexico   36    1/1/2017   \n",
       "25    33890   Patricia      Hart  Female  New Mexico   36    1/1/2017   \n",
       "26    33890   Patricia      Hart  Female  New Mexico   36    1/1/2017   \n",
       "27    33890   Patricia      Hart  Female  New Mexico   36    1/1/2017   \n",
       "28    33890   Patricia      Hart  Female  New Mexico   36    1/1/2017   \n",
       "29    33890   Patricia      Hart  Female  New Mexico   36    1/1/2017   \n",
       "\n",
       "    n_dependants Marital Status  income  ...  max_order      loyalty_flag  \\\n",
       "0              3        married  165665  ...          8      New customer   \n",
       "1              3        married  165665  ...          8      New customer   \n",
       "2              3        married  165665  ...          8      New customer   \n",
       "3              3        married  165665  ...          8      New customer   \n",
       "4              3        married  165665  ...          8      New customer   \n",
       "5              3        married  165665  ...          8      New customer   \n",
       "6              3        married  165665  ...          8      New customer   \n",
       "7              3        married  165665  ...          8      New customer   \n",
       "8              3        married  165665  ...          8      New customer   \n",
       "9              3        married  165665  ...          8      New customer   \n",
       "10             3        married  165665  ...          8      New customer   \n",
       "11             3        married  165665  ...          8      New customer   \n",
       "12             3        married  165665  ...          8      New customer   \n",
       "13             3        married  165665  ...          8      New customer   \n",
       "14             3        married  165665  ...          8      New customer   \n",
       "15             3        married  165665  ...          8      New customer   \n",
       "16             3        married  165665  ...          8      New customer   \n",
       "17             3        married  165665  ...          8      New customer   \n",
       "18             0         single   59285  ...         12  Regular customer   \n",
       "19             0         single   59285  ...         12  Regular customer   \n",
       "20             0         single   59285  ...         12  Regular customer   \n",
       "21             0         single   59285  ...         12  Regular customer   \n",
       "22             0         single   59285  ...         12  Regular customer   \n",
       "23             0         single   59285  ...         12  Regular customer   \n",
       "24             0         single   59285  ...         12  Regular customer   \n",
       "25             0         single   59285  ...         12  Regular customer   \n",
       "26             0         single   59285  ...         12  Regular customer   \n",
       "27             0         single   59285  ...         12  Regular customer   \n",
       "28             0         single   59285  ...         12  Regular customer   \n",
       "29             0         single   59285  ...         12  Regular customer   \n",
       "\n",
       "    Average_spending  Spending_Flag   Region  activity     Age_Group  \\\n",
       "0           7.988889    Low Spender  Midwest    normal    Middle Age   \n",
       "1           7.988889    Low Spender  Midwest    normal    Middle Age   \n",
       "2           7.988889    Low Spender  Midwest    normal    Middle Age   \n",
       "3           7.988889    Low Spender  Midwest    normal    Middle Age   \n",
       "4           7.988889    Low Spender  Midwest    normal    Middle Age   \n",
       "5           7.988889    Low Spender  Midwest    normal    Middle Age   \n",
       "6           7.988889    Low Spender  Midwest    normal    Middle Age   \n",
       "7           7.988889    Low Spender  Midwest    normal    Middle Age   \n",
       "8           7.988889    Low Spender  Midwest    normal    Middle Age   \n",
       "9           7.988889    Low Spender  Midwest    normal    Middle Age   \n",
       "10          7.988889    Low Spender  Midwest    normal    Middle Age   \n",
       "11          7.988889    Low Spender  Midwest    normal    Middle Age   \n",
       "12          7.988889    Low Spender  Midwest    normal    Middle Age   \n",
       "13          7.988889    Low Spender  Midwest    normal    Middle Age   \n",
       "14          7.988889    Low Spender  Midwest    normal    Middle Age   \n",
       "15          7.988889    Low Spender  Midwest    normal    Middle Age   \n",
       "16          7.988889    Low Spender  Midwest    normal    Middle Age   \n",
       "17          7.988889    Low Spender  Midwest    normal    Middle Age   \n",
       "18          7.057534    Low Spender     West    normal  Early Career   \n",
       "19          7.057534    Low Spender     West    normal  Early Career   \n",
       "20          7.057534    Low Spender     West    normal  Early Career   \n",
       "21          7.057534    Low Spender     West    normal  Early Career   \n",
       "22          7.057534    Low Spender     West    normal  Early Career   \n",
       "23          7.057534    Low Spender     West    normal  Early Career   \n",
       "24          7.057534    Low Spender     West    normal  Early Career   \n",
       "25          7.057534    Low Spender     West    normal  Early Career   \n",
       "26          7.057534    Low Spender     West    normal  Early Career   \n",
       "27          7.057534    Low Spender     West    normal  Early Career   \n",
       "28          7.057534    Low Spender     West    normal  Early Career   \n",
       "29          7.057534    Low Spender     West    normal  Early Career   \n",
       "\n",
       "     family_status  work_status    department  \n",
       "0   older children   mid income     beverages  \n",
       "1   older children   mid income     beverages  \n",
       "2   older children   mid income     beverages  \n",
       "3   older children   mid income    dairy eggs  \n",
       "4   older children   mid income    dairy eggs  \n",
       "5   older children   mid income    dairy eggs  \n",
       "6   older children   mid income    dairy eggs  \n",
       "7   older children   mid income    dairy eggs  \n",
       "8   older children   mid income    dairy eggs  \n",
       "9   older children   mid income       produce  \n",
       "10  older children   mid income       produce  \n",
       "11  older children   mid income       produce  \n",
       "12  older children   mid income       produce  \n",
       "13  older children   mid income       produce  \n",
       "14  older children   mid income       produce  \n",
       "15  older children   mid income       produce  \n",
       "16  older children   mid income       produce  \n",
       "17  older children   mid income        snacks  \n",
       "18     no children   low income     beverages  \n",
       "19     no children   low income     beverages  \n",
       "20     no children   low income     beverages  \n",
       "21     no children   low income       produce  \n",
       "22     no children   low income       produce  \n",
       "23     no children   low income       produce  \n",
       "24     no children   low income       produce  \n",
       "25     no children   low income    dairy eggs  \n",
       "26     no children   low income    dairy eggs  \n",
       "27     no children   low income    dairy eggs  \n",
       "28     no children   low income       produce  \n",
       "29     no children   low income  canned goods  \n",
       "\n",
       "[30 rows x 36 columns]"
      ]
     },
     "execution_count": 62,
     "metadata": {},
     "output_type": "execute_result"
    }
   ],
   "source": [
    "df_reg.head(30)"
   ]
  },
  {
   "cell_type": "markdown",
   "id": "143f21ef",
   "metadata": {},
   "source": [
    "# 10. Crossing Departments with New Variables"
   ]
  },
  {
   "cell_type": "code",
   "execution_count": 63,
   "id": "35099cda",
   "metadata": {
    "ExecuteTime": {
     "end_time": "2022-12-14T14:19:21.124081Z",
     "start_time": "2022-12-14T14:19:16.836892Z"
    }
   },
   "outputs": [],
   "source": [
    "#creating crosstab of department sales by age range\n",
    "age_dept = pd.crosstab(df_reg['department'], df_reg['Age_Group'])"
   ]
  },
  {
   "cell_type": "code",
   "execution_count": 64,
   "id": "494d5299",
   "metadata": {
    "ExecuteTime": {
     "end_time": "2022-12-14T14:19:21.140028Z",
     "start_time": "2022-12-14T14:19:21.125078Z"
    }
   },
   "outputs": [
    {
     "data": {
      "text/html": [
       "<div>\n",
       "<style scoped>\n",
       "    .dataframe tbody tr th:only-of-type {\n",
       "        vertical-align: middle;\n",
       "    }\n",
       "\n",
       "    .dataframe tbody tr th {\n",
       "        vertical-align: top;\n",
       "    }\n",
       "\n",
       "    .dataframe thead th {\n",
       "        text-align: right;\n",
       "    }\n",
       "</style>\n",
       "<table border=\"1\" class=\"dataframe\">\n",
       "  <thead>\n",
       "    <tr style=\"text-align: right;\">\n",
       "      <th>Age_Group</th>\n",
       "      <th>College Age</th>\n",
       "      <th>Early Career</th>\n",
       "      <th>Middle Age</th>\n",
       "      <th>Retirement Age</th>\n",
       "    </tr>\n",
       "    <tr>\n",
       "      <th>department</th>\n",
       "      <th></th>\n",
       "      <th></th>\n",
       "      <th></th>\n",
       "      <th></th>\n",
       "    </tr>\n",
       "  </thead>\n",
       "  <tbody>\n",
       "    <tr>\n",
       "      <th>alcohol</th>\n",
       "      <td>17477</td>\n",
       "      <td>34179</td>\n",
       "      <td>56278</td>\n",
       "      <td>36693</td>\n",
       "    </tr>\n",
       "    <tr>\n",
       "      <th>babies</th>\n",
       "      <td>45825</td>\n",
       "      <td>95631</td>\n",
       "      <td>162732</td>\n",
       "      <td>106204</td>\n",
       "    </tr>\n",
       "    <tr>\n",
       "      <th>bakery</th>\n",
       "      <td>123582</td>\n",
       "      <td>262420</td>\n",
       "      <td>438829</td>\n",
       "      <td>295997</td>\n",
       "    </tr>\n",
       "    <tr>\n",
       "      <th>beverages</th>\n",
       "      <td>279256</td>\n",
       "      <td>594917</td>\n",
       "      <td>1013708</td>\n",
       "      <td>684020</td>\n",
       "    </tr>\n",
       "    <tr>\n",
       "      <th>breakfast</th>\n",
       "      <td>75448</td>\n",
       "      <td>156491</td>\n",
       "      <td>263615</td>\n",
       "      <td>175296</td>\n",
       "    </tr>\n",
       "    <tr>\n",
       "      <th>bulk</th>\n",
       "      <td>3767</td>\n",
       "      <td>7857</td>\n",
       "      <td>12882</td>\n",
       "      <td>8945</td>\n",
       "    </tr>\n",
       "    <tr>\n",
       "      <th>canned goods</th>\n",
       "      <td>111594</td>\n",
       "      <td>238122</td>\n",
       "      <td>394849</td>\n",
       "      <td>267509</td>\n",
       "    </tr>\n",
       "    <tr>\n",
       "      <th>dairy eggs</th>\n",
       "      <td>573152</td>\n",
       "      <td>1220151</td>\n",
       "      <td>2015807</td>\n",
       "      <td>1368072</td>\n",
       "    </tr>\n",
       "    <tr>\n",
       "      <th>deli</th>\n",
       "      <td>109972</td>\n",
       "      <td>235873</td>\n",
       "      <td>392790</td>\n",
       "      <td>265199</td>\n",
       "    </tr>\n",
       "    <tr>\n",
       "      <th>dry goods pasta</th>\n",
       "      <td>91735</td>\n",
       "      <td>191764</td>\n",
       "      <td>321321</td>\n",
       "      <td>217316</td>\n",
       "    </tr>\n",
       "    <tr>\n",
       "      <th>frozen</th>\n",
       "      <td>234088</td>\n",
       "      <td>492715</td>\n",
       "      <td>830678</td>\n",
       "      <td>564250</td>\n",
       "    </tr>\n",
       "    <tr>\n",
       "      <th>household</th>\n",
       "      <td>77019</td>\n",
       "      <td>162086</td>\n",
       "      <td>274122</td>\n",
       "      <td>186630</td>\n",
       "    </tr>\n",
       "    <tr>\n",
       "      <th>international</th>\n",
       "      <td>28610</td>\n",
       "      <td>60236</td>\n",
       "      <td>99946</td>\n",
       "      <td>67199</td>\n",
       "    </tr>\n",
       "    <tr>\n",
       "      <th>meat seafood</th>\n",
       "      <td>75237</td>\n",
       "      <td>155262</td>\n",
       "      <td>263132</td>\n",
       "      <td>181150</td>\n",
       "    </tr>\n",
       "    <tr>\n",
       "      <th>missing</th>\n",
       "      <td>7439</td>\n",
       "      <td>15060</td>\n",
       "      <td>25354</td>\n",
       "      <td>16915</td>\n",
       "    </tr>\n",
       "    <tr>\n",
       "      <th>other</th>\n",
       "      <td>3923</td>\n",
       "      <td>8195</td>\n",
       "      <td>13347</td>\n",
       "      <td>8946</td>\n",
       "    </tr>\n",
       "    <tr>\n",
       "      <th>pantry</th>\n",
       "      <td>196701</td>\n",
       "      <td>415461</td>\n",
       "      <td>698160</td>\n",
       "      <td>472383</td>\n",
       "    </tr>\n",
       "    <tr>\n",
       "      <th>personal care</th>\n",
       "      <td>46534</td>\n",
       "      <td>98273</td>\n",
       "      <td>168447</td>\n",
       "      <td>111052</td>\n",
       "    </tr>\n",
       "    <tr>\n",
       "      <th>pets</th>\n",
       "      <td>11304</td>\n",
       "      <td>20614</td>\n",
       "      <td>36027</td>\n",
       "      <td>25115</td>\n",
       "    </tr>\n",
       "    <tr>\n",
       "      <th>produce</th>\n",
       "      <td>999328</td>\n",
       "      <td>2129525</td>\n",
       "      <td>3542316</td>\n",
       "      <td>2408104</td>\n",
       "    </tr>\n",
       "    <tr>\n",
       "      <th>snacks</th>\n",
       "      <td>303203</td>\n",
       "      <td>655084</td>\n",
       "      <td>1079570</td>\n",
       "      <td>728549</td>\n",
       "    </tr>\n",
       "  </tbody>\n",
       "</table>\n",
       "</div>"
      ],
      "text/plain": [
       "Age_Group        College Age  Early Career  Middle Age  Retirement Age\n",
       "department                                                            \n",
       "alcohol                17477         34179       56278           36693\n",
       "babies                 45825         95631      162732          106204\n",
       "bakery                123582        262420      438829          295997\n",
       "beverages             279256        594917     1013708          684020\n",
       "breakfast              75448        156491      263615          175296\n",
       "bulk                    3767          7857       12882            8945\n",
       "canned goods          111594        238122      394849          267509\n",
       "dairy eggs            573152       1220151     2015807         1368072\n",
       "deli                  109972        235873      392790          265199\n",
       "dry goods pasta        91735        191764      321321          217316\n",
       "frozen                234088        492715      830678          564250\n",
       "household              77019        162086      274122          186630\n",
       "international          28610         60236       99946           67199\n",
       "meat seafood           75237        155262      263132          181150\n",
       "missing                 7439         15060       25354           16915\n",
       "other                   3923          8195       13347            8946\n",
       "pantry                196701        415461      698160          472383\n",
       "personal care          46534         98273      168447          111052\n",
       "pets                   11304         20614       36027           25115\n",
       "produce               999328       2129525     3542316         2408104\n",
       "snacks                303203        655084     1079570          728549"
      ]
     },
     "execution_count": 64,
     "metadata": {},
     "output_type": "execute_result"
    }
   ],
   "source": [
    "age_dept"
   ]
  },
  {
   "cell_type": "code",
   "execution_count": 66,
   "id": "3859ec0a",
   "metadata": {
    "ExecuteTime": {
     "end_time": "2022-12-14T14:25:18.573823Z",
     "start_time": "2022-12-14T14:25:18.387447Z"
    }
   },
   "outputs": [
    {
     "data": {
      "image/png": "[encoded data removed]",
      "text/plain": [
       "<Figure size 640x480 with 1 Axes>"
      ]
     },
     "metadata": {},
     "output_type": "display_data"
    }
   ],
   "source": [
    "#creating bar graph of deparment sales by age group\n",
    "age_dept_bar = age_dept.plot(kind = 'bar', stacked = True, color = ['darkgreen', 'limegreen', 'seagreen', 'lime'])"
   ]
  },
  {
   "cell_type": "code",
   "execution_count": 149,
   "id": "c054d84e",
   "metadata": {
    "ExecuteTime": {
     "end_time": "2022-12-14T22:05:45.585483Z",
     "start_time": "2022-12-14T22:05:45.299414Z"
    }
   },
   "outputs": [],
   "source": [
    "#Exporting bar graph of department sales by age group\n",
    "age_dept_bar.figure.savefig(os.path.join(path, '04 Analysis', 'Visualizations', 'age_dept_bar.png'), bbox_inches = \"tight\")"
   ]
  },
  {
   "cell_type": "code",
   "execution_count": 68,
   "id": "daaff8de",
   "metadata": {
    "ExecuteTime": {
     "end_time": "2022-12-14T14:25:18.652560Z",
     "start_time": "2022-12-14T14:25:18.637609Z"
    }
   },
   "outputs": [],
   "source": [
    "#copying department sales by age group to clipboard\n",
    "age_dept.to_clipboard()"
   ]
  },
  {
   "cell_type": "code",
   "execution_count": 69,
   "id": "9d493385",
   "metadata": {
    "ExecuteTime": {
     "end_time": "2022-12-14T14:25:23.350356Z",
     "start_time": "2022-12-14T14:25:18.653557Z"
    }
   },
   "outputs": [],
   "source": [
    "#Creating crosstab of department sales by family status\n",
    "fam_prod = pd.crosstab(df_reg['department'], df_reg['family_status'])"
   ]
  },
  {
   "cell_type": "code",
   "execution_count": 70,
   "id": "b350cc2d",
   "metadata": {
    "ExecuteTime": {
     "end_time": "2022-12-14T14:25:23.366304Z",
     "start_time": "2022-12-14T14:25:23.352345Z"
    },
    "scrolled": true
   },
   "outputs": [
    {
     "data": {
      "text/html": [
       "<div>\n",
       "<style scoped>\n",
       "    .dataframe tbody tr th:only-of-type {\n",
       "        vertical-align: middle;\n",
       "    }\n",
       "\n",
       "    .dataframe tbody tr th {\n",
       "        vertical-align: top;\n",
       "    }\n",
       "\n",
       "    .dataframe thead th {\n",
       "        text-align: right;\n",
       "    }\n",
       "</style>\n",
       "<table border=\"1\" class=\"dataframe\">\n",
       "  <thead>\n",
       "    <tr style=\"text-align: right;\">\n",
       "      <th>family_status</th>\n",
       "      <th>no children</th>\n",
       "      <th>older children</th>\n",
       "      <th>young children</th>\n",
       "    </tr>\n",
       "    <tr>\n",
       "      <th>department</th>\n",
       "      <th></th>\n",
       "      <th></th>\n",
       "      <th></th>\n",
       "    </tr>\n",
       "  </thead>\n",
       "  <tbody>\n",
       "    <tr>\n",
       "      <th>alcohol</th>\n",
       "      <td>36827</td>\n",
       "      <td>107800</td>\n",
       "      <td>0</td>\n",
       "    </tr>\n",
       "    <tr>\n",
       "      <th>babies</th>\n",
       "      <td>103328</td>\n",
       "      <td>0</td>\n",
       "      <td>307064</td>\n",
       "    </tr>\n",
       "    <tr>\n",
       "      <th>bakery</th>\n",
       "      <td>281395</td>\n",
       "      <td>839433</td>\n",
       "      <td>0</td>\n",
       "    </tr>\n",
       "    <tr>\n",
       "      <th>beverages</th>\n",
       "      <td>645341</td>\n",
       "      <td>1926560</td>\n",
       "      <td>0</td>\n",
       "    </tr>\n",
       "    <tr>\n",
       "      <th>breakfast</th>\n",
       "      <td>166432</td>\n",
       "      <td>504418</td>\n",
       "      <td>0</td>\n",
       "    </tr>\n",
       "    <tr>\n",
       "      <th>bulk</th>\n",
       "      <td>8000</td>\n",
       "      <td>25451</td>\n",
       "      <td>0</td>\n",
       "    </tr>\n",
       "    <tr>\n",
       "      <th>canned goods</th>\n",
       "      <td>251020</td>\n",
       "      <td>761054</td>\n",
       "      <td>0</td>\n",
       "    </tr>\n",
       "    <tr>\n",
       "      <th>dairy eggs</th>\n",
       "      <td>1294376</td>\n",
       "      <td>3882806</td>\n",
       "      <td>0</td>\n",
       "    </tr>\n",
       "    <tr>\n",
       "      <th>deli</th>\n",
       "      <td>253382</td>\n",
       "      <td>750452</td>\n",
       "      <td>0</td>\n",
       "    </tr>\n",
       "    <tr>\n",
       "      <th>dry goods pasta</th>\n",
       "      <td>204296</td>\n",
       "      <td>617840</td>\n",
       "      <td>0</td>\n",
       "    </tr>\n",
       "    <tr>\n",
       "      <th>frozen</th>\n",
       "      <td>529348</td>\n",
       "      <td>1592383</td>\n",
       "      <td>0</td>\n",
       "    </tr>\n",
       "    <tr>\n",
       "      <th>household</th>\n",
       "      <td>171358</td>\n",
       "      <td>528499</td>\n",
       "      <td>0</td>\n",
       "    </tr>\n",
       "    <tr>\n",
       "      <th>international</th>\n",
       "      <td>64461</td>\n",
       "      <td>191530</td>\n",
       "      <td>0</td>\n",
       "    </tr>\n",
       "    <tr>\n",
       "      <th>meat seafood</th>\n",
       "      <td>165878</td>\n",
       "      <td>508903</td>\n",
       "      <td>0</td>\n",
       "    </tr>\n",
       "    <tr>\n",
       "      <th>missing</th>\n",
       "      <td>15935</td>\n",
       "      <td>48833</td>\n",
       "      <td>0</td>\n",
       "    </tr>\n",
       "    <tr>\n",
       "      <th>other</th>\n",
       "      <td>8714</td>\n",
       "      <td>25697</td>\n",
       "      <td>0</td>\n",
       "    </tr>\n",
       "    <tr>\n",
       "      <th>pantry</th>\n",
       "      <td>443904</td>\n",
       "      <td>1338801</td>\n",
       "      <td>0</td>\n",
       "    </tr>\n",
       "    <tr>\n",
       "      <th>personal care</th>\n",
       "      <td>106205</td>\n",
       "      <td>318101</td>\n",
       "      <td>0</td>\n",
       "    </tr>\n",
       "    <tr>\n",
       "      <th>pets</th>\n",
       "      <td>23602</td>\n",
       "      <td>69458</td>\n",
       "      <td>0</td>\n",
       "    </tr>\n",
       "    <tr>\n",
       "      <th>produce</th>\n",
       "      <td>2275441</td>\n",
       "      <td>6803832</td>\n",
       "      <td>0</td>\n",
       "    </tr>\n",
       "    <tr>\n",
       "      <th>snacks</th>\n",
       "      <td>690438</td>\n",
       "      <td>2075968</td>\n",
       "      <td>0</td>\n",
       "    </tr>\n",
       "  </tbody>\n",
       "</table>\n",
       "</div>"
      ],
      "text/plain": [
       "family_status    no children  older children  young children\n",
       "department                                                  \n",
       "alcohol                36827          107800               0\n",
       "babies                103328               0          307064\n",
       "bakery                281395          839433               0\n",
       "beverages             645341         1926560               0\n",
       "breakfast             166432          504418               0\n",
       "bulk                    8000           25451               0\n",
       "canned goods          251020          761054               0\n",
       "dairy eggs           1294376         3882806               0\n",
       "deli                  253382          750452               0\n",
       "dry goods pasta       204296          617840               0\n",
       "frozen                529348         1592383               0\n",
       "household             171358          528499               0\n",
       "international          64461          191530               0\n",
       "meat seafood          165878          508903               0\n",
       "missing                15935           48833               0\n",
       "other                   8714           25697               0\n",
       "pantry                443904         1338801               0\n",
       "personal care         106205          318101               0\n",
       "pets                   23602           69458               0\n",
       "produce              2275441         6803832               0\n",
       "snacks                690438         2075968               0"
      ]
     },
     "execution_count": 70,
     "metadata": {},
     "output_type": "execute_result"
    }
   ],
   "source": [
    "fam_prod"
   ]
  },
  {
   "cell_type": "code",
   "execution_count": 71,
   "id": "38f896cb",
   "metadata": {
    "ExecuteTime": {
     "end_time": "2022-12-14T14:25:27.606582Z",
     "start_time": "2022-12-14T14:25:23.367300Z"
    }
   },
   "outputs": [],
   "source": [
    "#Creating crosstab of department sales by region\n",
    "reg_prod = pd.crosstab(df_reg['department'], df_reg['Region'])"
   ]
  },
  {
   "cell_type": "code",
   "execution_count": 72,
   "id": "1a4b82d9",
   "metadata": {
    "ExecuteTime": {
     "end_time": "2022-12-14T14:25:27.621837Z",
     "start_time": "2022-12-14T14:25:27.607869Z"
    }
   },
   "outputs": [
    {
     "data": {
      "text/html": [
       "<div>\n",
       "<style scoped>\n",
       "    .dataframe tbody tr th:only-of-type {\n",
       "        vertical-align: middle;\n",
       "    }\n",
       "\n",
       "    .dataframe tbody tr th {\n",
       "        vertical-align: top;\n",
       "    }\n",
       "\n",
       "    .dataframe thead th {\n",
       "        text-align: right;\n",
       "    }\n",
       "</style>\n",
       "<table border=\"1\" class=\"dataframe\">\n",
       "  <thead>\n",
       "    <tr style=\"text-align: right;\">\n",
       "      <th>Region</th>\n",
       "      <th>Midwest</th>\n",
       "      <th>Northeast</th>\n",
       "      <th>South</th>\n",
       "      <th>West</th>\n",
       "    </tr>\n",
       "    <tr>\n",
       "      <th>department</th>\n",
       "      <th></th>\n",
       "      <th></th>\n",
       "      <th></th>\n",
       "      <th></th>\n",
       "    </tr>\n",
       "  </thead>\n",
       "  <tbody>\n",
       "    <tr>\n",
       "      <th>alcohol</th>\n",
       "      <td>34043</td>\n",
       "      <td>25017</td>\n",
       "      <td>46274</td>\n",
       "      <td>39293</td>\n",
       "    </tr>\n",
       "    <tr>\n",
       "      <th>babies</th>\n",
       "      <td>95741</td>\n",
       "      <td>72712</td>\n",
       "      <td>131439</td>\n",
       "      <td>110500</td>\n",
       "    </tr>\n",
       "    <tr>\n",
       "      <th>bakery</th>\n",
       "      <td>261753</td>\n",
       "      <td>199300</td>\n",
       "      <td>349485</td>\n",
       "      <td>310290</td>\n",
       "    </tr>\n",
       "    <tr>\n",
       "      <th>beverages</th>\n",
       "      <td>598979</td>\n",
       "      <td>462929</td>\n",
       "      <td>807610</td>\n",
       "      <td>702383</td>\n",
       "    </tr>\n",
       "    <tr>\n",
       "      <th>breakfast</th>\n",
       "      <td>156155</td>\n",
       "      <td>117904</td>\n",
       "      <td>209943</td>\n",
       "      <td>186848</td>\n",
       "    </tr>\n",
       "    <tr>\n",
       "      <th>bulk</th>\n",
       "      <td>7929</td>\n",
       "      <td>5599</td>\n",
       "      <td>10488</td>\n",
       "      <td>9435</td>\n",
       "    </tr>\n",
       "    <tr>\n",
       "      <th>canned goods</th>\n",
       "      <td>237459</td>\n",
       "      <td>176936</td>\n",
       "      <td>317361</td>\n",
       "      <td>280318</td>\n",
       "    </tr>\n",
       "    <tr>\n",
       "      <th>dairy eggs</th>\n",
       "      <td>1212490</td>\n",
       "      <td>914616</td>\n",
       "      <td>1622007</td>\n",
       "      <td>1428069</td>\n",
       "    </tr>\n",
       "    <tr>\n",
       "      <th>deli</th>\n",
       "      <td>234464</td>\n",
       "      <td>178398</td>\n",
       "      <td>313613</td>\n",
       "      <td>277359</td>\n",
       "    </tr>\n",
       "    <tr>\n",
       "      <th>dry goods pasta</th>\n",
       "      <td>193463</td>\n",
       "      <td>143817</td>\n",
       "      <td>256239</td>\n",
       "      <td>228617</td>\n",
       "    </tr>\n",
       "    <tr>\n",
       "      <th>frozen</th>\n",
       "      <td>498225</td>\n",
       "      <td>370436</td>\n",
       "      <td>666762</td>\n",
       "      <td>586308</td>\n",
       "    </tr>\n",
       "    <tr>\n",
       "      <th>household</th>\n",
       "      <td>166992</td>\n",
       "      <td>124604</td>\n",
       "      <td>215825</td>\n",
       "      <td>192436</td>\n",
       "    </tr>\n",
       "    <tr>\n",
       "      <th>international</th>\n",
       "      <td>60666</td>\n",
       "      <td>44678</td>\n",
       "      <td>79790</td>\n",
       "      <td>70857</td>\n",
       "    </tr>\n",
       "    <tr>\n",
       "      <th>meat seafood</th>\n",
       "      <td>158260</td>\n",
       "      <td>118571</td>\n",
       "      <td>210982</td>\n",
       "      <td>186968</td>\n",
       "    </tr>\n",
       "    <tr>\n",
       "      <th>missing</th>\n",
       "      <td>15563</td>\n",
       "      <td>11512</td>\n",
       "      <td>20417</td>\n",
       "      <td>17276</td>\n",
       "    </tr>\n",
       "    <tr>\n",
       "      <th>other</th>\n",
       "      <td>7983</td>\n",
       "      <td>6268</td>\n",
       "      <td>10963</td>\n",
       "      <td>9197</td>\n",
       "    </tr>\n",
       "    <tr>\n",
       "      <th>pantry</th>\n",
       "      <td>420334</td>\n",
       "      <td>312731</td>\n",
       "      <td>555351</td>\n",
       "      <td>494289</td>\n",
       "    </tr>\n",
       "    <tr>\n",
       "      <th>personal care</th>\n",
       "      <td>100398</td>\n",
       "      <td>74765</td>\n",
       "      <td>133685</td>\n",
       "      <td>115458</td>\n",
       "    </tr>\n",
       "    <tr>\n",
       "      <th>pets</th>\n",
       "      <td>21358</td>\n",
       "      <td>17734</td>\n",
       "      <td>27693</td>\n",
       "      <td>26275</td>\n",
       "    </tr>\n",
       "    <tr>\n",
       "      <th>produce</th>\n",
       "      <td>2134115</td>\n",
       "      <td>1593004</td>\n",
       "      <td>2847526</td>\n",
       "      <td>2504628</td>\n",
       "    </tr>\n",
       "    <tr>\n",
       "      <th>snacks</th>\n",
       "      <td>645143</td>\n",
       "      <td>493154</td>\n",
       "      <td>864109</td>\n",
       "      <td>764000</td>\n",
       "    </tr>\n",
       "  </tbody>\n",
       "</table>\n",
       "</div>"
      ],
      "text/plain": [
       "Region           Midwest  Northeast    South     West\n",
       "department                                           \n",
       "alcohol            34043      25017    46274    39293\n",
       "babies             95741      72712   131439   110500\n",
       "bakery            261753     199300   349485   310290\n",
       "beverages         598979     462929   807610   702383\n",
       "breakfast         156155     117904   209943   186848\n",
       "bulk                7929       5599    10488     9435\n",
       "canned goods      237459     176936   317361   280318\n",
       "dairy eggs       1212490     914616  1622007  1428069\n",
       "deli              234464     178398   313613   277359\n",
       "dry goods pasta   193463     143817   256239   228617\n",
       "frozen            498225     370436   666762   586308\n",
       "household         166992     124604   215825   192436\n",
       "international      60666      44678    79790    70857\n",
       "meat seafood      158260     118571   210982   186968\n",
       "missing            15563      11512    20417    17276\n",
       "other               7983       6268    10963     9197\n",
       "pantry            420334     312731   555351   494289\n",
       "personal care     100398      74765   133685   115458\n",
       "pets               21358      17734    27693    26275\n",
       "produce          2134115    1593004  2847526  2504628\n",
       "snacks            645143     493154   864109   764000"
      ]
     },
     "execution_count": 72,
     "metadata": {},
     "output_type": "execute_result"
    }
   ],
   "source": [
    "reg_prod"
   ]
  },
  {
   "cell_type": "code",
   "execution_count": 73,
   "id": "e4e8973f",
   "metadata": {
    "ExecuteTime": {
     "end_time": "2022-12-14T14:25:27.636788Z",
     "start_time": "2022-12-14T14:25:27.623830Z"
    }
   },
   "outputs": [],
   "source": [
    "#Copying Department sales by region to clipboard\n",
    "reg_prod.to_clipboard()"
   ]
  },
  {
   "cell_type": "code",
   "execution_count": 74,
   "id": "e8c54dd0",
   "metadata": {
    "ExecuteTime": {
     "end_time": "2022-12-14T14:25:27.827155Z",
     "start_time": "2022-12-14T14:25:27.637783Z"
    }
   },
   "outputs": [
    {
     "data": {
      "image/png": "[encoded data removed]",
      "text/plain": [
       "<Figure size 640x480 with 1 Axes>"
      ]
     },
     "metadata": {},
     "output_type": "display_data"
    }
   ],
   "source": [
    "#creating bar graph of department sales by region\n",
    "reg_prod_bar = reg_prod.plot(kind = 'bar', stacked = True, color = ['darkgreen', 'limegreen', 'seagreen', 'lime'] )"
   ]
  },
  {
   "cell_type": "code",
   "execution_count": 171,
   "id": "647edca8",
   "metadata": {
    "ExecuteTime": {
     "end_time": "2022-12-16T03:14:46.009984Z",
     "start_time": "2022-12-16T03:14:25.524599Z"
    }
   },
   "outputs": [],
   "source": [
    "#Creating cross tab of department and income status\n",
    "dept_work = pd.crosstab(df_reg['department'], df_reg['work_status'])"
   ]
  },
  {
   "cell_type": "code",
   "execution_count": 172,
   "id": "e7c7a8be",
   "metadata": {
    "ExecuteTime": {
     "end_time": "2022-12-16T03:15:01.535061Z",
     "start_time": "2022-12-16T03:15:01.504175Z"
    }
   },
   "outputs": [
    {
     "data": {
      "text/html": [
       "<div>\n",
       "<style scoped>\n",
       "    .dataframe tbody tr th:only-of-type {\n",
       "        vertical-align: middle;\n",
       "    }\n",
       "\n",
       "    .dataframe tbody tr th {\n",
       "        vertical-align: top;\n",
       "    }\n",
       "\n",
       "    .dataframe thead th {\n",
       "        text-align: right;\n",
       "    }\n",
       "</style>\n",
       "<table border=\"1\" class=\"dataframe\">\n",
       "  <thead>\n",
       "    <tr style=\"text-align: right;\">\n",
       "      <th>work_status</th>\n",
       "      <th>high income</th>\n",
       "      <th>low income</th>\n",
       "      <th>mid income</th>\n",
       "      <th>retired</th>\n",
       "      <th>student</th>\n",
       "    </tr>\n",
       "    <tr>\n",
       "      <th>department</th>\n",
       "      <th></th>\n",
       "      <th></th>\n",
       "      <th></th>\n",
       "      <th></th>\n",
       "      <th></th>\n",
       "    </tr>\n",
       "  </thead>\n",
       "  <tbody>\n",
       "    <tr>\n",
       "      <th>alcohol</th>\n",
       "      <td>2815</td>\n",
       "      <td>48789</td>\n",
       "      <td>66327</td>\n",
       "      <td>10937</td>\n",
       "      <td>15759</td>\n",
       "    </tr>\n",
       "    <tr>\n",
       "      <th>babies</th>\n",
       "      <td>697</td>\n",
       "      <td>140137</td>\n",
       "      <td>196007</td>\n",
       "      <td>29218</td>\n",
       "      <td>44333</td>\n",
       "    </tr>\n",
       "    <tr>\n",
       "      <th>bakery</th>\n",
       "      <td>4877</td>\n",
       "      <td>389668</td>\n",
       "      <td>522834</td>\n",
       "      <td>84579</td>\n",
       "      <td>118870</td>\n",
       "    </tr>\n",
       "    <tr>\n",
       "      <th>beverages</th>\n",
       "      <td>9291</td>\n",
       "      <td>945214</td>\n",
       "      <td>1117171</td>\n",
       "      <td>230019</td>\n",
       "      <td>270206</td>\n",
       "    </tr>\n",
       "    <tr>\n",
       "      <th>breakfast</th>\n",
       "      <td>2373</td>\n",
       "      <td>244014</td>\n",
       "      <td>295223</td>\n",
       "      <td>56525</td>\n",
       "      <td>72715</td>\n",
       "    </tr>\n",
       "    <tr>\n",
       "      <th>bulk</th>\n",
       "      <td>5</td>\n",
       "      <td>12544</td>\n",
       "      <td>14213</td>\n",
       "      <td>3020</td>\n",
       "      <td>3669</td>\n",
       "    </tr>\n",
       "    <tr>\n",
       "      <th>canned goods</th>\n",
       "      <td>3856</td>\n",
       "      <td>347252</td>\n",
       "      <td>481397</td>\n",
       "      <td>71907</td>\n",
       "      <td>107662</td>\n",
       "    </tr>\n",
       "    <tr>\n",
       "      <th>dairy eggs</th>\n",
       "      <td>16649</td>\n",
       "      <td>1821815</td>\n",
       "      <td>2389562</td>\n",
       "      <td>395343</td>\n",
       "      <td>553813</td>\n",
       "    </tr>\n",
       "    <tr>\n",
       "      <th>deli</th>\n",
       "      <td>2805</td>\n",
       "      <td>357627</td>\n",
       "      <td>459294</td>\n",
       "      <td>77469</td>\n",
       "      <td>106639</td>\n",
       "    </tr>\n",
       "    <tr>\n",
       "      <th>dry goods pasta</th>\n",
       "      <td>2824</td>\n",
       "      <td>282503</td>\n",
       "      <td>389907</td>\n",
       "      <td>58322</td>\n",
       "      <td>88580</td>\n",
       "    </tr>\n",
       "    <tr>\n",
       "      <th>frozen</th>\n",
       "      <td>7738</td>\n",
       "      <td>742396</td>\n",
       "      <td>980762</td>\n",
       "      <td>164844</td>\n",
       "      <td>225991</td>\n",
       "    </tr>\n",
       "    <tr>\n",
       "      <th>household</th>\n",
       "      <td>4716</td>\n",
       "      <td>248156</td>\n",
       "      <td>315243</td>\n",
       "      <td>58394</td>\n",
       "      <td>73348</td>\n",
       "    </tr>\n",
       "    <tr>\n",
       "      <th>international</th>\n",
       "      <td>878</td>\n",
       "      <td>89584</td>\n",
       "      <td>119113</td>\n",
       "      <td>18687</td>\n",
       "      <td>27729</td>\n",
       "    </tr>\n",
       "    <tr>\n",
       "      <th>meat seafood</th>\n",
       "      <td>2368</td>\n",
       "      <td>221703</td>\n",
       "      <td>333184</td>\n",
       "      <td>44913</td>\n",
       "      <td>72613</td>\n",
       "    </tr>\n",
       "    <tr>\n",
       "      <th>missing</th>\n",
       "      <td>106</td>\n",
       "      <td>23021</td>\n",
       "      <td>29349</td>\n",
       "      <td>5023</td>\n",
       "      <td>7269</td>\n",
       "    </tr>\n",
       "    <tr>\n",
       "      <th>other</th>\n",
       "      <td>176</td>\n",
       "      <td>12271</td>\n",
       "      <td>15574</td>\n",
       "      <td>2634</td>\n",
       "      <td>3756</td>\n",
       "    </tr>\n",
       "    <tr>\n",
       "      <th>pantry</th>\n",
       "      <td>6315</td>\n",
       "      <td>618587</td>\n",
       "      <td>833649</td>\n",
       "      <td>133774</td>\n",
       "      <td>190380</td>\n",
       "    </tr>\n",
       "    <tr>\n",
       "      <th>personal care</th>\n",
       "      <td>1580</td>\n",
       "      <td>152281</td>\n",
       "      <td>191832</td>\n",
       "      <td>33843</td>\n",
       "      <td>44770</td>\n",
       "    </tr>\n",
       "    <tr>\n",
       "      <th>pets</th>\n",
       "      <td>747</td>\n",
       "      <td>31043</td>\n",
       "      <td>44342</td>\n",
       "      <td>6490</td>\n",
       "      <td>10438</td>\n",
       "    </tr>\n",
       "    <tr>\n",
       "      <th>produce</th>\n",
       "      <td>20341</td>\n",
       "      <td>3182614</td>\n",
       "      <td>4216661</td>\n",
       "      <td>688616</td>\n",
       "      <td>971041</td>\n",
       "    </tr>\n",
       "    <tr>\n",
       "      <th>snacks</th>\n",
       "      <td>8872</td>\n",
       "      <td>1087791</td>\n",
       "      <td>1095729</td>\n",
       "      <td>279224</td>\n",
       "      <td>294790</td>\n",
       "    </tr>\n",
       "  </tbody>\n",
       "</table>\n",
       "</div>"
      ],
      "text/plain": [
       "work_status      high income  low income  mid income  retired  student\n",
       "department                                                            \n",
       "alcohol                 2815       48789       66327    10937    15759\n",
       "babies                   697      140137      196007    29218    44333\n",
       "bakery                  4877      389668      522834    84579   118870\n",
       "beverages               9291      945214     1117171   230019   270206\n",
       "breakfast               2373      244014      295223    56525    72715\n",
       "bulk                       5       12544       14213     3020     3669\n",
       "canned goods            3856      347252      481397    71907   107662\n",
       "dairy eggs             16649     1821815     2389562   395343   553813\n",
       "deli                    2805      357627      459294    77469   106639\n",
       "dry goods pasta         2824      282503      389907    58322    88580\n",
       "frozen                  7738      742396      980762   164844   225991\n",
       "household               4716      248156      315243    58394    73348\n",
       "international            878       89584      119113    18687    27729\n",
       "meat seafood            2368      221703      333184    44913    72613\n",
       "missing                  106       23021       29349     5023     7269\n",
       "other                    176       12271       15574     2634     3756\n",
       "pantry                  6315      618587      833649   133774   190380\n",
       "personal care           1580      152281      191832    33843    44770\n",
       "pets                     747       31043       44342     6490    10438\n",
       "produce                20341     3182614     4216661   688616   971041\n",
       "snacks                  8872     1087791     1095729   279224   294790"
      ]
     },
     "execution_count": 172,
     "metadata": {},
     "output_type": "execute_result"
    }
   ],
   "source": [
    "dept_work"
   ]
  },
  {
   "cell_type": "code",
   "execution_count": 175,
   "id": "4b391a4e",
   "metadata": {
    "ExecuteTime": {
     "end_time": "2022-12-16T03:18:15.161445Z",
     "start_time": "2022-12-16T03:18:14.188976Z"
    },
    "scrolled": true
   },
   "outputs": [
    {
     "data": {
      "image/png": "[encoded data removed]",
      "text/plain": [
       "<Figure size 640x480 with 1 Axes>"
      ]
     },
     "metadata": {},
     "output_type": "display_data"
    }
   ],
   "source": [
    "#creating bar graph  of crosstab\n",
    "dept_work_bar = dept_work.plot(kind = 'bar', stacked = True, color = ['darkgreen', 'limegreen', 'seagreen', 'lime'])"
   ]
  },
  {
   "cell_type": "code",
   "execution_count": 180,
   "id": "d7c90117",
   "metadata": {
    "ExecuteTime": {
     "end_time": "2022-12-16T03:21:59.400887Z",
     "start_time": "2022-12-16T03:21:58.698106Z"
    }
   },
   "outputs": [],
   "source": [
    "#exporting bar graph\n",
    "dept_work_bar.figure.savefig(os.path.join(path, '04 Analysis', 'Visualizations', 'dept_work_bar.png'), bbox_inches = \"tight\" )"
   ]
  },
  {
   "cell_type": "markdown",
   "id": "d3899982",
   "metadata": {},
   "source": [
    "# 11. Crossing Days Since Last Order with New Variables"
   ]
  },
  {
   "cell_type": "code",
   "execution_count": 76,
   "id": "5a7b0491",
   "metadata": {
    "ExecuteTime": {
     "end_time": "2022-12-14T14:25:29.948375Z",
     "start_time": "2022-12-14T14:25:27.907879Z"
    }
   },
   "outputs": [],
   "source": [
    "#Running descriptive stats on days since last order by family status\n",
    "fam_dslo_desc = df_reg.groupby('family_status').agg({'days_since_last_order' : ['mean', 'min', 'max']})"
   ]
  },
  {
   "cell_type": "code",
   "execution_count": 77,
   "id": "833bbd93",
   "metadata": {
    "ExecuteTime": {
     "end_time": "2022-12-14T14:25:29.963972Z",
     "start_time": "2022-12-14T14:25:29.950024Z"
    }
   },
   "outputs": [
    {
     "data": {
      "text/html": [
       "<div>\n",
       "<style scoped>\n",
       "    .dataframe tbody tr th:only-of-type {\n",
       "        vertical-align: middle;\n",
       "    }\n",
       "\n",
       "    .dataframe tbody tr th {\n",
       "        vertical-align: top;\n",
       "    }\n",
       "\n",
       "    .dataframe thead tr th {\n",
       "        text-align: left;\n",
       "    }\n",
       "\n",
       "    .dataframe thead tr:last-of-type th {\n",
       "        text-align: right;\n",
       "    }\n",
       "</style>\n",
       "<table border=\"1\" class=\"dataframe\">\n",
       "  <thead>\n",
       "    <tr>\n",
       "      <th></th>\n",
       "      <th colspan=\"3\" halign=\"left\">days_since_last_order</th>\n",
       "    </tr>\n",
       "    <tr>\n",
       "      <th></th>\n",
       "      <th>mean</th>\n",
       "      <th>min</th>\n",
       "      <th>max</th>\n",
       "    </tr>\n",
       "    <tr>\n",
       "      <th>family_status</th>\n",
       "      <th></th>\n",
       "      <th></th>\n",
       "      <th></th>\n",
       "    </tr>\n",
       "  </thead>\n",
       "  <tbody>\n",
       "    <tr>\n",
       "      <th>no children</th>\n",
       "      <td>10.791951</td>\n",
       "      <td>0.0</td>\n",
       "      <td>30.0</td>\n",
       "    </tr>\n",
       "    <tr>\n",
       "      <th>older children</th>\n",
       "      <td>10.831001</td>\n",
       "      <td>0.0</td>\n",
       "      <td>30.0</td>\n",
       "    </tr>\n",
       "    <tr>\n",
       "      <th>young children</th>\n",
       "      <td>9.737722</td>\n",
       "      <td>0.0</td>\n",
       "      <td>30.0</td>\n",
       "    </tr>\n",
       "  </tbody>\n",
       "</table>\n",
       "</div>"
      ],
      "text/plain": [
       "               days_since_last_order           \n",
       "                                mean  min   max\n",
       "family_status                                  \n",
       "no children                10.791951  0.0  30.0\n",
       "older children             10.831001  0.0  30.0\n",
       "young children              9.737722  0.0  30.0"
      ]
     },
     "execution_count": 77,
     "metadata": {},
     "output_type": "execute_result"
    }
   ],
   "source": [
    "fam_dslo_desc"
   ]
  },
  {
   "cell_type": "code",
   "execution_count": 78,
   "id": "9835049f",
   "metadata": {
    "ExecuteTime": {
     "end_time": "2022-12-14T14:25:29.979915Z",
     "start_time": "2022-12-14T14:25:29.964969Z"
    }
   },
   "outputs": [],
   "source": [
    "#copying days since last order descriptive stats by family status to clipboard\n",
    "fam_dslo_desc.to_clipboard()"
   ]
  },
  {
   "cell_type": "code",
   "execution_count": 79,
   "id": "abe855a1",
   "metadata": {
    "ExecuteTime": {
     "end_time": "2022-12-14T14:25:31.802048Z",
     "start_time": "2022-12-14T14:25:30.167288Z"
    }
   },
   "outputs": [],
   "source": [
    "#Running days since last order descriptive stats by age group\n",
    "age_dslo_desc = df_reg.groupby('Age_Group').agg({'days_since_last_order' : ['mean', 'min', 'max']})"
   ]
  },
  {
   "cell_type": "code",
   "execution_count": 80,
   "id": "f918aab9",
   "metadata": {
    "ExecuteTime": {
     "end_time": "2022-12-14T14:25:31.817990Z",
     "start_time": "2022-12-14T14:25:31.803037Z"
    }
   },
   "outputs": [
    {
     "data": {
      "text/html": [
       "<div>\n",
       "<style scoped>\n",
       "    .dataframe tbody tr th:only-of-type {\n",
       "        vertical-align: middle;\n",
       "    }\n",
       "\n",
       "    .dataframe tbody tr th {\n",
       "        vertical-align: top;\n",
       "    }\n",
       "\n",
       "    .dataframe thead tr th {\n",
       "        text-align: left;\n",
       "    }\n",
       "\n",
       "    .dataframe thead tr:last-of-type th {\n",
       "        text-align: right;\n",
       "    }\n",
       "</style>\n",
       "<table border=\"1\" class=\"dataframe\">\n",
       "  <thead>\n",
       "    <tr>\n",
       "      <th></th>\n",
       "      <th colspan=\"3\" halign=\"left\">days_since_last_order</th>\n",
       "    </tr>\n",
       "    <tr>\n",
       "      <th></th>\n",
       "      <th>mean</th>\n",
       "      <th>min</th>\n",
       "      <th>max</th>\n",
       "    </tr>\n",
       "    <tr>\n",
       "      <th>Age_Group</th>\n",
       "      <th></th>\n",
       "      <th></th>\n",
       "      <th></th>\n",
       "    </tr>\n",
       "  </thead>\n",
       "  <tbody>\n",
       "    <tr>\n",
       "      <th>College Age</th>\n",
       "      <td>10.762997</td>\n",
       "      <td>0.0</td>\n",
       "      <td>30.0</td>\n",
       "    </tr>\n",
       "    <tr>\n",
       "      <th>Early Career</th>\n",
       "      <td>10.834014</td>\n",
       "      <td>0.0</td>\n",
       "      <td>30.0</td>\n",
       "    </tr>\n",
       "    <tr>\n",
       "      <th>Middle Age</th>\n",
       "      <td>10.821972</td>\n",
       "      <td>0.0</td>\n",
       "      <td>30.0</td>\n",
       "    </tr>\n",
       "    <tr>\n",
       "      <th>Retirement Age</th>\n",
       "      <td>10.791788</td>\n",
       "      <td>0.0</td>\n",
       "      <td>30.0</td>\n",
       "    </tr>\n",
       "  </tbody>\n",
       "</table>\n",
       "</div>"
      ],
      "text/plain": [
       "               days_since_last_order           \n",
       "                                mean  min   max\n",
       "Age_Group                                      \n",
       "College Age                10.762997  0.0  30.0\n",
       "Early Career               10.834014  0.0  30.0\n",
       "Middle Age                 10.821972  0.0  30.0\n",
       "Retirement Age             10.791788  0.0  30.0"
      ]
     },
     "execution_count": 80,
     "metadata": {},
     "output_type": "execute_result"
    }
   ],
   "source": [
    "age_dslo_desc"
   ]
  },
  {
   "cell_type": "code",
   "execution_count": 81,
   "id": "493e74d5",
   "metadata": {
    "ExecuteTime": {
     "end_time": "2022-12-14T14:25:31.833932Z",
     "start_time": "2022-12-14T14:25:31.818983Z"
    }
   },
   "outputs": [],
   "source": [
    "#copying dslo descriptive stats by age group to clipboard\n",
    "age_dslo_desc.to_clipboard()"
   ]
  },
  {
   "cell_type": "code",
   "execution_count": 82,
   "id": "462ff752",
   "metadata": {
    "ExecuteTime": {
     "end_time": "2022-12-14T14:25:33.386932Z",
     "start_time": "2022-12-14T14:25:31.835927Z"
    }
   },
   "outputs": [],
   "source": [
    "#Running dslo descriptive stats by income level\n",
    "work_dslo_desc = df_reg.groupby('work_status').agg({'days_since_last_order' : ['mean', 'min', 'max']})"
   ]
  },
  {
   "cell_type": "code",
   "execution_count": 83,
   "id": "d2b2dc7f",
   "metadata": {
    "ExecuteTime": {
     "end_time": "2022-12-14T14:25:33.402882Z",
     "start_time": "2022-12-14T14:25:33.387929Z"
    }
   },
   "outputs": [
    {
     "data": {
      "text/html": [
       "<div>\n",
       "<style scoped>\n",
       "    .dataframe tbody tr th:only-of-type {\n",
       "        vertical-align: middle;\n",
       "    }\n",
       "\n",
       "    .dataframe tbody tr th {\n",
       "        vertical-align: top;\n",
       "    }\n",
       "\n",
       "    .dataframe thead tr th {\n",
       "        text-align: left;\n",
       "    }\n",
       "\n",
       "    .dataframe thead tr:last-of-type th {\n",
       "        text-align: right;\n",
       "    }\n",
       "</style>\n",
       "<table border=\"1\" class=\"dataframe\">\n",
       "  <thead>\n",
       "    <tr>\n",
       "      <th></th>\n",
       "      <th colspan=\"3\" halign=\"left\">days_since_last_order</th>\n",
       "    </tr>\n",
       "    <tr>\n",
       "      <th></th>\n",
       "      <th>mean</th>\n",
       "      <th>min</th>\n",
       "      <th>max</th>\n",
       "    </tr>\n",
       "    <tr>\n",
       "      <th>work_status</th>\n",
       "      <th></th>\n",
       "      <th></th>\n",
       "      <th></th>\n",
       "    </tr>\n",
       "  </thead>\n",
       "  <tbody>\n",
       "    <tr>\n",
       "      <th>high income</th>\n",
       "      <td>10.094693</td>\n",
       "      <td>0.0</td>\n",
       "      <td>30.0</td>\n",
       "    </tr>\n",
       "    <tr>\n",
       "      <th>low income</th>\n",
       "      <td>10.861343</td>\n",
       "      <td>0.0</td>\n",
       "      <td>30.0</td>\n",
       "    </tr>\n",
       "    <tr>\n",
       "      <th>mid income</th>\n",
       "      <td>10.774457</td>\n",
       "      <td>0.0</td>\n",
       "      <td>30.0</td>\n",
       "    </tr>\n",
       "    <tr>\n",
       "      <th>retired</th>\n",
       "      <td>10.876738</td>\n",
       "      <td>0.0</td>\n",
       "      <td>30.0</td>\n",
       "    </tr>\n",
       "    <tr>\n",
       "      <th>student</th>\n",
       "      <td>10.766126</td>\n",
       "      <td>0.0</td>\n",
       "      <td>30.0</td>\n",
       "    </tr>\n",
       "  </tbody>\n",
       "</table>\n",
       "</div>"
      ],
      "text/plain": [
       "            days_since_last_order           \n",
       "                             mean  min   max\n",
       "work_status                                 \n",
       "high income             10.094693  0.0  30.0\n",
       "low income              10.861343  0.0  30.0\n",
       "mid income              10.774457  0.0  30.0\n",
       "retired                 10.876738  0.0  30.0\n",
       "student                 10.766126  0.0  30.0"
      ]
     },
     "execution_count": 83,
     "metadata": {},
     "output_type": "execute_result"
    }
   ],
   "source": [
    "work_dslo_desc"
   ]
  },
  {
   "cell_type": "code",
   "execution_count": 84,
   "id": "28970c78",
   "metadata": {
    "ExecuteTime": {
     "end_time": "2022-12-14T14:25:33.418822Z",
     "start_time": "2022-12-14T14:25:33.405866Z"
    }
   },
   "outputs": [],
   "source": [
    "#copying dslo by income level to clipboard\n",
    "work_dslo_desc.to_clipboard()"
   ]
  },
  {
   "cell_type": "code",
   "execution_count": 85,
   "id": "fae70d2a",
   "metadata": {
    "ExecuteTime": {
     "end_time": "2022-12-14T14:25:34.866024Z",
     "start_time": "2022-12-14T14:25:33.419819Z"
    }
   },
   "outputs": [],
   "source": [
    "#running dslo descriptive stats by Region\n",
    "reg_dslo_desc = df_reg.groupby('Region').agg({'days_since_last_order' : ['mean', 'min','max']})"
   ]
  },
  {
   "cell_type": "code",
   "execution_count": 86,
   "id": "920e0eb8",
   "metadata": {
    "ExecuteTime": {
     "end_time": "2022-12-14T14:25:34.881970Z",
     "start_time": "2022-12-14T14:25:34.867020Z"
    }
   },
   "outputs": [
    {
     "data": {
      "text/html": [
       "<div>\n",
       "<style scoped>\n",
       "    .dataframe tbody tr th:only-of-type {\n",
       "        vertical-align: middle;\n",
       "    }\n",
       "\n",
       "    .dataframe tbody tr th {\n",
       "        vertical-align: top;\n",
       "    }\n",
       "\n",
       "    .dataframe thead tr th {\n",
       "        text-align: left;\n",
       "    }\n",
       "\n",
       "    .dataframe thead tr:last-of-type th {\n",
       "        text-align: right;\n",
       "    }\n",
       "</style>\n",
       "<table border=\"1\" class=\"dataframe\">\n",
       "  <thead>\n",
       "    <tr>\n",
       "      <th></th>\n",
       "      <th colspan=\"3\" halign=\"left\">days_since_last_order</th>\n",
       "    </tr>\n",
       "    <tr>\n",
       "      <th></th>\n",
       "      <th>mean</th>\n",
       "      <th>min</th>\n",
       "      <th>max</th>\n",
       "    </tr>\n",
       "    <tr>\n",
       "      <th>Region</th>\n",
       "      <th></th>\n",
       "      <th></th>\n",
       "      <th></th>\n",
       "    </tr>\n",
       "  </thead>\n",
       "  <tbody>\n",
       "    <tr>\n",
       "      <th>Midwest</th>\n",
       "      <td>10.892736</td>\n",
       "      <td>0.0</td>\n",
       "      <td>30.0</td>\n",
       "    </tr>\n",
       "    <tr>\n",
       "      <th>Northeast</th>\n",
       "      <td>10.774220</td>\n",
       "      <td>0.0</td>\n",
       "      <td>30.0</td>\n",
       "    </tr>\n",
       "    <tr>\n",
       "      <th>South</th>\n",
       "      <td>10.820371</td>\n",
       "      <td>0.0</td>\n",
       "      <td>30.0</td>\n",
       "    </tr>\n",
       "    <tr>\n",
       "      <th>West</th>\n",
       "      <td>10.751931</td>\n",
       "      <td>0.0</td>\n",
       "      <td>30.0</td>\n",
       "    </tr>\n",
       "  </tbody>\n",
       "</table>\n",
       "</div>"
      ],
      "text/plain": [
       "          days_since_last_order           \n",
       "                           mean  min   max\n",
       "Region                                    \n",
       "Midwest               10.892736  0.0  30.0\n",
       "Northeast             10.774220  0.0  30.0\n",
       "South                 10.820371  0.0  30.0\n",
       "West                  10.751931  0.0  30.0"
      ]
     },
     "execution_count": 86,
     "metadata": {},
     "output_type": "execute_result"
    }
   ],
   "source": [
    "reg_dslo_desc"
   ]
  },
  {
   "cell_type": "code",
   "execution_count": 87,
   "id": "0c06b005",
   "metadata": {
    "ExecuteTime": {
     "end_time": "2022-12-14T14:25:34.897912Z",
     "start_time": "2022-12-14T14:25:34.882968Z"
    }
   },
   "outputs": [],
   "source": [
    "#copying dslo descriptive stats by region to clipboard\n",
    "reg_dslo_desc.to_clipboard()"
   ]
  },
  {
   "cell_type": "markdown",
   "id": "f0b2c383",
   "metadata": {},
   "source": [
    "# 12. Crossing Prices with New Variables"
   ]
  },
  {
   "cell_type": "code",
   "execution_count": 88,
   "id": "7525c9d8",
   "metadata": {
    "ExecuteTime": {
     "end_time": "2022-12-14T14:25:34.992600Z",
     "start_time": "2022-12-14T14:25:34.898910Z"
    }
   },
   "outputs": [],
   "source": [
    "#replacing pricing outliers with NaN\n",
    "df_reg.loc[df_reg['prices'] >1000, 'prices'] = np.nan"
   ]
  },
  {
   "cell_type": "code",
   "execution_count": 89,
   "id": "48689360",
   "metadata": {
    "ExecuteTime": {
     "end_time": "2022-12-14T14:25:35.056383Z",
     "start_time": "2022-12-14T14:25:34.995587Z"
    }
   },
   "outputs": [
    {
     "data": {
      "text/plain": [
       "25.0"
      ]
     },
     "execution_count": 89,
     "metadata": {},
     "output_type": "execute_result"
    }
   ],
   "source": [
    "df_reg['prices'].max()"
   ]
  },
  {
   "cell_type": "code",
   "execution_count": 90,
   "id": "27d9a771",
   "metadata": {
    "ExecuteTime": {
     "end_time": "2022-12-14T14:25:36.672974Z",
     "start_time": "2022-12-14T14:25:35.058376Z"
    }
   },
   "outputs": [],
   "source": [
    "#running 'prices' descriptive stats by region\n",
    "fam_price_desc = df_reg.groupby('family_status').agg({'prices' : ['mean', 'min','max']})"
   ]
  },
  {
   "cell_type": "code",
   "execution_count": 91,
   "id": "80cc4813",
   "metadata": {
    "ExecuteTime": {
     "end_time": "2022-12-14T14:25:36.688922Z",
     "start_time": "2022-12-14T14:25:36.674965Z"
    }
   },
   "outputs": [
    {
     "data": {
      "text/html": [
       "<div>\n",
       "<style scoped>\n",
       "    .dataframe tbody tr th:only-of-type {\n",
       "        vertical-align: middle;\n",
       "    }\n",
       "\n",
       "    .dataframe tbody tr th {\n",
       "        vertical-align: top;\n",
       "    }\n",
       "\n",
       "    .dataframe thead tr th {\n",
       "        text-align: left;\n",
       "    }\n",
       "\n",
       "    .dataframe thead tr:last-of-type th {\n",
       "        text-align: right;\n",
       "    }\n",
       "</style>\n",
       "<table border=\"1\" class=\"dataframe\">\n",
       "  <thead>\n",
       "    <tr>\n",
       "      <th></th>\n",
       "      <th colspan=\"3\" halign=\"left\">prices</th>\n",
       "    </tr>\n",
       "    <tr>\n",
       "      <th></th>\n",
       "      <th>mean</th>\n",
       "      <th>min</th>\n",
       "      <th>max</th>\n",
       "    </tr>\n",
       "    <tr>\n",
       "      <th>family_status</th>\n",
       "      <th></th>\n",
       "      <th></th>\n",
       "      <th></th>\n",
       "    </tr>\n",
       "  </thead>\n",
       "  <tbody>\n",
       "    <tr>\n",
       "      <th>no children</th>\n",
       "      <td>7.789550</td>\n",
       "      <td>1.0</td>\n",
       "      <td>25.0</td>\n",
       "    </tr>\n",
       "    <tr>\n",
       "      <th>older children</th>\n",
       "      <td>7.792857</td>\n",
       "      <td>1.0</td>\n",
       "      <td>25.0</td>\n",
       "    </tr>\n",
       "    <tr>\n",
       "      <th>young children</th>\n",
       "      <td>7.647681</td>\n",
       "      <td>1.0</td>\n",
       "      <td>15.0</td>\n",
       "    </tr>\n",
       "  </tbody>\n",
       "</table>\n",
       "</div>"
      ],
      "text/plain": [
       "                  prices           \n",
       "                    mean  min   max\n",
       "family_status                      \n",
       "no children     7.789550  1.0  25.0\n",
       "older children  7.792857  1.0  25.0\n",
       "young children  7.647681  1.0  15.0"
      ]
     },
     "execution_count": 91,
     "metadata": {},
     "output_type": "execute_result"
    }
   ],
   "source": [
    "fam_price_desc"
   ]
  },
  {
   "cell_type": "code",
   "execution_count": 92,
   "id": "ee37beb2",
   "metadata": {
    "ExecuteTime": {
     "end_time": "2022-12-14T14:25:36.703868Z",
     "start_time": "2022-12-14T14:25:36.689914Z"
    }
   },
   "outputs": [],
   "source": [
    "#copying prices by family status descriptive stats to clipboard\n",
    "fam_price_desc.to_clipboard()"
   ]
  },
  {
   "cell_type": "code",
   "execution_count": 93,
   "id": "821b620c",
   "metadata": {
    "ExecuteTime": {
     "end_time": "2022-12-14T14:25:38.184007Z",
     "start_time": "2022-12-14T14:25:36.704865Z"
    }
   },
   "outputs": [],
   "source": [
    "#running 'prices' descriptive stats by age group\n",
    "age_price_desc = df_reg.groupby('Age_Group').agg({'prices' : ['mean', 'min','max']})"
   ]
  },
  {
   "cell_type": "code",
   "execution_count": 94,
   "id": "1bd31f78",
   "metadata": {
    "ExecuteTime": {
     "end_time": "2022-12-14T14:25:38.199953Z",
     "start_time": "2022-12-14T14:25:38.185003Z"
    }
   },
   "outputs": [
    {
     "data": {
      "text/html": [
       "<div>\n",
       "<style scoped>\n",
       "    .dataframe tbody tr th:only-of-type {\n",
       "        vertical-align: middle;\n",
       "    }\n",
       "\n",
       "    .dataframe tbody tr th {\n",
       "        vertical-align: top;\n",
       "    }\n",
       "\n",
       "    .dataframe thead tr th {\n",
       "        text-align: left;\n",
       "    }\n",
       "\n",
       "    .dataframe thead tr:last-of-type th {\n",
       "        text-align: right;\n",
       "    }\n",
       "</style>\n",
       "<table border=\"1\" class=\"dataframe\">\n",
       "  <thead>\n",
       "    <tr>\n",
       "      <th></th>\n",
       "      <th colspan=\"3\" halign=\"left\">prices</th>\n",
       "    </tr>\n",
       "    <tr>\n",
       "      <th></th>\n",
       "      <th>mean</th>\n",
       "      <th>min</th>\n",
       "      <th>max</th>\n",
       "    </tr>\n",
       "    <tr>\n",
       "      <th>Age_Group</th>\n",
       "      <th></th>\n",
       "      <th></th>\n",
       "      <th></th>\n",
       "    </tr>\n",
       "  </thead>\n",
       "  <tbody>\n",
       "    <tr>\n",
       "      <th>College Age</th>\n",
       "      <td>7.790680</td>\n",
       "      <td>1.0</td>\n",
       "      <td>25.0</td>\n",
       "    </tr>\n",
       "    <tr>\n",
       "      <th>Early Career</th>\n",
       "      <td>7.782056</td>\n",
       "      <td>1.0</td>\n",
       "      <td>25.0</td>\n",
       "    </tr>\n",
       "    <tr>\n",
       "      <th>Middle Age</th>\n",
       "      <td>7.791529</td>\n",
       "      <td>1.0</td>\n",
       "      <td>25.0</td>\n",
       "    </tr>\n",
       "    <tr>\n",
       "      <th>Retirement Age</th>\n",
       "      <td>7.796715</td>\n",
       "      <td>1.0</td>\n",
       "      <td>25.0</td>\n",
       "    </tr>\n",
       "  </tbody>\n",
       "</table>\n",
       "</div>"
      ],
      "text/plain": [
       "                  prices           \n",
       "                    mean  min   max\n",
       "Age_Group                          \n",
       "College Age     7.790680  1.0  25.0\n",
       "Early Career    7.782056  1.0  25.0\n",
       "Middle Age      7.791529  1.0  25.0\n",
       "Retirement Age  7.796715  1.0  25.0"
      ]
     },
     "execution_count": 94,
     "metadata": {},
     "output_type": "execute_result"
    }
   ],
   "source": [
    "age_price_desc"
   ]
  },
  {
   "cell_type": "code",
   "execution_count": 95,
   "id": "7109fb0d",
   "metadata": {
    "ExecuteTime": {
     "end_time": "2022-12-14T14:25:38.214904Z",
     "start_time": "2022-12-14T14:25:38.200950Z"
    }
   },
   "outputs": [],
   "source": [
    "#copying prices by age group to clipboard\n",
    "age_price_desc.to_clipboard()"
   ]
  },
  {
   "cell_type": "code",
   "execution_count": 96,
   "id": "00b7676c",
   "metadata": {
    "ExecuteTime": {
     "end_time": "2022-12-14T14:25:39.567753Z",
     "start_time": "2022-12-14T14:25:38.215900Z"
    }
   },
   "outputs": [],
   "source": [
    "#running 'prices' descriptive stats by income level\n",
    "work_price_desc = df_reg.groupby('work_status').agg({'prices' : ['mean', 'min','max']})"
   ]
  },
  {
   "cell_type": "code",
   "execution_count": 97,
   "id": "b4024cdb",
   "metadata": {
    "ExecuteTime": {
     "end_time": "2022-12-14T14:25:39.583700Z",
     "start_time": "2022-12-14T14:25:39.568760Z"
    }
   },
   "outputs": [
    {
     "data": {
      "text/html": [
       "<div>\n",
       "<style scoped>\n",
       "    .dataframe tbody tr th:only-of-type {\n",
       "        vertical-align: middle;\n",
       "    }\n",
       "\n",
       "    .dataframe tbody tr th {\n",
       "        vertical-align: top;\n",
       "    }\n",
       "\n",
       "    .dataframe thead tr th {\n",
       "        text-align: left;\n",
       "    }\n",
       "\n",
       "    .dataframe thead tr:last-of-type th {\n",
       "        text-align: right;\n",
       "    }\n",
       "</style>\n",
       "<table border=\"1\" class=\"dataframe\">\n",
       "  <thead>\n",
       "    <tr>\n",
       "      <th></th>\n",
       "      <th colspan=\"3\" halign=\"left\">prices</th>\n",
       "    </tr>\n",
       "    <tr>\n",
       "      <th></th>\n",
       "      <th>mean</th>\n",
       "      <th>min</th>\n",
       "      <th>max</th>\n",
       "    </tr>\n",
       "    <tr>\n",
       "      <th>work_status</th>\n",
       "      <th></th>\n",
       "      <th></th>\n",
       "      <th></th>\n",
       "    </tr>\n",
       "  </thead>\n",
       "  <tbody>\n",
       "    <tr>\n",
       "      <th>high income</th>\n",
       "      <td>7.755411</td>\n",
       "      <td>1.0</td>\n",
       "      <td>25.0</td>\n",
       "    </tr>\n",
       "    <tr>\n",
       "      <th>low income</th>\n",
       "      <td>7.662747</td>\n",
       "      <td>1.0</td>\n",
       "      <td>25.0</td>\n",
       "    </tr>\n",
       "    <tr>\n",
       "      <th>mid income</th>\n",
       "      <td>7.954829</td>\n",
       "      <td>1.0</td>\n",
       "      <td>25.0</td>\n",
       "    </tr>\n",
       "    <tr>\n",
       "      <th>retired</th>\n",
       "      <td>7.425941</td>\n",
       "      <td>1.0</td>\n",
       "      <td>25.0</td>\n",
       "    </tr>\n",
       "    <tr>\n",
       "      <th>student</th>\n",
       "      <td>7.786958</td>\n",
       "      <td>1.0</td>\n",
       "      <td>25.0</td>\n",
       "    </tr>\n",
       "  </tbody>\n",
       "</table>\n",
       "</div>"
      ],
      "text/plain": [
       "               prices           \n",
       "                 mean  min   max\n",
       "work_status                     \n",
       "high income  7.755411  1.0  25.0\n",
       "low income   7.662747  1.0  25.0\n",
       "mid income   7.954829  1.0  25.0\n",
       "retired      7.425941  1.0  25.0\n",
       "student      7.786958  1.0  25.0"
      ]
     },
     "execution_count": 97,
     "metadata": {},
     "output_type": "execute_result"
    }
   ],
   "source": [
    "work_price_desc"
   ]
  },
  {
   "cell_type": "code",
   "execution_count": 98,
   "id": "3dd805bf",
   "metadata": {
    "ExecuteTime": {
     "end_time": "2022-12-14T14:25:39.598650Z",
     "start_time": "2022-12-14T14:25:39.584704Z"
    }
   },
   "outputs": [],
   "source": [
    "#copying 'prices' by income to clipboard\n",
    "work_price_desc.to_clipboard()"
   ]
  },
  {
   "cell_type": "code",
   "execution_count": 99,
   "id": "669710ae",
   "metadata": {
    "ExecuteTime": {
     "end_time": "2022-12-14T14:25:40.851237Z",
     "start_time": "2022-12-14T14:25:39.599642Z"
    }
   },
   "outputs": [],
   "source": [
    "#running 'prices' descriptive stats by Region\n",
    "reg_price_desc = df_reg.groupby('Region').agg({'prices' : ['mean', 'min','max']})"
   ]
  },
  {
   "cell_type": "code",
   "execution_count": 100,
   "id": "2ccc51c9",
   "metadata": {
    "ExecuteTime": {
     "end_time": "2022-12-14T14:25:40.866722Z",
     "start_time": "2022-12-14T14:25:40.851766Z"
    }
   },
   "outputs": [
    {
     "data": {
      "text/html": [
       "<div>\n",
       "<style scoped>\n",
       "    .dataframe tbody tr th:only-of-type {\n",
       "        vertical-align: middle;\n",
       "    }\n",
       "\n",
       "    .dataframe tbody tr th {\n",
       "        vertical-align: top;\n",
       "    }\n",
       "\n",
       "    .dataframe thead tr th {\n",
       "        text-align: left;\n",
       "    }\n",
       "\n",
       "    .dataframe thead tr:last-of-type th {\n",
       "        text-align: right;\n",
       "    }\n",
       "</style>\n",
       "<table border=\"1\" class=\"dataframe\">\n",
       "  <thead>\n",
       "    <tr>\n",
       "      <th></th>\n",
       "      <th colspan=\"3\" halign=\"left\">prices</th>\n",
       "    </tr>\n",
       "    <tr>\n",
       "      <th></th>\n",
       "      <th>mean</th>\n",
       "      <th>min</th>\n",
       "      <th>max</th>\n",
       "    </tr>\n",
       "    <tr>\n",
       "      <th>Region</th>\n",
       "      <th></th>\n",
       "      <th></th>\n",
       "      <th></th>\n",
       "    </tr>\n",
       "  </thead>\n",
       "  <tbody>\n",
       "    <tr>\n",
       "      <th>Midwest</th>\n",
       "      <td>7.792318</td>\n",
       "      <td>1.0</td>\n",
       "      <td>25.0</td>\n",
       "    </tr>\n",
       "    <tr>\n",
       "      <th>Northeast</th>\n",
       "      <td>7.781441</td>\n",
       "      <td>1.0</td>\n",
       "      <td>25.0</td>\n",
       "    </tr>\n",
       "    <tr>\n",
       "      <th>South</th>\n",
       "      <td>7.793336</td>\n",
       "      <td>1.0</td>\n",
       "      <td>25.0</td>\n",
       "    </tr>\n",
       "    <tr>\n",
       "      <th>West</th>\n",
       "      <td>7.791858</td>\n",
       "      <td>1.0</td>\n",
       "      <td>25.0</td>\n",
       "    </tr>\n",
       "  </tbody>\n",
       "</table>\n",
       "</div>"
      ],
      "text/plain": [
       "             prices           \n",
       "               mean  min   max\n",
       "Region                        \n",
       "Midwest    7.792318  1.0  25.0\n",
       "Northeast  7.781441  1.0  25.0\n",
       "South      7.793336  1.0  25.0\n",
       "West       7.791858  1.0  25.0"
      ]
     },
     "execution_count": 100,
     "metadata": {},
     "output_type": "execute_result"
    }
   ],
   "source": [
    "reg_price_desc"
   ]
  },
  {
   "cell_type": "code",
   "execution_count": 101,
   "id": "66fd6514",
   "metadata": {
    "ExecuteTime": {
     "end_time": "2022-12-14T14:25:40.881672Z",
     "start_time": "2022-12-14T14:25:40.867714Z"
    }
   },
   "outputs": [],
   "source": [
    "#copying 'prices' by region to clipboard\n",
    "reg_price_desc.to_clipboard()"
   ]
  },
  {
   "cell_type": "markdown",
   "id": "9e65bbf6",
   "metadata": {},
   "source": [
    "# 13. Crossing Order Hour Of Day with New Variables"
   ]
  },
  {
   "cell_type": "code",
   "execution_count": 102,
   "id": "64435e15",
   "metadata": {
    "ExecuteTime": {
     "end_time": "2022-12-14T14:25:44.463197Z",
     "start_time": "2022-12-14T14:25:40.882664Z"
    }
   },
   "outputs": [],
   "source": [
    "#Creating crosstab of orders placed by hour by family status\n",
    "ohod_fam = pd.crosstab(df_reg['order_hour_of_day'], df_reg['family_status'])"
   ]
  },
  {
   "cell_type": "code",
   "execution_count": 103,
   "id": "56f89ad3",
   "metadata": {
    "ExecuteTime": {
     "end_time": "2022-12-14T14:25:44.637613Z",
     "start_time": "2022-12-14T14:25:44.464198Z"
    },
    "scrolled": true
   },
   "outputs": [
    {
     "data": {
      "image/png": "[encoded data removed]",
      "text/plain": [
       "<Figure size 640x480 with 1 Axes>"
      ]
     },
     "metadata": {},
     "output_type": "display_data"
    }
   ],
   "source": [
    "#creating bar grap of order hour of day by family status\n",
    "ohod_fam_bar = ohod_fam.plot(kind = 'bar', stacked = True, color = ['darkgreen', 'limegreen', 'lime'])"
   ]
  },
  {
   "cell_type": "code",
   "execution_count": 104,
   "id": "e7b6bb9a",
   "metadata": {
    "ExecuteTime": {
     "end_time": "2022-12-14T14:25:44.700881Z",
     "start_time": "2022-12-14T14:25:44.638609Z"
    }
   },
   "outputs": [],
   "source": [
    "#exporting bar graph\n",
    "ohod_fam_bar.figure.savefig(os.path.join(path, '04 Analysis', 'Visualizations', 'ohod_fam_bar.png'))"
   ]
  },
  {
   "cell_type": "code",
   "execution_count": 105,
   "id": "4f2ce40d",
   "metadata": {
    "ExecuteTime": {
     "end_time": "2022-12-14T14:25:47.962013Z",
     "start_time": "2022-12-14T14:25:44.702013Z"
    }
   },
   "outputs": [],
   "source": [
    "#creating cross tab of order hour of the day and income level\n",
    "ohod_wrk = pd.crosstab(df_reg['order_hour_of_day'], df_reg['work_status'])"
   ]
  },
  {
   "cell_type": "code",
   "execution_count": 106,
   "id": "8b97afee",
   "metadata": {
    "ExecuteTime": {
     "end_time": "2022-12-14T14:25:47.977959Z",
     "start_time": "2022-12-14T14:25:47.967989Z"
    }
   },
   "outputs": [
    {
     "data": {
      "text/html": [
       "<div>\n",
       "<style scoped>\n",
       "    .dataframe tbody tr th:only-of-type {\n",
       "        vertical-align: middle;\n",
       "    }\n",
       "\n",
       "    .dataframe tbody tr th {\n",
       "        vertical-align: top;\n",
       "    }\n",
       "\n",
       "    .dataframe thead th {\n",
       "        text-align: right;\n",
       "    }\n",
       "</style>\n",
       "<table border=\"1\" class=\"dataframe\">\n",
       "  <thead>\n",
       "    <tr style=\"text-align: right;\">\n",
       "      <th>work_status</th>\n",
       "      <th>high income</th>\n",
       "      <th>low income</th>\n",
       "      <th>mid income</th>\n",
       "      <th>retired</th>\n",
       "      <th>student</th>\n",
       "    </tr>\n",
       "    <tr>\n",
       "      <th>order_hour_of_day</th>\n",
       "      <th></th>\n",
       "      <th></th>\n",
       "      <th></th>\n",
       "      <th></th>\n",
       "      <th></th>\n",
       "    </tr>\n",
       "  </thead>\n",
       "  <tbody>\n",
       "    <tr>\n",
       "      <th>0</th>\n",
       "      <td>516</td>\n",
       "      <td>74375</td>\n",
       "      <td>93726</td>\n",
       "      <td>16043</td>\n",
       "      <td>23382</td>\n",
       "    </tr>\n",
       "    <tr>\n",
       "      <th>1</th>\n",
       "      <td>505</td>\n",
       "      <td>38619</td>\n",
       "      <td>49309</td>\n",
       "      <td>8641</td>\n",
       "      <td>12547</td>\n",
       "    </tr>\n",
       "    <tr>\n",
       "      <th>2</th>\n",
       "      <td>511</td>\n",
       "      <td>23313</td>\n",
       "      <td>28799</td>\n",
       "      <td>5225</td>\n",
       "      <td>7843</td>\n",
       "    </tr>\n",
       "    <tr>\n",
       "      <th>3</th>\n",
       "      <td>324</td>\n",
       "      <td>17776</td>\n",
       "      <td>21531</td>\n",
       "      <td>3998</td>\n",
       "      <td>5167</td>\n",
       "    </tr>\n",
       "    <tr>\n",
       "      <th>4</th>\n",
       "      <td>320</td>\n",
       "      <td>17005</td>\n",
       "      <td>23384</td>\n",
       "      <td>4003</td>\n",
       "      <td>6051</td>\n",
       "    </tr>\n",
       "    <tr>\n",
       "      <th>5</th>\n",
       "      <td>482</td>\n",
       "      <td>28357</td>\n",
       "      <td>39140</td>\n",
       "      <td>6980</td>\n",
       "      <td>9459</td>\n",
       "    </tr>\n",
       "    <tr>\n",
       "      <th>6</th>\n",
       "      <td>816</td>\n",
       "      <td>95588</td>\n",
       "      <td>129535</td>\n",
       "      <td>21895</td>\n",
       "      <td>33179</td>\n",
       "    </tr>\n",
       "    <tr>\n",
       "      <th>7</th>\n",
       "      <td>3509</td>\n",
       "      <td>300148</td>\n",
       "      <td>400764</td>\n",
       "      <td>66059</td>\n",
       "      <td>92733</td>\n",
       "    </tr>\n",
       "    <tr>\n",
       "      <th>8</th>\n",
       "      <td>5593</td>\n",
       "      <td>588854</td>\n",
       "      <td>758454</td>\n",
       "      <td>131893</td>\n",
       "      <td>174316</td>\n",
       "    </tr>\n",
       "    <tr>\n",
       "      <th>9</th>\n",
       "      <td>8228</td>\n",
       "      <td>855375</td>\n",
       "      <td>1052699</td>\n",
       "      <td>198102</td>\n",
       "      <td>249207</td>\n",
       "    </tr>\n",
       "    <tr>\n",
       "      <th>10</th>\n",
       "      <td>8351</td>\n",
       "      <td>962524</td>\n",
       "      <td>1179032</td>\n",
       "      <td>218519</td>\n",
       "      <td>281318</td>\n",
       "    </tr>\n",
       "    <tr>\n",
       "      <th>11</th>\n",
       "      <td>8663</td>\n",
       "      <td>940829</td>\n",
       "      <td>1172178</td>\n",
       "      <td>209632</td>\n",
       "      <td>283578</td>\n",
       "    </tr>\n",
       "    <tr>\n",
       "      <th>12</th>\n",
       "      <td>8195</td>\n",
       "      <td>889640</td>\n",
       "      <td>1137352</td>\n",
       "      <td>195974</td>\n",
       "      <td>264634</td>\n",
       "    </tr>\n",
       "    <tr>\n",
       "      <th>13</th>\n",
       "      <td>7475</td>\n",
       "      <td>903547</td>\n",
       "      <td>1156944</td>\n",
       "      <td>199733</td>\n",
       "      <td>271577</td>\n",
       "    </tr>\n",
       "    <tr>\n",
       "      <th>14</th>\n",
       "      <td>7464</td>\n",
       "      <td>910683</td>\n",
       "      <td>1171410</td>\n",
       "      <td>204253</td>\n",
       "      <td>274093</td>\n",
       "    </tr>\n",
       "    <tr>\n",
       "      <th>15</th>\n",
       "      <td>9098</td>\n",
       "      <td>902268</td>\n",
       "      <td>1156125</td>\n",
       "      <td>197193</td>\n",
       "      <td>271282</td>\n",
       "    </tr>\n",
       "    <tr>\n",
       "      <th>16</th>\n",
       "      <td>7689</td>\n",
       "      <td>854425</td>\n",
       "      <td>1103583</td>\n",
       "      <td>188608</td>\n",
       "      <td>259376</td>\n",
       "    </tr>\n",
       "    <tr>\n",
       "      <th>17</th>\n",
       "      <td>6672</td>\n",
       "      <td>697673</td>\n",
       "      <td>911033</td>\n",
       "      <td>155707</td>\n",
       "      <td>211260</td>\n",
       "    </tr>\n",
       "    <tr>\n",
       "      <th>18</th>\n",
       "      <td>4729</td>\n",
       "      <td>543288</td>\n",
       "      <td>715471</td>\n",
       "      <td>124167</td>\n",
       "      <td>163529</td>\n",
       "    </tr>\n",
       "    <tr>\n",
       "      <th>19</th>\n",
       "      <td>3691</td>\n",
       "      <td>413977</td>\n",
       "      <td>556679</td>\n",
       "      <td>93144</td>\n",
       "      <td>126387</td>\n",
       "    </tr>\n",
       "    <tr>\n",
       "      <th>20</th>\n",
       "      <td>3153</td>\n",
       "      <td>324140</td>\n",
       "      <td>434752</td>\n",
       "      <td>69599</td>\n",
       "      <td>99265</td>\n",
       "    </tr>\n",
       "    <tr>\n",
       "      <th>21</th>\n",
       "      <td>1860</td>\n",
       "      <td>266786</td>\n",
       "      <td>356107</td>\n",
       "      <td>58108</td>\n",
       "      <td>80250</td>\n",
       "    </tr>\n",
       "    <tr>\n",
       "      <th>22</th>\n",
       "      <td>1264</td>\n",
       "      <td>215702</td>\n",
       "      <td>280025</td>\n",
       "      <td>46263</td>\n",
       "      <td>63806</td>\n",
       "    </tr>\n",
       "    <tr>\n",
       "      <th>23</th>\n",
       "      <td>921</td>\n",
       "      <td>134118</td>\n",
       "      <td>179341</td>\n",
       "      <td>30042</td>\n",
       "      <td>40132</td>\n",
       "    </tr>\n",
       "  </tbody>\n",
       "</table>\n",
       "</div>"
      ],
      "text/plain": [
       "work_status        high income  low income  mid income  retired  student\n",
       "order_hour_of_day                                                       \n",
       "0                          516       74375       93726    16043    23382\n",
       "1                          505       38619       49309     8641    12547\n",
       "2                          511       23313       28799     5225     7843\n",
       "3                          324       17776       21531     3998     5167\n",
       "4                          320       17005       23384     4003     6051\n",
       "5                          482       28357       39140     6980     9459\n",
       "6                          816       95588      129535    21895    33179\n",
       "7                         3509      300148      400764    66059    92733\n",
       "8                         5593      588854      758454   131893   174316\n",
       "9                         8228      855375     1052699   198102   249207\n",
       "10                        8351      962524     1179032   218519   281318\n",
       "11                        8663      940829     1172178   209632   283578\n",
       "12                        8195      889640     1137352   195974   264634\n",
       "13                        7475      903547     1156944   199733   271577\n",
       "14                        7464      910683     1171410   204253   274093\n",
       "15                        9098      902268     1156125   197193   271282\n",
       "16                        7689      854425     1103583   188608   259376\n",
       "17                        6672      697673      911033   155707   211260\n",
       "18                        4729      543288      715471   124167   163529\n",
       "19                        3691      413977      556679    93144   126387\n",
       "20                        3153      324140      434752    69599    99265\n",
       "21                        1860      266786      356107    58108    80250\n",
       "22                        1264      215702      280025    46263    63806\n",
       "23                         921      134118      179341    30042    40132"
      ]
     },
     "execution_count": 106,
     "metadata": {},
     "output_type": "execute_result"
    }
   ],
   "source": [
    "ohod_wrk"
   ]
  },
  {
   "cell_type": "code",
   "execution_count": 107,
   "id": "ec373937",
   "metadata": {
    "ExecuteTime": {
     "end_time": "2022-12-14T14:25:48.201211Z",
     "start_time": "2022-12-14T14:25:47.978951Z"
    }
   },
   "outputs": [
    {
     "data": {
      "image/png": "[encoded data removed]",
      "text/plain": [
       "<Figure size 640x480 with 1 Axes>"
      ]
     },
     "metadata": {},
     "output_type": "display_data"
    }
   ],
   "source": [
    "#creating bar graph of crosstab\n",
    "ohod_wrk_bar = ohod_wrk.plot(kind = 'bar', stacked = True, color = ['darkgreen','limegreen','green','lime'])"
   ]
  },
  {
   "cell_type": "code",
   "execution_count": 108,
   "id": "8e74769f",
   "metadata": {
    "ExecuteTime": {
     "end_time": "2022-12-14T14:25:48.264997Z",
     "start_time": "2022-12-14T14:25:48.202209Z"
    }
   },
   "outputs": [],
   "source": [
    "#exporting bar graph\n",
    "ohod_wrk_bar.figure.savefig(os.path.join(path, '04 Analysis', 'Visualizations', 'ohod_wrk_bar.png'))"
   ]
  },
  {
   "cell_type": "code",
   "execution_count": 109,
   "id": "f3a76f42",
   "metadata": {
    "ExecuteTime": {
     "end_time": "2022-12-14T14:25:51.353657Z",
     "start_time": "2022-12-14T14:25:48.265991Z"
    }
   },
   "outputs": [],
   "source": [
    "#creating crosstab of order hour of the day and region\n",
    "ohod_reg = pd.crosstab(df_reg['order_hour_of_day'], df_reg['Region'])"
   ]
  },
  {
   "cell_type": "code",
   "execution_count": 110,
   "id": "2b9016e7",
   "metadata": {
    "ExecuteTime": {
     "end_time": "2022-12-14T14:25:51.369605Z",
     "start_time": "2022-12-14T14:25:51.355654Z"
    }
   },
   "outputs": [
    {
     "data": {
      "text/html": [
       "<div>\n",
       "<style scoped>\n",
       "    .dataframe tbody tr th:only-of-type {\n",
       "        vertical-align: middle;\n",
       "    }\n",
       "\n",
       "    .dataframe tbody tr th {\n",
       "        vertical-align: top;\n",
       "    }\n",
       "\n",
       "    .dataframe thead th {\n",
       "        text-align: right;\n",
       "    }\n",
       "</style>\n",
       "<table border=\"1\" class=\"dataframe\">\n",
       "  <thead>\n",
       "    <tr style=\"text-align: right;\">\n",
       "      <th>Region</th>\n",
       "      <th>Midwest</th>\n",
       "      <th>Northeast</th>\n",
       "      <th>South</th>\n",
       "      <th>West</th>\n",
       "    </tr>\n",
       "    <tr>\n",
       "      <th>order_hour_of_day</th>\n",
       "      <th></th>\n",
       "      <th></th>\n",
       "      <th></th>\n",
       "      <th></th>\n",
       "    </tr>\n",
       "  </thead>\n",
       "  <tbody>\n",
       "    <tr>\n",
       "      <th>0</th>\n",
       "      <td>48192</td>\n",
       "      <td>36600</td>\n",
       "      <td>65725</td>\n",
       "      <td>57525</td>\n",
       "    </tr>\n",
       "    <tr>\n",
       "      <th>1</th>\n",
       "      <td>25879</td>\n",
       "      <td>20529</td>\n",
       "      <td>34078</td>\n",
       "      <td>29135</td>\n",
       "    </tr>\n",
       "    <tr>\n",
       "      <th>2</th>\n",
       "      <td>16136</td>\n",
       "      <td>11842</td>\n",
       "      <td>19359</td>\n",
       "      <td>18354</td>\n",
       "    </tr>\n",
       "    <tr>\n",
       "      <th>3</th>\n",
       "      <td>11298</td>\n",
       "      <td>8843</td>\n",
       "      <td>15699</td>\n",
       "      <td>12956</td>\n",
       "    </tr>\n",
       "    <tr>\n",
       "      <th>4</th>\n",
       "      <td>12015</td>\n",
       "      <td>9043</td>\n",
       "      <td>16280</td>\n",
       "      <td>13425</td>\n",
       "    </tr>\n",
       "    <tr>\n",
       "      <th>5</th>\n",
       "      <td>19061</td>\n",
       "      <td>14733</td>\n",
       "      <td>27755</td>\n",
       "      <td>22869</td>\n",
       "    </tr>\n",
       "    <tr>\n",
       "      <th>6</th>\n",
       "      <td>64885</td>\n",
       "      <td>49025</td>\n",
       "      <td>89746</td>\n",
       "      <td>77357</td>\n",
       "    </tr>\n",
       "    <tr>\n",
       "      <th>7</th>\n",
       "      <td>201794</td>\n",
       "      <td>154031</td>\n",
       "      <td>270436</td>\n",
       "      <td>236952</td>\n",
       "    </tr>\n",
       "    <tr>\n",
       "      <th>8</th>\n",
       "      <td>384854</td>\n",
       "      <td>294134</td>\n",
       "      <td>525112</td>\n",
       "      <td>455010</td>\n",
       "    </tr>\n",
       "    <tr>\n",
       "      <th>9</th>\n",
       "      <td>552468</td>\n",
       "      <td>414092</td>\n",
       "      <td>744427</td>\n",
       "      <td>652624</td>\n",
       "    </tr>\n",
       "    <tr>\n",
       "      <th>10</th>\n",
       "      <td>621555</td>\n",
       "      <td>464454</td>\n",
       "      <td>833356</td>\n",
       "      <td>730379</td>\n",
       "    </tr>\n",
       "    <tr>\n",
       "      <th>11</th>\n",
       "      <td>614330</td>\n",
       "      <td>461204</td>\n",
       "      <td>816334</td>\n",
       "      <td>723012</td>\n",
       "    </tr>\n",
       "    <tr>\n",
       "      <th>12</th>\n",
       "      <td>583145</td>\n",
       "      <td>443358</td>\n",
       "      <td>778439</td>\n",
       "      <td>690853</td>\n",
       "    </tr>\n",
       "    <tr>\n",
       "      <th>13</th>\n",
       "      <td>589852</td>\n",
       "      <td>450628</td>\n",
       "      <td>790362</td>\n",
       "      <td>708434</td>\n",
       "    </tr>\n",
       "    <tr>\n",
       "      <th>14</th>\n",
       "      <td>596442</td>\n",
       "      <td>454392</td>\n",
       "      <td>799481</td>\n",
       "      <td>717588</td>\n",
       "    </tr>\n",
       "    <tr>\n",
       "      <th>15</th>\n",
       "      <td>598686</td>\n",
       "      <td>447558</td>\n",
       "      <td>788674</td>\n",
       "      <td>701048</td>\n",
       "    </tr>\n",
       "    <tr>\n",
       "      <th>16</th>\n",
       "      <td>568750</td>\n",
       "      <td>424062</td>\n",
       "      <td>751988</td>\n",
       "      <td>668881</td>\n",
       "    </tr>\n",
       "    <tr>\n",
       "      <th>17</th>\n",
       "      <td>467191</td>\n",
       "      <td>348360</td>\n",
       "      <td>620806</td>\n",
       "      <td>545988</td>\n",
       "    </tr>\n",
       "    <tr>\n",
       "      <th>18</th>\n",
       "      <td>368875</td>\n",
       "      <td>272247</td>\n",
       "      <td>485856</td>\n",
       "      <td>424206</td>\n",
       "    </tr>\n",
       "    <tr>\n",
       "      <th>19</th>\n",
       "      <td>281563</td>\n",
       "      <td>207531</td>\n",
       "      <td>377837</td>\n",
       "      <td>326947</td>\n",
       "    </tr>\n",
       "    <tr>\n",
       "      <th>20</th>\n",
       "      <td>220518</td>\n",
       "      <td>162856</td>\n",
       "      <td>291613</td>\n",
       "      <td>255922</td>\n",
       "    </tr>\n",
       "    <tr>\n",
       "      <th>21</th>\n",
       "      <td>181038</td>\n",
       "      <td>134541</td>\n",
       "      <td>242570</td>\n",
       "      <td>204962</td>\n",
       "    </tr>\n",
       "    <tr>\n",
       "      <th>22</th>\n",
       "      <td>144637</td>\n",
       "      <td>108988</td>\n",
       "      <td>188940</td>\n",
       "      <td>164495</td>\n",
       "    </tr>\n",
       "    <tr>\n",
       "      <th>23</th>\n",
       "      <td>88349</td>\n",
       "      <td>71634</td>\n",
       "      <td>122689</td>\n",
       "      <td>101882</td>\n",
       "    </tr>\n",
       "  </tbody>\n",
       "</table>\n",
       "</div>"
      ],
      "text/plain": [
       "Region             Midwest  Northeast   South    West\n",
       "order_hour_of_day                                    \n",
       "0                    48192      36600   65725   57525\n",
       "1                    25879      20529   34078   29135\n",
       "2                    16136      11842   19359   18354\n",
       "3                    11298       8843   15699   12956\n",
       "4                    12015       9043   16280   13425\n",
       "5                    19061      14733   27755   22869\n",
       "6                    64885      49025   89746   77357\n",
       "7                   201794     154031  270436  236952\n",
       "8                   384854     294134  525112  455010\n",
       "9                   552468     414092  744427  652624\n",
       "10                  621555     464454  833356  730379\n",
       "11                  614330     461204  816334  723012\n",
       "12                  583145     443358  778439  690853\n",
       "13                  589852     450628  790362  708434\n",
       "14                  596442     454392  799481  717588\n",
       "15                  598686     447558  788674  701048\n",
       "16                  568750     424062  751988  668881\n",
       "17                  467191     348360  620806  545988\n",
       "18                  368875     272247  485856  424206\n",
       "19                  281563     207531  377837  326947\n",
       "20                  220518     162856  291613  255922\n",
       "21                  181038     134541  242570  204962\n",
       "22                  144637     108988  188940  164495\n",
       "23                   88349      71634  122689  101882"
      ]
     },
     "execution_count": 110,
     "metadata": {},
     "output_type": "execute_result"
    }
   ],
   "source": [
    "ohod_reg"
   ]
  },
  {
   "cell_type": "code",
   "execution_count": 111,
   "id": "9814e701",
   "metadata": {
    "ExecuteTime": {
     "end_time": "2022-12-14T14:25:51.559836Z",
     "start_time": "2022-12-14T14:25:51.370602Z"
    }
   },
   "outputs": [
    {
     "data": {
      "image/png": "[encoded data removed]",
      "text/plain": [
       "<Figure size 640x480 with 1 Axes>"
      ]
     },
     "metadata": {},
     "output_type": "display_data"
    }
   ],
   "source": [
    "#creating bar graph of crosstab\n",
    "ohod_reg_bar = ohod_reg.plot(kind = 'bar', stacked = True, color = ['darkgreen', 'limegreen', 'green', 'lime'])"
   ]
  },
  {
   "cell_type": "code",
   "execution_count": 112,
   "id": "42375e51",
   "metadata": {
    "ExecuteTime": {
     "end_time": "2022-12-14T14:25:51.622027Z",
     "start_time": "2022-12-14T14:25:51.561825Z"
    }
   },
   "outputs": [],
   "source": [
    "#exporting bar graph\n",
    "ohod_reg_bar.figure.savefig(os.path.join(path, '04 Analysis', 'Visualizations', 'ohod_reg_bar.png'))"
   ]
  },
  {
   "cell_type": "code",
   "execution_count": 113,
   "id": "473d6db1",
   "metadata": {
    "ExecuteTime": {
     "end_time": "2022-12-14T14:25:52.542936Z",
     "start_time": "2022-12-14T14:25:51.623012Z"
    }
   },
   "outputs": [
    {
     "data": {
      "image/png": "[encoded data removed]",
      "text/plain": [
       "<Figure size 640x480 with 1 Axes>"
      ]
     },
     "metadata": {},
     "output_type": "display_data"
    }
   ],
   "source": [
    "#creating bar graph of sales by department\n",
    "dept_bar = df_reg['department'].value_counts().plot.bar(color = 'green')"
   ]
  },
  {
   "cell_type": "code",
   "execution_count": 166,
   "id": "80a3fff6",
   "metadata": {
    "ExecuteTime": {
     "end_time": "2022-12-14T22:14:53.144577Z",
     "start_time": "2022-12-14T22:14:53.012232Z"
    }
   },
   "outputs": [],
   "source": [
    "#exporting bar graph\n",
    "dept_bar.figure.savefig((os.path.join(path, '04 Analysis', 'Visualizations', 'dept_bar.png')), bbox_inches = \"tight\")"
   ]
  },
  {
   "cell_type": "code",
   "execution_count": 115,
   "id": "61ee20bf",
   "metadata": {
    "ExecuteTime": {
     "end_time": "2022-12-14T14:25:56.215412Z",
     "start_time": "2022-12-14T14:25:52.591013Z"
    }
   },
   "outputs": [],
   "source": [
    "#creating crosstab of order of day by department\n",
    "hour_dep = pd.crosstab(df_reg['order_hour_of_day'], df_reg['department'])"
   ]
  },
  {
   "cell_type": "code",
   "execution_count": 116,
   "id": "fc6b97b8",
   "metadata": {
    "ExecuteTime": {
     "end_time": "2022-12-14T14:25:56.230357Z",
     "start_time": "2022-12-14T14:25:56.216412Z"
    }
   },
   "outputs": [
    {
     "data": {
      "text/html": [
       "<div>\n",
       "<style scoped>\n",
       "    .dataframe tbody tr th:only-of-type {\n",
       "        vertical-align: middle;\n",
       "    }\n",
       "\n",
       "    .dataframe tbody tr th {\n",
       "        vertical-align: top;\n",
       "    }\n",
       "\n",
       "    .dataframe thead th {\n",
       "        text-align: right;\n",
       "    }\n",
       "</style>\n",
       "<table border=\"1\" class=\"dataframe\">\n",
       "  <thead>\n",
       "    <tr style=\"text-align: right;\">\n",
       "      <th>department</th>\n",
       "      <th>alcohol</th>\n",
       "      <th>babies</th>\n",
       "      <th>bakery</th>\n",
       "      <th>beverages</th>\n",
       "      <th>breakfast</th>\n",
       "      <th>bulk</th>\n",
       "      <th>canned goods</th>\n",
       "      <th>dairy eggs</th>\n",
       "      <th>deli</th>\n",
       "      <th>dry goods pasta</th>\n",
       "      <th>...</th>\n",
       "      <th>household</th>\n",
       "      <th>international</th>\n",
       "      <th>meat seafood</th>\n",
       "      <th>missing</th>\n",
       "      <th>other</th>\n",
       "      <th>pantry</th>\n",
       "      <th>personal care</th>\n",
       "      <th>pets</th>\n",
       "      <th>produce</th>\n",
       "      <th>snacks</th>\n",
       "    </tr>\n",
       "    <tr>\n",
       "      <th>order_hour_of_day</th>\n",
       "      <th></th>\n",
       "      <th></th>\n",
       "      <th></th>\n",
       "      <th></th>\n",
       "      <th></th>\n",
       "      <th></th>\n",
       "      <th></th>\n",
       "      <th></th>\n",
       "      <th></th>\n",
       "      <th></th>\n",
       "      <th></th>\n",
       "      <th></th>\n",
       "      <th></th>\n",
       "      <th></th>\n",
       "      <th></th>\n",
       "      <th></th>\n",
       "      <th></th>\n",
       "      <th></th>\n",
       "      <th></th>\n",
       "      <th></th>\n",
       "      <th></th>\n",
       "    </tr>\n",
       "  </thead>\n",
       "  <tbody>\n",
       "    <tr>\n",
       "      <th>0</th>\n",
       "      <td>465</td>\n",
       "      <td>2317</td>\n",
       "      <td>6958</td>\n",
       "      <td>16652</td>\n",
       "      <td>4131</td>\n",
       "      <td>231</td>\n",
       "      <td>6797</td>\n",
       "      <td>33150</td>\n",
       "      <td>6573</td>\n",
       "      <td>5545</td>\n",
       "      <td>...</td>\n",
       "      <td>4739</td>\n",
       "      <td>1795</td>\n",
       "      <td>4490</td>\n",
       "      <td>521</td>\n",
       "      <td>232</td>\n",
       "      <td>12950</td>\n",
       "      <td>3115</td>\n",
       "      <td>642</td>\n",
       "      <td>65073</td>\n",
       "      <td>16877</td>\n",
       "    </tr>\n",
       "    <tr>\n",
       "      <th>1</th>\n",
       "      <td>293</td>\n",
       "      <td>1085</td>\n",
       "      <td>3576</td>\n",
       "      <td>9518</td>\n",
       "      <td>2218</td>\n",
       "      <td>114</td>\n",
       "      <td>3655</td>\n",
       "      <td>16828</td>\n",
       "      <td>3478</td>\n",
       "      <td>2884</td>\n",
       "      <td>...</td>\n",
       "      <td>2722</td>\n",
       "      <td>961</td>\n",
       "      <td>2277</td>\n",
       "      <td>294</td>\n",
       "      <td>129</td>\n",
       "      <td>6845</td>\n",
       "      <td>1864</td>\n",
       "      <td>416</td>\n",
       "      <td>33345</td>\n",
       "      <td>8691</td>\n",
       "    </tr>\n",
       "    <tr>\n",
       "      <th>2</th>\n",
       "      <td>246</td>\n",
       "      <td>616</td>\n",
       "      <td>2282</td>\n",
       "      <td>5890</td>\n",
       "      <td>1318</td>\n",
       "      <td>66</td>\n",
       "      <td>2254</td>\n",
       "      <td>10162</td>\n",
       "      <td>2142</td>\n",
       "      <td>1699</td>\n",
       "      <td>...</td>\n",
       "      <td>1784</td>\n",
       "      <td>558</td>\n",
       "      <td>1465</td>\n",
       "      <td>156</td>\n",
       "      <td>113</td>\n",
       "      <td>4163</td>\n",
       "      <td>1125</td>\n",
       "      <td>247</td>\n",
       "      <td>18986</td>\n",
       "      <td>5336</td>\n",
       "    </tr>\n",
       "    <tr>\n",
       "      <th>3</th>\n",
       "      <td>177</td>\n",
       "      <td>457</td>\n",
       "      <td>1734</td>\n",
       "      <td>4468</td>\n",
       "      <td>1008</td>\n",
       "      <td>49</td>\n",
       "      <td>1621</td>\n",
       "      <td>7671</td>\n",
       "      <td>1537</td>\n",
       "      <td>1221</td>\n",
       "      <td>...</td>\n",
       "      <td>1353</td>\n",
       "      <td>483</td>\n",
       "      <td>1050</td>\n",
       "      <td>122</td>\n",
       "      <td>67</td>\n",
       "      <td>3049</td>\n",
       "      <td>862</td>\n",
       "      <td>252</td>\n",
       "      <td>13729</td>\n",
       "      <td>3990</td>\n",
       "    </tr>\n",
       "    <tr>\n",
       "      <th>4</th>\n",
       "      <td>175</td>\n",
       "      <td>534</td>\n",
       "      <td>1824</td>\n",
       "      <td>4584</td>\n",
       "      <td>1059</td>\n",
       "      <td>46</td>\n",
       "      <td>1738</td>\n",
       "      <td>7748</td>\n",
       "      <td>1578</td>\n",
       "      <td>1379</td>\n",
       "      <td>...</td>\n",
       "      <td>1530</td>\n",
       "      <td>427</td>\n",
       "      <td>1121</td>\n",
       "      <td>143</td>\n",
       "      <td>62</td>\n",
       "      <td>3109</td>\n",
       "      <td>973</td>\n",
       "      <td>269</td>\n",
       "      <td>14664</td>\n",
       "      <td>3839</td>\n",
       "    </tr>\n",
       "    <tr>\n",
       "      <th>5</th>\n",
       "      <td>260</td>\n",
       "      <td>1076</td>\n",
       "      <td>2967</td>\n",
       "      <td>7108</td>\n",
       "      <td>1797</td>\n",
       "      <td>75</td>\n",
       "      <td>2742</td>\n",
       "      <td>13778</td>\n",
       "      <td>2659</td>\n",
       "      <td>2059</td>\n",
       "      <td>...</td>\n",
       "      <td>2180</td>\n",
       "      <td>672</td>\n",
       "      <td>1775</td>\n",
       "      <td>180</td>\n",
       "      <td>99</td>\n",
       "      <td>4801</td>\n",
       "      <td>1397</td>\n",
       "      <td>302</td>\n",
       "      <td>25924</td>\n",
       "      <td>6372</td>\n",
       "    </tr>\n",
       "    <tr>\n",
       "      <th>6</th>\n",
       "      <td>645</td>\n",
       "      <td>4794</td>\n",
       "      <td>10415</td>\n",
       "      <td>22202</td>\n",
       "      <td>6546</td>\n",
       "      <td>314</td>\n",
       "      <td>8619</td>\n",
       "      <td>49797</td>\n",
       "      <td>8667</td>\n",
       "      <td>7263</td>\n",
       "      <td>...</td>\n",
       "      <td>6569</td>\n",
       "      <td>2151</td>\n",
       "      <td>6027</td>\n",
       "      <td>588</td>\n",
       "      <td>305</td>\n",
       "      <td>15367</td>\n",
       "      <td>3980</td>\n",
       "      <td>948</td>\n",
       "      <td>84649</td>\n",
       "      <td>22541</td>\n",
       "    </tr>\n",
       "    <tr>\n",
       "      <th>7</th>\n",
       "      <td>2021</td>\n",
       "      <td>16310</td>\n",
       "      <td>33029</td>\n",
       "      <td>66553</td>\n",
       "      <td>20865</td>\n",
       "      <td>889</td>\n",
       "      <td>25924</td>\n",
       "      <td>154902</td>\n",
       "      <td>26410</td>\n",
       "      <td>22399</td>\n",
       "      <td>...</td>\n",
       "      <td>20036</td>\n",
       "      <td>6215</td>\n",
       "      <td>18795</td>\n",
       "      <td>1792</td>\n",
       "      <td>877</td>\n",
       "      <td>46324</td>\n",
       "      <td>11700</td>\n",
       "      <td>2389</td>\n",
       "      <td>260886</td>\n",
       "      <td>70141</td>\n",
       "    </tr>\n",
       "    <tr>\n",
       "      <th>8</th>\n",
       "      <td>5046</td>\n",
       "      <td>28008</td>\n",
       "      <td>61396</td>\n",
       "      <td>135182</td>\n",
       "      <td>39506</td>\n",
       "      <td>1779</td>\n",
       "      <td>50974</td>\n",
       "      <td>296832</td>\n",
       "      <td>51248</td>\n",
       "      <td>41331</td>\n",
       "      <td>...</td>\n",
       "      <td>37854</td>\n",
       "      <td>12117</td>\n",
       "      <td>35620</td>\n",
       "      <td>3244</td>\n",
       "      <td>1736</td>\n",
       "      <td>90178</td>\n",
       "      <td>21953</td>\n",
       "      <td>4298</td>\n",
       "      <td>494234</td>\n",
       "      <td>145686</td>\n",
       "    </tr>\n",
       "    <tr>\n",
       "      <th>9</th>\n",
       "      <td>9831</td>\n",
       "      <td>33483</td>\n",
       "      <td>85519</td>\n",
       "      <td>211187</td>\n",
       "      <td>56273</td>\n",
       "      <td>2669</td>\n",
       "      <td>72362</td>\n",
       "      <td>414409</td>\n",
       "      <td>73840</td>\n",
       "      <td>56523</td>\n",
       "      <td>...</td>\n",
       "      <td>53936</td>\n",
       "      <td>17780</td>\n",
       "      <td>47957</td>\n",
       "      <td>4777</td>\n",
       "      <td>2519</td>\n",
       "      <td>129241</td>\n",
       "      <td>30442</td>\n",
       "      <td>6087</td>\n",
       "      <td>688956</td>\n",
       "      <td>225426</td>\n",
       "    </tr>\n",
       "    <tr>\n",
       "      <th>10</th>\n",
       "      <td>12694</td>\n",
       "      <td>33241</td>\n",
       "      <td>94111</td>\n",
       "      <td>235794</td>\n",
       "      <td>59956</td>\n",
       "      <td>2994</td>\n",
       "      <td>85592</td>\n",
       "      <td>452024</td>\n",
       "      <td>84703</td>\n",
       "      <td>65753</td>\n",
       "      <td>...</td>\n",
       "      <td>60760</td>\n",
       "      <td>21558</td>\n",
       "      <td>54477</td>\n",
       "      <td>5526</td>\n",
       "      <td>2825</td>\n",
       "      <td>151101</td>\n",
       "      <td>35364</td>\n",
       "      <td>7194</td>\n",
       "      <td>769161</td>\n",
       "      <td>253121</td>\n",
       "    </tr>\n",
       "    <tr>\n",
       "      <th>11</th>\n",
       "      <td>13020</td>\n",
       "      <td>30790</td>\n",
       "      <td>93690</td>\n",
       "      <td>224430</td>\n",
       "      <td>56017</td>\n",
       "      <td>2829</td>\n",
       "      <td>88184</td>\n",
       "      <td>433334</td>\n",
       "      <td>85264</td>\n",
       "      <td>68465</td>\n",
       "      <td>...</td>\n",
       "      <td>60765</td>\n",
       "      <td>22022</td>\n",
       "      <td>57303</td>\n",
       "      <td>5422</td>\n",
       "      <td>2833</td>\n",
       "      <td>153550</td>\n",
       "      <td>34891</td>\n",
       "      <td>7493</td>\n",
       "      <td>762072</td>\n",
       "      <td>244307</td>\n",
       "    </tr>\n",
       "    <tr>\n",
       "      <th>12</th>\n",
       "      <td>12521</td>\n",
       "      <td>29783</td>\n",
       "      <td>90658</td>\n",
       "      <td>204614</td>\n",
       "      <td>51599</td>\n",
       "      <td>2614</td>\n",
       "      <td>86397</td>\n",
       "      <td>407141</td>\n",
       "      <td>82041</td>\n",
       "      <td>67803</td>\n",
       "      <td>...</td>\n",
       "      <td>57797</td>\n",
       "      <td>21666</td>\n",
       "      <td>55981</td>\n",
       "      <td>5191</td>\n",
       "      <td>2802</td>\n",
       "      <td>148899</td>\n",
       "      <td>34133</td>\n",
       "      <td>7637</td>\n",
       "      <td>734100</td>\n",
       "      <td>224238</td>\n",
       "    </tr>\n",
       "    <tr>\n",
       "      <th>13</th>\n",
       "      <td>13221</td>\n",
       "      <td>32432</td>\n",
       "      <td>92123</td>\n",
       "      <td>209400</td>\n",
       "      <td>52224</td>\n",
       "      <td>2734</td>\n",
       "      <td>87572</td>\n",
       "      <td>415429</td>\n",
       "      <td>82427</td>\n",
       "      <td>69760</td>\n",
       "      <td>...</td>\n",
       "      <td>57463</td>\n",
       "      <td>21873</td>\n",
       "      <td>56518</td>\n",
       "      <td>5242</td>\n",
       "      <td>2802</td>\n",
       "      <td>150536</td>\n",
       "      <td>34173</td>\n",
       "      <td>7553</td>\n",
       "      <td>745178</td>\n",
       "      <td>226702</td>\n",
       "    </tr>\n",
       "    <tr>\n",
       "      <th>14</th>\n",
       "      <td>14140</td>\n",
       "      <td>33184</td>\n",
       "      <td>93485</td>\n",
       "      <td>211658</td>\n",
       "      <td>53593</td>\n",
       "      <td>2672</td>\n",
       "      <td>86670</td>\n",
       "      <td>422958</td>\n",
       "      <td>83515</td>\n",
       "      <td>70327</td>\n",
       "      <td>...</td>\n",
       "      <td>56500</td>\n",
       "      <td>22029</td>\n",
       "      <td>57462</td>\n",
       "      <td>5353</td>\n",
       "      <td>2871</td>\n",
       "      <td>150882</td>\n",
       "      <td>34104</td>\n",
       "      <td>7534</td>\n",
       "      <td>752732</td>\n",
       "      <td>229525</td>\n",
       "    </tr>\n",
       "    <tr>\n",
       "      <th>15</th>\n",
       "      <td>14263</td>\n",
       "      <td>31893</td>\n",
       "      <td>93399</td>\n",
       "      <td>208913</td>\n",
       "      <td>52700</td>\n",
       "      <td>2754</td>\n",
       "      <td>84703</td>\n",
       "      <td>417052</td>\n",
       "      <td>83599</td>\n",
       "      <td>69959</td>\n",
       "      <td>...</td>\n",
       "      <td>54518</td>\n",
       "      <td>21950</td>\n",
       "      <td>57335</td>\n",
       "      <td>5357</td>\n",
       "      <td>2846</td>\n",
       "      <td>147259</td>\n",
       "      <td>33716</td>\n",
       "      <td>7519</td>\n",
       "      <td>741277</td>\n",
       "      <td>225784</td>\n",
       "    </tr>\n",
       "    <tr>\n",
       "      <th>16</th>\n",
       "      <td>13455</td>\n",
       "      <td>29107</td>\n",
       "      <td>89367</td>\n",
       "      <td>200128</td>\n",
       "      <td>51052</td>\n",
       "      <td>2491</td>\n",
       "      <td>79069</td>\n",
       "      <td>397878</td>\n",
       "      <td>81195</td>\n",
       "      <td>66290</td>\n",
       "      <td>...</td>\n",
       "      <td>51666</td>\n",
       "      <td>20747</td>\n",
       "      <td>54021</td>\n",
       "      <td>4864</td>\n",
       "      <td>2694</td>\n",
       "      <td>136731</td>\n",
       "      <td>32246</td>\n",
       "      <td>7750</td>\n",
       "      <td>701558</td>\n",
       "      <td>216065</td>\n",
       "    </tr>\n",
       "    <tr>\n",
       "      <th>17</th>\n",
       "      <td>11328</td>\n",
       "      <td>22527</td>\n",
       "      <td>73258</td>\n",
       "      <td>166305</td>\n",
       "      <td>41556</td>\n",
       "      <td>2041</td>\n",
       "      <td>63720</td>\n",
       "      <td>323889</td>\n",
       "      <td>67579</td>\n",
       "      <td>54577</td>\n",
       "      <td>...</td>\n",
       "      <td>44310</td>\n",
       "      <td>16635</td>\n",
       "      <td>44119</td>\n",
       "      <td>4186</td>\n",
       "      <td>2410</td>\n",
       "      <td>113934</td>\n",
       "      <td>28495</td>\n",
       "      <td>7037</td>\n",
       "      <td>565626</td>\n",
       "      <td>176661</td>\n",
       "    </tr>\n",
       "    <tr>\n",
       "      <th>18</th>\n",
       "      <td>8251</td>\n",
       "      <td>18003</td>\n",
       "      <td>56552</td>\n",
       "      <td>131501</td>\n",
       "      <td>33012</td>\n",
       "      <td>1582</td>\n",
       "      <td>48226</td>\n",
       "      <td>254759</td>\n",
       "      <td>52346</td>\n",
       "      <td>42164</td>\n",
       "      <td>...</td>\n",
       "      <td>36310</td>\n",
       "      <td>12532</td>\n",
       "      <td>34431</td>\n",
       "      <td>3434</td>\n",
       "      <td>1872</td>\n",
       "      <td>88543</td>\n",
       "      <td>23886</td>\n",
       "      <td>5913</td>\n",
       "      <td>439144</td>\n",
       "      <td>134868</td>\n",
       "    </tr>\n",
       "    <tr>\n",
       "      <th>19</th>\n",
       "      <td>5467</td>\n",
       "      <td>15517</td>\n",
       "      <td>42816</td>\n",
       "      <td>100235</td>\n",
       "      <td>26175</td>\n",
       "      <td>1276</td>\n",
       "      <td>37351</td>\n",
       "      <td>196906</td>\n",
       "      <td>39110</td>\n",
       "      <td>32068</td>\n",
       "      <td>...</td>\n",
       "      <td>28697</td>\n",
       "      <td>9511</td>\n",
       "      <td>25142</td>\n",
       "      <td>2611</td>\n",
       "      <td>1427</td>\n",
       "      <td>67952</td>\n",
       "      <td>19077</td>\n",
       "      <td>4496</td>\n",
       "      <td>338476</td>\n",
       "      <td>103951</td>\n",
       "    </tr>\n",
       "    <tr>\n",
       "      <th>20</th>\n",
       "      <td>3149</td>\n",
       "      <td>15492</td>\n",
       "      <td>32517</td>\n",
       "      <td>72229</td>\n",
       "      <td>20456</td>\n",
       "      <td>1112</td>\n",
       "      <td>29403</td>\n",
       "      <td>156345</td>\n",
       "      <td>29143</td>\n",
       "      <td>24689</td>\n",
       "      <td>...</td>\n",
       "      <td>21312</td>\n",
       "      <td>7454</td>\n",
       "      <td>19846</td>\n",
       "      <td>1942</td>\n",
       "      <td>1039</td>\n",
       "      <td>53503</td>\n",
       "      <td>13766</td>\n",
       "      <td>2847</td>\n",
       "      <td>275542</td>\n",
       "      <td>78782</td>\n",
       "    </tr>\n",
       "    <tr>\n",
       "      <th>21</th>\n",
       "      <td>1819</td>\n",
       "      <td>14333</td>\n",
       "      <td>26037</td>\n",
       "      <td>53367</td>\n",
       "      <td>16711</td>\n",
       "      <td>924</td>\n",
       "      <td>25345</td>\n",
       "      <td>129258</td>\n",
       "      <td>23430</td>\n",
       "      <td>20799</td>\n",
       "      <td>...</td>\n",
       "      <td>16141</td>\n",
       "      <td>6178</td>\n",
       "      <td>16385</td>\n",
       "      <td>1631</td>\n",
       "      <td>814</td>\n",
       "      <td>44790</td>\n",
       "      <td>9950</td>\n",
       "      <td>1912</td>\n",
       "      <td>238470</td>\n",
       "      <td>62486</td>\n",
       "    </tr>\n",
       "    <tr>\n",
       "      <th>22</th>\n",
       "      <td>1318</td>\n",
       "      <td>10177</td>\n",
       "      <td>20293</td>\n",
       "      <td>41463</td>\n",
       "      <td>12859</td>\n",
       "      <td>706</td>\n",
       "      <td>20506</td>\n",
       "      <td>101496</td>\n",
       "      <td>19058</td>\n",
       "      <td>16915</td>\n",
       "      <td>...</td>\n",
       "      <td>12755</td>\n",
       "      <td>5269</td>\n",
       "      <td>12859</td>\n",
       "      <td>1325</td>\n",
       "      <td>624</td>\n",
       "      <td>35953</td>\n",
       "      <td>8032</td>\n",
       "      <td>1375</td>\n",
       "      <td>194170</td>\n",
       "      <td>49116</td>\n",
       "    </tr>\n",
       "    <tr>\n",
       "      <th>23</th>\n",
       "      <td>822</td>\n",
       "      <td>5233</td>\n",
       "      <td>12822</td>\n",
       "      <td>28520</td>\n",
       "      <td>8219</td>\n",
       "      <td>490</td>\n",
       "      <td>12650</td>\n",
       "      <td>63436</td>\n",
       "      <td>12292</td>\n",
       "      <td>10264</td>\n",
       "      <td>...</td>\n",
       "      <td>8160</td>\n",
       "      <td>3408</td>\n",
       "      <td>8325</td>\n",
       "      <td>867</td>\n",
       "      <td>413</td>\n",
       "      <td>23045</td>\n",
       "      <td>5062</td>\n",
       "      <td>950</td>\n",
       "      <td>121321</td>\n",
       "      <td>31901</td>\n",
       "    </tr>\n",
       "  </tbody>\n",
       "</table>\n",
       "<p>24 rows × 21 columns</p>\n",
       "</div>"
      ],
      "text/plain": [
       "department         alcohol  babies  bakery  beverages  breakfast  bulk  \\\n",
       "order_hour_of_day                                                        \n",
       "0                      465    2317    6958      16652       4131   231   \n",
       "1                      293    1085    3576       9518       2218   114   \n",
       "2                      246     616    2282       5890       1318    66   \n",
       "3                      177     457    1734       4468       1008    49   \n",
       "4                      175     534    1824       4584       1059    46   \n",
       "5                      260    1076    2967       7108       1797    75   \n",
       "6                      645    4794   10415      22202       6546   314   \n",
       "7                     2021   16310   33029      66553      20865   889   \n",
       "8                     5046   28008   61396     135182      39506  1779   \n",
       "9                     9831   33483   85519     211187      56273  2669   \n",
       "10                   12694   33241   94111     235794      59956  2994   \n",
       "11                   13020   30790   93690     224430      56017  2829   \n",
       "12                   12521   29783   90658     204614      51599  2614   \n",
       "13                   13221   32432   92123     209400      52224  2734   \n",
       "14                   14140   33184   93485     211658      53593  2672   \n",
       "15                   14263   31893   93399     208913      52700  2754   \n",
       "16                   13455   29107   89367     200128      51052  2491   \n",
       "17                   11328   22527   73258     166305      41556  2041   \n",
       "18                    8251   18003   56552     131501      33012  1582   \n",
       "19                    5467   15517   42816     100235      26175  1276   \n",
       "20                    3149   15492   32517      72229      20456  1112   \n",
       "21                    1819   14333   26037      53367      16711   924   \n",
       "22                    1318   10177   20293      41463      12859   706   \n",
       "23                     822    5233   12822      28520       8219   490   \n",
       "\n",
       "department         canned goods  dairy eggs   deli  dry goods pasta  ...  \\\n",
       "order_hour_of_day                                                    ...   \n",
       "0                          6797       33150   6573             5545  ...   \n",
       "1                          3655       16828   3478             2884  ...   \n",
       "2                          2254       10162   2142             1699  ...   \n",
       "3                          1621        7671   1537             1221  ...   \n",
       "4                          1738        7748   1578             1379  ...   \n",
       "5                          2742       13778   2659             2059  ...   \n",
       "6                          8619       49797   8667             7263  ...   \n",
       "7                         25924      154902  26410            22399  ...   \n",
       "8                         50974      296832  51248            41331  ...   \n",
       "9                         72362      414409  73840            56523  ...   \n",
       "10                        85592      452024  84703            65753  ...   \n",
       "11                        88184      433334  85264            68465  ...   \n",
       "12                        86397      407141  82041            67803  ...   \n",
       "13                        87572      415429  82427            69760  ...   \n",
       "14                        86670      422958  83515            70327  ...   \n",
       "15                        84703      417052  83599            69959  ...   \n",
       "16                        79069      397878  81195            66290  ...   \n",
       "17                        63720      323889  67579            54577  ...   \n",
       "18                        48226      254759  52346            42164  ...   \n",
       "19                        37351      196906  39110            32068  ...   \n",
       "20                        29403      156345  29143            24689  ...   \n",
       "21                        25345      129258  23430            20799  ...   \n",
       "22                        20506      101496  19058            16915  ...   \n",
       "23                        12650       63436  12292            10264  ...   \n",
       "\n",
       "department         household  international  meat seafood  missing  other  \\\n",
       "order_hour_of_day                                                           \n",
       "0                       4739           1795          4490      521    232   \n",
       "1                       2722            961          2277      294    129   \n",
       "2                       1784            558          1465      156    113   \n",
       "3                       1353            483          1050      122     67   \n",
       "4                       1530            427          1121      143     62   \n",
       "5                       2180            672          1775      180     99   \n",
       "6                       6569           2151          6027      588    305   \n",
       "7                      20036           6215         18795     1792    877   \n",
       "8                      37854          12117         35620     3244   1736   \n",
       "9                      53936          17780         47957     4777   2519   \n",
       "10                     60760          21558         54477     5526   2825   \n",
       "11                     60765          22022         57303     5422   2833   \n",
       "12                     57797          21666         55981     5191   2802   \n",
       "13                     57463          21873         56518     5242   2802   \n",
       "14                     56500          22029         57462     5353   2871   \n",
       "15                     54518          21950         57335     5357   2846   \n",
       "16                     51666          20747         54021     4864   2694   \n",
       "17                     44310          16635         44119     4186   2410   \n",
       "18                     36310          12532         34431     3434   1872   \n",
       "19                     28697           9511         25142     2611   1427   \n",
       "20                     21312           7454         19846     1942   1039   \n",
       "21                     16141           6178         16385     1631    814   \n",
       "22                     12755           5269         12859     1325    624   \n",
       "23                      8160           3408          8325      867    413   \n",
       "\n",
       "department         pantry  personal care  pets  produce  snacks  \n",
       "order_hour_of_day                                                \n",
       "0                   12950           3115   642    65073   16877  \n",
       "1                    6845           1864   416    33345    8691  \n",
       "2                    4163           1125   247    18986    5336  \n",
       "3                    3049            862   252    13729    3990  \n",
       "4                    3109            973   269    14664    3839  \n",
       "5                    4801           1397   302    25924    6372  \n",
       "6                   15367           3980   948    84649   22541  \n",
       "7                   46324          11700  2389   260886   70141  \n",
       "8                   90178          21953  4298   494234  145686  \n",
       "9                  129241          30442  6087   688956  225426  \n",
       "10                 151101          35364  7194   769161  253121  \n",
       "11                 153550          34891  7493   762072  244307  \n",
       "12                 148899          34133  7637   734100  224238  \n",
       "13                 150536          34173  7553   745178  226702  \n",
       "14                 150882          34104  7534   752732  229525  \n",
       "15                 147259          33716  7519   741277  225784  \n",
       "16                 136731          32246  7750   701558  216065  \n",
       "17                 113934          28495  7037   565626  176661  \n",
       "18                  88543          23886  5913   439144  134868  \n",
       "19                  67952          19077  4496   338476  103951  \n",
       "20                  53503          13766  2847   275542   78782  \n",
       "21                  44790           9950  1912   238470   62486  \n",
       "22                  35953           8032  1375   194170   49116  \n",
       "23                  23045           5062   950   121321   31901  \n",
       "\n",
       "[24 rows x 21 columns]"
      ]
     },
     "execution_count": 116,
     "metadata": {},
     "output_type": "execute_result"
    }
   ],
   "source": [
    "hour_dep"
   ]
  },
  {
   "cell_type": "code",
   "execution_count": 117,
   "id": "70e06005",
   "metadata": {
    "ExecuteTime": {
     "end_time": "2022-12-14T14:25:56.246304Z",
     "start_time": "2022-12-14T14:25:56.231354Z"
    }
   },
   "outputs": [],
   "source": [
    "#copying crosstab to clipboard\n",
    "hour_dep.to_clipboard()"
   ]
  },
  {
   "cell_type": "markdown",
   "id": "fc5830de",
   "metadata": {},
   "source": [
    "# 14. Crossing loyalty flag with New Variables"
   ]
  },
  {
   "cell_type": "code",
   "execution_count": 118,
   "id": "a13b322c",
   "metadata": {
    "ExecuteTime": {
     "end_time": "2022-12-14T14:26:00.044198Z",
     "start_time": "2022-12-14T14:25:56.247300Z"
    },
    "scrolled": true
   },
   "outputs": [],
   "source": [
    "reg_loy = pd.crosstab(df_reg['Region'], df_reg['loyalty_flag'])"
   ]
  },
  {
   "cell_type": "code",
   "execution_count": 119,
   "id": "1119a18f",
   "metadata": {
    "ExecuteTime": {
     "end_time": "2022-12-14T14:26:00.060143Z",
     "start_time": "2022-12-14T14:26:00.045193Z"
    }
   },
   "outputs": [
    {
     "data": {
      "text/html": [
       "<div>\n",
       "<style scoped>\n",
       "    .dataframe tbody tr th:only-of-type {\n",
       "        vertical-align: middle;\n",
       "    }\n",
       "\n",
       "    .dataframe tbody tr th {\n",
       "        vertical-align: top;\n",
       "    }\n",
       "\n",
       "    .dataframe thead th {\n",
       "        text-align: right;\n",
       "    }\n",
       "</style>\n",
       "<table border=\"1\" class=\"dataframe\">\n",
       "  <thead>\n",
       "    <tr style=\"text-align: right;\">\n",
       "      <th>loyalty_flag</th>\n",
       "      <th>Loyal customer</th>\n",
       "      <th>New customer</th>\n",
       "      <th>Regular customer</th>\n",
       "    </tr>\n",
       "    <tr>\n",
       "      <th>Region</th>\n",
       "      <th></th>\n",
       "      <th></th>\n",
       "      <th></th>\n",
       "    </tr>\n",
       "  </thead>\n",
       "  <tbody>\n",
       "    <tr>\n",
       "      <th>Midwest</th>\n",
       "      <td>2373774</td>\n",
       "      <td>1136761</td>\n",
       "      <td>3750978</td>\n",
       "    </tr>\n",
       "    <tr>\n",
       "      <th>Northeast</th>\n",
       "      <td>1841785</td>\n",
       "      <td>842156</td>\n",
       "      <td>2780744</td>\n",
       "    </tr>\n",
       "    <tr>\n",
       "      <th>South</th>\n",
       "      <td>3193773</td>\n",
       "      <td>1500240</td>\n",
       "      <td>5003549</td>\n",
       "    </tr>\n",
       "    <tr>\n",
       "      <th>West</th>\n",
       "      <td>2874761</td>\n",
       "      <td>1324538</td>\n",
       "      <td>4341505</td>\n",
       "    </tr>\n",
       "  </tbody>\n",
       "</table>\n",
       "</div>"
      ],
      "text/plain": [
       "loyalty_flag  Loyal customer  New customer  Regular customer\n",
       "Region                                                      \n",
       "Midwest              2373774       1136761           3750978\n",
       "Northeast            1841785        842156           2780744\n",
       "South                3193773       1500240           5003549\n",
       "West                 2874761       1324538           4341505"
      ]
     },
     "execution_count": 119,
     "metadata": {},
     "output_type": "execute_result"
    }
   ],
   "source": [
    "reg_loy"
   ]
  },
  {
   "cell_type": "code",
   "execution_count": 120,
   "id": "7f77ecd0",
   "metadata": {
    "ExecuteTime": {
     "end_time": "2022-12-14T14:26:00.154824Z",
     "start_time": "2022-12-14T14:26:00.061139Z"
    }
   },
   "outputs": [
    {
     "data": {
      "image/png": "[encoded data removed]",
      "text/plain": [
       "<Figure size 640x480 with 1 Axes>"
      ]
     },
     "metadata": {},
     "output_type": "display_data"
    }
   ],
   "source": [
    "reg_loy_bar = reg_loy.plot(kind = 'bar', stacked = True, color = ['darkgreen', 'limegreen', 'lime'])"
   ]
  },
  {
   "cell_type": "code",
   "execution_count": 153,
   "id": "38098485",
   "metadata": {
    "ExecuteTime": {
     "end_time": "2022-12-14T22:07:05.560438Z",
     "start_time": "2022-12-14T22:07:05.415405Z"
    }
   },
   "outputs": [],
   "source": [
    "#exporting bar graph\n",
    "reg_loy_bar.figure.savefig((os.path.join(path, '04 Analysis', 'Visualizations', 'reg_loy_bar.png')), bbox_inches = \"tight\")"
   ]
  },
  {
   "cell_type": "code",
   "execution_count": 122,
   "id": "613967b6",
   "metadata": {
    "ExecuteTime": {
     "end_time": "2022-12-14T14:26:04.180352Z",
     "start_time": "2022-12-14T14:26:00.203660Z"
    }
   },
   "outputs": [],
   "source": [
    "#Creating crosstab of loyalty level and age group\n",
    "age_loy = pd.crosstab(df_reg['Age_Group'], df_reg['loyalty_flag'])"
   ]
  },
  {
   "cell_type": "code",
   "execution_count": 123,
   "id": "b9a5d0df",
   "metadata": {
    "ExecuteTime": {
     "end_time": "2022-12-14T14:26:04.196296Z",
     "start_time": "2022-12-14T14:26:04.181351Z"
    }
   },
   "outputs": [
    {
     "data": {
      "text/html": [
       "<div>\n",
       "<style scoped>\n",
       "    .dataframe tbody tr th:only-of-type {\n",
       "        vertical-align: middle;\n",
       "    }\n",
       "\n",
       "    .dataframe tbody tr th {\n",
       "        vertical-align: top;\n",
       "    }\n",
       "\n",
       "    .dataframe thead th {\n",
       "        text-align: right;\n",
       "    }\n",
       "</style>\n",
       "<table border=\"1\" class=\"dataframe\">\n",
       "  <thead>\n",
       "    <tr style=\"text-align: right;\">\n",
       "      <th>loyalty_flag</th>\n",
       "      <th>Loyal customer</th>\n",
       "      <th>New customer</th>\n",
       "      <th>Regular customer</th>\n",
       "    </tr>\n",
       "    <tr>\n",
       "      <th>Age_Group</th>\n",
       "      <th></th>\n",
       "      <th></th>\n",
       "      <th></th>\n",
       "    </tr>\n",
       "  </thead>\n",
       "  <tbody>\n",
       "    <tr>\n",
       "      <th>College Age</th>\n",
       "      <td>1143582</td>\n",
       "      <td>527077</td>\n",
       "      <td>1744535</td>\n",
       "    </tr>\n",
       "    <tr>\n",
       "      <th>Early Career</th>\n",
       "      <td>2375804</td>\n",
       "      <td>1112657</td>\n",
       "      <td>3761455</td>\n",
       "    </tr>\n",
       "    <tr>\n",
       "      <th>Middle Age</th>\n",
       "      <td>4040749</td>\n",
       "      <td>1887302</td>\n",
       "      <td>6175859</td>\n",
       "    </tr>\n",
       "    <tr>\n",
       "      <th>Retirement Age</th>\n",
       "      <td>2723958</td>\n",
       "      <td>1276659</td>\n",
       "      <td>4194927</td>\n",
       "    </tr>\n",
       "  </tbody>\n",
       "</table>\n",
       "</div>"
      ],
      "text/plain": [
       "loyalty_flag    Loyal customer  New customer  Regular customer\n",
       "Age_Group                                                     \n",
       "College Age            1143582        527077           1744535\n",
       "Early Career           2375804       1112657           3761455\n",
       "Middle Age             4040749       1887302           6175859\n",
       "Retirement Age         2723958       1276659           4194927"
      ]
     },
     "execution_count": 123,
     "metadata": {},
     "output_type": "execute_result"
    }
   ],
   "source": [
    "age_loy"
   ]
  },
  {
   "cell_type": "code",
   "execution_count": 124,
   "id": "442dad1f",
   "metadata": {
    "ExecuteTime": {
     "end_time": "2022-12-14T14:26:04.307921Z",
     "start_time": "2022-12-14T14:26:04.199284Z"
    }
   },
   "outputs": [
    {
     "data": {
      "image/png": "[encoded data removed]",
      "text/plain": [
       "<Figure size 640x480 with 1 Axes>"
      ]
     },
     "metadata": {},
     "output_type": "display_data"
    }
   ],
   "source": [
    "#creating bar graph of crosstab\n",
    "age_loy_bar = age_loy.plot(kind = 'bar', stacked = True, color = ['green', 'limegreen', 'lime', 'greenyellow'])"
   ]
  },
  {
   "cell_type": "code",
   "execution_count": 154,
   "id": "eb2e2ccc",
   "metadata": {
    "ExecuteTime": {
     "end_time": "2022-12-14T22:08:35.718394Z",
     "start_time": "2022-12-14T22:08:35.597839Z"
    }
   },
   "outputs": [],
   "source": [
    "#exporting bar graph\n",
    "age_loy_bar.figure.savefig((os.path.join(path, '04 Analysis', 'Visualizations', 'Age_loy_bar.png')), bbox_inches = \"tight\")"
   ]
  },
  {
   "cell_type": "code",
   "execution_count": 125,
   "id": "3f30b4ac",
   "metadata": {
    "ExecuteTime": {
     "end_time": "2022-12-14T14:26:08.141479Z",
     "start_time": "2022-12-14T14:26:04.309923Z"
    }
   },
   "outputs": [],
   "source": [
    "#creating crosstab of loyalty level and income\n",
    "wrk_loy = pd.crosstab(df_reg['work_status'], df_reg['loyalty_flag']) "
   ]
  },
  {
   "cell_type": "code",
   "execution_count": 126,
   "id": "3982b0b8",
   "metadata": {
    "ExecuteTime": {
     "end_time": "2022-12-14T14:26:08.157422Z",
     "start_time": "2022-12-14T14:26:08.142477Z"
    }
   },
   "outputs": [
    {
     "data": {
      "text/html": [
       "<div>\n",
       "<style scoped>\n",
       "    .dataframe tbody tr th:only-of-type {\n",
       "        vertical-align: middle;\n",
       "    }\n",
       "\n",
       "    .dataframe tbody tr th {\n",
       "        vertical-align: top;\n",
       "    }\n",
       "\n",
       "    .dataframe thead th {\n",
       "        text-align: right;\n",
       "    }\n",
       "</style>\n",
       "<table border=\"1\" class=\"dataframe\">\n",
       "  <thead>\n",
       "    <tr style=\"text-align: right;\">\n",
       "      <th>loyalty_flag</th>\n",
       "      <th>Loyal customer</th>\n",
       "      <th>New customer</th>\n",
       "      <th>Regular customer</th>\n",
       "    </tr>\n",
       "    <tr>\n",
       "      <th>work_status</th>\n",
       "      <th></th>\n",
       "      <th></th>\n",
       "      <th></th>\n",
       "    </tr>\n",
       "  </thead>\n",
       "  <tbody>\n",
       "    <tr>\n",
       "      <th>high income</th>\n",
       "      <td>40341</td>\n",
       "      <td>7985</td>\n",
       "      <td>51703</td>\n",
       "    </tr>\n",
       "    <tr>\n",
       "      <th>low income</th>\n",
       "      <td>3619173</td>\n",
       "      <td>1743941</td>\n",
       "      <td>5635896</td>\n",
       "    </tr>\n",
       "    <tr>\n",
       "      <th>mid income</th>\n",
       "      <td>4717868</td>\n",
       "      <td>2135566</td>\n",
       "      <td>7253939</td>\n",
       "    </tr>\n",
       "    <tr>\n",
       "      <th>retired</th>\n",
       "      <td>801301</td>\n",
       "      <td>404444</td>\n",
       "      <td>1248036</td>\n",
       "    </tr>\n",
       "    <tr>\n",
       "      <th>student</th>\n",
       "      <td>1105410</td>\n",
       "      <td>511759</td>\n",
       "      <td>1687202</td>\n",
       "    </tr>\n",
       "  </tbody>\n",
       "</table>\n",
       "</div>"
      ],
      "text/plain": [
       "loyalty_flag  Loyal customer  New customer  Regular customer\n",
       "work_status                                                 \n",
       "high income            40341          7985             51703\n",
       "low income           3619173       1743941           5635896\n",
       "mid income           4717868       2135566           7253939\n",
       "retired               801301        404444           1248036\n",
       "student              1105410        511759           1687202"
      ]
     },
     "execution_count": 126,
     "metadata": {},
     "output_type": "execute_result"
    }
   ],
   "source": [
    "wrk_loy"
   ]
  },
  {
   "cell_type": "code",
   "execution_count": 127,
   "id": "dcdf78bf",
   "metadata": {
    "ExecuteTime": {
     "end_time": "2022-12-14T14:26:08.252108Z",
     "start_time": "2022-12-14T14:26:08.158424Z"
    }
   },
   "outputs": [
    {
     "data": {
      "image/png": "[encoded data removed]",
      "text/plain": [
       "<Figure size 640x480 with 1 Axes>"
      ]
     },
     "metadata": {},
     "output_type": "display_data"
    }
   ],
   "source": [
    "#creating bar graph of crosstab\n",
    "wrk_loy_bar = wrk_loy.plot(kind = 'bar', stacked = True, color = ['green', 'limegreen', 'lime'])"
   ]
  },
  {
   "cell_type": "code",
   "execution_count": 158,
   "id": "4d191c1b",
   "metadata": {
    "ExecuteTime": {
     "end_time": "2022-12-14T22:09:48.638099Z",
     "start_time": "2022-12-14T22:09:48.507890Z"
    }
   },
   "outputs": [],
   "source": [
    "#exporting graph\n",
    "wrk_loy_bar.figure.savefig((os.path.join(path, '04 Analysis','Visualizations', 'wrk_loy_bar.png')), bbox_inches = \"tight\")"
   ]
  },
  {
   "cell_type": "code",
   "execution_count": 129,
   "id": "cbe54608",
   "metadata": {
    "ExecuteTime": {
     "end_time": "2022-12-14T14:48:14.433237Z",
     "start_time": "2022-12-14T14:48:10.939674Z"
    }
   },
   "outputs": [],
   "source": [
    "#creating crosstab of order hour of day and loyalty status\n",
    "ohod_loy = pd.crosstab(df_reg['order_hour_of_day'], df_reg['loyalty_flag'])"
   ]
  },
  {
   "cell_type": "code",
   "execution_count": 130,
   "id": "c903925d",
   "metadata": {
    "ExecuteTime": {
     "end_time": "2022-12-14T14:48:19.567231Z",
     "start_time": "2022-12-14T14:48:19.550284Z"
    }
   },
   "outputs": [
    {
     "data": {
      "text/html": [
       "<div>\n",
       "<style scoped>\n",
       "    .dataframe tbody tr th:only-of-type {\n",
       "        vertical-align: middle;\n",
       "    }\n",
       "\n",
       "    .dataframe tbody tr th {\n",
       "        vertical-align: top;\n",
       "    }\n",
       "\n",
       "    .dataframe thead th {\n",
       "        text-align: right;\n",
       "    }\n",
       "</style>\n",
       "<table border=\"1\" class=\"dataframe\">\n",
       "  <thead>\n",
       "    <tr style=\"text-align: right;\">\n",
       "      <th>loyalty_flag</th>\n",
       "      <th>Loyal customer</th>\n",
       "      <th>New customer</th>\n",
       "      <th>Regular customer</th>\n",
       "    </tr>\n",
       "    <tr>\n",
       "      <th>order_hour_of_day</th>\n",
       "      <th></th>\n",
       "      <th></th>\n",
       "      <th></th>\n",
       "    </tr>\n",
       "  </thead>\n",
       "  <tbody>\n",
       "    <tr>\n",
       "      <th>0</th>\n",
       "      <td>61748</td>\n",
       "      <td>35311</td>\n",
       "      <td>110983</td>\n",
       "    </tr>\n",
       "    <tr>\n",
       "      <th>1</th>\n",
       "      <td>30179</td>\n",
       "      <td>20674</td>\n",
       "      <td>58768</td>\n",
       "    </tr>\n",
       "    <tr>\n",
       "      <th>2</th>\n",
       "      <td>17788</td>\n",
       "      <td>12241</td>\n",
       "      <td>35662</td>\n",
       "    </tr>\n",
       "    <tr>\n",
       "      <th>3</th>\n",
       "      <td>13374</td>\n",
       "      <td>9510</td>\n",
       "      <td>25912</td>\n",
       "    </tr>\n",
       "    <tr>\n",
       "      <th>4</th>\n",
       "      <td>16882</td>\n",
       "      <td>8442</td>\n",
       "      <td>25439</td>\n",
       "    </tr>\n",
       "    <tr>\n",
       "      <th>5</th>\n",
       "      <td>29350</td>\n",
       "      <td>12475</td>\n",
       "      <td>42593</td>\n",
       "    </tr>\n",
       "    <tr>\n",
       "      <th>6</th>\n",
       "      <td>112865</td>\n",
       "      <td>33901</td>\n",
       "      <td>134247</td>\n",
       "    </tr>\n",
       "    <tr>\n",
       "      <th>7</th>\n",
       "      <td>346694</td>\n",
       "      <td>102170</td>\n",
       "      <td>414349</td>\n",
       "    </tr>\n",
       "    <tr>\n",
       "      <th>8</th>\n",
       "      <td>643895</td>\n",
       "      <td>208124</td>\n",
       "      <td>807091</td>\n",
       "    </tr>\n",
       "    <tr>\n",
       "      <th>9</th>\n",
       "      <td>882740</td>\n",
       "      <td>313143</td>\n",
       "      <td>1167728</td>\n",
       "    </tr>\n",
       "    <tr>\n",
       "      <th>10</th>\n",
       "      <td>937669</td>\n",
       "      <td>382409</td>\n",
       "      <td>1329666</td>\n",
       "    </tr>\n",
       "    <tr>\n",
       "      <th>11</th>\n",
       "      <td>873024</td>\n",
       "      <td>402684</td>\n",
       "      <td>1339172</td>\n",
       "    </tr>\n",
       "    <tr>\n",
       "      <th>12</th>\n",
       "      <td>807001</td>\n",
       "      <td>394610</td>\n",
       "      <td>1294184</td>\n",
       "    </tr>\n",
       "    <tr>\n",
       "      <th>13</th>\n",
       "      <td>824465</td>\n",
       "      <td>409847</td>\n",
       "      <td>1304964</td>\n",
       "    </tr>\n",
       "    <tr>\n",
       "      <th>14</th>\n",
       "      <td>835162</td>\n",
       "      <td>409947</td>\n",
       "      <td>1322794</td>\n",
       "    </tr>\n",
       "    <tr>\n",
       "      <th>15</th>\n",
       "      <td>809777</td>\n",
       "      <td>414283</td>\n",
       "      <td>1311906</td>\n",
       "    </tr>\n",
       "    <tr>\n",
       "      <th>16</th>\n",
       "      <td>743761</td>\n",
       "      <td>403735</td>\n",
       "      <td>1266185</td>\n",
       "    </tr>\n",
       "    <tr>\n",
       "      <th>17</th>\n",
       "      <td>584602</td>\n",
       "      <td>343519</td>\n",
       "      <td>1054224</td>\n",
       "    </tr>\n",
       "    <tr>\n",
       "      <th>18</th>\n",
       "      <td>449336</td>\n",
       "      <td>270607</td>\n",
       "      <td>831241</td>\n",
       "    </tr>\n",
       "    <tr>\n",
       "      <th>19</th>\n",
       "      <td>360292</td>\n",
       "      <td>204772</td>\n",
       "      <td>628814</td>\n",
       "    </tr>\n",
       "    <tr>\n",
       "      <th>20</th>\n",
       "      <td>309270</td>\n",
       "      <td>147337</td>\n",
       "      <td>474302</td>\n",
       "    </tr>\n",
       "    <tr>\n",
       "      <th>21</th>\n",
       "      <td>264537</td>\n",
       "      <td>112588</td>\n",
       "      <td>385986</td>\n",
       "    </tr>\n",
       "    <tr>\n",
       "      <th>22</th>\n",
       "      <td>206150</td>\n",
       "      <td>91484</td>\n",
       "      <td>309426</td>\n",
       "    </tr>\n",
       "    <tr>\n",
       "      <th>23</th>\n",
       "      <td>123532</td>\n",
       "      <td>59882</td>\n",
       "      <td>201140</td>\n",
       "    </tr>\n",
       "  </tbody>\n",
       "</table>\n",
       "</div>"
      ],
      "text/plain": [
       "loyalty_flag       Loyal customer  New customer  Regular customer\n",
       "order_hour_of_day                                                \n",
       "0                           61748         35311            110983\n",
       "1                           30179         20674             58768\n",
       "2                           17788         12241             35662\n",
       "3                           13374          9510             25912\n",
       "4                           16882          8442             25439\n",
       "5                           29350         12475             42593\n",
       "6                          112865         33901            134247\n",
       "7                          346694        102170            414349\n",
       "8                          643895        208124            807091\n",
       "9                          882740        313143           1167728\n",
       "10                         937669        382409           1329666\n",
       "11                         873024        402684           1339172\n",
       "12                         807001        394610           1294184\n",
       "13                         824465        409847           1304964\n",
       "14                         835162        409947           1322794\n",
       "15                         809777        414283           1311906\n",
       "16                         743761        403735           1266185\n",
       "17                         584602        343519           1054224\n",
       "18                         449336        270607            831241\n",
       "19                         360292        204772            628814\n",
       "20                         309270        147337            474302\n",
       "21                         264537        112588            385986\n",
       "22                         206150         91484            309426\n",
       "23                         123532         59882            201140"
      ]
     },
     "execution_count": 130,
     "metadata": {},
     "output_type": "execute_result"
    }
   ],
   "source": [
    "ohod_loy"
   ]
  },
  {
   "cell_type": "code",
   "execution_count": 131,
   "id": "dcedbfac",
   "metadata": {
    "ExecuteTime": {
     "end_time": "2022-12-14T14:49:36.747067Z",
     "start_time": "2022-12-14T14:49:36.570113Z"
    }
   },
   "outputs": [
    {
     "data": {
      "image/png": "[encoded data removed]",
      "text/plain": [
       "<Figure size 640x480 with 1 Axes>"
      ]
     },
     "metadata": {},
     "output_type": "display_data"
    }
   ],
   "source": [
    "#creating bar graph of crosstab\n",
    "ohod_loy_bar = ohod_loy.plot(kind = 'bar', stacked = True, color = ['green', 'limegreen', 'lime'])"
   ]
  },
  {
   "cell_type": "code",
   "execution_count": 133,
   "id": "6f43d3fd",
   "metadata": {
    "ExecuteTime": {
     "end_time": "2022-12-14T14:51:18.074162Z",
     "start_time": "2022-12-14T14:51:18.026771Z"
    }
   },
   "outputs": [],
   "source": [
    "#exporting bar graph\n",
    "ohod_loy_bar.figure.savefig(os.path.join(path, '04 Analysis', 'Visualizations', 'ohod_loy_bar.png'))"
   ]
  },
  {
   "cell_type": "markdown",
   "id": "834e4ee1",
   "metadata": {},
   "source": [
    "# 15. Exporting Final Data Set"
   ]
  },
  {
   "cell_type": "code",
   "execution_count": 134,
   "id": "e572f4d6",
   "metadata": {
    "ExecuteTime": {
     "end_time": "2022-12-14T14:54:30.299119Z",
     "start_time": "2022-12-14T14:53:52.911288Z"
    }
   },
   "outputs": [],
   "source": [
    "#exporting dataframe\n",
    "df_reg.to_pickle(os.path.join(path, '02 Data', 'Prepared Data', 'Cust_Ords_Prods_Regular_Customers.pkl'))"
   ]
  },
  {
   "cell_type": "code",
   "execution_count": null,
   "id": "c00f6996",
   "metadata": {},
   "outputs": [],
   "source": []
  }
 ],
 "metadata": {
  "kernelspec": {
   "display_name": "Python 3 (ipykernel)",
   "language": "python",
   "name": "python3"
  },
  "language_info": {
   "codemirror_mode": {
    "name": "ipython",
    "version": 3
   },
   "file_extension": ".py",
   "mimetype": "text/x-python",
   "name": "python",
   "nbconvert_exporter": "python",
   "pygments_lexer": "ipython3",
   "version": "3.9.13"
  },
  "varInspector": {
   "cols": {
    "lenName": 16,
    "lenType": 16,
    "lenVar": 40
   },
   "kernels_config": {
    "python": {
     "delete_cmd_postfix": "",
     "delete_cmd_prefix": "del ",
     "library": "var_list.py",
     "varRefreshCmd": "print(var_dic_list())"
    },
    "r": {
     "delete_cmd_postfix": ") ",
     "delete_cmd_prefix": "rm(",
     "library": "var_list.r",
     "varRefreshCmd": "cat(var_dic_list()) "
    }
   },
   "types_to_exclude": [
    "module",
    "function",
    "builtin_function_or_method",
    "instance",
    "_Feature"
   ],
   "window_display": false
  }
 },
 "nbformat": 4,
 "nbformat_minor": 5
}

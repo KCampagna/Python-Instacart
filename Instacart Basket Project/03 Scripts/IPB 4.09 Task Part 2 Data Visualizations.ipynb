{
 "cells": [
  {
   "cell_type": "markdown",
   "id": "70163128",
   "metadata": {},
   "source": [
    "# 01. Import Libraries"
   ]
  },
  {
   "cell_type": "code",
   "execution_count": 1,
   "id": "cfd48f9f",
   "metadata": {
    "ExecuteTime": {
     "end_time": "2023-01-03T19:34:51.661887Z",
     "start_time": "2023-01-03T19:34:49.982466Z"
    }
   },
   "outputs": [],
   "source": [
    "# Import Libraries\n",
    "import pandas as pd\n",
    "import numpy as np\n",
    "import os\n",
    "import matplotlib.pyplot as plt\n",
    "import seaborn as sns\n",
    "import scipy"
   ]
  },
  {
   "cell_type": "markdown",
   "id": "9a57a1b7",
   "metadata": {},
   "source": [
    "# 02. Import Dataframe"
   ]
  },
  {
   "cell_type": "code",
   "execution_count": 2,
   "id": "e1550c09",
   "metadata": {
    "ExecuteTime": {
     "end_time": "2023-01-03T19:34:53.070753Z",
     "start_time": "2023-01-03T19:34:53.058503Z"
    }
   },
   "outputs": [],
   "source": [
    "#Set file path\n",
    "path = r'C:\\Users\\Campa\\Data Projects\\Instacart Basket Project'"
   ]
  },
  {
   "cell_type": "code",
   "execution_count": 3,
   "id": "1ca8a89f",
   "metadata": {
    "ExecuteTime": {
     "end_time": "2023-01-03T19:35:16.059414Z",
     "start_time": "2023-01-03T19:34:54.101496Z"
    }
   },
   "outputs": [],
   "source": [
    "#Import Cust_ords_prods_merged.pkl\n",
    "cust_ords_prods = pd.read_pickle(os.path.join(path, '02 Data', 'Prepared Data', 'Cust_Ords_Prods_Merged.pkl'))"
   ]
  },
  {
   "cell_type": "code",
   "execution_count": null,
   "id": "979bc68b",
   "metadata": {
    "ExecuteTime": {
     "end_time": "2022-12-14T21:49:24.295927Z",
     "start_time": "2022-12-14T21:49:24.294563Z"
    }
   },
   "outputs": [],
   "source": [
    "#Checking DF shape\n",
    "cust_ords_prods.shape"
   ]
  },
  {
   "cell_type": "code",
   "execution_count": null,
   "id": "53291eb3",
   "metadata": {
    "ExecuteTime": {
     "end_time": "2022-12-14T21:49:24.299911Z",
     "start_time": "2022-12-14T21:49:24.299911Z"
    }
   },
   "outputs": [],
   "source": [
    "cust_ords_prods.head()"
   ]
  },
  {
   "cell_type": "markdown",
   "id": "3883fd4d",
   "metadata": {},
   "source": [
    "# 03. Creating a Bar Chart"
   ]
  },
  {
   "cell_type": "code",
   "execution_count": null,
   "id": "1f319f53",
   "metadata": {
    "ExecuteTime": {
     "end_time": "2022-12-14T21:49:24.303899Z",
     "start_time": "2022-12-14T21:49:24.303899Z"
    }
   },
   "outputs": [],
   "source": [
    "#Creating a bara chart of orders by day of the week\n",
    "bar_orders_dow = cust_ords_prods['order_day_of_week'].value_counts().plot.bar(color = 'green')"
   ]
  },
  {
   "cell_type": "code",
   "execution_count": null,
   "id": "b904be3a",
   "metadata": {
    "ExecuteTime": {
     "end_time": "2022-12-14T21:49:24.306716Z",
     "start_time": "2022-12-14T21:49:24.306716Z"
    }
   },
   "outputs": [],
   "source": [
    "#exporting bar chart\n",
    "bar_orders_dow.figure.savefig(os.path.join(path, '04 Analysis', 'Visualizations', 'bar_orders_dow.png'))"
   ]
  },
  {
   "cell_type": "markdown",
   "id": "19fc3cc1",
   "metadata": {},
   "source": [
    "# 04. Creating a Historgram of Product Prices"
   ]
  },
  {
   "cell_type": "code",
   "execution_count": null,
   "id": "366cca66",
   "metadata": {
    "ExecuteTime": {
     "end_time": "2022-12-14T21:49:24.308796Z",
     "start_time": "2022-12-14T21:49:24.307925Z"
    }
   },
   "outputs": [],
   "source": [
    "#creating histogram of prices with 25 bins\n",
    "cust_ords_prods['prices'].plot.hist(bins = 25)"
   ]
  },
  {
   "cell_type": "code",
   "execution_count": null,
   "id": "87a4b9d9",
   "metadata": {
    "ExecuteTime": {
     "end_time": "2022-12-14T21:49:24.310803Z",
     "start_time": "2022-12-14T21:49:24.310803Z"
    }
   },
   "outputs": [],
   "source": [
    "#checking prices stats\n",
    "cust_ords_prods['prices'].describe()"
   ]
  },
  {
   "cell_type": "code",
   "execution_count": null,
   "id": "d65ca280",
   "metadata": {
    "ExecuteTime": {
     "end_time": "2022-12-14T21:49:24.315791Z",
     "start_time": "2022-12-14T21:49:24.315791Z"
    }
   },
   "outputs": [],
   "source": [
    "cust_ords_prods['prices'].mean()"
   ]
  },
  {
   "cell_type": "code",
   "execution_count": null,
   "id": "a2e244f3",
   "metadata": {
    "ExecuteTime": {
     "end_time": "2022-12-14T21:49:24.318909Z",
     "start_time": "2022-12-14T21:49:24.318909Z"
    }
   },
   "outputs": [],
   "source": [
    "cust_ords_prods['prices'].median()"
   ]
  },
  {
   "cell_type": "code",
   "execution_count": null,
   "id": "58f7fd4c",
   "metadata": {
    "ExecuteTime": {
     "end_time": "2022-12-14T21:49:24.322912Z",
     "start_time": "2022-12-14T21:49:24.322912Z"
    }
   },
   "outputs": [],
   "source": [
    "cust_ords_prods['prices'].max()"
   ]
  },
  {
   "cell_type": "code",
   "execution_count": null,
   "id": "6c4b68c9",
   "metadata": {
    "ExecuteTime": {
     "end_time": "2022-12-14T21:49:24.325885Z",
     "start_time": "2022-12-14T21:49:24.325885Z"
    }
   },
   "outputs": [],
   "source": [
    "# Creating scatter plot of prices to determine outliers\n",
    "sns.scatterplot(x = 'prices', y = 'prices', data = cust_ords_prods)"
   ]
  },
  {
   "cell_type": "code",
   "execution_count": null,
   "id": "71b2dbfd",
   "metadata": {
    "ExecuteTime": {
     "end_time": "2022-12-14T21:49:24.329311Z",
     "start_time": "2022-12-14T21:49:24.328321Z"
    }
   },
   "outputs": [],
   "source": [
    "#checking for products with prices over $100\n",
    "cust_ords_prods.loc[cust_ords_prods['prices'] > 100]"
   ]
  },
  {
   "cell_type": "code",
   "execution_count": null,
   "id": "b3419fd6",
   "metadata": {
    "ExecuteTime": {
     "end_time": "2022-12-14T21:49:24.332806Z",
     "start_time": "2022-12-14T21:49:24.332806Z"
    }
   },
   "outputs": [],
   "source": [
    "#replacing outlier values with NaNs\n",
    "cust_ords_prods.loc[cust_ords_prods['prices'] > 100, 'prices'] = np.nan"
   ]
  },
  {
   "cell_type": "code",
   "execution_count": null,
   "id": "7bb2726d",
   "metadata": {
    "ExecuteTime": {
     "end_time": "2022-12-14T21:49:24.335784Z",
     "start_time": "2022-12-14T21:49:24.335784Z"
    }
   },
   "outputs": [],
   "source": [
    "cust_ords_prods['prices'].max()"
   ]
  },
  {
   "cell_type": "code",
   "execution_count": null,
   "id": "81a15f0c",
   "metadata": {
    "ExecuteTime": {
     "end_time": "2022-12-14T21:49:24.338772Z",
     "start_time": "2022-12-14T21:49:24.338772Z"
    }
   },
   "outputs": [],
   "source": [
    "#creating histogram of prices with 25 bins\n",
    "hist = cust_ords_prods['prices'].plot.hist(bins = 25)"
   ]
  },
  {
   "cell_type": "code",
   "execution_count": null,
   "id": "fec97577",
   "metadata": {
    "ExecuteTime": {
     "end_time": "2022-12-14T21:49:24.343630Z",
     "start_time": "2022-12-14T21:49:24.343630Z"
    }
   },
   "outputs": [],
   "source": [
    "#creating histogram of prices with 70 bins\n",
    "hist_2 = cust_ords_prods['prices'].plot.hist(bins=70)"
   ]
  },
  {
   "cell_type": "markdown",
   "id": "13bc2d6a",
   "metadata": {},
   "source": [
    "# 05. Creating data sample for line chart"
   ]
  },
  {
   "cell_type": "code",
   "execution_count": null,
   "id": "4945afe2",
   "metadata": {
    "ExecuteTime": {
     "end_time": "2022-12-14T21:49:24.345656Z",
     "start_time": "2022-12-14T21:49:24.345656Z"
    }
   },
   "outputs": [],
   "source": [
    "#creating seed for sample\n",
    "dev = np.random.rand(len(cust_ords_prods)) <= 0.7"
   ]
  },
  {
   "cell_type": "code",
   "execution_count": null,
   "id": "978556df",
   "metadata": {
    "ExecuteTime": {
     "end_time": "2022-12-14T21:49:24.349611Z",
     "start_time": "2022-12-14T21:49:24.349611Z"
    }
   },
   "outputs": [],
   "source": [
    "dev"
   ]
  },
  {
   "cell_type": "code",
   "execution_count": null,
   "id": "3950ad42",
   "metadata": {
    "ExecuteTime": {
     "end_time": "2022-12-14T21:49:24.354292Z",
     "start_time": "2022-12-14T21:49:24.354292Z"
    }
   },
   "outputs": [],
   "source": [
    "#splitting data samples, 70% in Big 30 % in small\n",
    "big = cust_ords_prods[dev]\n",
    "small = cust_ords_prods[~dev]"
   ]
  },
  {
   "cell_type": "code",
   "execution_count": null,
   "id": "41e20f92",
   "metadata": {
    "ExecuteTime": {
     "end_time": "2022-12-14T21:49:24.356301Z",
     "start_time": "2022-12-14T21:49:24.356301Z"
    }
   },
   "outputs": [],
   "source": [
    "#checking data sample sizes\n",
    "len(cust_ords_prods)"
   ]
  },
  {
   "cell_type": "code",
   "execution_count": null,
   "id": "28e44f98",
   "metadata": {
    "ExecuteTime": {
     "end_time": "2022-12-14T21:49:24.359442Z",
     "start_time": "2022-12-14T21:49:24.359442Z"
    }
   },
   "outputs": [],
   "source": [
    "len(big) + len(small)"
   ]
  },
  {
   "cell_type": "code",
   "execution_count": null,
   "id": "e79b2e77",
   "metadata": {
    "ExecuteTime": {
     "end_time": "2022-12-14T21:49:24.362431Z",
     "start_time": "2022-12-14T21:49:24.362431Z"
    }
   },
   "outputs": [],
   "source": [
    "#creating subest of sample for easier visualization \n",
    "df = small[['order_day_of_week', 'prices']]"
   ]
  },
  {
   "cell_type": "code",
   "execution_count": null,
   "id": "39ae3466",
   "metadata": {
    "ExecuteTime": {
     "end_time": "2022-12-14T21:49:24.366419Z",
     "start_time": "2022-12-14T21:49:24.366419Z"
    }
   },
   "outputs": [],
   "source": [
    "# creating line chart of prices over days of week\n",
    "line = sns.lineplot(data = df, x = 'order_day_of_week', y = 'prices')"
   ]
  },
  {
   "cell_type": "markdown",
   "id": "428f1c46",
   "metadata": {},
   "source": [
    "All of these visualizations were exported as part of my exercise notebook."
   ]
  },
  {
   "cell_type": "markdown",
   "id": "5255361e",
   "metadata": {},
   "source": [
    "# 06. Create a Histogram of Order_hour_of_day"
   ]
  },
  {
   "cell_type": "code",
   "execution_count": null,
   "id": "756b28a6",
   "metadata": {
    "ExecuteTime": {
     "end_time": "2022-12-14T21:49:24.370406Z",
     "start_time": "2022-12-14T21:49:24.370406Z"
    }
   },
   "outputs": [],
   "source": [
    "hour_hist_1 = cust_ords_prods['order_hour_of_day'].plot.hist(bins = 24)"
   ]
  },
  {
   "cell_type": "code",
   "execution_count": null,
   "id": "0de9851c",
   "metadata": {
    "ExecuteTime": {
     "end_time": "2022-12-14T21:49:24.374405Z",
     "start_time": "2022-12-14T21:49:24.374405Z"
    }
   },
   "outputs": [],
   "source": [
    "hour_hist_2 = cust_ords_prods['order_hour_of_day'].plot.hist(bins = 24)"
   ]
  },
  {
   "cell_type": "markdown",
   "id": "68742027",
   "metadata": {},
   "source": [
    "The majority of orders come in between mid morning and mid afternoon with the true pea happening between approximately 10am and 4 pm."
   ]
  },
  {
   "cell_type": "markdown",
   "id": "cb968904",
   "metadata": {},
   "source": [
    "# 07. Creating a Bar Chart of Loyalty Flags"
   ]
  },
  {
   "cell_type": "code",
   "execution_count": 5,
   "id": "0005af02",
   "metadata": {
    "ExecuteTime": {
     "end_time": "2022-12-17T21:03:22.124142Z",
     "start_time": "2022-12-17T21:03:17.850982Z"
    }
   },
   "outputs": [
    {
     "data": {
      "image/png": "[encoded data removed]",
      "text/plain": [
       "<Figure size 640x480 with 1 Axes>"
      ]
     },
     "metadata": {},
     "output_type": "display_data"
    }
   ],
   "source": [
    "#creating a loyalty flag bar chart\n",
    "loyalty_bar = cust_ords_prods['loyalty_flag'].value_counts().plot.bar(color = ['lime', 'darkgreen', 'limegreen'])"
   ]
  },
  {
   "cell_type": "code",
   "execution_count": 6,
   "id": "33b984bc",
   "metadata": {
    "ExecuteTime": {
     "end_time": "2022-12-17T21:03:33.706226Z",
     "start_time": "2022-12-17T21:03:33.504483Z"
    }
   },
   "outputs": [],
   "source": [
    "#exporting visualization\n",
    "loyalty_bar.figure.savefig((os.path.join(path, '04 Analysis', 'Visualizations', 'bar_loyalty_level.png')), bbox_inches = \"tight\")"
   ]
  },
  {
   "cell_type": "markdown",
   "id": "8b0fc07c",
   "metadata": {},
   "source": [
    "# 08. Check to see if there's a difference in expenditure based on hour of the day"
   ]
  },
  {
   "cell_type": "code",
   "execution_count": null,
   "id": "d4773917",
   "metadata": {
    "ExecuteTime": {
     "end_time": "2022-12-14T21:49:24.385186Z",
     "start_time": "2022-12-14T21:49:24.385186Z"
    }
   },
   "outputs": [],
   "source": [
    "#creating subset for visualization\n",
    "df_2 = small[['order_hour_of_day', 'prices']]"
   ]
  },
  {
   "cell_type": "code",
   "execution_count": null,
   "id": "5de0a810",
   "metadata": {
    "ExecuteTime": {
     "end_time": "2022-12-14T21:49:24.388176Z",
     "start_time": "2022-12-14T21:49:24.388176Z"
    }
   },
   "outputs": [],
   "source": [
    "#creating line chart of prices by hour\n",
    "price_by_hour = sns.lineplot(data = df_2, x = 'order_hour_of_day', y = 'prices')"
   ]
  },
  {
   "cell_type": "code",
   "execution_count": null,
   "id": "b5c1ac48",
   "metadata": {
    "ExecuteTime": {
     "end_time": "2022-12-14T21:49:24.395153Z",
     "start_time": "2022-12-14T21:49:24.395153Z"
    }
   },
   "outputs": [],
   "source": [
    "#export figure\n",
    "price_by_hour.figure.savefig(os.path.join(path, '04 Analysis', 'Visualizations', 'price_by_hour_line.png'))"
   ]
  },
  {
   "cell_type": "markdown",
   "id": "533ab2a6",
   "metadata": {},
   "source": [
    "# 09. Create a line chart of children by age"
   ]
  },
  {
   "cell_type": "code",
   "execution_count": null,
   "id": "a1626d6b",
   "metadata": {
    "ExecuteTime": {
     "end_time": "2022-12-14T21:49:24.399143Z",
     "start_time": "2022-12-14T21:49:24.399143Z"
    }
   },
   "outputs": [],
   "source": [
    "dependants_by_age = sns.lineplot(data = cust_ords_prods, x = 'Age', y = 'n_dependants')"
   ]
  },
  {
   "cell_type": "markdown",
   "id": "13cda936",
   "metadata": {},
   "source": [
    "The number of dependants peaks in the early 20s, probably because of young families, drops in the later 20s before rising in the early 30's when most customers probably have \"full\" families, the nubmer drops sharply for peope in their 40's, when their kids have probably gone off to college, has a brief rise around 50 before dropping significantly from there through their early 60's.  After that we see a rise again through the 60's as people are taking care of their parents our having grandchildren, then the numbers stay fairly steady through the rest of life. "
   ]
  },
  {
   "cell_type": "code",
   "execution_count": null,
   "id": "76cd8276",
   "metadata": {
    "ExecuteTime": {
     "end_time": "2022-12-14T21:49:24.402133Z",
     "start_time": "2022-12-14T21:49:24.402133Z"
    }
   },
   "outputs": [],
   "source": [
    "# Export figure\n",
    "dependants_by_age.figure.savefig(os.path.join(path, '04 Analysis', 'Visualizations', 'dependants_by_age_line.png'))"
   ]
  },
  {
   "cell_type": "markdown",
   "id": "36d7b392",
   "metadata": {},
   "source": [
    "# 10. Create a scatter plot of age and income"
   ]
  },
  {
   "cell_type": "code",
   "execution_count": null,
   "id": "5fdfabc0",
   "metadata": {
    "ExecuteTime": {
     "end_time": "2022-12-14T21:49:24.406114Z",
     "start_time": "2022-12-14T21:49:24.406114Z"
    }
   },
   "outputs": [],
   "source": [
    "# Create scatterplot of Age and Income\n",
    "Age_Income_Scatter = sns.scatterplot(data = cust_ords_prods, x = 'Age', y = 'income')"
   ]
  },
  {
   "cell_type": "markdown",
   "id": "294b2310",
   "metadata": {},
   "source": [
    "There's a sharp rise in max income after the age of 40 and the density of midrange income also increases at this point.  Spending power is greatest between the ages of 40 and ~55, tapers a bit between 65-70 (though never returning to the pre 40 range) and then spikes a bit again from ~75 up."
   ]
  },
  {
   "cell_type": "code",
   "execution_count": null,
   "id": "a3fcf018",
   "metadata": {
    "ExecuteTime": {
     "end_time": "2022-12-14T21:49:24.410101Z",
     "start_time": "2022-12-14T21:49:24.410101Z"
    }
   },
   "outputs": [],
   "source": [
    "# Export Figure\n",
    "Age_Income_Scatter.figure.savefig(os.path.join(path, '04 Analysis', 'Visualizations' 'Age_Income_Scatter.png'))"
   ]
  },
  {
   "cell_type": "markdown",
   "id": "4e961bed",
   "metadata": {},
   "source": [
    "# 11. Export DF"
   ]
  },
  {
   "cell_type": "code",
   "execution_count": null,
   "id": "b1d7a894",
   "metadata": {
    "ExecuteTime": {
     "end_time": "2022-12-14T21:49:24.412560Z",
     "start_time": "2022-12-14T21:49:24.412560Z"
    }
   },
   "outputs": [],
   "source": [
    "#exporting Cust_ords_prods with with prices outliers set to NaN\n",
    "cust_ords_prods.to_pickle(os.path.join(path,'02 Data', 'Prepared Data' 'Cust_Ords_Prods_Merged.pkl'))"
   ]
  },
  {
   "cell_type": "code",
   "execution_count": null,
   "id": "1d490295",
   "metadata": {},
   "outputs": [],
   "source": []
  }
 ],
 "metadata": {
  "kernelspec": {
   "display_name": "Python 3 (ipykernel)",
   "language": "python",
   "name": "python3"
  },
  "language_info": {
   "codemirror_mode": {
    "name": "ipython",
    "version": 3
   },
   "file_extension": ".py",
   "mimetype": "text/x-python",
   "name": "python",
   "nbconvert_exporter": "python",
   "pygments_lexer": "ipython3",
   "version": "3.9.13"
  },
  "varInspector": {
   "cols": {
    "lenName": 16,
    "lenType": 16,
    "lenVar": 40
   },
   "kernels_config": {
    "python": {
     "delete_cmd_postfix": "",
     "delete_cmd_prefix": "del ",
     "library": "var_list.py",
     "varRefreshCmd": "print(var_dic_list())"
    },
    "r": {
     "delete_cmd_postfix": ") ",
     "delete_cmd_prefix": "rm(",
     "library": "var_list.r",
     "varRefreshCmd": "cat(var_dic_list()) "
    }
   },
   "types_to_exclude": [
    "module",
    "function",
    "builtin_function_or_method",
    "instance",
    "_Feature"
   ],
   "window_display": false
  }
 },
 "nbformat": 4,
 "nbformat_minor": 5
}
